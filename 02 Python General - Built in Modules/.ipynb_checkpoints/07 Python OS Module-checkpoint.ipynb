{
 "cells": [
  {
   "cell_type": "markdown",
   "id": "542a5d10",
   "metadata": {},
   "source": [
    "# OS Module"
   ]
  },
  {
   "cell_type": "markdown",
   "id": "0f5a1e25",
   "metadata": {},
   "source": [
    "### Delete a File\n",
    "To delete a file, you must import the OS module, and run its **os.remove()** function:"
   ]
  },
  {
   "cell_type": "code",
   "execution_count": 1,
   "id": "6c7b037d",
   "metadata": {},
   "outputs": [
    {
     "name": "stdout",
     "output_type": "stream",
     "text": [
      "The file does not exist\n"
     ]
    }
   ],
   "source": [
    "import os\n",
    "if os.path.exists(\"demofile.txt\"):\n",
    "  os.remove(\"demofile.txt\")\n",
    "else:\n",
    "  print(\"The file does not exist\")"
   ]
  },
  {
   "cell_type": "markdown",
   "id": "fda9e972",
   "metadata": {},
   "source": [
    "### Delete Folder\n",
    "To delete an entire folder, use the **os.rmdir()** method:<br>\n",
    "You can only remove empty folders."
   ]
  },
  {
   "cell_type": "code",
   "execution_count": null,
   "id": "ff6bb832",
   "metadata": {},
   "outputs": [],
   "source": []
  }
 ],
 "metadata": {
  "kernelspec": {
   "display_name": "Python 3 (ipykernel)",
   "language": "python",
   "name": "python3"
  },
  "language_info": {
   "codemirror_mode": {
    "name": "ipython",
    "version": 3
   },
   "file_extension": ".py",
   "mimetype": "text/x-python",
   "name": "python",
   "nbconvert_exporter": "python",
   "pygments_lexer": "ipython3",
   "version": "3.9.12"
  }
 },
 "nbformat": 4,
 "nbformat_minor": 5
}
