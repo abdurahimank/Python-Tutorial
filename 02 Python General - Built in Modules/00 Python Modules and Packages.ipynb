{
 "cells": [
  {
   "cell_type": "markdown",
   "id": "24933f0a",
   "metadata": {},
   "source": [
    "# Python Module Basics\n",
    "- Any file containing logically organized Python code can be used as a module.\n",
    "- A module generally contains any of the defined functions, classes and variables. A module can also include executable code.\n",
    "- Any Python source file can be used as a module by using an import statement in some other Python source file.\n",
    "\n",
    "#### Creating a Module\n",
    "To create a module just save the code you want in a file with the file extension **.py**\n",
    "#### Naming a Module\n",
    "You can name the module file whatever you like, but it must have the file extension **.py**\n",
    "#### Built-in Modules\n",
    "There are several built-in modules in Python, which you can import whenever you like."
   ]
  },
  {
   "cell_type": "markdown",
   "id": "eca02e19",
   "metadata": {},
   "source": [
    "## Importing a module"
   ]
  },
  {
   "cell_type": "code",
   "execution_count": 1,
   "id": "ced4424b",
   "metadata": {},
   "outputs": [
    {
     "name": "stdout",
     "output_type": "stream",
     "text": [
      "Windows\n"
     ]
    }
   ],
   "source": [
    "import platform\n",
    "\n",
    "x = platform.system()\n",
    "print(x)"
   ]
  },
  {
   "cell_type": "markdown",
   "id": "777957ea",
   "metadata": {},
   "source": [
    "### Re-naming a Module\n",
    "You can create an alias when you import a module, by using the **as** keyword."
   ]
  },
  {
   "cell_type": "code",
   "execution_count": 3,
   "id": "389e01fc",
   "metadata": {},
   "outputs": [
    {
     "name": "stdout",
     "output_type": "stream",
     "text": [
      "3.141592653589793\n"
     ]
    }
   ],
   "source": [
    "import math as mt\n",
    "\n",
    "print(mt.pi)"
   ]
  },
  {
   "cell_type": "markdown",
   "id": "2ede703d",
   "metadata": {},
   "source": [
    "Specific function or variables can be directly imported from modules using \"**from module import function**\" method"
   ]
  },
  {
   "cell_type": "code",
   "execution_count": 4,
   "id": "cff0eb04",
   "metadata": {},
   "outputs": [
    {
     "name": "stdout",
     "output_type": "stream",
     "text": [
      "3.141592653589793\n"
     ]
    }
   ],
   "source": [
    "from math import pi\n",
    "\n",
    "print(pi)"
   ]
  },
  {
   "cell_type": "markdown",
   "id": "5119268d",
   "metadata": {},
   "source": [
    "### Using the dir() Function\n",
    "The built-in function **dir()** is used to list all the function names (or variable names) in a module."
   ]
  },
  {
   "cell_type": "code",
   "execution_count": 2,
   "id": "5040475b",
   "metadata": {},
   "outputs": [
    {
     "name": "stdout",
     "output_type": "stream",
     "text": [
      "['_Processor', '_WIN32_CLIENT_RELEASES', '_WIN32_SERVER_RELEASES', '__builtins__', '__cached__', '__copyright__', '__doc__', '__file__', '__loader__', '__name__', '__package__', '__spec__', '__version__', '_comparable_version', '_component_re', '_default_architecture', '_follow_symlinks', '_get_machine_win32', '_ironpython26_sys_version_parser', '_ironpython_sys_version_parser', '_java_getprop', '_libc_search', '_mac_ver_xml', '_node', '_norm_version', '_platform', '_platform_cache', '_pypy_sys_version_parser', '_sys_version', '_sys_version_cache', '_sys_version_parser', '_syscmd_file', '_syscmd_ver', '_uname_cache', '_unknown_as_blank', '_ver_output', '_ver_stages', 'architecture', 'collections', 'functools', 'itertools', 'java_ver', 'libc_ver', 'mac_ver', 'machine', 'node', 'os', 'platform', 'processor', 'python_branch', 'python_build', 'python_compiler', 'python_implementation', 'python_revision', 'python_version', 'python_version_tuple', 're', 'release', 'subprocess', 'sys', 'system', 'system_alias', 'uname', 'uname_result', 'version', 'win32_edition', 'win32_is_iot', 'win32_ver']\n"
     ]
    }
   ],
   "source": [
    "import platform\n",
    "\n",
    "print(dir(platform))"
   ]
  },
  {
   "cell_type": "code",
   "execution_count": null,
   "id": "43abe94f",
   "metadata": {},
   "outputs": [],
   "source": []
  },
  {
   "cell_type": "markdown",
   "id": "08292f6f",
   "metadata": {},
   "source": [
    "# Python Package Basics\n",
    "A package is a collection of modules present in a folder. The name of the package is the name of the folder itself. A package generally contains an empty file named **\\_\\_init\\_\\_.py** in the same folder, which is required to treat the folder as a package. Know more on importing utilities of a module or a package, from the below video."
   ]
  },
  {
   "cell_type": "code",
   "execution_count": null,
   "id": "fa6560a5",
   "metadata": {},
   "outputs": [],
   "source": []
  },
  {
   "cell_type": "code",
   "execution_count": null,
   "id": "a2960702",
   "metadata": {},
   "outputs": [],
   "source": []
  },
  {
   "cell_type": "code",
   "execution_count": null,
   "id": "9a892b80",
   "metadata": {},
   "outputs": [],
   "source": []
  },
  {
   "cell_type": "code",
   "execution_count": null,
   "id": "563e4817",
   "metadata": {},
   "outputs": [],
   "source": []
  }
 ],
 "metadata": {
  "kernelspec": {
   "display_name": "Python 3 (ipykernel)",
   "language": "python",
   "name": "python3"
  },
  "language_info": {
   "codemirror_mode": {
    "name": "ipython",
    "version": 3
   },
   "file_extension": ".py",
   "mimetype": "text/x-python",
   "name": "python",
   "nbconvert_exporter": "python",
   "pygments_lexer": "ipython3",
   "version": "3.9.12"
  }
 },
 "nbformat": 4,
 "nbformat_minor": 5
}
