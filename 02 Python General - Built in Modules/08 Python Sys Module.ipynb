{
 "cells": [
  {
   "cell_type": "markdown",
   "id": "ed5d5836",
   "metadata": {},
   "source": [
    "# Sys Module"
   ]
  },
  {
   "cell_type": "code",
   "execution_count": null,
   "id": "d2943813",
   "metadata": {},
   "outputs": [],
   "source": [
    "# sys.argv()"
   ]
  },
  {
   "cell_type": "code",
   "execution_count": null,
   "id": "e47f98ab",
   "metadata": {},
   "outputs": [],
   "source": [
    "# sys.argv() - this function captures the inputes given though command prompt in the form of a list\n",
    "import sys\n",
    "\n",
    "x = sys.argv[1]  # sys.argv[0] is filename\n",
    "y = sys.argv[2]\n",
    "print(x + y)"
   ]
  }
 ],
 "metadata": {
  "kernelspec": {
   "display_name": "Python 3 (ipykernel)",
   "language": "python",
   "name": "python3"
  },
  "language_info": {
   "codemirror_mode": {
    "name": "ipython",
    "version": 3
   },
   "file_extension": ".py",
   "mimetype": "text/x-python",
   "name": "python",
   "nbconvert_exporter": "python",
   "pygments_lexer": "ipython3",
   "version": "3.9.12"
  }
 },
 "nbformat": 4,
 "nbformat_minor": 5
}
