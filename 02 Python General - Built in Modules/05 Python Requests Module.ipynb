{
 "cells": [
  {
   "cell_type": "markdown",
   "id": "250a82be",
   "metadata": {},
   "source": [
    "# Requests Module\n",
    "- The requests module allows you to send HTTP requests using Python.\n",
    "- The HTTP request returns a Response Object with all the response data (content, encoding, status, etc)."
   ]
  },
  {
   "cell_type": "markdown",
   "id": "a1a1606b",
   "metadata": {},
   "source": [
    "### requests.get(url, params={key: value}, args)\n",
    "The get() method sends a GET request to the specified url."
   ]
  },
  {
   "cell_type": "code",
   "execution_count": 2,
   "id": "1c6bd66e",
   "metadata": {},
   "outputs": [
    {
     "name": "stdout",
     "output_type": "stream",
     "text": [
      "<Response [200]>\n"
     ]
    }
   ],
   "source": [
    "import requests\n",
    "\n",
    "x = requests.get('https://w3schools.com/python/demopage.htm')\n",
    "\n",
    "print(x)"
   ]
  },
  {
   "cell_type": "code",
   "execution_count": 4,
   "id": "0f8cfe37",
   "metadata": {},
   "outputs": [
    {
     "name": "stdout",
     "output_type": "stream",
     "text": [
      "200\n"
     ]
    }
   ],
   "source": [
    "print(x.status_code)"
   ]
  },
  {
   "cell_type": "code",
   "execution_count": 5,
   "id": "a020e9fa",
   "metadata": {},
   "outputs": [
    {
     "name": "stdout",
     "output_type": "stream",
     "text": [
      "<!DOCTYPE html>\n",
      "<html>\n",
      "<body>\n",
      "\n",
      "<h1>This is a Test Page</h1>\n",
      "\n",
      "</body>\n",
      "</html>\n"
     ]
    }
   ],
   "source": [
    "print(x.text)"
   ]
  },
  {
   "cell_type": "code",
   "execution_count": null,
   "id": "b7d7be72",
   "metadata": {},
   "outputs": [],
   "source": []
  }
 ],
 "metadata": {
  "kernelspec": {
   "display_name": "Python 3 (ipykernel)",
   "language": "python",
   "name": "python3"
  },
  "language_info": {
   "codemirror_mode": {
    "name": "ipython",
    "version": 3
   },
   "file_extension": ".py",
   "mimetype": "text/x-python",
   "name": "python",
   "nbconvert_exporter": "python",
   "pygments_lexer": "ipython3",
   "version": "3.9.12"
  }
 },
 "nbformat": 4,
 "nbformat_minor": 5
}
