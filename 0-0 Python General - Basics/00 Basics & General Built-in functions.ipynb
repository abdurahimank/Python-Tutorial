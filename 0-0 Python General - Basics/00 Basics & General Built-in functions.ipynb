{
 "cells": [
  {
   "cell_type": "markdown",
   "id": "6c4e9b8e",
   "metadata": {},
   "source": [
    "# Basics & General Built-in functions\n"
   ]
  },
  {
   "cell_type": "markdown",
   "id": "08b09464",
   "metadata": {},
   "source": [
    "- Object-oriented (supports both functional and structured programming)\n",
    "- Dynamically and strongly typed\n",
    "- Whitespace delimited (Indentation)\n",
    "- Scripting language which supports large applications.\n",
    "- High-level dynamic data types and supports dynamic type checking\n",
    "- Automatic garbage collection\n",
    "- Easy integration with C, C++, COM, ActiveX, CORBA and Java.\n",
    "#### Python Implementations\n",
    "- CPython - Python implementation on standard C language.\n",
    "- Jython - Python implementation with Java virtual machine to blend with Java.\n",
    "- Pypy - Python implemented in Python and its Just-in time compiler making it fastest.\n",
    "- Iron Python - for windows, which implements common runtime libraries to interface with .NET.\n",
    "#### Points to note :-\n",
    "According to \"PEP 8\", an official style guide of python programming\n",
    "- Each line of code should limit to a maximum of 79 characters.\n",
    "- The indendation should be of four spaces."
   ]
  },
  {
   "cell_type": "markdown",
   "id": "21c38e25",
   "metadata": {},
   "source": [
    "## print()\n",
    "print(value, ..., sep=' ', end='\\n', file=sys.stdout, flush=False)\n",
    "- print() is a bultin function in python which prints the values to a stream, or to sys.stdout by default.\n",
    "- Optional keyword arguments:\n",
    "  1. file:  a file-like object (stream); defaults to the current sys.stdout.\n",
    "  2. sep:   string inserted between values, default a space.\n",
    "  3. end:   string appended after the last value, default a newline.\n",
    "  4. flush: whether to forcibly flush the stream."
   ]
  },
  {
   "cell_type": "code",
   "execution_count": 1,
   "id": "7a15e4c2",
   "metadata": {},
   "outputs": [
    {
     "name": "stdout",
     "output_type": "stream",
     "text": [
      "Hello World\n"
     ]
    }
   ],
   "source": [
    "print(\"Hello World\")"
   ]
  },
  {
   "cell_type": "code",
   "execution_count": 7,
   "id": "6e3e9640",
   "metadata": {},
   "outputs": [
    {
     "name": "stdout",
     "output_type": "stream",
     "text": [
      "1:  ABC XYZ\n",
      "2: \n",
      "ABC\n",
      "XYZ\n",
      "3: &&ABC&&XYZ\n"
     ]
    }
   ],
   "source": [
    "print(\"1: \", \"ABC\", \"XYZ\")  # default value for sep is \" \"\n",
    "print(\"2: \", \"ABC\", \"XYZ\", sep='\\n')\n",
    "print(\"3: \", \"ABC\", \"XYZ\", sep='&&')"
   ]
  },
  {
   "cell_type": "code",
   "execution_count": 1,
   "id": "994b3b80",
   "metadata": {},
   "outputs": [
    {
     "name": "stdout",
     "output_type": "stream",
     "text": [
      "ABC\n",
      "PQRXYZ\n",
      "\n",
      "ABC\n"
     ]
    }
   ],
   "source": [
    "print(\"ABC\")  # default value of end is '\\n'\n",
    "print(\"PQR\", end='')\n",
    "print(\"XYZ\", end='\\n\\n')\n",
    "print(\"ABC\")"
   ]
  },
  {
   "cell_type": "markdown",
   "id": "a476a12b",
   "metadata": {},
   "source": [
    "## input()\n",
    "- Python 3.6 uses the input() method.\n",
    "- Python 2.7 uses the raw_input() method."
   ]
  },
  {
   "cell_type": "code",
   "execution_count": 6,
   "id": "87e0eeed",
   "metadata": {},
   "outputs": [
    {
     "name": "stdout",
     "output_type": "stream",
     "text": [
      "Enter username:Abdurahiman K\n",
      "Username is: Abdurahiman K\n"
     ]
    }
   ],
   "source": [
    "username = input(\"Enter username:\")\n",
    "print(\"Username is: \" + username)"
   ]
  },
  {
   "cell_type": "markdown",
   "id": "bfef59f6",
   "metadata": {},
   "source": [
    "## enumerate(iterable, start)"
   ]
  },
  {
   "cell_type": "code",
   "execution_count": 7,
   "id": "1bf152cf",
   "metadata": {},
   "outputs": [
    {
     "name": "stdout",
     "output_type": "stream",
     "text": [
      "<enumerate object at 0x0000026D98591E40>\n",
      "[(0, 'apple'), (1, 'banana'), (2, 'cherry')]\n"
     ]
    }
   ],
   "source": [
    "x = ('apple', 'banana', 'cherry')\n",
    "y = enumerate(x)\n",
    "print(y, list(y), sep='\\n')"
   ]
  },
  {
   "cell_type": "code",
   "execution_count": 8,
   "id": "13ad7a10",
   "metadata": {},
   "outputs": [
    {
     "name": "stdout",
     "output_type": "stream",
     "text": [
      "0 apple\n",
      "1 banana\n",
      "2 cherry\n"
     ]
    }
   ],
   "source": [
    "x = ('apple', 'banana', 'cherry')\n",
    "for i, j in enumerate(x):\n",
    "    print(i, j)"
   ]
  },
  {
   "cell_type": "code",
   "execution_count": null,
   "id": "f1a3a95e",
   "metadata": {},
   "outputs": [],
   "source": []
  },
  {
   "cell_type": "code",
   "execution_count": null,
   "id": "083dccef",
   "metadata": {},
   "outputs": [],
   "source": []
  },
  {
   "cell_type": "markdown",
   "id": "df709657",
   "metadata": {},
   "source": [
    "## Builtin Math Functions"
   ]
  },
  {
   "cell_type": "markdown",
   "id": "1b998099",
   "metadata": {},
   "source": [
    "The **min()** and **max()** functions can be used to find the lowest or highest value in an iterable:"
   ]
  },
  {
   "cell_type": "code",
   "execution_count": 1,
   "id": "16cb16ac",
   "metadata": {},
   "outputs": [
    {
     "name": "stdout",
     "output_type": "stream",
     "text": [
      "5\n",
      "25\n"
     ]
    }
   ],
   "source": [
    "x = min(5, 10, 25)\n",
    "y = max(5, 10, 25)\n",
    "\n",
    "print(x)\n",
    "print(y)"
   ]
  },
  {
   "cell_type": "code",
   "execution_count": 2,
   "id": "e3605001",
   "metadata": {},
   "outputs": [
    {
     "name": "stdout",
     "output_type": "stream",
     "text": [
      "5\n",
      "25\n"
     ]
    }
   ],
   "source": [
    "x = min([5, 10, 25])\n",
    "y = max([5, 10, 25])\n",
    "\n",
    "print(x)\n",
    "print(y)"
   ]
  },
  {
   "cell_type": "markdown",
   "id": "466e5b94",
   "metadata": {},
   "source": [
    "The **abs()** function returns the absolute (positive) value of the specified number:"
   ]
  },
  {
   "cell_type": "code",
   "execution_count": 3,
   "id": "8a9306ca",
   "metadata": {},
   "outputs": [
    {
     "name": "stdout",
     "output_type": "stream",
     "text": [
      "7.25\n"
     ]
    }
   ],
   "source": [
    "x = abs(-7.25)\n",
    "\n",
    "print(x)"
   ]
  },
  {
   "cell_type": "markdown",
   "id": "106b9d00",
   "metadata": {},
   "source": [
    "The **pow(x, y)** function returns the value of x to the power of y (xy)."
   ]
  },
  {
   "cell_type": "code",
   "execution_count": 5,
   "id": "6029bf46",
   "metadata": {},
   "outputs": [
    {
     "name": "stdout",
     "output_type": "stream",
     "text": [
      "81\n"
     ]
    }
   ],
   "source": [
    "x = pow(3, 4)\n",
    "print(x)"
   ]
  },
  {
   "cell_type": "code",
   "execution_count": null,
   "id": "7822a5c8",
   "metadata": {},
   "outputs": [],
   "source": []
  }
 ],
 "metadata": {
  "kernelspec": {
   "display_name": "Python 3 (ipykernel)",
   "language": "python",
   "name": "python3"
  },
  "language_info": {
   "codemirror_mode": {
    "name": "ipython",
    "version": 3
   },
   "file_extension": ".py",
   "mimetype": "text/x-python",
   "name": "python",
   "nbconvert_exporter": "python",
   "pygments_lexer": "ipython3",
   "version": "3.9.12"
  }
 },
 "nbformat": 4,
 "nbformat_minor": 5
}
