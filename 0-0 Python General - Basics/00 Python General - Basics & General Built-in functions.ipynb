{
 "cells": [
  {
   "cell_type": "markdown",
   "id": "6c4e9b8e",
   "metadata": {},
   "source": [
    "# Python General - Basics & General Built-in functions\n"
   ]
  },
  {
   "cell_type": "markdown",
   "id": "08b09464",
   "metadata": {},
   "source": [
    "- Object-oriented (supports both functional and structured programming)\n",
    "- Dynamically and strongly typed\n",
    "- Whitespace delimited (Indentation)\n",
    "- Scripting language which supports large applications.\n",
    "- High-level dynamic data types and supports dynamic type checking\n",
    "- Automatic garbage collection\n",
    "- Easy integration with C, C++, COM, ActiveX, CORBA and Java.\n",
    "#### Python Implementations\n",
    "- CPython - Python implementation on standard C language.\n",
    "- Jython - Python implementation with Java virtual machine to blend with Java.\n",
    "- Pypy - Python implemented in Python and its Just-in time compiler making it fastest.\n",
    "- Iron Python - for windows, which implements common runtime libraries to interface with .NET.\n",
    "#### Points to note :-\n",
    "According to \"PEP 8\", an official style guide of python programming\n",
    "- Each line of code should limit to a maximum of 79 characters.\n",
    "- The indendation should be of four spaces."
   ]
  },
  {
   "cell_type": "markdown",
   "id": "21c38e25",
   "metadata": {},
   "source": [
    "## print()\n",
    "print(value, ..., sep=' ', end='\\n', file=sys.stdout, flush=False)\n",
    "- print() is a bultin function in python which prints the values to a stream, or to sys.stdout by default.\n",
    "- Optional keyword arguments:\n",
    "  1. file:  a file-like object (stream); defaults to the current sys.stdout.\n",
    "  2. sep:   string inserted between values, default a space.\n",
    "  3. end:   string appended after the last value, default a newline.\n",
    "  4. flush: whether to forcibly flush the stream."
   ]
  },
  {
   "cell_type": "code",
   "execution_count": 1,
   "id": "7a15e4c2",
   "metadata": {},
   "outputs": [
    {
     "name": "stdout",
     "output_type": "stream",
     "text": [
      "Hello World\n"
     ]
    }
   ],
   "source": [
    "print(\"Hello World\")"
   ]
  },
  {
   "cell_type": "code",
   "execution_count": 7,
   "id": "6e3e9640",
   "metadata": {},
   "outputs": [
    {
     "name": "stdout",
     "output_type": "stream",
     "text": [
      "1:  ABC XYZ\n",
      "2: \n",
      "ABC\n",
      "XYZ\n",
      "3: &&ABC&&XYZ\n"
     ]
    }
   ],
   "source": [
    "print(\"1: \", \"ABC\", \"XYZ\")  # default value for sep is \" \"\n",
    "print(\"2: \", \"ABC\", \"XYZ\", sep='\\n')\n",
    "print(\"3: \", \"ABC\", \"XYZ\", sep='&&')"
   ]
  },
  {
   "cell_type": "code",
   "execution_count": 1,
   "id": "994b3b80",
   "metadata": {},
   "outputs": [
    {
     "name": "stdout",
     "output_type": "stream",
     "text": [
      "ABC\n",
      "PQRXYZ\n",
      "\n",
      "ABC\n"
     ]
    }
   ],
   "source": [
    "print(\"ABC\")  # default value of end is '\\n'\n",
    "print(\"PQR\", end='')\n",
    "print(\"XYZ\", end='\\n\\n')\n",
    "print(\"ABC\")"
   ]
  },
  {
   "cell_type": "code",
   "execution_count": null,
   "id": "995b4f4b",
   "metadata": {},
   "outputs": [],
   "source": []
  }
 ],
 "metadata": {
  "kernelspec": {
   "display_name": "Python 3 (ipykernel)",
   "language": "python",
   "name": "python3"
  },
  "language_info": {
   "codemirror_mode": {
    "name": "ipython",
    "version": 3
   },
   "file_extension": ".py",
   "mimetype": "text/x-python",
   "name": "python",
   "nbconvert_exporter": "python",
   "pygments_lexer": "ipython3",
   "version": "3.9.12"
  }
 },
 "nbformat": 4,
 "nbformat_minor": 5
}
