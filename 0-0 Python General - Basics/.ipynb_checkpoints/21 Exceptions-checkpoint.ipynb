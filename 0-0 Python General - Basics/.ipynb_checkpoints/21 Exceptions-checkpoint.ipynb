{
 "cells": [
  {
   "cell_type": "markdown",
   "id": "2ef48970",
   "metadata": {},
   "source": [
    "# Python Exceptions"
   ]
  },
  {
   "cell_type": "code",
   "execution_count": null,
   "id": "57b2ae34",
   "metadata": {},
   "outputs": [],
   "source": [
    "# Python 2:raise IOError, “some error message”\n",
    "# Python3: raise IOError(“some error message”)"
   ]
  }
 ],
 "metadata": {
  "kernelspec": {
   "display_name": "Python 3 (ipykernel)",
   "language": "python",
   "name": "python3"
  },
  "language_info": {
   "codemirror_mode": {
    "name": "ipython",
    "version": 3
   },
   "file_extension": ".py",
   "mimetype": "text/x-python",
   "name": "python",
   "nbconvert_exporter": "python",
   "pygments_lexer": "ipython3",
   "version": "3.9.12"
  }
 },
 "nbformat": 4,
 "nbformat_minor": 5
}
