{
 "cells": [
  {
   "cell_type": "markdown",
   "id": "00f47fb4",
   "metadata": {},
   "source": [
    "# Python Data Types\n",
    "|Category       |Data Type                      |\n",
    "|:--------------|:------------------------------|\n",
    "|Text Type      |\tstr                         |\n",
    "|Numeric Types  |\tint, float, complex         |\n",
    "|Sequence Types |\tlist, tuple, range          |\n",
    "|Mapping Type   |\tdict                        |\n",
    "|Set Types      |\tset, frozenset              |\n",
    "|Boolean Type   |\tbool                        |\n",
    "|Binary Types   |\tbytes, bytearray, memoryview|\n",
    "|None Type      |\tNoneType                    |\n",
    "\n",
    "#### In Python, the data type is set when you assign a value to a variable."
   ]
  },
  {
   "cell_type": "code",
   "execution_count": 2,
   "id": "8826b8e7",
   "metadata": {},
   "outputs": [
    {
     "name": "stdout",
     "output_type": "stream",
     "text": [
      "<class 'str'>\n"
     ]
    }
   ],
   "source": [
    "x = \"Hello World\"  # str\n",
    "print(type(x))"
   ]
  },
  {
   "cell_type": "code",
   "execution_count": 4,
   "id": "61dfb84e",
   "metadata": {},
   "outputs": [
    {
     "name": "stdout",
     "output_type": "stream",
     "text": [
      "<class 'int'>\n",
      "<class 'float'>\n",
      "<class 'complex'>\n"
     ]
    }
   ],
   "source": [
    "x = 20  # int\n",
    "y = 20.5  # float\n",
    "z = 1j  # complex\n",
    "\n",
    "print(type(x))\n",
    "print(type(y))\n",
    "print(type(z))"
   ]
  },
  {
   "cell_type": "code",
   "execution_count": 5,
   "id": "bc8be944",
   "metadata": {},
   "outputs": [
    {
     "name": "stdout",
     "output_type": "stream",
     "text": [
      "<class 'list'>\n",
      "<class 'tuple'>\n",
      "<class 'range'>\n"
     ]
    }
   ],
   "source": [
    "x = [\"apple\", \"banana\", \"cherry\"]  # list\n",
    "y = (\"apple\", \"banana\", \"cherry\")  # tuple\n",
    "z = range(6)  # range\n",
    "\n",
    "print(type(x))\n",
    "print(type(y))\n",
    "print(type(z))"
   ]
  },
  {
   "cell_type": "code",
   "execution_count": 6,
   "id": "a01277d5",
   "metadata": {},
   "outputs": [
    {
     "name": "stdout",
     "output_type": "stream",
     "text": [
      "<class 'dict'>\n"
     ]
    }
   ],
   "source": [
    "x = {\"name\" : \"John\", \"age\" : 36}  # dict\n",
    "print(type(x))"
   ]
  },
  {
   "cell_type": "code",
   "execution_count": 7,
   "id": "31403c8a",
   "metadata": {},
   "outputs": [
    {
     "name": "stdout",
     "output_type": "stream",
     "text": [
      "<class 'set'>\n",
      "<class 'frozenset'>\n"
     ]
    }
   ],
   "source": [
    "x = {\"apple\", \"banana\", \"cherry\"}  # set\n",
    "y = frozenset({\"apple\", \"banana\", \"cherry\"})  # frozenset\n",
    "\n",
    "print(type(x))\n",
    "print(type(y))"
   ]
  },
  {
   "cell_type": "code",
   "execution_count": 8,
   "id": "b30bfb1a",
   "metadata": {},
   "outputs": [
    {
     "name": "stdout",
     "output_type": "stream",
     "text": [
      "<class 'bool'>\n"
     ]
    }
   ],
   "source": [
    "x = True\n",
    "print(type(x))"
   ]
  },
  {
   "cell_type": "code",
   "execution_count": 9,
   "id": "80d96c2e",
   "metadata": {},
   "outputs": [
    {
     "name": "stdout",
     "output_type": "stream",
     "text": [
      "<class 'bytes'>\n",
      "<class 'bytearray'>\n",
      "<class 'memoryview'>\n"
     ]
    }
   ],
   "source": [
    "x = b\"Hello\"  # bytes\n",
    "y = bytearray(5)  # bytearray\n",
    "z = memoryview(bytes(5))  # memoryview\n",
    "\n",
    "print(type(x))\n",
    "print(type(y))\n",
    "print(type(z))"
   ]
  },
  {
   "cell_type": "code",
   "execution_count": 10,
   "id": "9a787a77",
   "metadata": {},
   "outputs": [
    {
     "name": "stdout",
     "output_type": "stream",
     "text": [
      "<class 'NoneType'>\n"
     ]
    }
   ],
   "source": [
    "x = None  # NoneType\n",
    "print(type(x))"
   ]
  },
  {
   "cell_type": "markdown",
   "id": "b4133a3d",
   "metadata": {},
   "source": [
    "#### If you want to specify the data type, you can use the following constructor functions:-"
   ]
  },
  {
   "cell_type": "code",
   "execution_count": 17,
   "id": "5ce2372b",
   "metadata": {},
   "outputs": [],
   "source": [
    "x = str(\"Hello World\")  # string\n",
    "x = int(20)  # integer\n",
    "x = float(20.5)  # float\n",
    "x = complex(1j)  # complex number\n",
    "x = list((\"apple\", \"banana\", \"cherry\"))  # list object\n",
    "x = tuple((\"apple\", \"banana\", \"cherry\"))  # tuple object\n",
    "x = range(6)  # range\n",
    "x = dict(name=\"John\", age=36)  # dictionary object\n",
    "x = set((\"apple\", \"banana\", \"cherry\"))  # set object\n",
    "x = frozenset((\"apple\", \"banana\", \"cherry\"))  # frozenset\n",
    "x = bool(5)  # bool\n",
    "x = bytes(5)  # bytes\n",
    "x = bytearray(5)  # bytearray\n",
    "x = memoryview(bytes(5))  # memoryview"
   ]
  },
  {
   "cell_type": "code",
   "execution_count": null,
   "id": "def7d4df",
   "metadata": {},
   "outputs": [],
   "source": []
  },
  {
   "cell_type": "markdown",
   "id": "306e103c",
   "metadata": {},
   "source": [
    "## type()\n",
    "It is used to return type of the object."
   ]
  },
  {
   "cell_type": "code",
   "execution_count": 1,
   "id": "97b323af",
   "metadata": {},
   "outputs": [
    {
     "name": "stdout",
     "output_type": "stream",
     "text": [
      "<class 'int'>\n",
      "<class 'str'>\n"
     ]
    }
   ],
   "source": [
    "x = 5\n",
    "y = \"John\"\n",
    "print(type(x))\n",
    "print(type(y))"
   ]
  },
  {
   "cell_type": "code",
   "execution_count": 1,
   "id": "6136a1e8",
   "metadata": {},
   "outputs": [
    {
     "name": "stdout",
     "output_type": "stream",
     "text": [
      "[1, 2, 'dfo', 5j, [1, 2]]\n",
      "<class 'list'>\n"
     ]
    }
   ],
   "source": [
    "x = [1, 2, 'dfo', 5j, [1, 2]]\n",
    "print(x, type(x), sep='\\n')"
   ]
  },
  {
   "cell_type": "code",
   "execution_count": null,
   "id": "8a07656f",
   "metadata": {},
   "outputs": [],
   "source": []
  }
 ],
 "metadata": {
  "kernelspec": {
   "display_name": "Python 3 (ipykernel)",
   "language": "python",
   "name": "python3"
  },
  "language_info": {
   "codemirror_mode": {
    "name": "ipython",
    "version": 3
   },
   "file_extension": ".py",
   "mimetype": "text/x-python",
   "name": "python",
   "nbconvert_exporter": "python",
   "pygments_lexer": "ipython3",
   "version": "3.9.12"
  }
 },
 "nbformat": 4,
 "nbformat_minor": 5
}
