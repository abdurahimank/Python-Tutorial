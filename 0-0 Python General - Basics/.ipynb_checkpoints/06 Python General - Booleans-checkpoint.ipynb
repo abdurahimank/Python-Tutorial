{
 "cells": [
  {
   "cell_type": "markdown",
   "id": "ea2e3a2c",
   "metadata": {},
   "source": [
    "# Python Booleans\n",
    "Booleans represent one of two values: **True** or **False**."
   ]
  },
  {
   "cell_type": "code",
   "execution_count": 37,
   "id": "25c67422",
   "metadata": {},
   "outputs": [
    {
     "name": "stdout",
     "output_type": "stream",
     "text": [
      "False\n",
      "False\n",
      "True\n"
     ]
    }
   ],
   "source": [
    "print(9 > 10)\n",
    "print(9 == 10)\n",
    "print(9 < 10)"
   ]
  },
  {
   "cell_type": "markdown",
   "id": "2a6d8278",
   "metadata": {},
   "source": [
    "#### bool()\n",
    "- Almost any value is evaluated to True if it has some sort of content.\n",
    "- In fact, there are not many values that evaluate to False, except empty values, such as (), [], {}, \"\", the number 0, and the value **None**. And of course the value **False** evaluates to False."
   ]
  },
  {
   "cell_type": "code",
   "execution_count": 38,
   "id": "5f183f92",
   "metadata": {},
   "outputs": [
    {
     "name": "stdout",
     "output_type": "stream",
     "text": [
      "True\n",
      "True\n"
     ]
    }
   ],
   "source": [
    "print(bool(8))\n",
    "print(bool(\"abc\"))"
   ]
  },
  {
   "cell_type": "code",
   "execution_count": 41,
   "id": "82b17871",
   "metadata": {},
   "outputs": [
    {
     "name": "stdout",
     "output_type": "stream",
     "text": [
      "False\n",
      "False\n",
      "False\n"
     ]
    }
   ],
   "source": [
    "print(bool(\"\"))\n",
    "print(bool(0))\n",
    "print(bool([]))"
   ]
  },
  {
   "cell_type": "code",
   "execution_count": 42,
   "id": "f3d77301",
   "metadata": {},
   "outputs": [
    {
     "name": "stdout",
     "output_type": "stream",
     "text": [
      "False\n"
     ]
    }
   ],
   "source": [
    "print(bool(None))"
   ]
  }
 ],
 "metadata": {
  "kernelspec": {
   "display_name": "Python 3 (ipykernel)",
   "language": "python",
   "name": "python3"
  },
  "language_info": {
   "codemirror_mode": {
    "name": "ipython",
    "version": 3
   },
   "file_extension": ".py",
   "mimetype": "text/x-python",
   "name": "python",
   "nbconvert_exporter": "python",
   "pygments_lexer": "ipython3",
   "version": "3.9.12"
  }
 },
 "nbformat": 4,
 "nbformat_minor": 5
}
