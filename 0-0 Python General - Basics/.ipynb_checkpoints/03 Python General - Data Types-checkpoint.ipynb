{
 "cells": [
  {
   "cell_type": "markdown",
   "id": "00f47fb4",
   "metadata": {},
   "source": [
    "# Python Data Types\n",
    "|Category       |Data Type                      |\n",
    "|:--------------|:------------------------------|\n",
    "|Text Type      |\tstr                         |\n",
    "|Numeric Types  |\tint, float, complex         |\n",
    "|Sequence Types |\tlist, tuple, range          |\n",
    "|Mapping Type   |\tdict                        |\n",
    "|Set Types      |\tset, frozenset              |\n",
    "|Boolean Type   |\tbool                        |\n",
    "|Binary Types   |\tbytes, bytearray, memoryview|\n",
    "|None Type      |\tNoneType                    |\n",
    "\n",
    "- In Python, the data type is set when you assign a value to a variable.\n",
    "\n",
    "If you want to specify the data type, you can use the following constructor functions:-"
   ]
  },
  {
   "cell_type": "code",
   "execution_count": 17,
   "id": "5ce2372b",
   "metadata": {},
   "outputs": [],
   "source": [
    "x = str(\"Hello World\")  # string\n",
    "x = int(20)  # integer\n",
    "x = float(20.5)  # float\n",
    "x = complex(1j)  # complex number\n",
    "x = list((\"apple\", \"banana\", \"cherry\"))  # list object\n",
    "x = tuple((\"apple\", \"banana\", \"cherry\"))  # tuple object\n",
    "x = range(6)  # range\n",
    "x = dict(name=\"John\", age=36)  # dictionary object\n",
    "x = set((\"apple\", \"banana\", \"cherry\"))  # set object\n",
    "x = frozenset((\"apple\", \"banana\", \"cherry\"))  # frozenset\n",
    "x = bool(5)  # bool\n",
    "x = bytes(5)  # bytes\n",
    "x = bytearray(5)  # bytearray\n",
    "x = memoryview(bytes(5))  # memoryview"
   ]
  },
  {
   "cell_type": "code",
   "execution_count": null,
   "id": "def7d4df",
   "metadata": {},
   "outputs": [],
   "source": []
  },
  {
   "cell_type": "markdown",
   "id": "306e103c",
   "metadata": {},
   "source": [
    "## type()\n",
    "It is used to return type of the object."
   ]
  },
  {
   "cell_type": "code",
   "execution_count": 1,
   "id": "97b323af",
   "metadata": {},
   "outputs": [
    {
     "name": "stdout",
     "output_type": "stream",
     "text": [
      "<class 'int'>\n",
      "<class 'str'>\n"
     ]
    }
   ],
   "source": [
    "x = 5\n",
    "y = \"John\"\n",
    "print(type(x))\n",
    "print(type(y))"
   ]
  },
  {
   "cell_type": "code",
   "execution_count": null,
   "id": "6136a1e8",
   "metadata": {},
   "outputs": [],
   "source": []
  }
 ],
 "metadata": {
  "kernelspec": {
   "display_name": "Python 3 (ipykernel)",
   "language": "python",
   "name": "python3"
  },
  "language_info": {
   "codemirror_mode": {
    "name": "ipython",
    "version": 3
   },
   "file_extension": ".py",
   "mimetype": "text/x-python",
   "name": "python",
   "nbconvert_exporter": "python",
   "pygments_lexer": "ipython3",
   "version": "3.9.12"
  }
 },
 "nbformat": 4,
 "nbformat_minor": 5
}
