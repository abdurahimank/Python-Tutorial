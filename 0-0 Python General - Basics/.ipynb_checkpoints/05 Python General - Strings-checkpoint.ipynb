{
 "cells": [
  {
   "cell_type": "markdown",
   "id": "6bf8c8e8",
   "metadata": {},
   "source": [
    "# Strings\n",
    "Strings in python are surrounded by either single quotation marks, or double quotation marks.<br>\n",
    "**'hello'** is the same as **\"hello\"**."
   ]
  },
  {
   "cell_type": "code",
   "execution_count": 6,
   "id": "77dc5ce8",
   "metadata": {},
   "outputs": [
    {
     "name": "stdout",
     "output_type": "stream",
     "text": [
      "Python is awesome\n"
     ]
    }
   ],
   "source": [
    "x = \"Python is awesome\"\n",
    "print(x)"
   ]
  },
  {
   "cell_type": "markdown",
   "id": "26f205b0",
   "metadata": {},
   "source": [
    "#### String concatenation\n",
    "String can be concatenated with only another strings."
   ]
  },
  {
   "cell_type": "code",
   "execution_count": 8,
   "id": "ec033095",
   "metadata": {},
   "outputs": [
    {
     "name": "stdout",
     "output_type": "stream",
     "text": [
      "Python is awesome\n"
     ]
    }
   ],
   "source": [
    "# String Concatenation\n",
    "x = \"Python\"\n",
    "y = \"is\"\n",
    "z = \"awesome\"\n",
    "a = x + \" \" + y + \" \" + z\n",
    "print(a)"
   ]
  },
  {
   "cell_type": "markdown",
   "id": "2ae3f914",
   "metadata": {},
   "source": [
    "#### Multiline Strings\n",
    "You can assign a multiline string to a variable by using **three quotes**:"
   ]
  },
  {
   "cell_type": "code",
   "execution_count": 6,
   "id": "4d4f8a1a",
   "metadata": {},
   "outputs": [
    {
     "name": "stdout",
     "output_type": "stream",
     "text": [
      "Lorem ipsum dolor sit amet,\n",
      "consectetur adipiscing elit,\n",
      "sed do eiusmod tempor incididunt\n",
      "ut labore et dolore magna aliqua.\n"
     ]
    }
   ],
   "source": [
    "a = \"\"\"Lorem ipsum dolor sit amet,\n",
    "consectetur adipiscing elit,\n",
    "sed do eiusmod tempor incididunt\n",
    "ut labore et dolore magna aliqua.\"\"\"\n",
    "print(a)"
   ]
  },
  {
   "cell_type": "markdown",
   "id": "739c9d8e",
   "metadata": {},
   "source": [
    "#### String Indexing"
   ]
  },
  {
   "cell_type": "code",
   "execution_count": 7,
   "id": "3008316d",
   "metadata": {},
   "outputs": [
    {
     "name": "stdout",
     "output_type": "stream",
     "text": [
      "H\n",
      "e\n",
      "o\n"
     ]
    }
   ],
   "source": [
    "x = \"Hello\"\n",
    "print(x[0])\n",
    "print(x[1])\n",
    "print(x[-1])"
   ]
  },
  {
   "cell_type": "markdown",
   "id": "678e8884",
   "metadata": {},
   "source": [
    "#### Slicing"
   ]
  },
  {
   "cell_type": "code",
   "execution_count": 10,
   "id": "0d709513",
   "metadata": {},
   "outputs": [
    {
     "name": "stdout",
     "output_type": "stream",
     "text": [
      "llo\n"
     ]
    }
   ],
   "source": [
    "b = \"Hello, World!\"\n",
    "print(b[2:5])"
   ]
  },
  {
   "cell_type": "code",
   "execution_count": 11,
   "id": "2c39f720",
   "metadata": {},
   "outputs": [
    {
     "name": "stdout",
     "output_type": "stream",
     "text": [
      "Hello\n"
     ]
    }
   ],
   "source": [
    "b = \"Hello, World!\"\n",
    "print(b[:5])  # from starting"
   ]
  },
  {
   "cell_type": "code",
   "execution_count": 12,
   "id": "1cf5db18",
   "metadata": {},
   "outputs": [
    {
     "name": "stdout",
     "output_type": "stream",
     "text": [
      "World!\n"
     ]
    }
   ],
   "source": [
    "b = \"Hello, World!\"\n",
    "print(b[7:])  # till end"
   ]
  },
  {
   "cell_type": "code",
   "execution_count": 13,
   "id": "08aa9480",
   "metadata": {},
   "outputs": [
    {
     "name": "stdout",
     "output_type": "stream",
     "text": [
      " Worl\n"
     ]
    }
   ],
   "source": [
    "b = \"Hello, World!\"\n",
    "print(b[-7:-2])  # negative indexing"
   ]
  },
  {
   "cell_type": "code",
   "execution_count": 14,
   "id": "febac8d7",
   "metadata": {},
   "outputs": [
    {
     "name": "stdout",
     "output_type": "stream",
     "text": [
      "Hlo ol!\n"
     ]
    }
   ],
   "source": [
    "b = \"Hello, World!\"\n",
    "print(b[::2])  # using steps"
   ]
  },
  {
   "cell_type": "markdown",
   "id": "521cf564",
   "metadata": {},
   "source": [
    "#### String Length"
   ]
  },
  {
   "cell_type": "code",
   "execution_count": 16,
   "id": "cf56cb98",
   "metadata": {},
   "outputs": [
    {
     "name": "stdout",
     "output_type": "stream",
     "text": [
      "13\n"
     ]
    }
   ],
   "source": [
    "a = \"Hello, World!\"\n",
    "print(len(a))"
   ]
  },
  {
   "cell_type": "markdown",
   "id": "cfb625be",
   "metadata": {},
   "source": [
    "#### Looping Through a String"
   ]
  },
  {
   "cell_type": "code",
   "execution_count": 17,
   "id": "28373191",
   "metadata": {},
   "outputs": [
    {
     "name": "stdout",
     "output_type": "stream",
     "text": [
      "b\n",
      "a\n",
      "n\n",
      "a\n",
      "n\n",
      "a\n"
     ]
    }
   ],
   "source": [
    "for x in \"banana\":\n",
    "    print(x)"
   ]
  },
  {
   "cell_type": "markdown",
   "id": "18873f6d",
   "metadata": {},
   "source": [
    "### Format - Strings"
   ]
  },
  {
   "cell_type": "markdown",
   "id": "6e979c4b",
   "metadata": {},
   "source": [
    "#### string.format() method"
   ]
  },
  {
   "cell_type": "code",
   "execution_count": 24,
   "id": "803d7103",
   "metadata": {},
   "outputs": [
    {
     "name": "stdout",
     "output_type": "stream",
     "text": [
      "My name is John, and I am 36\n"
     ]
    }
   ],
   "source": [
    "age = 36\n",
    "txt = \"My name is John, and I am {}\"\n",
    "print(txt.format(age))"
   ]
  },
  {
   "cell_type": "code",
   "execution_count": 25,
   "id": "524cedee",
   "metadata": {},
   "outputs": [
    {
     "name": "stdout",
     "output_type": "stream",
     "text": [
      "I want 3 pieces of item 567 for 49.95 dollars.\n"
     ]
    }
   ],
   "source": [
    "quantity = 3\n",
    "itemno = 567\n",
    "price = 49.95\n",
    "myorder = \"I want {} pieces of item {} for {} dollars.\"\n",
    "print(myorder.format(quantity, itemno, price))"
   ]
  },
  {
   "cell_type": "markdown",
   "id": "b880506a",
   "metadata": {},
   "source": [
    "You can use index numbers {0} to be sure the arguments are placed in the correct placeholders:"
   ]
  },
  {
   "cell_type": "code",
   "execution_count": 26,
   "id": "275767f1",
   "metadata": {},
   "outputs": [
    {
     "name": "stdout",
     "output_type": "stream",
     "text": [
      "I want to pay 49.95 dollars for 3 pieces of item 567.\n"
     ]
    }
   ],
   "source": [
    "quantity = 3\n",
    "itemno = 567\n",
    "price = 49.95\n",
    "myorder = \"I want to pay {2} dollars for {0} pieces of item {1}.\"\n",
    "print(myorder.format(quantity, itemno, price))"
   ]
  },
  {
   "cell_type": "markdown",
   "id": "c1e75810",
   "metadata": {},
   "source": [
    "#### F Strings method"
   ]
  },
  {
   "cell_type": "code",
   "execution_count": 27,
   "id": "8070a812",
   "metadata": {},
   "outputs": [
    {
     "name": "stdout",
     "output_type": "stream",
     "text": [
      "I want 3 pieces of item 567 for 49.95 dollars.\n"
     ]
    }
   ],
   "source": [
    "quantity = 3\n",
    "itemno = 567\n",
    "price = 49.95\n",
    "myorder = f\"I want {quantity} pieces of item {itemno} for {price} dollars.\"\n",
    "print(myorder)"
   ]
  },
  {
   "cell_type": "markdown",
   "id": "2471163c",
   "metadata": {},
   "source": [
    "#### Formated Strings\n",
    "Use \"**%**\" charachter"
   ]
  },
  {
   "cell_type": "code",
   "execution_count": null,
   "id": "32deddd7",
   "metadata": {},
   "outputs": [],
   "source": []
  },
  {
   "cell_type": "markdown",
   "id": "124fe0d9",
   "metadata": {},
   "source": [
    "### Python - Escape Characters\n",
    "#### Escape Character\n",
    "- To insert characters that are illegal in a string, use an escape character.\n",
    "- An escape character is a backslash \"**\\**\" followed by the character you want to insert."
   ]
  },
  {
   "cell_type": "code",
   "execution_count": 28,
   "id": "29dd19cd",
   "metadata": {},
   "outputs": [
    {
     "name": "stdout",
     "output_type": "stream",
     "text": [
      "We are the so-called \"Vikings\" from the north.\n"
     ]
    }
   ],
   "source": [
    "txt = \"We are the so-called \\\"Vikings\\\" from the north.\"\n",
    "print(txt)"
   ]
  },
  {
   "cell_type": "code",
   "execution_count": 29,
   "id": "e359ce38",
   "metadata": {},
   "outputs": [
    {
     "name": "stdout",
     "output_type": "stream",
     "text": [
      "It's alright.\n"
     ]
    }
   ],
   "source": [
    "txt = 'It\\'s alright.'\n",
    "print(txt) "
   ]
  },
  {
   "cell_type": "code",
   "execution_count": 30,
   "id": "e6d20849",
   "metadata": {},
   "outputs": [
    {
     "name": "stdout",
     "output_type": "stream",
     "text": [
      "This will insert one \\ (backslash).\n"
     ]
    }
   ],
   "source": [
    "txt = \"This will insert one \\\\ (backslash).\"\n",
    "print(txt) "
   ]
  },
  {
   "cell_type": "markdown",
   "id": "198af7e1",
   "metadata": {},
   "source": [
    "#### New Line (\\n)"
   ]
  },
  {
   "cell_type": "code",
   "execution_count": 31,
   "id": "4f76ce85",
   "metadata": {},
   "outputs": [
    {
     "name": "stdout",
     "output_type": "stream",
     "text": [
      "Hello\n",
      "World!\n"
     ]
    }
   ],
   "source": [
    "txt = \"Hello\\nWorld!\"\n",
    "print(txt) "
   ]
  },
  {
   "cell_type": "markdown",
   "id": "2fc1fd92",
   "metadata": {},
   "source": [
    "#### Carriage Return (\\r)"
   ]
  },
  {
   "cell_type": "code",
   "execution_count": 32,
   "id": "b6aa62c1",
   "metadata": {},
   "outputs": [
    {
     "name": "stdout",
     "output_type": "stream",
     "text": [
      "Hello\r",
      "World!\n"
     ]
    }
   ],
   "source": [
    "txt = \"Hello\\rWorld!\"\n",
    "print(txt) "
   ]
  },
  {
   "cell_type": "markdown",
   "id": "2269e880",
   "metadata": {},
   "source": [
    "#### Tab (\\t)"
   ]
  },
  {
   "cell_type": "code",
   "execution_count": 33,
   "id": "ca535d5d",
   "metadata": {},
   "outputs": [
    {
     "name": "stdout",
     "output_type": "stream",
     "text": [
      "Hello\tWorld!\n"
     ]
    }
   ],
   "source": [
    "txt = \"Hello\\tWorld!\"\n",
    "print(txt) "
   ]
  },
  {
   "cell_type": "markdown",
   "id": "c30c3272",
   "metadata": {},
   "source": [
    "#### Backspace (\\b)"
   ]
  },
  {
   "cell_type": "code",
   "execution_count": 34,
   "id": "e0d70ab7",
   "metadata": {},
   "outputs": [
    {
     "name": "stdout",
     "output_type": "stream",
     "text": [
      "Hello \bWorld!\n"
     ]
    }
   ],
   "source": [
    "#This example erases one character (backspace):\n",
    "txt = \"Hello \\bWorld!\"\n",
    "print(txt)"
   ]
  },
  {
   "cell_type": "markdown",
   "id": "33d066f7",
   "metadata": {},
   "source": [
    "#### Octal value (\\ooo)"
   ]
  },
  {
   "cell_type": "code",
   "execution_count": 35,
   "id": "9bca7156",
   "metadata": {},
   "outputs": [
    {
     "name": "stdout",
     "output_type": "stream",
     "text": [
      "Hello\n"
     ]
    }
   ],
   "source": [
    "txt = \"\\110\\145\\154\\154\\157\"\n",
    "print(txt)"
   ]
  },
  {
   "cell_type": "markdown",
   "id": "a5907550",
   "metadata": {},
   "source": [
    "#### Hex value (\\xhh)"
   ]
  },
  {
   "cell_type": "code",
   "execution_count": 36,
   "id": "e93fc15b",
   "metadata": {},
   "outputs": [
    {
     "name": "stdout",
     "output_type": "stream",
     "text": [
      "Hello\n"
     ]
    }
   ],
   "source": [
    "#A backslash followed by an 'x' and a hex number represents a hex value:\n",
    "txt = \"\\x48\\x65\\x6c\\x6c\\x6f\"\n",
    "print(txt)"
   ]
  },
  {
   "cell_type": "code",
   "execution_count": null,
   "id": "bbdcd45f",
   "metadata": {},
   "outputs": [],
   "source": []
  },
  {
   "cell_type": "markdown",
   "id": "140dc0a4",
   "metadata": {},
   "source": [
    "### Methods to Modify Strings\n",
    "- casefold()\tConverts string into lower case\n",
    "- center()\tReturns a centered string\n",
    "- count()\tReturns the number of times a specified value occurs in a string\n",
    "- encode()\tReturns an encoded version of the string\n",
    "- endswith()\tReturns true if the string ends with the specified value\n",
    "- expandtabs()\tSets the tab size of the string\n",
    "- find()\tSearches the string for a specified value and returns the position of where it was found\n",
    "- format()\tFormats specified values in a string\n",
    "- format_map()\tFormats specified values in a string\n",
    "- index()\tSearches the string for a specified value and returns the position of where it was found\n",
    "- isalnum()\tReturns True if all characters in the string are alphanumeric\n",
    "- isalpha()\tReturns True if all characters in the string are in the alphabet\n",
    "- isdecimal()\tReturns True if all characters in the string are decimals\n",
    "- isdigit()\tReturns True if all characters in the string are digits\n",
    "- isidentifier()\tReturns True if the string is an identifier\n",
    "- islower()\tReturns True if all characters in the string are lower case\n",
    "- isnumeric()\tReturns True if all characters in the string are numeric\n",
    "- isprintable()\tReturns True if all characters in the string are printable\n",
    "- isspace()\tReturns True if all characters in the string are whitespaces\n",
    "- istitle()\tReturns True if the string follows the rules of a title\n",
    "- isupper()\tReturns True if all characters in the string are upper case\n",
    "- join()\tJoins the elements of an iterable to the end of the string\n",
    "- ljust()\tReturns a left justified version of the string\n",
    "- maketrans()\tReturns a translation table to be used in translations\n",
    "- partition()\tReturns a tuple where the string is parted into three parts\n",
    "- rfind()\tSearches the string for a specified value and returns the last position of where it was found\n",
    "- rindex()\tSearches the string for a specified value and returns the last position of where it was found\n",
    "- rjust()\tReturns a right justified version of the string\n",
    "- rpartition()\tReturns a tuple where the string is parted into three parts\n",
    "- rsplit()\tSplits the string at the specified separator, and returns a list\n",
    "- startswith()\tReturns true if the string starts with the specified value\n",
    "- translate()\tReturns a translated string\n",
    "- zfill()\tFills the string with a specified number of 0 values at the beginning\n",
    "\n",
    "#### Upper Case\n",
    "- upper() - converts a string into upper case"
   ]
  },
  {
   "cell_type": "code",
   "execution_count": 18,
   "id": "bbc4cb38",
   "metadata": {},
   "outputs": [
    {
     "name": "stdout",
     "output_type": "stream",
     "text": [
      "HELLO, WORLD!\n"
     ]
    }
   ],
   "source": [
    "a = \"Hello, World!\"\n",
    "print(a.upper())"
   ]
  },
  {
   "cell_type": "markdown",
   "id": "a072365c",
   "metadata": {},
   "source": [
    "#### Lower Case\n",
    "- lower() - converts a string into lower case"
   ]
  },
  {
   "cell_type": "code",
   "execution_count": 19,
   "id": "6cfd384a",
   "metadata": {},
   "outputs": [
    {
     "name": "stdout",
     "output_type": "stream",
     "text": [
      "hello, world!\n"
     ]
    }
   ],
   "source": [
    "a = \"Hello, World!\"\n",
    "print(a.lower())"
   ]
  },
  {
   "cell_type": "markdown",
   "id": "a4ff2c3c",
   "metadata": {},
   "source": [
    "#### Capitalize\n",
    "- capitalize() - Converts the first character to upper case"
   ]
  },
  {
   "cell_type": "code",
   "execution_count": 7,
   "id": "82615493",
   "metadata": {},
   "outputs": [
    {
     "name": "stdout",
     "output_type": "stream",
     "text": [
      "Hello, and welcome to my world.\n"
     ]
    }
   ],
   "source": [
    "txt = \"hello, and welcome to my world.\"\n",
    "x = txt.capitalize()\n",
    "print (x)"
   ]
  },
  {
   "cell_type": "markdown",
   "id": "f0b8db40",
   "metadata": {},
   "source": [
    "#### Title Case\n",
    "- title() - Converts the first character of each word to upper case"
   ]
  },
  {
   "cell_type": "code",
   "execution_count": 8,
   "id": "4875b1f3",
   "metadata": {},
   "outputs": [
    {
     "name": "stdout",
     "output_type": "stream",
     "text": [
      "Welcome To My World\n"
     ]
    }
   ],
   "source": [
    "txt = \"Welcome to my world\"\n",
    "x = txt.title()\n",
    "print(x)"
   ]
  },
  {
   "cell_type": "markdown",
   "id": "19111d05",
   "metadata": {},
   "source": [
    "#### Swaping Case\n",
    "- swapcase() - Swaps cases, lower case becomes upper case and vice versa"
   ]
  },
  {
   "cell_type": "code",
   "execution_count": 9,
   "id": "43dfaab7",
   "metadata": {},
   "outputs": [
    {
     "name": "stdout",
     "output_type": "stream",
     "text": [
      "hELLO mY nAME iS peter\n"
     ]
    }
   ],
   "source": [
    "txt = \"Hello My Name Is PETER\"\n",
    "x = txt.swapcase()\n",
    "print(x)"
   ]
  },
  {
   "cell_type": "markdown",
   "id": "7b3c0bd0",
   "metadata": {},
   "source": [
    "#### Replace String\n",
    "- replace() - Returns a string where a specified value is replaced with a specified value"
   ]
  },
  {
   "cell_type": "code",
   "execution_count": 22,
   "id": "d39e12ca",
   "metadata": {},
   "outputs": [
    {
     "name": "stdout",
     "output_type": "stream",
     "text": [
      "Jello, World!\n"
     ]
    }
   ],
   "source": [
    "a = \"Hello, World!\"\n",
    "print(a.replace(\"H\", \"J\"))"
   ]
  },
  {
   "cell_type": "markdown",
   "id": "9815f806",
   "metadata": {},
   "source": [
    "#### Remove Whitespace/ Specified Characters\n",
    "- lstrip() - Returns a left trim version of the string\n",
    "- rstrip() - Returns a right trim version of the string\n",
    "- strip() - Returns a trimmed version of the string"
   ]
  },
  {
   "cell_type": "code",
   "execution_count": 1,
   "id": "0c0b3cc7",
   "metadata": {},
   "outputs": [
    {
     "name": "stdout",
     "output_type": "stream",
     "text": [
      "Hello, World! \n",
      " Hello, World!\n",
      "Hello, World!\n"
     ]
    }
   ],
   "source": [
    "a = \" Hello, World! \"\n",
    "print(a.lstrip())  # From left side only\n",
    "print(a.rstrip())  # From right side only\n",
    "print(a.strip())  # From both side"
   ]
  },
  {
   "cell_type": "code",
   "execution_count": 21,
   "id": "a4aa895c",
   "metadata": {},
   "outputs": [
    {
     "name": "stdout",
     "output_type": "stream",
     "text": [
      "ssissippi\n",
      "mississ\n",
      "ssiss\n"
     ]
    }
   ],
   "source": [
    "a = \"mississippi\"\n",
    "print(a.lstrip('mip'))\n",
    "print(a.rstrip('mip'))\n",
    "print(a.strip('mip'))"
   ]
  },
  {
   "cell_type": "markdown",
   "id": "6aeaf4af",
   "metadata": {},
   "source": [
    "#### Split String\n",
    "- split() - Splits the string at the specified separator, and returns a list"
   ]
  },
  {
   "cell_type": "code",
   "execution_count": 23,
   "id": "c569fd69",
   "metadata": {},
   "outputs": [
    {
     "name": "stdout",
     "output_type": "stream",
     "text": [
      "['Hello', ' World!']\n"
     ]
    }
   ],
   "source": [
    "a = \"Hello, World!\"\n",
    "print(a.split(','))"
   ]
  },
  {
   "cell_type": "markdown",
   "id": "9f8dd71e",
   "metadata": {},
   "source": [
    "- splitlines() - Splits the string at line breaks and returns a list"
   ]
  },
  {
   "cell_type": "code",
   "execution_count": 5,
   "id": "7d04f27b",
   "metadata": {},
   "outputs": [
    {
     "name": "stdout",
     "output_type": "stream",
     "text": [
      "['Thank you ', 'for the music', 'Welcome to ', 'the jungle']\n"
     ]
    }
   ],
   "source": [
    "txt = \"Thank you \\rfor the music\\nWelcome to \\r\\nthe jungle\"\n",
    "x = txt.splitlines()\n",
    "print(x)"
   ]
  }
 ],
 "metadata": {
  "kernelspec": {
   "display_name": "Python 3 (ipykernel)",
   "language": "python",
   "name": "python3"
  },
  "language_info": {
   "codemirror_mode": {
    "name": "ipython",
    "version": 3
   },
   "file_extension": ".py",
   "mimetype": "text/x-python",
   "name": "python",
   "nbconvert_exporter": "python",
   "pygments_lexer": "ipython3",
   "version": "3.9.12"
  }
 },
 "nbformat": 4,
 "nbformat_minor": 5
}
