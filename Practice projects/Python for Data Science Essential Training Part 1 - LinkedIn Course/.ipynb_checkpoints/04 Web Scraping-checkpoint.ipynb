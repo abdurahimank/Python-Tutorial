{
 "cells": [
  {
   "cell_type": "markdown",
   "metadata": {},
   "source": [
    "# Chapter 6 - Data Sourcing via Web\n",
    "## Part 1 - Objects in BeautifulSoup"
   ]
  },
  {
   "cell_type": "code",
   "execution_count": 1,
   "metadata": {},
   "outputs": [
    {
     "name": "stdout",
     "output_type": "stream",
     "text": [
      "3.9.12 (main, Apr  4 2022, 05:22:27) [MSC v.1916 64 bit (AMD64)]\n"
     ]
    }
   ],
   "source": [
    "import sys\n",
    "print(sys.version)"
   ]
  },
  {
   "cell_type": "code",
   "execution_count": 2,
   "metadata": {},
   "outputs": [],
   "source": [
    "from bs4 import BeautifulSoup"
   ]
  },
  {
   "cell_type": "markdown",
   "metadata": {
    "collapsed": true
   },
   "source": [
    "### BeautifulSoup objects "
   ]
  },
  {
   "cell_type": "code",
   "execution_count": 4,
   "metadata": {},
   "outputs": [],
   "source": [
    "our_html_document = '''\n",
    "<html><head><title>IoT Articles</title></head>\n",
    "<body>\n",
    "<p class='title'><b>2018 Trends: Best New IoT Device Ideas for Data Scientists and Engineers</b></p>\n",
    "\n",
    "<p class='description'>It’s almost 2018 and IoT is on the cusp of an explosive expansion. In this article, I offer you a listing of new IoT device ideas that you can use...\n",
    "<br>\n",
    "<br>\n",
    "It’s almost 2018 and IoT is on the cusp of an explosive expansion. In this article, I offer you a listing of new IoT device ideas that you can use to get practice in designing your first IoT applications.\n",
    "<h1>Looking Back at My Coolest IoT Find in 2017</h1>\n",
    "Before going into detail about best new IoT device ideas, here’s the backstory. <span style=\"text-decoration: underline;\"><strong><a href=\"http://bit.ly/LPlNDJj\">Last month Ericsson Digital invited me</a></strong></span> to tour the Ericsson Studio in Kista, Sweden. Up until that visit, <a href=\"http://www.data-mania.com/blog/m2m-vs-iot/\">IoT</a> had been largely theoretical to me. Of course, I know the usual mumbo-jumbo about wearables and IoT-connected fitness trackers. That stuff is all well and good, but it’s somewhat old hat – plus I am not sure we are really benefiting so much from those, so I’m not that impressed.\n",
    "\n",
    "It wasn’t until I got to the Ericsson Studio that I became extremely impressed by how far IoT has really come. Relying on the promise of the 5g network expansion, IoT-powered smart devices are on the cusp of an explosive growth in adoption. It was Ericsson’s Smart Car that sent me reeling:<a href=\"bit.ly/LPlNDJj\"><img class=\"aligncenter size-full wp-image-3802\" src=\"http://www.data-mania.com/blog/wp-content/uploads/2017/12/new-IoT-device-ideas.jpg\" alt=\"Get your new iot device ideas here\" width=\"1024\" height=\"683\" /></a>\n",
    "\n",
    "This car is connected to Ericsson’s Connected Vehicle Cloud, an IoT platform that manages services for the Smart Cars to which it’s connected. The Volvo pictured above acts as a drop-off location for groceries that have been ordered by its owner.\n",
    "\n",
    "To understand how it works, imagine you’re pulling your normal 9-to-5 and you know you need to grab some groceries on your way home. Well, since you’re smart you’ve used Ericsson IoT platform to connect your car to the local grocery delivery service (<a href=\"http://mat.se/\">Mat.se</a>), so all you need to do is open the Mat.se app and make your usual order. Mat.se automatically handles the payment, grocery selection, delivery, and delivery scheduling. Since your car is IoT-enabled, Mat.se issues its trusted delivery agent a 1-time token to use for opening your car in order to place your groceries in your car for you at 4:40 pm (just before you get off from work).\n",
    "\n",
    "To watch some of the amazing IoT device demos I witnessed at Ericsson Studio, make sure to go <span style=\"text-decoration: underline;\"><strong><a href=\"http://bit.ly/LPlNDJj\">watch the videos on this page</a></strong></span>.\n",
    "<h1>Future Trends for IoT in 2018</h1>\n",
    "New IoT device ideas won’t do you much good unless you at least know the basic technology trends that are set to impact IoT over the next year(s). These include:\n",
    "<ol>\n",
    " \t<li><strong>Big Data</strong> &amp; Data Engineering: Sensors that are embedded within IoT devices spin off machine-generated data like it’s going out of style. For IoT to function, the platform must be solidly engineered to handle big data. Be assured, that requires some serious data engineering.</li>\n",
    " \t<li><strong>Machine Learning</strong> Data Science: While a lot of IoT devices are still operated according to rules-based decision criteria, the age of artificial intelligence is upon us. IoT will increasingly depend on machine learning algorithms to control device operations so that devices are able to autonomously respond to a complex set of overlapping stimuli.</li>\n",
    " \t<li><strong>Blockchain</strong>-Enabled Security: Above all else, IoT networks must be secure. Blockchain technology is primed to meet the security demands that come along with building and expanding the IoT.</li>\n",
    "</ol>\n",
    "<h1>Best New IoT Device Ideas</h1>\n",
    "This listing of new IoT device ideas has been sub-divided according to the main technology upon which the IoT devices are built. Below I’m providing a list of new IoT device ideas, but for detailed instructions on how to build these IoT applications, I recommend the <a href=\"https://click.linksynergy.com/deeplink?id=*JDLXjeE*wk&amp;mid=39197&amp;murl=https%3A%2F%2Fwww.udemy.com%2Ftopic%2Finternet-of-things%2F%3Fsort%3Dhighest-rated\">IoT courses on Udemy</a> (ß Please note: if you purchase a Udemy course through this link, I may receive a small commission), or courses that are available at <a href=\"http://www.skyfilabs.com/iot-online-courses\">SkyFi</a> and <a href=\"https://www.coursera.org/specializations/iot\">Coursera</a>.\n",
    "<h2>Raspberry Pi IoT Ideas</h2>\n",
    "Using Raspberry Pi as open-source hardware, you can build IoT applications that offer any one of the following benefits:\n",
    "<ol>\n",
    " \t<li>Enable built-in sensing to build a weather station that measures ambient temperature and humidity</li>\n",
    " \t<li>Build a system that detects discrepancies in electrical readings to identify electricity theft</li>\n",
    " \t<li>Use IoT to build a Servo that is controlled by motion detection readings</li>\n",
    " \t<li>Build a smart control switch that operates devices based on external stimuli. Use this for home automation.</li>\n",
    " \t<li>Build a music playing application that enables music for each room in your house</li>\n",
    " \t<li>Implement biometrics on IoT-connected devices</li>\n",
    "</ol>\n",
    "<h2>Arduino IoT Ideas</h2>\n",
    "There are a number of new IoT device ideas that deploy Arduino as a microcontroller. These include:\n",
    "<ol>\n",
    " \t<li>Integrate Arduino with Android to build a remote-control RGB LED device.</li>\n",
    " \t<li>Connect PIR sensors across the IoT to implement a smart building.</li>\n",
    " \t<li>Build a temperature and sunlight sensor system to remotely monitor and control the conditions of your garden.</li>\n",
    " \t<li>Deploy Arduino and IoT to automate your neighborhood streetlights.</li>\n",
    " \t<li>Build a smart irrigation system based on IoT-connected temperature and moisture sensors built-in to your agricultural plants.</li>\n",
    "</ol>\n",
    "[caption id=\"attachment_3807\" align=\"aligncenter\" width=\"300\"]<a href=\"bit.ly/LPlNDJj\"><img class=\"wp-image-3807 size-medium\" src=\"http://www.data-mania.com/blog/wp-content/uploads/2017/12/IMG_3058-300x295.jpg\" alt=\"\" width=\"300\" height=\"295\" /></a> An IoT Chatbot Tree at the Ericsson Studio[/caption]\n",
    "<h2>Wireless (GSM) IoT Ideas</h2>\n",
    "Several new IoT device ideas are developed around the GSM wireless network. Those are:\n",
    "<ol>\n",
    " \t<li>Monitor soil moisture to automate agricultural irrigation cycles.</li>\n",
    " \t<li>Automate and control the conditions of a greenhouse.</li>\n",
    " \t<li>Enable bio-metrics to build a smart security system for your home or office building</li>\n",
    " \t<li>Build an autonomously operating fitness application that automatically makes recommendations based on motion detection and heart rate sensors that are embedded on wearable fitness trackers.</li>\n",
    " \t<li>Build a healthcare monitoring system that tracks, informs, and automatically alerts healthcare providers based on sensor readings that describe a patients vital statistics (like temperature, pulse, blood pressure, etc).</li>\n",
    "</ol>\n",
    "<h2>IoT Automation Ideas</h2>\n",
    "Almost all new IoT device ideas offer automation benefits, but to outline a few more ideas:\n",
    "<ol>\n",
    " \t<li>Build an IoT device that automatically locates and reports the closest nearby parking spot.</li>\n",
    " \t<li>Build a motion detection system that automatically issues emails or sms messages to alert home owners of a likely home invasion.</li>\n",
    " \t<li>Use temperature sensors connected across the IoT to automatically alert you if your home windows or doors have been left open.</li>\n",
    " \t<li>Use bio-metric sensors to build a smart system that automate security for your home or office building</li>\n",
    "</ol>\n",
    "To learn more about IoT and what’s happening on the leading edge, be sure to pop over to Ericsson’s Studio Tour recap and <span style=\"text-decoration: underline;\"><strong><a href=\"http://bit.ly/LPlNDJj\">watch these videos</a></strong></span>.\n",
    "\n",
    "<em>(I captured some of this content on behalf of DevMode Strategies during an invite-only tour of the Ericsson Studio in Kista. Rest assure, the text and opinions are my own</em>)\n",
    "<p class='description'>...</p>\n",
    "'''"
   ]
  },
  {
   "cell_type": "code",
   "execution_count": 5,
   "metadata": {},
   "outputs": [
    {
     "name": "stdout",
     "output_type": "stream",
     "text": [
      "\n",
      "<html><head><title>IoT Articles</title></head>\n",
      "<body>\n",
      "<p class=\"title\"><b>2018 Trends: Best New IoT Device Ideas for Data Scientists and Engineers</b></p>\n",
      "<p class=\"description\">It’s almost 2018 and IoT is on the cusp of an explosive expansion. In this article, I offer you a listing of new IoT device ideas that you can use...\n",
      "<br/>\n",
      "<br/>\n",
      "It’s almost 2018 and IoT is on the cusp of an explosive expansion. In this article, I offer you a listing of new IoT device ideas that you can use to get practice in designing your first IoT applications.\n",
      "<h1>Looking Back at My Coolest IoT Find in 2017</h1>\n",
      "Before going into detail about best new IoT device ideas, here’s the backstory. <span style=\"text-decoration: underline;\"><strong><a href=\"http://bit.ly/LPlNDJj\">Last month Ericsson Digital invited me</a></strong></span> to tour the Ericsson Studio in Kista, Sweden. Up until that visit, <a href=\"http://www.data-mania.com/blog/m2m-vs-iot/\">IoT</a> had been largely theoretical to me. Of course, I know the usual mumbo-jumbo about wearables and IoT-connected fitness trackers. That stuff is all well and good, but it’s somewhat old hat – plus I am not sure we are really benefiting so much from those, so I’m not that impressed.\n",
      "\n",
      "It wasn’t until I got to the Ericsson Studio that I became extremely impressed by how far IoT has really come. Relying on the promise of the 5g network expansion, IoT-powered smart devices are on the cusp of an explosive growth in adoption. It was Ericsson’s Smart Car that sent me reeling:<a href=\"bit.ly/LPlNDJj\"><img alt=\"Get your new iot device ideas here\" class=\"aligncenter size-full wp-image-3802\" height=\"683\" src=\"http://www.data-mania.com/blog/wp-content/uploads/2017/12/new-IoT-device-ideas.jpg\" width=\"1024\"/></a>\n",
      "\n",
      "This car is connected to Ericsson’s Connected Vehicle Cloud, an IoT platform that manages services for the Smart Cars to which it’s connected. The Volvo pictured above acts as a drop-off location for groceries that have been ordered by its owner.\n",
      "\n",
      "To understand how it works, imagine you’re pulling your normal 9-to-5 and you know you need to grab some groceries on your way home. Well, since you’re smart you’ve used Ericsson IoT platform to connect your car to the local grocery delivery service (<a href=\"http://mat.se/\">Mat.se</a>), so all you need to do is open the Mat.se app and make your usual order. Mat.se automatically handles the payment, grocery selection, delivery, and delivery scheduling. Since your car is IoT-enabled, Mat.se issues its trusted delivery agent a 1-time token to use for opening your car in order to place your groceries in your car for you at 4:40 pm (just before you get off from work).\n",
      "\n",
      "To watch some of the amazing IoT device demos I witnessed at Ericsson Studio, make sure to go <span style=\"text-decoration: underline;\"><strong><a href=\"http://bit.ly/LPlNDJj\">watch the videos on this page</a></strong></span>.\n",
      "<h1>Future Trends for IoT in 2018</h1>\n",
      "New IoT device ideas won’t do you much good unless you at least know the basic technology trends that are set to impact IoT over the next year(s). These include:\n",
      "<ol>\n",
      "<li><strong>Big Data</strong> &amp; Data Engineering: Sensors that are embedded within IoT devices spin off machine-generated data like it’s going out of style. For IoT to function, the platform must be solidly engineered to handle big data. Be assured, that requires some serious data engineering.</li>\n",
      "<li><strong>Machine Learning</strong> Data Science: While a lot of IoT devices are still operated according to rules-based decision criteria, the age of artificial intelligence is upon us. IoT will increasingly depend on machine learning algorithms to control device operations so that devices are able to autonomously respond to a complex set of overlapping stimuli.</li>\n",
      "<li><strong>Blockchain</strong>-Enabled Security: Above all else, IoT networks must be secure. Blockchain technology is primed to meet the security demands that come along with building and expanding the IoT.</li>\n",
      "</ol>\n",
      "<h1>Best New IoT Device Ideas</h1>\n",
      "This listing of new IoT device ideas has been sub-divided according to the main technology upon which the IoT devices are built. Below I’m providing a list of new IoT device ideas, but for detailed instructions on how to build these IoT applications, I recommend the <a href=\"https://click.linksynergy.com/deeplink?id=*JDLXjeE*wk&amp;mid=39197&amp;murl=https%3A%2F%2Fwww.udemy.com%2Ftopic%2Finternet-of-things%2F%3Fsort%3Dhighest-rated\">IoT courses on Udemy</a> (ß Please note: if you purchase a Udemy course through this link, I may receive a small commission), or courses that are available at <a href=\"http://www.skyfilabs.com/iot-online-courses\">SkyFi</a> and <a href=\"https://www.coursera.org/specializations/iot\">Coursera</a>.\n",
      "<h2>Raspberry Pi IoT Ideas</h2>\n",
      "Using Raspberry Pi as open-source hardware, you can build IoT applications that offer any one of the following benefits:\n",
      "<ol>\n",
      "<li>Enable built-in sensing to build a weather station that measures ambient temperature and humidity</li>\n",
      "<li>Build a system that detects discrepancies in electrical readings to identify electricity theft</li>\n",
      "<li>Use IoT to build a Servo that is controlled by motion detection readings</li>\n",
      "<li>Build a smart control switch that operates devices based on external stimuli. Use this for home automation.</li>\n",
      "<li>Build a music playing application that enables music for each room in your house</li>\n",
      "<li>Implement biometrics on IoT-connected devices</li>\n",
      "</ol>\n",
      "<h2>Arduino IoT Ideas</h2>\n",
      "There are a number of new IoT device ideas that deploy Arduino as a microcontroller. These include:\n",
      "<ol>\n",
      "<li>Integrate Arduino with Android to build a remote-control RGB LED device.</li>\n",
      "<li>Connect PIR sensors across the IoT to implement a smart building.</li>\n",
      "<li>Build a temperature and sunlight sensor system to remotely monitor and control the conditions of your garden.</li>\n",
      "<li>Deploy Arduino and IoT to automate your neighborhood streetlights.</li>\n",
      "<li>Build a smart irrigation system based on IoT-connected temperature and moisture sensors built-in to your agricultural plants.</li>\n",
      "</ol>\n",
      "[caption id=\"attachment_3807\" align=\"aligncenter\" width=\"300\"]<a href=\"bit.ly/LPlNDJj\"><img alt=\"\" class=\"wp-image-3807 size-medium\" height=\"295\" src=\"http://www.data-mania.com/blog/wp-content/uploads/2017/12/IMG_3058-300x295.jpg\" width=\"300\"/></a> An IoT Chatbot Tree at the Ericsson Studio[/caption]\n",
      "<h2>Wireless (GSM) IoT Ideas</h2>\n",
      "Several new IoT device ideas are developed around the GSM wireless network. Those are:\n",
      "<ol>\n",
      "<li>Monitor soil moisture to automate agricultural irrigation cycles.</li>\n",
      "<li>Automate and control the conditions of a greenhouse.</li>\n",
      "<li>Enable bio-metrics to build a smart security system for your home or office building</li>\n",
      "<li>Build an autonomously operating fitness application that automatically makes recommendations based on motion detection and heart rate sensors that are embedded on wearable fitness trackers.</li>\n",
      "<li>Build a healthcare monitoring system that tracks, informs, and automatically alerts healthcare providers based on sensor readings that describe a patients vital statistics (like temperature, pulse, blood pressure, etc).</li>\n",
      "</ol>\n",
      "<h2>IoT Automation Ideas</h2>\n",
      "Almost all new IoT device ideas offer automation benefits, but to outline a few more ideas:\n",
      "<ol>\n",
      "<li>Build an IoT device that automatically locates and reports the closest nearby parking spot.</li>\n",
      "<li>Build a motion detection system that automatically issues emails or sms messages to alert home owners of a likely home invasion.</li>\n",
      "<li>Use temperature sensors connected across the IoT to automatically alert you if your home windows or doors have been left open.</li>\n",
      "<li>Use bio-metric sensors to build a smart system that automate security for your home or office building</li>\n",
      "</ol>\n",
      "To learn more about IoT and what’s happening on the leading edge, be sure to pop over to Ericsson’s Studio Tour recap and <span style=\"text-decoration: underline;\"><strong><a href=\"http://bit.ly/LPlNDJj\">watch these videos</a></strong></span>.\n",
      "\n",
      "<em>(I captured some of this content on behalf of DevMode Strategies during an invite-only tour of the Ericsson Studio in Kista. Rest assure, the text and opinions are my own</em>)\n",
      "<p class=\"description\">...</p>\n",
      "</p></body></html>\n"
     ]
    }
   ],
   "source": [
    "our_soup_object = BeautifulSoup(our_html_document, 'html.parser')\n",
    "print(our_soup_object)"
   ]
  },
  {
   "cell_type": "code",
   "execution_count": 6,
   "metadata": {},
   "outputs": [
    {
     "name": "stdout",
     "output_type": "stream",
     "text": [
      "<html>\n",
      " <head>\n",
      "  <title>\n",
      "   IoT Articles\n",
      "  </title>\n",
      " </head>\n",
      " <body>\n",
      "  <p class=\"title\">\n",
      "   <b>\n",
      "    2018 Trends: Best New IoT Device Ideas for Data Scientists and Engineers\n",
      "   </b>\n",
      "  </p>\n",
      "  <p class=\"description\">\n",
      "   It’s almost 2018 and IoT is on the cusp of an explosive expansion. In this article,\n"
     ]
    }
   ],
   "source": [
    "print(our_soup_object.prettify()[0:300])"
   ]
  },
  {
   "cell_type": "markdown",
   "metadata": {
    "collapsed": true
   },
   "source": [
    "### Tag objects"
   ]
  },
  {
   "cell_type": "markdown",
   "metadata": {
    "collapsed": true
   },
   "source": [
    "#### Tag names"
   ]
  },
  {
   "cell_type": "code",
   "execution_count": 12,
   "metadata": {},
   "outputs": [
    {
     "data": {
      "text/plain": [
       "bs4.element.Tag"
      ]
     },
     "execution_count": 12,
     "metadata": {},
     "output_type": "execute_result"
    }
   ],
   "source": [
    "soup_object = BeautifulSoup('<h1 attribute_1 = \"Heading Level 1\"\">Future Trends for IoT in 2018</h1>', \"lxml\")\n",
    "\n",
    "tag = soup_object.h1\n",
    "type(tag)"
   ]
  },
  {
   "cell_type": "code",
   "execution_count": 13,
   "metadata": {},
   "outputs": [
    {
     "name": "stdout",
     "output_type": "stream",
     "text": [
      "<h1 attribute_1=\"Heading Level 1\">Future Trends for IoT in 2018</h1>\n"
     ]
    }
   ],
   "source": [
    "print(tag)"
   ]
  },
  {
   "cell_type": "code",
   "execution_count": 14,
   "metadata": {},
   "outputs": [
    {
     "data": {
      "text/plain": [
       "'h1'"
      ]
     },
     "execution_count": 14,
     "metadata": {},
     "output_type": "execute_result"
    }
   ],
   "source": [
    "tag.name"
   ]
  },
  {
   "cell_type": "code",
   "execution_count": 15,
   "metadata": {},
   "outputs": [
    {
     "data": {
      "text/plain": [
       "<heading 1 attribute_1=\"Heading Level 1\">Future Trends for IoT in 2018</heading 1>"
      ]
     },
     "execution_count": 15,
     "metadata": {},
     "output_type": "execute_result"
    }
   ],
   "source": [
    "tag.name = 'heading 1'\n",
    "tag"
   ]
  },
  {
   "cell_type": "code",
   "execution_count": 16,
   "metadata": {},
   "outputs": [
    {
     "data": {
      "text/plain": [
       "'heading 1'"
      ]
     },
     "execution_count": 16,
     "metadata": {},
     "output_type": "execute_result"
    }
   ],
   "source": [
    "tag.name"
   ]
  },
  {
   "cell_type": "markdown",
   "metadata": {
    "collapsed": true
   },
   "source": [
    "#### Tag attributes"
   ]
  },
  {
   "cell_type": "code",
   "execution_count": 20,
   "metadata": {},
   "outputs": [
    {
     "data": {
      "text/plain": [
       "<h1 attribute_1=\"Heading Level 1\">Future Trends for IoT in 2018</h1>"
      ]
     },
     "execution_count": 20,
     "metadata": {},
     "output_type": "execute_result"
    }
   ],
   "source": [
    "soup_object = BeautifulSoup('<h1 attribute_1 = \"Heading Level 1\"\">Future Trends for IoT in 2018</h1>', \"lxml\")\n",
    "tag = soup_object.h1\n",
    "tag"
   ]
  },
  {
   "cell_type": "code",
   "execution_count": 21,
   "metadata": {},
   "outputs": [
    {
     "data": {
      "text/plain": [
       "'Heading Level 1'"
      ]
     },
     "execution_count": 21,
     "metadata": {},
     "output_type": "execute_result"
    }
   ],
   "source": [
    "tag['attribute_1']"
   ]
  },
  {
   "cell_type": "code",
   "execution_count": 22,
   "metadata": {},
   "outputs": [
    {
     "data": {
      "text/plain": [
       "{'attribute_1': 'Heading Level 1'}"
      ]
     },
     "execution_count": 22,
     "metadata": {},
     "output_type": "execute_result"
    }
   ],
   "source": [
    "tag.attrs"
   ]
  },
  {
   "cell_type": "code",
   "execution_count": 23,
   "metadata": {},
   "outputs": [
    {
     "data": {
      "text/plain": [
       "{'attribute_1': 'Heading Level 1', 'attribute_2': 'Heading Level 1*'}"
      ]
     },
     "execution_count": 23,
     "metadata": {},
     "output_type": "execute_result"
    }
   ],
   "source": [
    "tag['attribute_2'] = 'Heading Level 1*'\n",
    "tag.attrs"
   ]
  },
  {
   "cell_type": "code",
   "execution_count": 24,
   "metadata": {},
   "outputs": [
    {
     "data": {
      "text/plain": [
       "<h1 attribute_1=\"Heading Level 1\" attribute_2=\"Heading Level 1*\">Future Trends for IoT in 2018</h1>"
      ]
     },
     "execution_count": 24,
     "metadata": {},
     "output_type": "execute_result"
    }
   ],
   "source": [
    "tag"
   ]
  },
  {
   "cell_type": "code",
   "execution_count": 25,
   "metadata": {},
   "outputs": [
    {
     "data": {
      "text/plain": [
       "<h1 attribute_1=\"Heading Level 1\">Future Trends for IoT in 2018</h1>"
      ]
     },
     "execution_count": 25,
     "metadata": {},
     "output_type": "execute_result"
    }
   ],
   "source": [
    "del tag['attribute_2']\n",
    "tag"
   ]
  },
  {
   "cell_type": "code",
   "execution_count": 26,
   "metadata": {},
   "outputs": [
    {
     "data": {
      "text/plain": [
       "{}"
      ]
     },
     "execution_count": 26,
     "metadata": {},
     "output_type": "execute_result"
    }
   ],
   "source": [
    "del tag['attribute_1']\n",
    "tag.attrs"
   ]
  },
  {
   "cell_type": "markdown",
   "metadata": {},
   "source": [
    "#### Navigating a parse tree using tags"
   ]
  },
  {
   "cell_type": "code",
   "execution_count": 6,
   "metadata": {},
   "outputs": [],
   "source": [
    "# First we will recreate our original parse tree.\n",
    "our_html_document = '''\n",
    "<html><head><title>IoT Articles</title></head>\n",
    "<body>\n",
    "<p class='title'><b>2018 Trends: Best New IoT Device Ideas for Data Scientists and Engineers</b></p>\n",
    "\n",
    "<p class='description'>It’s almost 2018 and IoT is on the cusp of an explosive expansion. In this article, I offer you a listing of new IoT device ideas that you can use...\n",
    "<br>\n",
    "<br>\n",
    "It’s almost 2018 and IoT is on the cusp of an explosive expansion. In this article, I offer you a listing of new IoT device ideas that you can use to get practice in designing your first IoT applications.\n",
    "<h1>Looking Back at My Coolest IoT Find in 2017</h1>\n",
    "Before going into detail about best new IoT device ideas, here’s the backstory. <span style=\"text-decoration: underline;\"><strong><a href=\"http://bit.ly/LPlNDJj\">Last month Ericsson Digital invited me</a></strong></span> to tour the Ericsson Studio in Kista, Sweden. Up until that visit, <a href=\"http://www.data-mania.com/blog/m2m-vs-iot/\">IoT</a> had been largely theoretical to me. Of course, I know the usual mumbo-jumbo about wearables and IoT-connected fitness trackers. That stuff is all well and good, but it’s somewhat old hat – plus I am not sure we are really benefiting so much from those, so I’m not that impressed.\n",
    "\n",
    "It wasn’t until I got to the Ericsson Studio that I became extremely impressed by how far IoT has really come. Relying on the promise of the 5g network expansion, IoT-powered smart devices are on the cusp of an explosive growth in adoption. It was Ericsson’s Smart Car that sent me reeling:<a href=\"bit.ly/LPlNDJj\"><img class=\"aligncenter size-full wp-image-3802\" src=\"http://www.data-mania.com/blog/wp-content/uploads/2017/12/new-IoT-device-ideas.jpg\" alt=\"Get your new iot device ideas here\" width=\"1024\" height=\"683\" /></a>\n",
    "\n",
    "This car is connected to Ericsson’s Connected Vehicle Cloud, an IoT platform that manages services for the Smart Cars to which it’s connected. The Volvo pictured above acts as a drop-off location for groceries that have been ordered by its owner.\n",
    "\n",
    "To understand how it works, imagine you’re pulling your normal 9-to-5 and you know you need to grab some groceries on your way home. Well, since you’re smart you’ve used Ericsson IoT platform to connect your car to the local grocery delivery service (<a href=\"http://mat.se/\">Mat.se</a>), so all you need to do is open the Mat.se app and make your usual order. Mat.se automatically handles the payment, grocery selection, delivery, and delivery scheduling. Since your car is IoT-enabled, Mat.se issues its trusted delivery agent a 1-time token to use for opening your car in order to place your groceries in your car for you at 4:40 pm (just before you get off from work).\n",
    "\n",
    "To watch some of the amazing IoT device demos I witnessed at Ericsson Studio, make sure to go <span style=\"text-decoration: underline;\"><strong><a href=\"http://bit.ly/LPlNDJj\">watch the videos on this page</a></strong></span>.\n",
    "<h1>Future Trends for IoT in 2018</h1>\n",
    "New IoT device ideas won’t do you much good unless you at least know the basic technology trends that are set to impact IoT over the next year(s). These include:\n",
    "<ol>\n",
    " \t<li><strong>Big Data</strong> &amp; Data Engineering: Sensors that are embedded within IoT devices spin off machine-generated data like it’s going out of style. For IoT to function, the platform must be solidly engineered to handle big data. Be assured, that requires some serious data engineering.</li>\n",
    " \t<li><strong>Machine Learning</strong> Data Science: While a lot of IoT devices are still operated according to rules-based decision criteria, the age of artificial intelligence is upon us. IoT will increasingly depend on machine learning algorithms to control device operations so that devices are able to autonomously respond to a complex set of overlapping stimuli.</li>\n",
    " \t<li><strong>Blockchain</strong>-Enabled Security: Above all else, IoT networks must be secure. Blockchain technology is primed to meet the security demands that come along with building and expanding the IoT.</li>\n",
    "</ol>\n",
    "<h1>Best New IoT Device Ideas</h1>\n",
    "This listing of new IoT device ideas has been sub-divided according to the main technology upon which the IoT devices are built. Below I’m providing a list of new IoT device ideas, but for detailed instructions on how to build these IoT applications, I recommend the <a href=\"https://click.linksynergy.com/deeplink?id=*JDLXjeE*wk&amp;mid=39197&amp;murl=https%3A%2F%2Fwww.udemy.com%2Ftopic%2Finternet-of-things%2F%3Fsort%3Dhighest-rated\">IoT courses on Udemy</a> (ß Please note: if you purchase a Udemy course through this link, I may receive a small commission), or courses that are available at <a href=\"http://www.skyfilabs.com/iot-online-courses\">SkyFi</a> and <a href=\"https://www.coursera.org/specializations/iot\">Coursera</a>.\n",
    "<h2>Raspberry Pi IoT Ideas</h2>\n",
    "Using Raspberry Pi as open-source hardware, you can build IoT applications that offer any one of the following benefits:\n",
    "<ol>\n",
    " \t<li>Enable built-in sensing to build a weather station that measures ambient temperature and humidity</li>\n",
    " \t<li>Build a system that detects discrepancies in electrical readings to identify electricity theft</li>\n",
    " \t<li>Use IoT to build a Servo that is controlled by motion detection readings</li>\n",
    " \t<li>Build a smart control switch that operates devices based on external stimuli. Use this for home automation.</li>\n",
    " \t<li>Build a music playing application that enables music for each room in your house</li>\n",
    " \t<li>Implement biometrics on IoT-connected devices</li>\n",
    "</ol>\n",
    "<h2>Arduino IoT Ideas</h2>\n",
    "There are a number of new IoT device ideas that deploy Arduino as a microcontroller. These include:\n",
    "<ol>\n",
    " \t<li>Integrate Arduino with Android to build a remote-control RGB LED device.</li>\n",
    " \t<li>Connect PIR sensors across the IoT to implement a smart building.</li>\n",
    " \t<li>Build a temperature and sunlight sensor system to remotely monitor and control the conditions of your garden.</li>\n",
    " \t<li>Deploy Arduino and IoT to automate your neighborhood streetlights.</li>\n",
    " \t<li>Build a smart irrigation system based on IoT-connected temperature and moisture sensors built-in to your agricultural plants.</li>\n",
    "</ol>\n",
    "[caption id=\"attachment_3807\" align=\"aligncenter\" width=\"300\"]<a href=\"bit.ly/LPlNDJj\"><img class=\"wp-image-3807 size-medium\" src=\"http://www.data-mania.com/blog/wp-content/uploads/2017/12/IMG_3058-300x295.jpg\" alt=\"\" width=\"300\" height=\"295\" /></a> An IoT Chatbot Tree at the Ericsson Studio[/caption]\n",
    "<h2>Wireless (GSM) IoT Ideas</h2>\n",
    "Several new IoT device ideas are developed around the GSM wireless network. Those are:\n",
    "<ol>\n",
    " \t<li>Monitor soil moisture to automate agricultural irrigation cycles.</li>\n",
    " \t<li>Automate and control the conditions of a greenhouse.</li>\n",
    " \t<li>Enable bio-metrics to build a smart security system for your home or office building</li>\n",
    " \t<li>Build an autonomously operating fitness application that automatically makes recommendations based on motion detection and heart rate sensors that are embedded on wearable fitness trackers.</li>\n",
    " \t<li>Build a healthcare monitoring system that tracks, informs, and automatically alerts healthcare providers based on sensor readings that describe a patients vital statistics (like temperature, pulse, blood pressure, etc).</li>\n",
    "</ol>\n",
    "<h2>IoT Automation Ideas</h2>\n",
    "Almost all new IoT device ideas offer automation benefits, but to outline a few more ideas:\n",
    "<ol>\n",
    " \t<li>Build an IoT device that automatically locates and reports the closest nearby parking spot.</li>\n",
    " \t<li>Build a motion detection system that automatically issues emails or sms messages to alert home owners of a likely home invasion.</li>\n",
    " \t<li>Use temperature sensors connected across the IoT to automatically alert you if your home windows or doors have been left open.</li>\n",
    " \t<li>Use bio-metric sensors to build a smart system that automate security for your home or office building</li>\n",
    "</ol>\n",
    "To learn more about IoT and what’s happening on the leading edge, be sure to pop over to Ericsson’s Studio Tour recap and <span style=\"text-decoration: underline;\"><strong><a href=\"http://bit.ly/LPlNDJj\">watch these videos</a></strong></span>.\n",
    "\n",
    "<em>(I captured some of this content on behalf of DevMode Strategies during an invite-only tour of the Ericsson Studio in Kista. Rest assure, the text and opinions are my own</em>)\n",
    "<p class='description'>...</p>\n",
    "'''\n",
    "our_soup_object = BeautifulSoup(our_html_document, 'html.parser')"
   ]
  },
  {
   "cell_type": "code",
   "execution_count": 27,
   "metadata": {},
   "outputs": [
    {
     "data": {
      "text/plain": [
       "<head><title>IoT Articles</title></head>"
      ]
     },
     "execution_count": 27,
     "metadata": {},
     "output_type": "execute_result"
    }
   ],
   "source": [
    "our_soup_object.head"
   ]
  },
  {
   "cell_type": "code",
   "execution_count": 28,
   "metadata": {},
   "outputs": [
    {
     "data": {
      "text/plain": [
       "<title>IoT Articles</title>"
      ]
     },
     "execution_count": 28,
     "metadata": {},
     "output_type": "execute_result"
    }
   ],
   "source": [
    "our_soup_object.title"
   ]
  },
  {
   "cell_type": "code",
   "execution_count": 29,
   "metadata": {},
   "outputs": [
    {
     "data": {
      "text/plain": [
       "<b>2018 Trends: Best New IoT Device Ideas for Data Scientists and Engineers</b>"
      ]
     },
     "execution_count": 29,
     "metadata": {},
     "output_type": "execute_result"
    }
   ],
   "source": [
    "our_soup_object.body.b"
   ]
  },
  {
   "cell_type": "code",
   "execution_count": 30,
   "metadata": {},
   "outputs": [
    {
     "data": {
      "text/plain": [
       "<body>\n",
       "<p class=\"title\"><b>2018 Trends: Best New IoT Device Ideas for Data Scientists and Engineers</b></p>\n",
       "<p class=\"description\">It’s almost 2018 and IoT is on the cusp of an explosive expansion. In this article, I offer you a listing of new IoT device ideas that you can use...\n",
       "<br/>\n",
       "<br/>\n",
       "It’s almost 2018 and IoT is on the cusp of an explosive expansion. In this article, I offer you a listing of new IoT device ideas that you can use to get practice in designing your first IoT applications.\n",
       "<h1>Looking Back at My Coolest IoT Find in 2017</h1>\n",
       "Before going into detail about best new IoT device ideas, here’s the backstory. <span style=\"text-decoration: underline;\"><strong><a href=\"http://bit.ly/LPlNDJj\">Last month Ericsson Digital invited me</a></strong></span> to tour the Ericsson Studio in Kista, Sweden. Up until that visit, <a href=\"http://www.data-mania.com/blog/m2m-vs-iot/\">IoT</a> had been largely theoretical to me. Of course, I know the usual mumbo-jumbo about wearables and IoT-connected fitness trackers. That stuff is all well and good, but it’s somewhat old hat – plus I am not sure we are really benefiting so much from those, so I’m not that impressed.\n",
       "\n",
       "It wasn’t until I got to the Ericsson Studio that I became extremely impressed by how far IoT has really come. Relying on the promise of the 5g network expansion, IoT-powered smart devices are on the cusp of an explosive growth in adoption. It was Ericsson’s Smart Car that sent me reeling:<a href=\"bit.ly/LPlNDJj\"><img alt=\"Get your new iot device ideas here\" class=\"aligncenter size-full wp-image-3802\" height=\"683\" src=\"http://www.data-mania.com/blog/wp-content/uploads/2017/12/new-IoT-device-ideas.jpg\" width=\"1024\"/></a>\n",
       "\n",
       "This car is connected to Ericsson’s Connected Vehicle Cloud, an IoT platform that manages services for the Smart Cars to which it’s connected. The Volvo pictured above acts as a drop-off location for groceries that have been ordered by its owner.\n",
       "\n",
       "To understand how it works, imagine you’re pulling your normal 9-to-5 and you know you need to grab some groceries on your way home. Well, since you’re smart you’ve used Ericsson IoT platform to connect your car to the local grocery delivery service (<a href=\"http://mat.se/\">Mat.se</a>), so all you need to do is open the Mat.se app and make your usual order. Mat.se automatically handles the payment, grocery selection, delivery, and delivery scheduling. Since your car is IoT-enabled, Mat.se issues its trusted delivery agent a 1-time token to use for opening your car in order to place your groceries in your car for you at 4:40 pm (just before you get off from work).\n",
       "\n",
       "To watch some of the amazing IoT device demos I witnessed at Ericsson Studio, make sure to go <span style=\"text-decoration: underline;\"><strong><a href=\"http://bit.ly/LPlNDJj\">watch the videos on this page</a></strong></span>.\n",
       "<h1>Future Trends for IoT in 2018</h1>\n",
       "New IoT device ideas won’t do you much good unless you at least know the basic technology trends that are set to impact IoT over the next year(s). These include:\n",
       "<ol>\n",
       "<li><strong>Big Data</strong> &amp; Data Engineering: Sensors that are embedded within IoT devices spin off machine-generated data like it’s going out of style. For IoT to function, the platform must be solidly engineered to handle big data. Be assured, that requires some serious data engineering.</li>\n",
       "<li><strong>Machine Learning</strong> Data Science: While a lot of IoT devices are still operated according to rules-based decision criteria, the age of artificial intelligence is upon us. IoT will increasingly depend on machine learning algorithms to control device operations so that devices are able to autonomously respond to a complex set of overlapping stimuli.</li>\n",
       "<li><strong>Blockchain</strong>-Enabled Security: Above all else, IoT networks must be secure. Blockchain technology is primed to meet the security demands that come along with building and expanding the IoT.</li>\n",
       "</ol>\n",
       "<h1>Best New IoT Device Ideas</h1>\n",
       "This listing of new IoT device ideas has been sub-divided according to the main technology upon which the IoT devices are built. Below I’m providing a list of new IoT device ideas, but for detailed instructions on how to build these IoT applications, I recommend the <a href=\"https://click.linksynergy.com/deeplink?id=*JDLXjeE*wk&amp;mid=39197&amp;murl=https%3A%2F%2Fwww.udemy.com%2Ftopic%2Finternet-of-things%2F%3Fsort%3Dhighest-rated\">IoT courses on Udemy</a> (ß Please note: if you purchase a Udemy course through this link, I may receive a small commission), or courses that are available at <a href=\"http://www.skyfilabs.com/iot-online-courses\">SkyFi</a> and <a href=\"https://www.coursera.org/specializations/iot\">Coursera</a>.\n",
       "<h2>Raspberry Pi IoT Ideas</h2>\n",
       "Using Raspberry Pi as open-source hardware, you can build IoT applications that offer any one of the following benefits:\n",
       "<ol>\n",
       "<li>Enable built-in sensing to build a weather station that measures ambient temperature and humidity</li>\n",
       "<li>Build a system that detects discrepancies in electrical readings to identify electricity theft</li>\n",
       "<li>Use IoT to build a Servo that is controlled by motion detection readings</li>\n",
       "<li>Build a smart control switch that operates devices based on external stimuli. Use this for home automation.</li>\n",
       "<li>Build a music playing application that enables music for each room in your house</li>\n",
       "<li>Implement biometrics on IoT-connected devices</li>\n",
       "</ol>\n",
       "<h2>Arduino IoT Ideas</h2>\n",
       "There are a number of new IoT device ideas that deploy Arduino as a microcontroller. These include:\n",
       "<ol>\n",
       "<li>Integrate Arduino with Android to build a remote-control RGB LED device.</li>\n",
       "<li>Connect PIR sensors across the IoT to implement a smart building.</li>\n",
       "<li>Build a temperature and sunlight sensor system to remotely monitor and control the conditions of your garden.</li>\n",
       "<li>Deploy Arduino and IoT to automate your neighborhood streetlights.</li>\n",
       "<li>Build a smart irrigation system based on IoT-connected temperature and moisture sensors built-in to your agricultural plants.</li>\n",
       "</ol>\n",
       "[caption id=\"attachment_3807\" align=\"aligncenter\" width=\"300\"]<a href=\"bit.ly/LPlNDJj\"><img alt=\"\" class=\"wp-image-3807 size-medium\" height=\"295\" src=\"http://www.data-mania.com/blog/wp-content/uploads/2017/12/IMG_3058-300x295.jpg\" width=\"300\"/></a> An IoT Chatbot Tree at the Ericsson Studio[/caption]\n",
       "<h2>Wireless (GSM) IoT Ideas</h2>\n",
       "Several new IoT device ideas are developed around the GSM wireless network. Those are:\n",
       "<ol>\n",
       "<li>Monitor soil moisture to automate agricultural irrigation cycles.</li>\n",
       "<li>Automate and control the conditions of a greenhouse.</li>\n",
       "<li>Enable bio-metrics to build a smart security system for your home or office building</li>\n",
       "<li>Build an autonomously operating fitness application that automatically makes recommendations based on motion detection and heart rate sensors that are embedded on wearable fitness trackers.</li>\n",
       "<li>Build a healthcare monitoring system that tracks, informs, and automatically alerts healthcare providers based on sensor readings that describe a patients vital statistics (like temperature, pulse, blood pressure, etc).</li>\n",
       "</ol>\n",
       "<h2>IoT Automation Ideas</h2>\n",
       "Almost all new IoT device ideas offer automation benefits, but to outline a few more ideas:\n",
       "<ol>\n",
       "<li>Build an IoT device that automatically locates and reports the closest nearby parking spot.</li>\n",
       "<li>Build a motion detection system that automatically issues emails or sms messages to alert home owners of a likely home invasion.</li>\n",
       "<li>Use temperature sensors connected across the IoT to automatically alert you if your home windows or doors have been left open.</li>\n",
       "<li>Use bio-metric sensors to build a smart system that automate security for your home or office building</li>\n",
       "</ol>\n",
       "To learn more about IoT and what’s happening on the leading edge, be sure to pop over to Ericsson’s Studio Tour recap and <span style=\"text-decoration: underline;\"><strong><a href=\"http://bit.ly/LPlNDJj\">watch these videos</a></strong></span>.\n",
       "\n",
       "<em>(I captured some of this content on behalf of DevMode Strategies during an invite-only tour of the Ericsson Studio in Kista. Rest assure, the text and opinions are my own</em>)\n",
       "<p class=\"description\">...</p>\n",
       "</p></body>"
      ]
     },
     "execution_count": 30,
     "metadata": {},
     "output_type": "execute_result"
    }
   ],
   "source": [
    "our_soup_object.body"
   ]
  },
  {
   "cell_type": "code",
   "execution_count": 31,
   "metadata": {},
   "outputs": [
    {
     "data": {
      "text/plain": [
       "<li><strong>Big Data</strong> &amp; Data Engineering: Sensors that are embedded within IoT devices spin off machine-generated data like it’s going out of style. For IoT to function, the platform must be solidly engineered to handle big data. Be assured, that requires some serious data engineering.</li>"
      ]
     },
     "execution_count": 31,
     "metadata": {},
     "output_type": "execute_result"
    }
   ],
   "source": [
    "our_soup_object.li"
   ]
  },
  {
   "cell_type": "code",
   "execution_count": 32,
   "metadata": {},
   "outputs": [
    {
     "data": {
      "text/plain": [
       "<a href=\"http://bit.ly/LPlNDJj\">Last month Ericsson Digital invited me</a>"
      ]
     },
     "execution_count": 32,
     "metadata": {},
     "output_type": "execute_result"
    }
   ],
   "source": [
    "our_soup_object.a"
   ]
  },
  {
   "cell_type": "markdown",
   "metadata": {},
   "source": [
    "## Part 2 - NavigatableString Objects"
   ]
  },
  {
   "cell_type": "code",
   "execution_count": 7,
   "metadata": {},
   "outputs": [
    {
     "name": "stdout",
     "output_type": "stream",
     "text": [
      "3.9.12 (main, Apr  4 2022, 05:22:27) [MSC v.1916 64 bit (AMD64)]\n"
     ]
    }
   ],
   "source": [
    "import sys\n",
    "print(sys.version)"
   ]
  },
  {
   "cell_type": "code",
   "execution_count": 8,
   "metadata": {},
   "outputs": [],
   "source": [
    "from bs4 import BeautifulSoup"
   ]
  },
  {
   "cell_type": "markdown",
   "metadata": {},
   "source": [
    "### NavigatableString objects"
   ]
  },
  {
   "cell_type": "code",
   "execution_count": 9,
   "metadata": {},
   "outputs": [
    {
     "data": {
      "text/plain": [
       "bs4.element.Tag"
      ]
     },
     "execution_count": 9,
     "metadata": {},
     "output_type": "execute_result"
    }
   ],
   "source": [
    "soup_object = BeautifulSoup('<h1 attribute_1 = \"Heading Level 1\"\">Future Trends in IoT in 2018</h1>', \"lxml\")\n",
    "\n",
    "tag = soup_object.h1\n",
    "\n",
    "type(tag)"
   ]
  },
  {
   "cell_type": "code",
   "execution_count": 10,
   "metadata": {},
   "outputs": [
    {
     "data": {
      "text/plain": [
       "'h1'"
      ]
     },
     "execution_count": 10,
     "metadata": {},
     "output_type": "execute_result"
    }
   ],
   "source": [
    "tag.name"
   ]
  },
  {
   "cell_type": "code",
   "execution_count": 11,
   "metadata": {},
   "outputs": [
    {
     "data": {
      "text/plain": [
       "'Future Trends in IoT in 2018'"
      ]
     },
     "execution_count": 11,
     "metadata": {},
     "output_type": "execute_result"
    }
   ],
   "source": [
    "tag.string"
   ]
  },
  {
   "cell_type": "code",
   "execution_count": 12,
   "metadata": {},
   "outputs": [
    {
     "data": {
      "text/plain": [
       "bs4.element.NavigableString"
      ]
     },
     "execution_count": 12,
     "metadata": {},
     "output_type": "execute_result"
    }
   ],
   "source": [
    "type(tag.string)"
   ]
  },
  {
   "cell_type": "code",
   "execution_count": 13,
   "metadata": {},
   "outputs": [
    {
     "data": {
      "text/plain": [
       "'Future Trends in IoT in 2018'"
      ]
     },
     "execution_count": 13,
     "metadata": {},
     "output_type": "execute_result"
    }
   ],
   "source": [
    "our_navigatable_string = tag.string\n",
    "our_navigatable_string"
   ]
  },
  {
   "cell_type": "code",
   "execution_count": 14,
   "metadata": {},
   "outputs": [
    {
     "data": {
      "text/plain": [
       "'NaN'"
      ]
     },
     "execution_count": 14,
     "metadata": {},
     "output_type": "execute_result"
    }
   ],
   "source": [
    "our_navigatable_string.replace_with('NaN')\n",
    "tag.string"
   ]
  },
  {
   "cell_type": "markdown",
   "metadata": {},
   "source": [
    "#### Utilizing NavigatableString objects"
   ]
  },
  {
   "cell_type": "code",
   "execution_count": 15,
   "metadata": {},
   "outputs": [],
   "source": [
    "our_html_document = '''\n",
    "<html><head><title>IoT Articles</title></head>\n",
    "<body>\n",
    "<p class='title'><b>2018 Trends: Best New IoT Device Ideas for Data Scientists and Engineers</b></p>\n",
    "\n",
    "<p class='description'>It’s almost 2018 and IoT is on the cusp of an explosive expansion. In this article, I offer you a listing of new IoT device ideas that you can use...\n",
    "<br>\n",
    "<br>\n",
    "It’s almost 2018 and IoT is on the cusp of an explosive expansion. In this article, I offer you a listing of new IoT device ideas that you can use to get practice in designing your first IoT applications.\n",
    "<h1>Looking Back at My Coolest IoT Find in 2017</h1>\n",
    "Before going into detail about best new IoT device ideas, here’s the backstory. <span style=\"text-decoration: underline;\"><strong><a href=\"http://bit.ly/LPlNDJj\">Last month Ericsson Digital invited me</a></strong></span> to tour the Ericsson Studio in Kista, Sweden. Up until that visit, <a href=\"http://www.data-mania.com/blog/m2m-vs-iot/\">IoT</a> had been largely theoretical to me. Of course, I know the usual mumbo-jumbo about wearables and IoT-connected fitness trackers. That stuff is all well and good, but it’s somewhat old hat – plus I am not sure we are really benefiting so much from those, so I’m not that impressed.\n",
    "\n",
    "It wasn’t until I got to the Ericsson Studio that I became extremely impressed by how far IoT has really come. Relying on the promise of the 5g network expansion, IoT-powered smart devices are on the cusp of an explosive growth in adoption. It was Ericsson’s Smart Car that sent me reeling:<a href=\"bit.ly/LPlNDJj\"><img class=\"aligncenter size-full wp-image-3802\" src=\"http://www.data-mania.com/blog/wp-content/uploads/2017/12/new-IoT-device-ideas.jpg\" alt=\"Get your new iot device ideas here\" width=\"1024\" height=\"683\" /></a>\n",
    "\n",
    "This car is connected to Ericsson’s Connected Vehicle Cloud, an IoT platform that manages services for the Smart Cars to which it’s connected. The Volvo pictured above acts as a drop-off location for groceries that have been ordered by its owner.\n",
    "\n",
    "To understand how it works, imagine you’re pulling your normal 9-to-5 and you know you need to grab some groceries on your way home. Well, since you’re smart you’ve used Ericsson IoT platform to connect your car to the local grocery delivery service (<a href=\"http://mat.se/\">Mat.se</a>), so all you need to do is open the Mat.se app and make your usual order. Mat.se automatically handles the payment, grocery selection, delivery, and delivery scheduling. Since your car is IoT-enabled, Mat.se issues its trusted delivery agent a 1-time token to use for opening your car in order to place your groceries in your car for you at 4:40 pm (just before you get off from work).\n",
    "\n",
    "To watch some of the amazing IoT device demos I witnessed at Ericsson Studio, make sure to go <span style=\"text-decoration: underline;\"><strong><a href=\"http://bit.ly/LPlNDJj\">watch the videos on this page</a></strong></span>.\n",
    "<h1>Future Trends for IoT in 2018</h1>\n",
    "New IoT device ideas won’t do you much good unless you at least know the basic technology trends that are set to impact IoT over the next year(s). These include:\n",
    "<ol>\n",
    " \t<li><strong>Big Data</strong> &amp; Data Engineering: Sensors that are embedded within IoT devices spin off machine-generated data like it’s going out of style. For IoT to function, the platform must be solidly engineered to handle big data. Be assured, that requires some serious data engineering.</li>\n",
    " \t<li><strong>Machine Learning</strong> Data Science: While a lot of IoT devices are still operated according to rules-based decision criteria, the age of artificial intelligence is upon us. IoT will increasingly depend on machine learning algorithms to control device operations so that devices are able to autonomously respond to a complex set of overlapping stimuli.</li>\n",
    " \t<li><strong>Blockchain</strong>-Enabled Security: Above all else, IoT networks must be secure. Blockchain technology is primed to meet the security demands that come along with building and expanding the IoT.</li>\n",
    "</ol>\n",
    "<h1>Best New IoT Device Ideas</h1>\n",
    "This listing of new IoT device ideas has been sub-divided according to the main technology upon which the IoT devices are built. Below I’m providing a list of new IoT device ideas, but for detailed instructions on how to build these IoT applications, I recommend the <a href=\"https://click.linksynergy.com/deeplink?id=*JDLXjeE*wk&amp;mid=39197&amp;murl=https%3A%2F%2Fwww.udemy.com%2Ftopic%2Finternet-of-things%2F%3Fsort%3Dhighest-rated\">IoT courses on Udemy</a> (ß Please note: if you purchase a Udemy course through this link, I may receive a small commission), or courses that are available at <a href=\"http://www.skyfilabs.com/iot-online-courses\">SkyFi</a> and <a href=\"https://www.coursera.org/specializations/iot\">Coursera</a>.\n",
    "<h2>Raspberry Pi IoT Ideas</h2>\n",
    "Using Raspberry Pi as open-source hardware, you can build IoT applications that offer any one of the following benefits:\n",
    "<ol>\n",
    " \t<li>Enable built-in sensing to build a weather station that measures ambient temperature and humidity</li>\n",
    " \t<li>Build a system that detects discrepancies in electrical readings to identify electricity theft</li>\n",
    " \t<li>Use IoT to build a Servo that is controlled by motion detection readings</li>\n",
    " \t<li>Build a smart control switch that operates devices based on external stimuli. Use this for home automation.</li>\n",
    " \t<li>Build a music playing application that enables music for each room in your house</li>\n",
    " \t<li>Implement biometrics on IoT-connected devices</li>\n",
    "</ol>\n",
    "<h2>Arduino IoT Ideas</h2>\n",
    "There are a number of new IoT device ideas that deploy Arduino as a microcontroller. These include:\n",
    "<ol>\n",
    " \t<li>Integrate Arduino with Android to build a remote-control RGB LED device.</li>\n",
    " \t<li>Connect PIR sensors across the IoT to implement a smart building.</li>\n",
    " \t<li>Build a temperature and sunlight sensor system to remotely monitor and control the conditions of your garden.</li>\n",
    " \t<li>Deploy Arduino and IoT to automate your neighborhood streetlights.</li>\n",
    " \t<li>Build a smart irrigation system based on IoT-connected temperature and moisture sensors built-in to your agricultural plants.</li>\n",
    "</ol>\n",
    "[caption id=\"attachment_3807\" align=\"aligncenter\" width=\"300\"]<a href=\"bit.ly/LPlNDJj\"><img class=\"wp-image-3807 size-medium\" src=\"http://www.data-mania.com/blog/wp-content/uploads/2017/12/IMG_3058-300x295.jpg\" alt=\"\" width=\"300\" height=\"295\" /></a> An IoT Chatbot Tree at the Ericsson Studio[/caption]\n",
    "<h2>Wireless (GSM) IoT Ideas</h2>\n",
    "Several new IoT device ideas are developed around the GSM wireless network. Those are:\n",
    "<ol>\n",
    " \t<li>Monitor soil moisture to automate agricultural irrigation cycles.</li>\n",
    " \t<li>Automate and control the conditions of a greenhouse.</li>\n",
    " \t<li>Enable bio-metrics to build a smart security system for your home or office building</li>\n",
    " \t<li>Build an autonomously operating fitness application that automatically makes recommendations based on motion detection and heart rate sensors that are embedded on wearable fitness trackers.</li>\n",
    " \t<li>Build a healthcare monitoring system that tracks, informs, and automatically alerts healthcare providers based on sensor readings that describe a patients vital statistics (like temperature, pulse, blood pressure, etc).</li>\n",
    "</ol>\n",
    "<h2>IoT Automation Ideas</h2>\n",
    "Almost all new IoT device ideas offer automation benefits, but to outline a few more ideas:\n",
    "<ol>\n",
    " \t<li>Build an IoT device that automatically locates and reports the closest nearby parking spot.</li>\n",
    " \t<li>Build a motion detection system that automatically issues emails or sms messages to alert home owners of a likely home invasion.</li>\n",
    " \t<li>Use temperature sensors connected across the IoT to automatically alert you if your home windows or doors have been left open.</li>\n",
    " \t<li>Use bio-metric sensors to build a smart system that automate security for your home or office building</li>\n",
    "</ol>\n",
    "To learn more about IoT and what’s happening on the leading edge, be sure to pop over to Ericsson’s Studio Tour recap and <span style=\"text-decoration: underline;\"><strong><a href=\"http://bit.ly/LPlNDJj\">watch these videos</a></strong></span>.\n",
    "\n",
    "<em>(I captured some of this content on behalf of DevMode Strategies during an invite-only tour of the Ericsson Studio in Kista. Rest assure, the text and opinions are my own</em>)\n",
    "<p class='description'>...</p>\n",
    "'''\n",
    "our_soup_object = BeautifulSoup(our_html_document, 'html.parser')"
   ]
  },
  {
   "cell_type": "code",
   "execution_count": 16,
   "metadata": {},
   "outputs": [
    {
     "name": "stdout",
     "output_type": "stream",
     "text": [
      "'IoT Articles'\n",
      "'2018 Trends: Best New IoT Device Ideas for Data Scientists and Engineers'\n",
      "'It’s almost 2018 and IoT is on the cusp of an explosive expansion. In this article, I offer you a listing of new IoT device ideas that you can use...'\n",
      "'It’s almost 2018 and IoT is on the cusp of an explosive expansion. In this article, I offer you a listing of new IoT device ideas that you can use to get practice in designing your first IoT applications.'\n",
      "'Looking Back at My Coolest IoT Find in 2017'\n",
      "'Before going into detail about best new IoT device ideas, here’s the backstory.'\n",
      "'Last month Ericsson Digital invited me'\n",
      "'to tour the Ericsson Studio in Kista, Sweden. Up until that visit,'\n",
      "'IoT'\n",
      "'had been largely theoretical to me. Of course, I know the usual mumbo-jumbo about wearables and IoT-connected fitness trackers. That stuff is all well and good, but it’s somewhat old hat – plus I am not sure we are really benefiting so much from those, so I’m not that impressed.\\n\\nIt wasn’t until I got to the Ericsson Studio that I became extremely impressed by how far IoT has really come. Relying on the promise of the 5g network expansion, IoT-powered smart devices are on the cusp of an explosive growth in adoption. It was Ericsson’s Smart Car that sent me reeling:'\n",
      "'This car is connected to Ericsson’s Connected Vehicle Cloud, an IoT platform that manages services for the Smart Cars to which it’s connected. The Volvo pictured above acts as a drop-off location for groceries that have been ordered by its owner.\\n\\nTo understand how it works, imagine you’re pulling your normal 9-to-5 and you know you need to grab some groceries on your way home. Well, since you’re smart you’ve used Ericsson IoT platform to connect your car to the local grocery delivery service ('\n",
      "'Mat.se'\n",
      "'), so all you need to do is open the Mat.se app and make your usual order. Mat.se automatically handles the payment, grocery selection, delivery, and delivery scheduling. Since your car is IoT-enabled, Mat.se issues its trusted delivery agent a 1-time token to use for opening your car in order to place your groceries in your car for you at 4:40 pm (just before you get off from work).\\n\\nTo watch some of the amazing IoT device demos I witnessed at Ericsson Studio, make sure to go'\n",
      "'watch the videos on this page'\n",
      "'.'\n",
      "'Future Trends for IoT in 2018'\n",
      "'New IoT device ideas won’t do you much good unless you at least know the basic technology trends that are set to impact IoT over the next year(s). These include:'\n",
      "'Big Data'\n",
      "'& Data Engineering: Sensors that are embedded within IoT devices spin off machine-generated data like it’s going out of style. For IoT to function, the platform must be solidly engineered to handle big data. Be assured, that requires some serious data engineering.'\n",
      "'Machine Learning'\n",
      "'Data Science: While a lot of IoT devices are still operated according to rules-based decision criteria, the age of artificial intelligence is upon us. IoT will increasingly depend on machine learning algorithms to control device operations so that devices are able to autonomously respond to a complex set of overlapping stimuli.'\n",
      "'Blockchain'\n",
      "'-Enabled Security: Above all else, IoT networks must be secure. Blockchain technology is primed to meet the security demands that come along with building and expanding the IoT.'\n",
      "'Best New IoT Device Ideas'\n",
      "'This listing of new IoT device ideas has been sub-divided according to the main technology upon which the IoT devices are built. Below I’m providing a list of new IoT device ideas, but for detailed instructions on how to build these IoT applications, I recommend the'\n",
      "'IoT courses on Udemy'\n",
      "'(ß Please note: if you purchase a Udemy course through this link, I may receive a small commission), or courses that are available at'\n",
      "'SkyFi'\n",
      "'and'\n",
      "'Coursera'\n",
      "'.'\n",
      "'Raspberry Pi IoT Ideas'\n",
      "'Using Raspberry Pi as open-source hardware, you can build IoT applications that offer any one of the following benefits:'\n",
      "'Enable built-in sensing to build a weather station that measures ambient temperature and humidity'\n",
      "'Build a system that detects discrepancies in electrical readings to identify electricity theft'\n",
      "'Use IoT to build a Servo that is controlled by motion detection readings'\n",
      "'Build a smart control switch that operates devices based on external stimuli. Use this for home automation.'\n",
      "'Build a music playing application that enables music for each room in your house'\n",
      "'Implement biometrics on IoT-connected devices'\n",
      "'Arduino IoT Ideas'\n",
      "'There are a number of new IoT device ideas that deploy Arduino as a microcontroller. These include:'\n",
      "'Integrate Arduino with Android to build a remote-control RGB LED device.'\n",
      "'Connect PIR sensors across the IoT to implement a smart building.'\n",
      "'Build a temperature and sunlight sensor system to remotely monitor and control the conditions of your garden.'\n",
      "'Deploy Arduino and IoT to automate your neighborhood streetlights.'\n",
      "'Build a smart irrigation system based on IoT-connected temperature and moisture sensors built-in to your agricultural plants.'\n",
      "'[caption id=\"attachment_3807\" align=\"aligncenter\" width=\"300\"]'\n",
      "'An IoT Chatbot Tree at the Ericsson Studio[/caption]'\n",
      "'Wireless (GSM) IoT Ideas'\n",
      "'Several new IoT device ideas are developed around the GSM wireless network. Those are:'\n",
      "'Monitor soil moisture to automate agricultural irrigation cycles.'\n",
      "'Automate and control the conditions of a greenhouse.'\n",
      "'Enable bio-metrics to build a smart security system for your home or office building'\n",
      "'Build an autonomously operating fitness application that automatically makes recommendations based on motion detection and heart rate sensors that are embedded on wearable fitness trackers.'\n",
      "'Build a healthcare monitoring system that tracks, informs, and automatically alerts healthcare providers based on sensor readings that describe a patients vital statistics (like temperature, pulse, blood pressure, etc).'\n",
      "'IoT Automation Ideas'\n",
      "'Almost all new IoT device ideas offer automation benefits, but to outline a few more ideas:'\n",
      "'Build an IoT device that automatically locates and reports the closest nearby parking spot.'\n",
      "'Build a motion detection system that automatically issues emails or sms messages to alert home owners of a likely home invasion.'\n",
      "'Use temperature sensors connected across the IoT to automatically alert you if your home windows or doors have been left open.'\n",
      "'Use bio-metric sensors to build a smart system that automate security for your home or office building'\n",
      "'To learn more about IoT and what’s happening on the leading edge, be sure to pop over to Ericsson’s Studio Tour recap and'\n",
      "'watch these videos'\n",
      "'.'\n",
      "'(I captured some of this content on behalf of DevMode Strategies during an invite-only tour of the Ericsson Studio in Kista. Rest assure, the text and\\xa0opinions are my own'\n",
      "')'\n",
      "'...'\n"
     ]
    }
   ],
   "source": [
    "for string in our_soup_object.stripped_strings:\n",
    "    print(repr(string))"
   ]
  },
  {
   "cell_type": "code",
   "execution_count": 17,
   "metadata": {},
   "outputs": [
    {
     "name": "stdout",
     "output_type": "stream",
     "text": [
      "<a href=\"http://bit.ly/LPlNDJj\">Last month Ericsson Digital invited me</a>\n"
     ]
    }
   ],
   "source": [
    "first_link= our_soup_object.a\n",
    "print(first_link)"
   ]
  },
  {
   "cell_type": "code",
   "execution_count": 18,
   "metadata": {},
   "outputs": [
    {
     "data": {
      "text/plain": [
       "<strong><a href=\"http://bit.ly/LPlNDJj\">Last month Ericsson Digital invited me</a></strong>"
      ]
     },
     "execution_count": 18,
     "metadata": {},
     "output_type": "execute_result"
    }
   ],
   "source": [
    "first_link.parent"
   ]
  },
  {
   "cell_type": "code",
   "execution_count": 19,
   "metadata": {},
   "outputs": [
    {
     "data": {
      "text/plain": [
       "'Last month Ericsson Digital invited me'"
      ]
     },
     "execution_count": 19,
     "metadata": {},
     "output_type": "execute_result"
    }
   ],
   "source": [
    "first_link.string"
   ]
  },
  {
   "cell_type": "code",
   "execution_count": 20,
   "metadata": {},
   "outputs": [
    {
     "data": {
      "text/plain": [
       "<a href=\"http://bit.ly/LPlNDJj\">Last month Ericsson Digital invited me</a>"
      ]
     },
     "execution_count": 20,
     "metadata": {},
     "output_type": "execute_result"
    }
   ],
   "source": [
    "first_link.string.parent"
   ]
  },
  {
   "cell_type": "markdown",
   "metadata": {},
   "source": [
    "## Segment 3 - Data parsing"
   ]
  },
  {
   "cell_type": "code",
   "execution_count": 21,
   "metadata": {},
   "outputs": [],
   "source": [
    "from bs4 import BeautifulSoup\n",
    "\n",
    "import urllib\n",
    "import urllib.request\n",
    "import re"
   ]
  },
  {
   "cell_type": "code",
   "execution_count": 22,
   "metadata": {},
   "outputs": [],
   "source": [
    "with urllib.request.urlopen('https://raw.githubusercontent.com/BigDataGal/Data-Mania-Demos/master/IoT-2018.html') as response:\n",
    "    html = response.read()"
   ]
  },
  {
   "cell_type": "code",
   "execution_count": 23,
   "metadata": {},
   "outputs": [
    {
     "data": {
      "text/plain": [
       "bs4.BeautifulSoup"
      ]
     },
     "execution_count": 23,
     "metadata": {},
     "output_type": "execute_result"
    }
   ],
   "source": [
    "soup = BeautifulSoup(html, \"lxml\")\n",
    "type(soup)"
   ]
  },
  {
   "cell_type": "markdown",
   "metadata": {},
   "source": [
    "### Parsing your data"
   ]
  },
  {
   "cell_type": "code",
   "execution_count": 24,
   "metadata": {},
   "outputs": [
    {
     "name": "stdout",
     "output_type": "stream",
     "text": [
      "<html>\n",
      " <head>\n",
      "  <title>\n",
      "   IoT Articles\n",
      "  </title>\n",
      " </head>\n",
      " <body>\n",
      "  <p class=\"title\">\n",
      "   <b>\n",
      "    \n"
     ]
    }
   ],
   "source": [
    "print(soup.prettify()[0:100])"
   ]
  },
  {
   "cell_type": "markdown",
   "metadata": {},
   "source": [
    "### Getting data from a parse tree"
   ]
  },
  {
   "cell_type": "code",
   "execution_count": 25,
   "metadata": {},
   "outputs": [
    {
     "name": "stdout",
     "output_type": "stream",
     "text": [
      "IoT Articles\n",
      "\n",
      "2018 Trends: Best New IoT Device Ideas for Data Scientists and Engineers\n",
      "It’s almost 2018 and IoT is on the cusp of an explosive expansion. In this article, I offer you a listing of new IoT device ideas that you can use...\r\n",
      "\n",
      "\r\n",
      "It’s almost 2018 and IoT is on the cusp of an explosive expansion. In this article, I offer you a listing of new IoT device ideas that you can use to get practice in designing your first IoT applications.\r\n",
      "Looking Back at My Coolest IoT Find in 2017\r\n",
      "Before going into detail about best new IoT device ideas, here’s the backstory. Last month Ericsson Digital invited me to tour the Ericsson Studio in Kista, Sweden. Up until that visit, IoT had been largely theoretical to me. Of course, I know the usual mumbo-jumbo about wearables and IoT-connected fitness trackers. That stuff is all well and good, but it’s somewhat old hat – plus I am not sure we are really benefiting so much from those, so I’m not that impressed.\r\n",
      "\r\n",
      "It wasn’t until I got to the Ericsson Studio that I became extremely impressed by how far IoT has really come. Relying on the promise of the 5g network expansion, IoT-powered smart devices are on the cusp of an explosive growth in adoption. It was Ericsson’s Smart Car that sent me reeling:\r\n",
      "\r\n",
      "This car is connected to Ericsson’s Connected Vehicle Cloud, an IoT platform that manages services for the Smart Cars to which it’s connected. The Volvo pictured above acts as a drop-off location for groceries that have been ordered by its owner.\r\n",
      "\r\n",
      "To understand how it works, imagine you’re pulling your normal 9-to-5 and you know you need to grab some groceries on your way home. Well, since you’re smart you’ve used Ericsson IoT platform to connect your car to the local grocery delivery service (Mat.se), so all you need to do is open the Mat.se app and make your usual order. Mat.se automatically handles the payment, grocery selection, delivery, and delivery scheduling. Since your car is IoT-enabled, Mat.se issues its trusted delivery agent a 1-time token to use for opening your car in order to place your groceries in your car for you at 4:40 pm (just before you get off from work).\r\n",
      "\r\n",
      "To watch some of the amazing IoT device demos I witnessed at Ericsson Studio, make sure to go watch the videos on this page.\r\n",
      "Future Trends for IoT in 2018\r\n",
      "New IoT device ideas won’t do you much good unless you at least know the basic technology trends that are set to impact IoT over the next year(s). These include:\r\n",
      "\n",
      "Big Data & Data Engineering: Sensors that are embedded within IoT devices spin off machine-generated data like it’s going out of style. For IoT to function, the platform must be solidly engineered to handle big data. Be assured, that requires some serious data engineering.\n",
      "Machine Learning Data Science: While a lot of IoT devices are still operated according to rules-based decision criteria, the age of artificial intelligence is upon us. IoT will increasingly depend on machine learning algorithms to control device operations so that devices are able to autonomously respond to a complex set of overlapping stimuli.\n",
      "Blockchain-Enabled Security: Above all else, IoT networks must be secure. Blockchain technology is primed to meet the security demands that come along with building and expanding the IoT.\n",
      "\n",
      "Best New IoT Device Ideas\r\n",
      "This listing of new IoT device ideas has been sub-divided according to the main technology upon which the IoT devices are built. Below I’m providing a list of new IoT device ideas, but for detailed instructions on how to build these IoT applications, I recommend the IoT courses on Udemy (ß Please note: if you purchase a Udemy course through this link, I may receive a small commission), or courses that are available at SkyFi and Coursera.\r\n",
      "Raspberry Pi IoT Ideas\r\n",
      "Using Raspberry Pi as open-source hardware, you can build IoT applications that offer any one of the following benefits:\r\n",
      "\n",
      "Enable built-in sensing to build a weather station that measures ambient temperature and humidity\n",
      "Build a system that detects discrepancies in electrical readings to identify electricity theft\n",
      "Use IoT to build a Servo that is controlled by motion detection readings\n",
      "Build a smart control switch that operates devices based on external stimuli. Use this for home automation.\n",
      "Build a music playing application that enables music for each room in your house\n",
      "Implement biometrics on IoT-connected devices\n",
      "\n",
      "Arduino IoT Ideas\r\n",
      "There are a number of new IoT device ideas that deploy Arduino as a microcontroller. These include:\r\n",
      "\n",
      "Integrate Arduino with Android to build a remote-control RGB LED device.\n",
      "Connect PIR sensors across the IoT to implement a smart building.\n",
      "Build a temperature and sunlight sensor system to remotely monitor and control the conditions of your garden.\n",
      "Deploy Arduino and IoT to automate your neighborhood streetlights.\n",
      "Build a smart irrigation system based on IoT-connected temperature and moisture sensors built-in to your agricultural plants.\n",
      "\r\n",
      "[caption id=\"attachment_3807\" align=\"aligncenter\" width=\"300\"] An IoT Chatbot Tree at the Ericsson Studio[/caption]\r\n",
      "Wireless (GSM) IoT Ideas\r\n",
      "Several new IoT device ideas are developed around the GSM wireless network. Those are:\r\n",
      "\n",
      "Monitor soil moisture to automate agricultural irrigation cycles.\n",
      "Automate and control the conditions of a greenhouse.\n",
      "Enable bio-metrics to build a smart security system for your home or office building\n",
      "Build an autonomously operating fitness application that automatically makes recommendations based on motion detection and heart rate sensors that are embedded on wearable fitness trackers.\n",
      "Build a healthcare monitoring system that tracks, informs, and automatically alerts healthcare providers based on sensor readings that describe a patients vital statistics (like temperature, pulse, blood pressure, etc).\n",
      "\n",
      "IoT Automation Ideas\r\n",
      "Almost all new IoT device ideas offer automation benefits, but to outline a few more ideas:\r\n",
      "\n",
      "Build an IoT device that automatically locates and reports the closest nearby parking spot.\n",
      "Build a motion detection system that automatically issues emails or sms messages to alert home owners of a likely home invasion.\n",
      "Use temperature sensors connected across the IoT to automatically alert you if your home windows or doors have been left open.\n",
      "Use bio-metric sensors to build a smart system that automate security for your home or office building\n",
      "\r\n",
      "To learn more about IoT and what’s happening on the leading edge, be sure to pop over to Ericsson’s Studio Tour recap and watch these videos.\r\n",
      "\r\n",
      "(I captured some of this content on behalf of DevMode Strategies during an invite-only tour of the Ericsson Studio in Kista. Rest assure, the text and opinions are my own)\r\n",
      "...\n"
     ]
    }
   ],
   "source": [
    "text_only = soup.get_text()\n",
    "print(text_only)"
   ]
  },
  {
   "cell_type": "markdown",
   "metadata": {},
   "source": [
    "### Searching and retrieving data from a parse tree"
   ]
  },
  {
   "cell_type": "markdown",
   "metadata": {},
   "source": [
    "#### Retrieving tags by filtering with name arguments"
   ]
  },
  {
   "cell_type": "code",
   "execution_count": 26,
   "metadata": {},
   "outputs": [
    {
     "data": {
      "text/plain": [
       "[<li><strong>Big Data</strong> &amp; Data Engineering: Sensors that are embedded within IoT devices spin off machine-generated data like it’s going out of style. For IoT to function, the platform must be solidly engineered to handle big data. Be assured, that requires some serious data engineering.</li>,\n",
       " <li><strong>Machine Learning</strong> Data Science: While a lot of IoT devices are still operated according to rules-based decision criteria, the age of artificial intelligence is upon us. IoT will increasingly depend on machine learning algorithms to control device operations so that devices are able to autonomously respond to a complex set of overlapping stimuli.</li>,\n",
       " <li><strong>Blockchain</strong>-Enabled Security: Above all else, IoT networks must be secure. Blockchain technology is primed to meet the security demands that come along with building and expanding the IoT.</li>,\n",
       " <li>Enable built-in sensing to build a weather station that measures ambient temperature and humidity</li>,\n",
       " <li>Build a system that detects discrepancies in electrical readings to identify electricity theft</li>,\n",
       " <li>Use IoT to build a Servo that is controlled by motion detection readings</li>,\n",
       " <li>Build a smart control switch that operates devices based on external stimuli. Use this for home automation.</li>,\n",
       " <li>Build a music playing application that enables music for each room in your house</li>,\n",
       " <li>Implement biometrics on IoT-connected devices</li>,\n",
       " <li>Integrate Arduino with Android to build a remote-control RGB LED device.</li>,\n",
       " <li>Connect PIR sensors across the IoT to implement a smart building.</li>,\n",
       " <li>Build a temperature and sunlight sensor system to remotely monitor and control the conditions of your garden.</li>,\n",
       " <li>Deploy Arduino and IoT to automate your neighborhood streetlights.</li>,\n",
       " <li>Build a smart irrigation system based on IoT-connected temperature and moisture sensors built-in to your agricultural plants.</li>,\n",
       " <li>Monitor soil moisture to automate agricultural irrigation cycles.</li>,\n",
       " <li>Automate and control the conditions of a greenhouse.</li>,\n",
       " <li>Enable bio-metrics to build a smart security system for your home or office building</li>,\n",
       " <li>Build an autonomously operating fitness application that automatically makes recommendations based on motion detection and heart rate sensors that are embedded on wearable fitness trackers.</li>,\n",
       " <li>Build a healthcare monitoring system that tracks, informs, and automatically alerts healthcare providers based on sensor readings that describe a patients vital statistics (like temperature, pulse, blood pressure, etc).</li>,\n",
       " <li>Build an IoT device that automatically locates and reports the closest nearby parking spot.</li>,\n",
       " <li>Build a motion detection system that automatically issues emails or sms messages to alert home owners of a likely home invasion.</li>,\n",
       " <li>Use temperature sensors connected across the IoT to automatically alert you if your home windows or doors have been left open.</li>,\n",
       " <li>Use bio-metric sensors to build a smart system that automate security for your home or office building</li>]"
      ]
     },
     "execution_count": 26,
     "metadata": {},
     "output_type": "execute_result"
    }
   ],
   "source": [
    "soup.find_all(\"li\")"
   ]
  },
  {
   "cell_type": "markdown",
   "metadata": {},
   "source": [
    "##### Retrieving tags by filtering with keyword arguments"
   ]
  },
  {
   "cell_type": "code",
   "execution_count": 27,
   "metadata": {},
   "outputs": [
    {
     "data": {
      "text/plain": [
       "[<a class=\"preview\" href=\"http://www.skyfilabs.com/iot-online-courses\" id=\"link 7\">SkyFi</a>]"
      ]
     },
     "execution_count": 27,
     "metadata": {},
     "output_type": "execute_result"
    }
   ],
   "source": [
    "soup.find_all(id=\"link 7\")"
   ]
  },
  {
   "cell_type": "markdown",
   "metadata": {},
   "source": [
    "##### Retrieving tags by filtering with string arguments"
   ]
  },
  {
   "cell_type": "code",
   "execution_count": 28,
   "metadata": {},
   "outputs": [
    {
     "data": {
      "text/plain": [
       "[<ol>\n",
       " <li><strong>Big Data</strong> &amp; Data Engineering: Sensors that are embedded within IoT devices spin off machine-generated data like it’s going out of style. For IoT to function, the platform must be solidly engineered to handle big data. Be assured, that requires some serious data engineering.</li>\n",
       " <li><strong>Machine Learning</strong> Data Science: While a lot of IoT devices are still operated according to rules-based decision criteria, the age of artificial intelligence is upon us. IoT will increasingly depend on machine learning algorithms to control device operations so that devices are able to autonomously respond to a complex set of overlapping stimuli.</li>\n",
       " <li><strong>Blockchain</strong>-Enabled Security: Above all else, IoT networks must be secure. Blockchain technology is primed to meet the security demands that come along with building and expanding the IoT.</li>\n",
       " </ol>,\n",
       " <ol>\n",
       " <li>Enable built-in sensing to build a weather station that measures ambient temperature and humidity</li>\n",
       " <li>Build a system that detects discrepancies in electrical readings to identify electricity theft</li>\n",
       " <li>Use IoT to build a Servo that is controlled by motion detection readings</li>\n",
       " <li>Build a smart control switch that operates devices based on external stimuli. Use this for home automation.</li>\n",
       " <li>Build a music playing application that enables music for each room in your house</li>\n",
       " <li>Implement biometrics on IoT-connected devices</li>\n",
       " </ol>,\n",
       " <ol>\n",
       " <li>Integrate Arduino with Android to build a remote-control RGB LED device.</li>\n",
       " <li>Connect PIR sensors across the IoT to implement a smart building.</li>\n",
       " <li>Build a temperature and sunlight sensor system to remotely monitor and control the conditions of your garden.</li>\n",
       " <li>Deploy Arduino and IoT to automate your neighborhood streetlights.</li>\n",
       " <li>Build a smart irrigation system based on IoT-connected temperature and moisture sensors built-in to your agricultural plants.</li>\n",
       " </ol>,\n",
       " <ol>\n",
       " <li>Monitor soil moisture to automate agricultural irrigation cycles.</li>\n",
       " <li>Automate and control the conditions of a greenhouse.</li>\n",
       " <li>Enable bio-metrics to build a smart security system for your home or office building</li>\n",
       " <li>Build an autonomously operating fitness application that automatically makes recommendations based on motion detection and heart rate sensors that are embedded on wearable fitness trackers.</li>\n",
       " <li>Build a healthcare monitoring system that tracks, informs, and automatically alerts healthcare providers based on sensor readings that describe a patients vital statistics (like temperature, pulse, blood pressure, etc).</li>\n",
       " </ol>,\n",
       " <ol>\n",
       " <li>Build an IoT device that automatically locates and reports the closest nearby parking spot.</li>\n",
       " <li>Build a motion detection system that automatically issues emails or sms messages to alert home owners of a likely home invasion.</li>\n",
       " <li>Use temperature sensors connected across the IoT to automatically alert you if your home windows or doors have been left open.</li>\n",
       " <li>Use bio-metric sensors to build a smart system that automate security for your home or office building</li>\n",
       " </ol>]"
      ]
     },
     "execution_count": 28,
     "metadata": {},
     "output_type": "execute_result"
    }
   ],
   "source": [
    "soup.find_all('ol')"
   ]
  },
  {
   "cell_type": "markdown",
   "metadata": {},
   "source": [
    "##### Retrieving tags by filtering with list objects"
   ]
  },
  {
   "cell_type": "code",
   "execution_count": 30,
   "metadata": {},
   "outputs": [
    {
     "data": {
      "text/plain": [
       "[<b>2018 Trends: Best New IoT Device Ideas for Data Scientists and Engineers</b>,\n",
       " <ol>\n",
       " <li><strong>Big Data</strong> &amp; Data Engineering: Sensors that are embedded within IoT devices spin off machine-generated data like it’s going out of style. For IoT to function, the platform must be solidly engineered to handle big data. Be assured, that requires some serious data engineering.</li>\n",
       " <li><strong>Machine Learning</strong> Data Science: While a lot of IoT devices are still operated according to rules-based decision criteria, the age of artificial intelligence is upon us. IoT will increasingly depend on machine learning algorithms to control device operations so that devices are able to autonomously respond to a complex set of overlapping stimuli.</li>\n",
       " <li><strong>Blockchain</strong>-Enabled Security: Above all else, IoT networks must be secure. Blockchain technology is primed to meet the security demands that come along with building and expanding the IoT.</li>\n",
       " </ol>,\n",
       " <ol>\n",
       " <li>Enable built-in sensing to build a weather station that measures ambient temperature and humidity</li>\n",
       " <li>Build a system that detects discrepancies in electrical readings to identify electricity theft</li>\n",
       " <li>Use IoT to build a Servo that is controlled by motion detection readings</li>\n",
       " <li>Build a smart control switch that operates devices based on external stimuli. Use this for home automation.</li>\n",
       " <li>Build a music playing application that enables music for each room in your house</li>\n",
       " <li>Implement biometrics on IoT-connected devices</li>\n",
       " </ol>,\n",
       " <ol>\n",
       " <li>Integrate Arduino with Android to build a remote-control RGB LED device.</li>\n",
       " <li>Connect PIR sensors across the IoT to implement a smart building.</li>\n",
       " <li>Build a temperature and sunlight sensor system to remotely monitor and control the conditions of your garden.</li>\n",
       " <li>Deploy Arduino and IoT to automate your neighborhood streetlights.</li>\n",
       " <li>Build a smart irrigation system based on IoT-connected temperature and moisture sensors built-in to your agricultural plants.</li>\n",
       " </ol>,\n",
       " <ol>\n",
       " <li>Monitor soil moisture to automate agricultural irrigation cycles.</li>\n",
       " <li>Automate and control the conditions of a greenhouse.</li>\n",
       " <li>Enable bio-metrics to build a smart security system for your home or office building</li>\n",
       " <li>Build an autonomously operating fitness application that automatically makes recommendations based on motion detection and heart rate sensors that are embedded on wearable fitness trackers.</li>\n",
       " <li>Build a healthcare monitoring system that tracks, informs, and automatically alerts healthcare providers based on sensor readings that describe a patients vital statistics (like temperature, pulse, blood pressure, etc).</li>\n",
       " </ol>,\n",
       " <ol>\n",
       " <li>Build an IoT device that automatically locates and reports the closest nearby parking spot.</li>\n",
       " <li>Build a motion detection system that automatically issues emails or sms messages to alert home owners of a likely home invasion.</li>\n",
       " <li>Use temperature sensors connected across the IoT to automatically alert you if your home windows or doors have been left open.</li>\n",
       " <li>Use bio-metric sensors to build a smart system that automate security for your home or office building</li>\n",
       " </ol>]"
      ]
     },
     "execution_count": 30,
     "metadata": {},
     "output_type": "execute_result"
    }
   ],
   "source": [
    "soup.find_all(['ol', 'b'])"
   ]
  },
  {
   "cell_type": "markdown",
   "metadata": {},
   "source": [
    "##### Retrieving tags by filtering with regular expressions"
   ]
  },
  {
   "cell_type": "code",
   "execution_count": 31,
   "metadata": {},
   "outputs": [
    {
     "name": "stdout",
     "output_type": "stream",
     "text": [
      "html\n",
      "title\n",
      "strong\n",
      "strong\n",
      "strong\n",
      "strong\n",
      "strong\n",
      "strong\n"
     ]
    }
   ],
   "source": [
    "t = re.compile(\"t\")\n",
    "for tag in soup.find_all(t):\n",
    "    print(tag.name)"
   ]
  },
  {
   "cell_type": "markdown",
   "metadata": {},
   "source": [
    "##### Retrieving tags by filtering with a Boolean value"
   ]
  },
  {
   "cell_type": "code",
   "execution_count": 32,
   "metadata": {},
   "outputs": [
    {
     "name": "stdout",
     "output_type": "stream",
     "text": [
      "html\n",
      "head\n",
      "title\n",
      "body\n",
      "p\n",
      "b\n",
      "p\n",
      "br\n",
      "br\n",
      "h1\n",
      "span\n",
      "strong\n",
      "a\n",
      "a\n",
      "a\n",
      "img\n",
      "a\n",
      "span\n",
      "strong\n",
      "a\n",
      "h1\n",
      "ol\n",
      "li\n",
      "strong\n",
      "li\n",
      "strong\n",
      "li\n",
      "strong\n",
      "h1\n",
      "a\n",
      "a\n",
      "a\n",
      "h2\n",
      "ol\n",
      "li\n",
      "li\n",
      "li\n",
      "li\n",
      "li\n",
      "li\n",
      "h2\n",
      "ol\n",
      "li\n",
      "li\n",
      "li\n",
      "li\n",
      "li\n",
      "a\n",
      "img\n",
      "h2\n",
      "ol\n",
      "li\n",
      "li\n",
      "li\n",
      "li\n",
      "li\n",
      "h2\n",
      "ol\n",
      "li\n",
      "li\n",
      "li\n",
      "li\n",
      "span\n",
      "strong\n",
      "a\n",
      "em\n",
      "p\n"
     ]
    }
   ],
   "source": [
    "for tag in soup.find_all(True):\n",
    "    print(tag.name)"
   ]
  },
  {
   "cell_type": "markdown",
   "metadata": {},
   "source": [
    "##### Retrieving weblinks by filtering with string objects"
   ]
  },
  {
   "cell_type": "code",
   "execution_count": 33,
   "metadata": {},
   "outputs": [
    {
     "name": "stdout",
     "output_type": "stream",
     "text": [
      "http://bit.ly/LPlNDJj\n",
      "http://www.data-mania.com/blog/m2m-vs-iot/\n",
      "bit.ly/LPlNDJj\n",
      "http://mat.se/\n",
      "http://bit.ly/LPlNDJj\n",
      "https://click.linksynergy.com/deeplink?id=*JDLXjeE*wk&mid=39197&murl=https%3A%2F%2Fwww.udemy.com%2Ftopic%2Finternet-of-things%2F%3Fsort%3Dhighest-rated\n",
      "http://www.skyfilabs.com/iot-online-courses\n",
      "https://www.coursera.org/specializations/iot\n",
      "bit.ly/LPlNDJj\n",
      "http://bit.ly/LPlNDJj\n"
     ]
    }
   ],
   "source": [
    "for link in soup.find_all('a'):\n",
    "    print(link.get('href'))"
   ]
  },
  {
   "cell_type": "markdown",
   "metadata": {},
   "source": [
    "##### Retrieving strings by filtering with regular expressions"
   ]
  },
  {
   "cell_type": "code",
   "execution_count": 34,
   "metadata": {},
   "outputs": [
    {
     "data": {
      "text/plain": [
       "[' & Data Engineering: Sensors that are embedded within IoT devices spin off machine-generated data like it’s going out of style. For IoT to function, the platform must be solidly engineered to handle big data. Be assured, that requires some serious data engineering.']"
      ]
     },
     "execution_count": 34,
     "metadata": {},
     "output_type": "execute_result"
    }
   ],
   "source": [
    "soup.find_all(string=re.compile(\"data\"))"
   ]
  },
  {
   "cell_type": "code",
   "execution_count": null,
   "metadata": {},
   "outputs": [],
   "source": []
  }
 ],
 "metadata": {
  "kernelspec": {
   "display_name": "Python 3 (ipykernel)",
   "language": "python",
   "name": "python3"
  },
  "language_info": {
   "codemirror_mode": {
    "name": "ipython",
    "version": 3
   },
   "file_extension": ".py",
   "mimetype": "text/x-python",
   "name": "python",
   "nbconvert_exporter": "python",
   "pygments_lexer": "ipython3",
   "version": "3.9.12"
  }
 },
 "nbformat": 4,
 "nbformat_minor": 1
}
