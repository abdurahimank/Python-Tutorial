{
 "cells": [
  {
   "cell_type": "markdown",
   "id": "6c4e9b8e",
   "metadata": {},
   "source": [
    "# Python General 1- Basics\n"
   ]
  },
  {
   "cell_type": "markdown",
   "id": "08b09464",
   "metadata": {},
   "source": [
    "### Points to note :-\n",
    "According to \"PEP 8\", an official style guide of python programming\n",
    "- Each line of code should limit to a maximum of 79 characters.\n",
    "- The indendation should be of four spaces."
   ]
  },
  {
   "cell_type": "markdown",
   "id": "21c38e25",
   "metadata": {},
   "source": [
    "### print()\n",
    "print(value, ..., sep=' ', end='\\n', file=sys.stdout, flush=False)\n",
    "- print() is a bultin function in python which prints the values to a stream, or to sys.stdout by default.\n",
    "- Optional keyword arguments:\n",
    "  1. file:  a file-like object (stream); defaults to the current sys.stdout.\n",
    "  2. sep:   string inserted between values, default a space.\n",
    "  3. end:   string appended after the last value, default a newline.\n",
    "  4. flush: whether to forcibly flush the stream."
   ]
  },
  {
   "cell_type": "code",
   "execution_count": 1,
   "id": "7a15e4c2",
   "metadata": {},
   "outputs": [
    {
     "name": "stdout",
     "output_type": "stream",
     "text": [
      "Hello World\n"
     ]
    }
   ],
   "source": [
    "print(\"Hello World\")"
   ]
  },
  {
   "cell_type": "code",
   "execution_count": 7,
   "id": "6e3e9640",
   "metadata": {},
   "outputs": [
    {
     "name": "stdout",
     "output_type": "stream",
     "text": [
      "1:  ABC XYZ\n",
      "2: \n",
      "ABC\n",
      "XYZ\n",
      "3: &&ABC&&XYZ\n"
     ]
    }
   ],
   "source": [
    "print(\"1: \", \"ABC\", \"XYZ\")  # default value for sep is \" \"\n",
    "print(\"2: \", \"ABC\", \"XYZ\", sep='\\n')\n",
    "print(\"3: \", \"ABC\", \"XYZ\", sep='&&')"
   ]
  },
  {
   "cell_type": "code",
   "execution_count": 9,
   "id": "173f52d0",
   "metadata": {},
   "outputs": [
    {
     "name": "stdout",
     "output_type": "stream",
     "text": [
      "ABC\n",
      "XYZPQR\n",
      "\n",
      "123\n"
     ]
    }
   ],
   "source": [
    "print(\"ABC\")  # default end is \"\\n\"\n",
    "print(\"XYZ\", end=\"\")\n",
    "print(\"PQR\", end=\"\\n\\n\")\n",
    "print(\"123\")"
   ]
  },
  {
   "cell_type": "markdown",
   "id": "7c8b804d",
   "metadata": {},
   "source": [
    "### Comments in Python\n",
    "Comments starts with a #, and Python will ignore them:\n",
    "- PEP 8 = Should have one space between hash and next character\n",
    "- PEP 8 = In inline comment there should be 2 spaces between end of the code and hash\n",
    "- PEP 8 = In multiline comment, break down comment to several line and use hash rather than triple quote, since that reserved    for docstrings. "
   ]
  },
  {
   "cell_type": "code",
   "execution_count": 1,
   "id": "1e1a7ea8",
   "metadata": {},
   "outputs": [
    {
     "name": "stdout",
     "output_type": "stream",
     "text": [
      "1: Hello, World!\n",
      "2: Hello, World!\n",
      "4: Cheers, Mate!\n",
      "5: Hello, World!\n",
      "6: Hello, World!\n"
     ]
    }
   ],
   "source": [
    "# This is a block line comment\n",
    "print(\"1: Hello, World!\")\n",
    "\n",
    "print(\"2: Hello, World!\")  # This is an inline comment\n",
    "\n",
    "# print(\"3: Hello, World!\")\n",
    "print(\"4: Cheers, Mate!\")\n",
    "\n",
    "# This is a comment\n",
    "# written in\n",
    "# more than just one line\n",
    "print(\"5: Hello, World!\")\n",
    "\n",
    "\"\"\"\n",
    "This is a multiline \n",
    "comment, but it is\n",
    "not recommended\n",
    "\"\"\"\n",
    "print(\"6: Hello, World!\")"
   ]
  },
  {
   "cell_type": "markdown",
   "id": "4e2da6de",
   "metadata": {},
   "source": [
    "### Variables\n",
    "Python has no command for declaring a variable. A variable is created the moment you first assign a value to it.\n",
    "#### Naming of a variable\n",
    "Rules for variable names:\n",
    "- A variable name must start with a letter or the underscore character\n",
    "- A variable name cannot start with a number\n",
    "- A variable name can only contain alpha-numeric characters and underscores (A-z, 0-9, and _ )\n",
    "- Variable names are case-sensitive (age, Age and AGE are three different variables)\n",
    "<br><br>\n",
    "- PEP 8: Use a meaningful word rather than random letters\n",
    "- PEP 8: Don't use keywords, instead add a underscore in the end of keyword if necessary"
   ]
  },
  {
   "cell_type": "code",
   "execution_count": 2,
   "id": "e7ff54c2",
   "metadata": {},
   "outputs": [],
   "source": [
    "myvar = \"John\"\n",
    "my_var = \"John\"\n",
    "_my_var = \"John\"\n",
    "myVar = \"John\"\n",
    "MYVAR = \"John\"\n",
    "myvar2 = \"John\""
   ]
  },
  {
   "cell_type": "markdown",
   "id": "46ecdca5",
   "metadata": {},
   "source": [
    "#### Multi Words Variable Names\n",
    "- PEP 8: It is good to use 1 to 3 words in a variable name"
   ]
  },
  {
   "cell_type": "code",
   "execution_count": 10,
   "id": "9c46ad32",
   "metadata": {},
   "outputs": [],
   "source": [
    "myVariableName = \"John\"  # Camel Case - Each word, except the first, starts with a capital letter.\n",
    "MyVariableName = \"John\"  # Pascal Case - Each word starts with a capital letter.\n",
    "my_variable_name = \"John\"  # Snake Case - Each word is separated by an underscore character."
   ]
  },
  {
   "cell_type": "markdown",
   "id": "b3382475",
   "metadata": {},
   "source": [
    "#### Assigning value to a variable\n",
    "A value can be assigned to a variable name by assignment operator \"=\"."
   ]
  },
  {
   "cell_type": "code",
   "execution_count": 2,
   "id": "3583745d",
   "metadata": {},
   "outputs": [
    {
     "name": "stdout",
     "output_type": "stream",
     "text": [
      "John\n"
     ]
    }
   ],
   "source": [
    "# Assigning a single value to single variable\n",
    "myvar = \"John\"\n",
    "print(myvar)"
   ]
  },
  {
   "cell_type": "code",
   "execution_count": 3,
   "id": "d58dc28e",
   "metadata": {},
   "outputs": [
    {
     "name": "stdout",
     "output_type": "stream",
     "text": [
      "Orange\n",
      "Banana\n",
      "Cherry\n"
     ]
    }
   ],
   "source": [
    "# Many Values to Multiple Variables\n",
    "x, y, z = \"Orange\", \"Banana\", \"Cherry\"\n",
    "print(x)\n",
    "print(y)\n",
    "print(z)"
   ]
  },
  {
   "cell_type": "code",
   "execution_count": 4,
   "id": "77742754",
   "metadata": {},
   "outputs": [
    {
     "name": "stdout",
     "output_type": "stream",
     "text": [
      "Orange\n",
      "Orange\n",
      "Orange\n"
     ]
    }
   ],
   "source": [
    "# One Value to Multiple Variables\n",
    "x = y = z = \"Orange\"\n",
    "print(x)\n",
    "print(y)\n",
    "print(z)"
   ]
  },
  {
   "cell_type": "code",
   "execution_count": 5,
   "id": "a9e641b7",
   "metadata": {},
   "outputs": [
    {
     "name": "stdout",
     "output_type": "stream",
     "text": [
      "apple\n",
      "banana\n",
      "cherry\n"
     ]
    }
   ],
   "source": [
    "# Unpack a Collection\n",
    "fruits = [\"apple\", \"banana\", \"cherry\"]  # any collection can be used like this.\n",
    "x, y, z = fruits\n",
    "print(x)\n",
    "print(y)\n",
    "print(z)"
   ]
  },
  {
   "cell_type": "markdown",
   "id": "4787edf2",
   "metadata": {},
   "source": [
    "#### Scope of a variable\n",
    "- LEGB Rule: Local > Enclosed > Global > Built in"
   ]
  },
  {
   "cell_type": "markdown",
   "id": "a8c42687",
   "metadata": {},
   "source": [
    "#### Global Variable\n",
    "A global variable (variable declared outside of any function in a script) can be accessed anywhere in the script, but it's value can be changed only in the global scope, ie it's value cannot be changed inside a function."
   ]
  },
  {
   "cell_type": "code",
   "execution_count": 12,
   "id": "8a725945",
   "metadata": {},
   "outputs": [
    {
     "name": "stdout",
     "output_type": "stream",
     "text": [
      "Python is fantastic\n",
      "Python is awesome\n"
     ]
    }
   ],
   "source": [
    "x = \"awesome\"\n",
    "\n",
    "def myfunc():\n",
    "  x = \"fantastic\"\n",
    "  print(\"Python is \" + x)\n",
    "\n",
    "myfunc()\n",
    "\n",
    "print(\"Python is \" + x)"
   ]
  },
  {
   "cell_type": "markdown",
   "id": "ccbd008b",
   "metadata": {},
   "source": [
    "To change value of a global variable inside a function use **global** keyword"
   ]
  },
  {
   "cell_type": "code",
   "execution_count": 14,
   "id": "267caa64",
   "metadata": {},
   "outputs": [
    {
     "name": "stdout",
     "output_type": "stream",
     "text": [
      "Python is fantastic\n",
      "Python is fantastic\n"
     ]
    }
   ],
   "source": [
    "x = \"awesome\"\n",
    "\n",
    "def myfunc():\n",
    "  global x\n",
    "  x = \"fantastic\"\n",
    "  print(\"Python is \" + x)\n",
    "\n",
    "myfunc()\n",
    "\n",
    "print(\"Python is \" + x)"
   ]
  },
  {
   "cell_type": "markdown",
   "id": "593e65ca",
   "metadata": {},
   "source": [
    "A global keyword can be also declared inside a function using **global** keyword."
   ]
  },
  {
   "cell_type": "code",
   "execution_count": 15,
   "id": "ae6e267b",
   "metadata": {},
   "outputs": [
    {
     "name": "stdout",
     "output_type": "stream",
     "text": [
      "Python is fantastic\n"
     ]
    }
   ],
   "source": [
    "def myfunc():\n",
    "  global x\n",
    "  x = \"fantastic\"\n",
    "\n",
    "myfunc()\n",
    "\n",
    "print(\"Python is \" + x)"
   ]
  },
  {
   "cell_type": "markdown",
   "id": "345ef5d5",
   "metadata": {},
   "source": [
    "#### Casting\n",
    "Python is **dynamically** and **strongly** typed language.\n",
    "- Dynamic Typing - \n",
    "- Static Typing - \n",
    "- Strong Typing - \n",
    "- Weak Typing - <br>\n",
    "Type casting of variables can be done by using special keywords for each type."
   ]
  },
  {
   "cell_type": "code",
   "execution_count": 11,
   "id": "74b46ce8",
   "metadata": {},
   "outputs": [],
   "source": [
    "x = str(3)    # x will be '3'\n",
    "y = int(3)    # y will be 3\n",
    "z = float(3)  # z will be 3.0"
   ]
  },
  {
   "cell_type": "markdown",
   "id": "00f47fb4",
   "metadata": {},
   "source": [
    "### Python Data Types\n",
    "|Category       |Data Type                      |\n",
    "|:--------------|:------------------------------|\n",
    "|Text Type      |\tstr                         |\n",
    "|Numeric Types  |\tint, float, complex         |\n",
    "|Sequence Types |\tlist, tuple, range          |\n",
    "|Mapping Type   |\tdict                        |\n",
    "|Set Types      |\tset, frozenset              |\n",
    "|Boolean Type   |\tbool                        |\n",
    "|Binary Types   |\tbytes, bytearray, memoryview|\n",
    "|None Type      |\tNoneType                    |\n",
    "\n",
    "- In Python, the data type is set when you assign a value to a variable.\n",
    "\n",
    "If you want to specify the data type, you can use the following constructor functions:-"
   ]
  },
  {
   "cell_type": "code",
   "execution_count": 17,
   "id": "5ce2372b",
   "metadata": {},
   "outputs": [],
   "source": [
    "x = str(\"Hello World\")  # string\n",
    "x = int(20)  # integer\n",
    "x = float(20.5)  # float\n",
    "x = complex(1j)  # complex number\n",
    "x = list((\"apple\", \"banana\", \"cherry\"))  # list object\n",
    "x = tuple((\"apple\", \"banana\", \"cherry\"))  # tuple object\n",
    "x = range(6)  # range\n",
    "x = dict(name=\"John\", age=36)  # dictionary object\n",
    "x = set((\"apple\", \"banana\", \"cherry\"))  # set object\n",
    "x = frozenset((\"apple\", \"banana\", \"cherry\"))  # frozenset\n",
    "x = bool(5)  # bool\n",
    "x = bytes(5)  # bytes\n",
    "x = bytearray(5)  # bytearray\n",
    "x = memoryview(bytes(5))  # memoryview"
   ]
  },
  {
   "cell_type": "markdown",
   "id": "00914109",
   "metadata": {},
   "source": [
    "### type()\n",
    "It is used to return type of the object."
   ]
  },
  {
   "cell_type": "code",
   "execution_count": 16,
   "id": "48ebf932",
   "metadata": {},
   "outputs": [
    {
     "name": "stdout",
     "output_type": "stream",
     "text": [
      "<class 'int'>\n",
      "<class 'str'>\n"
     ]
    }
   ],
   "source": [
    "x = 5\n",
    "y = \"John\"\n",
    "print(type(x))\n",
    "print(type(y))"
   ]
  },
  {
   "cell_type": "markdown",
   "id": "5862296a",
   "metadata": {},
   "source": [
    "### Python Numbers\n",
    "There are three numeric types in Python:\n",
    "- int\n",
    "- float\n",
    "- complex\n",
    "\n",
    "Variables of numeric types are created when you assign a value to them."
   ]
  },
  {
   "cell_type": "code",
   "execution_count": 19,
   "id": "270e699b",
   "metadata": {},
   "outputs": [
    {
     "name": "stdout",
     "output_type": "stream",
     "text": [
      "<class 'int'>\n",
      "<class 'float'>\n",
      "<class 'complex'>\n"
     ]
    }
   ],
   "source": [
    "x = 1    # int\n",
    "y = 2.8  # float\n",
    "z = 1j   # complex\n",
    "print(type(x))\n",
    "print(type(y))\n",
    "print(type(z))"
   ]
  },
  {
   "cell_type": "markdown",
   "id": "7c987aae",
   "metadata": {},
   "source": [
    "#### Int\n",
    "Int, or integer, is a whole number, positive or negative, without decimals, of unlimited length."
   ]
  },
  {
   "cell_type": "code",
   "execution_count": 20,
   "id": "7556e6b9",
   "metadata": {},
   "outputs": [
    {
     "name": "stdout",
     "output_type": "stream",
     "text": [
      "<class 'int'>\n",
      "<class 'int'>\n",
      "<class 'int'>\n"
     ]
    }
   ],
   "source": [
    "x = 1\n",
    "y = 35656222554887711\n",
    "z = -3255522\n",
    "\n",
    "print(type(x))\n",
    "print(type(y))\n",
    "print(type(z))"
   ]
  },
  {
   "cell_type": "markdown",
   "id": "fbdf459c",
   "metadata": {},
   "source": [
    "#### Float\n",
    "Float, or \"floating point number\" is a number, positive or negative, containing one or more decimals."
   ]
  },
  {
   "cell_type": "code",
   "execution_count": 21,
   "id": "be83335c",
   "metadata": {},
   "outputs": [
    {
     "name": "stdout",
     "output_type": "stream",
     "text": [
      "<class 'float'>\n",
      "<class 'float'>\n",
      "<class 'float'>\n"
     ]
    }
   ],
   "source": [
    "x = 1.10\n",
    "y = 1.0\n",
    "z = -35.59\n",
    "\n",
    "print(type(x))\n",
    "print(type(y))\n",
    "print(type(z))"
   ]
  },
  {
   "cell_type": "markdown",
   "id": "ca615e5f",
   "metadata": {},
   "source": [
    "Float can also be scientific numbers with an \"e\" to indicate the power of 10."
   ]
  },
  {
   "cell_type": "code",
   "execution_count": 22,
   "id": "af29ebe4",
   "metadata": {},
   "outputs": [
    {
     "name": "stdout",
     "output_type": "stream",
     "text": [
      "<class 'float'>\n",
      "<class 'float'>\n",
      "<class 'float'>\n"
     ]
    }
   ],
   "source": [
    "x = 35e3\n",
    "y = 12E4\n",
    "z = -87.7e100\n",
    "\n",
    "print(type(x))\n",
    "print(type(y))\n",
    "print(type(z))"
   ]
  },
  {
   "cell_type": "markdown",
   "id": "32a2faa5",
   "metadata": {},
   "source": [
    "#### Complex\n",
    "Complex numbers are written with a \"j\" as the imaginary part:"
   ]
  },
  {
   "cell_type": "code",
   "execution_count": 23,
   "id": "f2c40c6f",
   "metadata": {},
   "outputs": [
    {
     "name": "stdout",
     "output_type": "stream",
     "text": [
      "<class 'complex'>\n",
      "<class 'complex'>\n",
      "<class 'complex'>\n"
     ]
    }
   ],
   "source": [
    "x = 3+5j\n",
    "y = 5j\n",
    "z = -5j\n",
    "\n",
    "print(type(x))\n",
    "print(type(y))\n",
    "print(type(z))"
   ]
  },
  {
   "cell_type": "markdown",
   "id": "38ce20b1",
   "metadata": {},
   "source": [
    "### Strings"
   ]
  },
  {
   "cell_type": "code",
   "execution_count": 6,
   "id": "77dc5ce8",
   "metadata": {},
   "outputs": [
    {
     "name": "stdout",
     "output_type": "stream",
     "text": [
      "Python is awesome\n"
     ]
    }
   ],
   "source": [
    "x = \"Python is awesome\"\n",
    "print(x)"
   ]
  },
  {
   "cell_type": "markdown",
   "id": "26f205b0",
   "metadata": {},
   "source": [
    "#### String concatenation\n",
    "String can be concatenated with only another strings."
   ]
  },
  {
   "cell_type": "code",
   "execution_count": 8,
   "id": "ec033095",
   "metadata": {},
   "outputs": [
    {
     "name": "stdout",
     "output_type": "stream",
     "text": [
      "Python is awesome\n"
     ]
    }
   ],
   "source": [
    "# String Concatenation\n",
    "x = \"Python\"\n",
    "y = \"is\"\n",
    "z = \"awesome\"\n",
    "a = x + \" \" + y + \" \" + z\n",
    "print(a)"
   ]
  },
  {
   "cell_type": "code",
   "execution_count": null,
   "id": "a7fd7187",
   "metadata": {},
   "outputs": [],
   "source": [
    "# To include\n",
    "# [0-9]+ option in \"regex module\", which will return number like \"2017\" together."
   ]
  }
 ],
 "metadata": {
  "kernelspec": {
   "display_name": "Python 3 (ipykernel)",
   "language": "python",
   "name": "python3"
  },
  "language_info": {
   "codemirror_mode": {
    "name": "ipython",
    "version": 3
   },
   "file_extension": ".py",
   "mimetype": "text/x-python",
   "name": "python",
   "nbconvert_exporter": "python",
   "pygments_lexer": "ipython3",
   "version": "3.9.12"
  }
 },
 "nbformat": 4,
 "nbformat_minor": 5
}
