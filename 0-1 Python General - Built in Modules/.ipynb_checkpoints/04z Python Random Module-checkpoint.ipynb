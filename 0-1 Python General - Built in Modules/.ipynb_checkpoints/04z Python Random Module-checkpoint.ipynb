{
 "cells": [
  {
   "cell_type": "code",
   "execution_count": null,
   "id": "84961d22",
   "metadata": {},
   "outputs": [],
   "source": []
  },
  {
   "cell_type": "markdown",
   "id": "f95d23f5",
   "metadata": {},
   "source": [
    "# Random Module\n",
    "### random.seed(a=None, version=2)¶\n",
    "Pseudo random numbers in python are generated based on the value in random.seed() function.<br>\n",
    "If a is omitted or None, the current system time is used."
   ]
  },
  {
   "cell_type": "code",
   "execution_count": 4,
   "id": "5bb52720",
   "metadata": {},
   "outputs": [
    {
     "name": "stdout",
     "output_type": "stream",
     "text": [
      "0.376962302390386\n"
     ]
    }
   ],
   "source": [
    "import random\n",
    "\n",
    "random.seed(25)  \n",
    "print(random.random())"
   ]
  },
  {
   "cell_type": "markdown",
   "id": "2e24f3a6",
   "metadata": {},
   "source": [
    "### random.randrange(start, stop, step)"
   ]
  },
  {
   "cell_type": "code",
   "execution_count": 6,
   "id": "d4622d76",
   "metadata": {},
   "outputs": [
    {
     "name": "stdout",
     "output_type": "stream",
     "text": [
      "4\n"
     ]
    }
   ],
   "source": [
    "import random\n",
    "\n",
    "print(random.randrange(1, 10))"
   ]
  },
  {
   "cell_type": "code",
   "execution_count": null,
   "id": "23d82c01",
   "metadata": {},
   "outputs": [],
   "source": []
  }
 ],
 "metadata": {
  "kernelspec": {
   "display_name": "Python 3 (ipykernel)",
   "language": "python",
   "name": "python3"
  },
  "language_info": {
   "codemirror_mode": {
    "name": "ipython",
    "version": 3
   },
   "file_extension": ".py",
   "mimetype": "text/x-python",
   "name": "python",
   "nbconvert_exporter": "python",
   "pygments_lexer": "ipython3",
   "version": "3.9.12"
  }
 },
 "nbformat": 4,
 "nbformat_minor": 5
}
