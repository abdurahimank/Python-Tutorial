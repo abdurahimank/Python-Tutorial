{
 "cells": [
  {
   "cell_type": "markdown",
   "id": "f95d23f5",
   "metadata": {},
   "source": [
    "# Random Module\n",
    "### random.seed(a=None, version=2)¶\n",
    "Pseudo random numbers in python are generated based on the value in random.seed() function.<br>\n",
    "If a is omitted or None, the current system time is used."
   ]
  },
  {
   "cell_type": "code",
   "execution_count": 4,
   "id": "5bb52720",
   "metadata": {},
   "outputs": [
    {
     "name": "stdout",
     "output_type": "stream",
     "text": [
      "0.376962302390386\n"
     ]
    }
   ],
   "source": [
    "import random\n",
    "\n",
    "random.seed(25)  \n",
    "print(random.random())"
   ]
  },
  {
   "cell_type": "markdown",
   "id": "e097a958",
   "metadata": {},
   "source": [
    "### getstate()\n",
    "Returns the current internal state of the random number generator"
   ]
  },
  {
   "cell_type": "code",
   "execution_count": 1,
   "id": "eda390d8",
   "metadata": {},
   "outputs": [
    {
     "name": "stdout",
     "output_type": "stream",
     "text": [
      "(3, (2147483648, 1650035206, 3783747026, 50977878, 3948996795, 3648210249, 2834231557, 2004899552, 732456428, 2991305651, 3092696644, 3765262990, 1422198167, 1816110027, 3087376074, 3508684407, 645201169, 228681822, 1130373549, 446789169, 1366128233, 2251830960, 1970825942, 2740976272, 1314560625, 1127863069, 3986900262, 3892609539, 4061188142, 1150704560, 4166009557, 760611837, 2692503506, 3673304131, 2453889179, 620895203, 2560575968, 639061398, 1256751284, 2971359302, 3145272332, 1379121197, 3672344850, 3915661930, 3231860683, 2903160891, 2352922647, 924815971, 3790369223, 3424594887, 1957925226, 3856709561, 3792074398, 1281219666, 2815828923, 1461765926, 1714660577, 127835212, 868856738, 1625088602, 3613294535, 3816007600, 799805446, 3142562834, 790627990, 4218577816, 3717045253, 3298645363, 3794114814, 2701916409, 4036434314, 4045404355, 4294693366, 2507019399, 1905980997, 2555899743, 2717226286, 90064952, 4085376247, 2063051338, 2649245800, 250328810, 3079200847, 2039138401, 2128358277, 1540156732, 1151879113, 2174115625, 2575911175, 3127977518, 1746185238, 815273678, 341955422, 681693713, 897043060, 2760741186, 3856981588, 554577172, 3333181884, 799259053, 622644956, 2518162750, 2667504452, 1558377020, 3779385338, 3396533513, 863062345, 3178138809, 1680938765, 1425036594, 4060037248, 3137223540, 764885296, 2950960388, 2430033128, 261112320, 2540424415, 3509648587, 668750839, 2836013378, 3956940774, 4118655172, 3289734765, 3369732670, 4267095760, 2008875749, 3150098149, 904342492, 2150076593, 2132133362, 2743115608, 2173479882, 3540751042, 608253257, 43831753, 1797627264, 64698098, 423707824, 4288030350, 2182067067, 1886058426, 1656477707, 829909724, 2036263914, 28297321, 3557769208, 2234539394, 1091085477, 3917484668, 988562820, 3152736138, 689056279, 2477027178, 4281639143, 563260456, 636293980, 1100334867, 2411593268, 1124909681, 4237704043, 3661394669, 1093984986, 3922815578, 1742648830, 2264831676, 2784134655, 3756516318, 1250941923, 2834492167, 339474476, 2796127775, 2520156661, 584798695, 2297135864, 2576774418, 442341535, 872762422, 2871811073, 2284526756, 163031956, 2668980452, 2848961758, 952059403, 1935614379, 2234357531, 3357385820, 2706857637, 3323632979, 1952378895, 3207021717, 498241304, 4005462110, 839925947, 4260085496, 3701201477, 2289321638, 140313049, 2112662157, 999800434, 4262317508, 1525311060, 509492868, 3418023343, 1966561715, 2374529441, 3877674727, 2434994430, 1071674578, 991303216, 1780815228, 174568446, 1049138083, 670268820, 3138864867, 1520723860, 2579893680, 1144300899, 4141250642, 2633255552, 576839410, 3957955013, 2701102492, 695530667, 3137678000, 3551713516, 4135344344, 1108753796, 2708967849, 3071944387, 2964150557, 2989475465, 1014687065, 2421223706, 4235669551, 1543764873, 259487285, 2065514287, 3306836355, 16366359, 25841695, 2972280648, 2656356985, 1482277128, 2291067922, 3177511480, 4260106170, 3122626772, 3380531575, 2244949703, 4159540754, 41895429, 3356154719, 3767465802, 3995434252, 838079079, 2932070037, 1533019637, 3121769247, 4256294697, 97910898, 3472370569, 3877812330, 1331281289, 3804218278, 3489464086, 3916948078, 2126229764, 1335849619, 2053612095, 1461916256, 1180532062, 2302571152, 862743506, 3040572734, 1204719139, 1151389891, 939483066, 193982267, 1733408934, 507306731, 761268862, 3314706526, 11859664, 3596951980, 3013732947, 1911907779, 16948809, 2687982348, 4280742973, 1563064718, 2103266834, 1418639888, 2337651545, 924482654, 2639914095, 705829791, 2527752866, 1688888587, 3489837321, 549118330, 1505784283, 1614930583, 3568274129, 69849877, 75093649, 3949600144, 3398073418, 2153264176, 3506163344, 3830262893, 1688760541, 3141065267, 661368374, 2588095273, 3763940873, 325300933, 3775012204, 1402564519, 2956993478, 1895562635, 4087412499, 3316872064, 771516831, 2650438268, 660406163, 1657259763, 851130858, 2837598130, 2215618510, 3087589458, 2000311566, 698381309, 4211677823, 3560202049, 1372892691, 353406129, 75623881, 216601710, 1837382102, 504128483, 1231871272, 1288241389, 2632830430, 1997515648, 3872604606, 2018532087, 2726942994, 2919676474, 1776522472, 2301319264, 2665353834, 979384080, 4128259537, 2765232685, 104017247, 1829111925, 939679719, 1330159897, 3749239274, 477306157, 3556223646, 635582627, 4059419749, 3174292835, 3492137010, 3837190277, 4089926164, 1157152868, 2615005997, 3718258147, 3469504560, 3700510890, 2055229653, 3433632206, 1340961974, 1313737244, 51086141, 3887331151, 4151848493, 3902319023, 1945669421, 2480852981, 2385843463, 2766477476, 3923945763, 1515963213, 845544041, 2862650529, 1106312024, 1887944680, 1073760666, 858231275, 26553061, 196661714, 2245090988, 380008604, 3587510166, 2420428114, 667696785, 2490041722, 3121230426, 3708260646, 2614273237, 1260289330, 2856078563, 1140918892, 713557530, 2529064747, 2211544758, 4157277723, 136059925, 1984043497, 2724813953, 789383209, 3086200851, 479388, 548726525, 3990327808, 480171868, 3295206227, 1452348925, 3696386813, 2073055367, 3491324876, 3783820709, 2354453605, 1891097634, 131171393, 1369688298, 3555442238, 2019175574, 1734461731, 3492137234, 2879314259, 868504498, 2285349567, 1679737033, 1777658818, 3911184799, 3052780785, 744547204, 2482808000, 1698195750, 3652517364, 2351286095, 1565477767, 1804693204, 652548203, 2626469248, 697473668, 2692565640, 3648018308, 851288024, 508346368, 3572865954, 3541530290, 4147403, 3088411638, 1776109724, 3558644915, 2737579326, 3835682008, 3691034575, 1575759196, 343757395, 2855469381, 1537081102, 4285769463, 1235316345, 3396051416, 4270283844, 245595276, 1259909021, 2402437254, 1564562662, 858074154, 906960595, 4107059588, 1525166625, 2828480209, 2638966042, 141867800, 2819092788, 3245275929, 3515793392, 214760659, 3803004962, 3813683115, 1021951045, 1081697964, 3572169887, 1625364917, 3945411409, 4061811574, 2749511673, 2269320854, 2990874528, 2899173383, 739715003, 3030265695, 1021977321, 707366726, 3879992563, 490767899, 4125086435, 4220528065, 2795332242, 2818700553, 695152711, 108383788, 1197265625, 3912253917, 1526132931, 766665710, 2142995139, 2353162263, 3944374621, 2915580048, 599686691, 1137210597, 1991625824, 3002255471, 1310699612, 392918618, 3451096610, 2223232111, 846574483, 199608785, 3189148019, 3566309950, 1977833232, 1471706657, 2584748903, 208785175, 3906969218, 1006253649, 2549362719, 4193938598, 960460099, 3497998975, 840385271, 3213802917, 2816429921, 517896865, 2012541381, 551252774, 102258055, 1516357410, 2593763270, 2741482458, 944718440, 553032270, 3276174766, 4023220937, 3881014278, 1047504629, 4127518577, 2310688637, 1071887009, 934571464, 1035038386, 613952981, 1736026771, 2037338275, 3305874949, 2888004319, 3990070243, 1176077064, 3734720777, 3533936537, 265744288, 2700910562, 2899810866, 3021816475, 3059908479, 3648997315, 2220054499, 1656897797, 863415481, 3725736263, 714607437, 1946687461, 2969351552, 2240376614, 437695223, 890519508, 2717307496, 1193181610, 4018774742, 1690677101, 2312942606, 1867202576, 2896939612, 1527830140, 2523202067, 3685980954, 3232559284, 178113072, 4149540339, 2385039960, 2122225292, 3831517706, 815071832, 2802776030, 4141145685, 1446186369, 2703049360, 1465503021, 888965344, 1753497069, 886196633, 938042011, 2376889648, 2242699832, 1051382203, 2597103895, 3326251048, 2786566867, 3099359747, 2589304778, 4164905125, 624284053, 4132314588, 3993177029, 624), None)\n"
     ]
    }
   ],
   "source": [
    "import random\n",
    "\n",
    "print(random.getstate())"
   ]
  },
  {
   "cell_type": "markdown",
   "id": "7f99e43b",
   "metadata": {},
   "source": [
    "### setstate()\n",
    "Restores the internal state of the random number generator"
   ]
  },
  {
   "cell_type": "code",
   "execution_count": 2,
   "id": "6d27ea08",
   "metadata": {},
   "outputs": [
    {
     "name": "stdout",
     "output_type": "stream",
     "text": [
      "0.48419544914727053\n",
      "0.8031494482404936\n",
      "0.8031494482404936\n"
     ]
    }
   ],
   "source": [
    "import random\n",
    "\n",
    "#print a random number:\n",
    "print(random.random())\n",
    "\n",
    "#capture the state:\n",
    "state = random.getstate()\n",
    "\n",
    "#print another random number:\n",
    "print(random.random())\n",
    "\n",
    "#restore the state:\n",
    "random.setstate(state)\n",
    "\n",
    "#and the next random number should be the same as when you captured the state:\n",
    "print(random.random())"
   ]
  },
  {
   "cell_type": "markdown",
   "id": "c229fb99",
   "metadata": {},
   "source": [
    "### random.random()\n",
    "The **random()** method returns a random floating number between 0 and 1."
   ]
  },
  {
   "cell_type": "code",
   "execution_count": 10,
   "id": "6e7d4dba",
   "metadata": {},
   "outputs": [
    {
     "name": "stdout",
     "output_type": "stream",
     "text": [
      "0.7864807166648459\n"
     ]
    }
   ],
   "source": [
    "import random\n",
    "\n",
    "print(random.random())"
   ]
  },
  {
   "cell_type": "markdown",
   "id": "611ae41d",
   "metadata": {},
   "source": [
    "### random.uniform(a, b)\n",
    "The uniform() method returns a random floating number between the two specified numbers (both included).\n",
    "- a\t- Required. A number specifying the lowest possible outcome\n",
    "- b\t- Required. A number specifying the highest possible outcome"
   ]
  },
  {
   "cell_type": "code",
   "execution_count": 11,
   "id": "bcb6e973",
   "metadata": {},
   "outputs": [
    {
     "name": "stdout",
     "output_type": "stream",
     "text": [
      "30.148849939716136\n"
     ]
    }
   ],
   "source": [
    "import random\n",
    "\n",
    "print(random.uniform(20, 60))"
   ]
  },
  {
   "cell_type": "markdown",
   "id": "2e24f3a6",
   "metadata": {},
   "source": [
    "### random.randrange(start, stop, step)\n",
    "- start\t- Optional. An integer specifying at which position to start. Default 0\n",
    "- stop\t- Required. An integer specifying at which position to end.\n",
    "- step\t- Optional. An integer specifying the incrementation. Default 1"
   ]
  },
  {
   "cell_type": "code",
   "execution_count": 6,
   "id": "d4622d76",
   "metadata": {},
   "outputs": [
    {
     "name": "stdout",
     "output_type": "stream",
     "text": [
      "4\n"
     ]
    }
   ],
   "source": [
    "import random\n",
    "\n",
    "print(random.randrange(1, 10))"
   ]
  },
  {
   "cell_type": "markdown",
   "id": "2b65cb82",
   "metadata": {},
   "source": [
    "### random.randint(start, stop)\n",
    "- Note: This method is an alias for randrange(start, stop+1). The **randint()** method returns an integer number selected element from the specified range.\n",
    "- start\t- Required. An integer specifying at which position to start.\n",
    "- stop\t- Required. An integer specifying at which position to end."
   ]
  },
  {
   "cell_type": "code",
   "execution_count": 3,
   "id": "480b38ca",
   "metadata": {},
   "outputs": [
    {
     "name": "stdout",
     "output_type": "stream",
     "text": [
      "9\n"
     ]
    }
   ],
   "source": [
    "import random\n",
    "\n",
    "print(random.randint(3, 9))"
   ]
  },
  {
   "cell_type": "markdown",
   "id": "ae91355d",
   "metadata": {},
   "source": [
    "### random.shuffle(sequence, function)\n",
    "Shuffle a list (reorganize the order of the list items).\n",
    "- sequence\t- Required. A sequence.\n",
    "- function\t- Optional. The name of a function that returns a number between 0.0 and 1.0. If not specified, the function random() will be used"
   ]
  },
  {
   "cell_type": "code",
   "execution_count": 8,
   "id": "39da81f5",
   "metadata": {},
   "outputs": [
    {
     "name": "stdout",
     "output_type": "stream",
     "text": [
      "['banana', 'apple', 'cherry']\n"
     ]
    }
   ],
   "source": [
    "import random\n",
    "\n",
    "mylist = [\"apple\", \"banana\", \"cherry\"]\n",
    "random.shuffle(mylist)\n",
    "\n",
    "print(mylist)"
   ]
  },
  {
   "cell_type": "markdown",
   "id": "91fcb629",
   "metadata": {},
   "source": [
    "### random.choice(sequence)\n",
    "Return a random element from a list.\n",
    "- sequence\t- Required. A sequence like a list, a tuple, a range of numbers etc."
   ]
  },
  {
   "cell_type": "code",
   "execution_count": 5,
   "id": "d1e026c6",
   "metadata": {},
   "outputs": [
    {
     "name": "stdout",
     "output_type": "stream",
     "text": [
      "apple\n"
     ]
    }
   ],
   "source": [
    "import random\n",
    "\n",
    "mylist = [\"apple\", \"banana\", \"cherry\"]\n",
    "\n",
    "print(random.choice(mylist))"
   ]
  },
  {
   "cell_type": "markdown",
   "id": "46658e62",
   "metadata": {},
   "source": [
    "### random.choices(sequence, weights=None, cum_weights=None, k=1)\n",
    "The choices() method returns a list with the randomly selected element from the specified sequence.\n",
    "You can weigh the possibility of each result with the weights parameter or the cum_weights parameter.\n",
    "The sequence can be a string, a range, a list, a tuple or any other kind of sequence.\n",
    "- sequence\t- Required. A sequence like a list, a tuple, a range of numbers etc.\n",
    "- weights\t- Optional. A list were you can weigh the possibility for each value. Default None\n",
    "- cum_weights\t- Optional. A list were you can weigh the possibility for each value, only this time the possibility is accumulated. Example: normal weights list: [2, 1, 1] is the same as this cum_weights list; [2, 3, 4]. Default None\n",
    "- k\t- Optional. An integer defining the length of the returned list"
   ]
  },
  {
   "cell_type": "code",
   "execution_count": 6,
   "id": "359e52e4",
   "metadata": {},
   "outputs": [
    {
     "name": "stdout",
     "output_type": "stream",
     "text": [
      "['banana', 'apple', 'banana', 'apple', 'apple', 'cherry', 'apple', 'apple', 'apple', 'cherry', 'apple', 'apple', 'apple', 'apple']\n"
     ]
    }
   ],
   "source": [
    "import random\n",
    "\n",
    "mylist = [\"apple\", \"banana\", \"cherry\"]\n",
    "\n",
    "print(random.choices(mylist, weights = [10, 1, 1], k = 14))"
   ]
  },
  {
   "cell_type": "markdown",
   "id": "b75d4a44",
   "metadata": {},
   "source": [
    "### random.sample(sequence, k)\n",
    "The **sample()** method returns a list with a randomly selection of a specified number of items from a sequnce.\n",
    "- sequence\t- Required. A sequence. Can be any sequence: list, set, range etc.\n",
    "- k\t- Required. The size of the returned list"
   ]
  },
  {
   "cell_type": "code",
   "execution_count": 9,
   "id": "2ff29a2a",
   "metadata": {},
   "outputs": [
    {
     "name": "stdout",
     "output_type": "stream",
     "text": [
      "['banana', 'apple']\n"
     ]
    }
   ],
   "source": [
    "import random\n",
    "\n",
    "mylist = [\"apple\", \"banana\", \"cherry\"]\n",
    "\n",
    "print(random.sample(mylist, k=2))"
   ]
  },
  {
   "cell_type": "code",
   "execution_count": null,
   "id": "a513f822",
   "metadata": {},
   "outputs": [],
   "source": []
  }
 ],
 "metadata": {
  "kernelspec": {
   "display_name": "Python 3 (ipykernel)",
   "language": "python",
   "name": "python3"
  },
  "language_info": {
   "codemirror_mode": {
    "name": "ipython",
    "version": 3
   },
   "file_extension": ".py",
   "mimetype": "text/x-python",
   "name": "python",
   "nbconvert_exporter": "python",
   "pygments_lexer": "ipython3",
   "version": "3.9.12"
  }
 },
 "nbformat": 4,
 "nbformat_minor": 5
}
