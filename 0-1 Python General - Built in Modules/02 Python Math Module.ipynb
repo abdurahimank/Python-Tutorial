{
 "cells": [
  {
   "cell_type": "markdown",
   "id": "3d25b4d3",
   "metadata": {},
   "source": [
    "# Math Module"
   ]
  },
  {
   "cell_type": "code",
   "execution_count": 1,
   "id": "6c97fe36",
   "metadata": {},
   "outputs": [],
   "source": [
    "import math"
   ]
  },
  {
   "cell_type": "markdown",
   "id": "c2a9e207",
   "metadata": {},
   "source": [
    "### math.sqrt()"
   ]
  },
  {
   "cell_type": "code",
   "execution_count": 2,
   "id": "28c4abad",
   "metadata": {},
   "outputs": [
    {
     "name": "stdout",
     "output_type": "stream",
     "text": [
      "8.0\n"
     ]
    }
   ],
   "source": [
    "x = math.sqrt(64)\n",
    "print(x)"
   ]
  },
  {
   "cell_type": "markdown",
   "id": "645ce0ca",
   "metadata": {},
   "source": [
    "### math.ceil()"
   ]
  },
  {
   "cell_type": "code",
   "execution_count": 3,
   "id": "28bdbd86",
   "metadata": {},
   "outputs": [
    {
     "name": "stdout",
     "output_type": "stream",
     "text": [
      "2\n"
     ]
    }
   ],
   "source": [
    "x = math.ceil(1.4)\n",
    "print(x)"
   ]
  },
  {
   "cell_type": "markdown",
   "id": "2fdd0bf7",
   "metadata": {},
   "source": [
    "### math.floor()"
   ]
  },
  {
   "cell_type": "code",
   "execution_count": 5,
   "id": "740138df",
   "metadata": {},
   "outputs": [
    {
     "name": "stdout",
     "output_type": "stream",
     "text": [
      "1\n"
     ]
    }
   ],
   "source": [
    "x = math.floor(1.4)\n",
    "print(x)"
   ]
  },
  {
   "cell_type": "markdown",
   "id": "c62df350",
   "metadata": {},
   "source": [
    "### math.pi"
   ]
  },
  {
   "cell_type": "code",
   "execution_count": 7,
   "id": "e1b712a4",
   "metadata": {},
   "outputs": [
    {
     "name": "stdout",
     "output_type": "stream",
     "text": [
      "3.141592653589793\n"
     ]
    }
   ],
   "source": [
    "import math\n",
    "\n",
    "x = math.pi\n",
    "\n",
    "print(x)"
   ]
  },
  {
   "cell_type": "code",
   "execution_count": null,
   "id": "c19ded3e",
   "metadata": {},
   "outputs": [],
   "source": []
  }
 ],
 "metadata": {
  "kernelspec": {
   "display_name": "Python 3 (ipykernel)",
   "language": "python",
   "name": "python3"
  },
  "language_info": {
   "codemirror_mode": {
    "name": "ipython",
    "version": 3
   },
   "file_extension": ".py",
   "mimetype": "text/x-python",
   "name": "python",
   "nbconvert_exporter": "python",
   "pygments_lexer": "ipython3",
   "version": "3.9.12"
  }
 },
 "nbformat": 4,
 "nbformat_minor": 5
}
