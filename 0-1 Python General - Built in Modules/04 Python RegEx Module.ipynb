{
 "cells": [
  {
   "cell_type": "markdown",
   "id": "ca5d4e9d",
   "metadata": {},
   "source": [
    "# RE Module"
   ]
  },
  {
   "cell_type": "code",
   "execution_count": 1,
   "id": "929ecb39",
   "metadata": {},
   "outputs": [
    {
     "name": "stdout",
     "output_type": "stream",
     "text": [
      "['A', 'ASCII', 'DEBUG', 'DOTALL', 'I', 'IGNORECASE', 'L', 'LOCALE', 'M', 'MULTILINE', 'Match', 'Pattern', 'RegexFlag', 'S', 'Scanner', 'T', 'TEMPLATE', 'U', 'UNICODE', 'VERBOSE', 'X', '_MAXCACHE', '__all__', '__builtins__', '__cached__', '__doc__', '__file__', '__loader__', '__name__', '__package__', '__spec__', '__version__', '_cache', '_compile', '_compile_repl', '_expand', '_locale', '_pickle', '_special_chars_map', '_subx', 'compile', 'copyreg', 'enum', 'error', 'escape', 'findall', 'finditer', 'fullmatch', 'functools', 'match', 'purge', 'search', 'split', 'sre_compile', 'sre_parse', 'sub', 'subn', 'template']\n"
     ]
    }
   ],
   "source": [
    "import re\n",
    "\n",
    "print(dir(re))"
   ]
  },
  {
   "cell_type": "markdown",
   "id": "8b81830f",
   "metadata": {},
   "source": [
    "### findall()"
   ]
  },
  {
   "cell_type": "code",
   "execution_count": 5,
   "id": "4391f0c1",
   "metadata": {},
   "outputs": [
    {
     "name": "stdout",
     "output_type": "stream",
     "text": [
      "['ai', 'ai']\n",
      "[]\n"
     ]
    }
   ],
   "source": [
    "import re\n",
    "\n",
    "txt = \"The rain in Spain\"\n",
    "print(re.findall(\"ai\", txt))\n",
    "print(re.findall(\"London\", txt))"
   ]
  },
  {
   "cell_type": "markdown",
   "id": "d6582f56",
   "metadata": {},
   "source": [
    "### search()"
   ]
  },
  {
   "cell_type": "code",
   "execution_count": 6,
   "id": "3da2dcb1",
   "metadata": {},
   "outputs": [
    {
     "name": "stdout",
     "output_type": "stream",
     "text": [
      "<re.Match object; span=(5, 7), match='ai'>\n",
      "None\n"
     ]
    }
   ],
   "source": [
    "import re\n",
    "\n",
    "txt = \"The rain in Spain\"\n",
    "print(re.search(\"ai\", txt))\n",
    "print(re.search(\"London\", txt))"
   ]
  },
  {
   "cell_type": "markdown",
   "id": "feb24fbe",
   "metadata": {},
   "source": [
    "### split()"
   ]
  },
  {
   "cell_type": "code",
   "execution_count": 7,
   "id": "6e9f8519",
   "metadata": {},
   "outputs": [
    {
     "name": "stdout",
     "output_type": "stream",
     "text": [
      "['The r', 'n in Sp', 'n']\n",
      "['The rain in Spain']\n"
     ]
    }
   ],
   "source": [
    "import re\n",
    "\n",
    "txt = \"The rain in Spain\"\n",
    "print(re.split(\"ai\", txt))\n",
    "print(re.split(\"London\", txt))"
   ]
  },
  {
   "cell_type": "markdown",
   "id": "390dc007",
   "metadata": {},
   "source": [
    "### sub()"
   ]
  },
  {
   "cell_type": "code",
   "execution_count": 9,
   "id": "e5b1157c",
   "metadata": {},
   "outputs": [
    {
     "name": "stdout",
     "output_type": "stream",
     "text": [
      "The&rain&in&Spain\n",
      "The rain in Spain\n"
     ]
    }
   ],
   "source": [
    "import re\n",
    "\n",
    "txt = \"The rain in Spain\"\n",
    "print(re.sub(\" \", \"&\", txt))\n",
    "print(re.sub(\"London\", \"\", txt))"
   ]
  },
  {
   "cell_type": "code",
   "execution_count": 12,
   "id": "21797496",
   "metadata": {},
   "outputs": [
    {
     "name": "stdout",
     "output_type": "stream",
     "text": [
      "The9rain9in Spain\n"
     ]
    }
   ],
   "source": [
    "import re\n",
    "\n",
    "txt = \"The rain in Spain\"\n",
    "x = re.sub(\"\\s\", \"9\", txt, 2)  # to replace specified number of occurences\n",
    "print(x)"
   ]
  },
  {
   "cell_type": "markdown",
   "id": "564d2823",
   "metadata": {},
   "source": [
    "## Metacharacters"
   ]
  },
  {
   "cell_type": "code",
   "execution_count": null,
   "id": "b528fdd9",
   "metadata": {},
   "outputs": [],
   "source": [
    "# ^ \t Starts with"
   ]
  },
  {
   "cell_type": "code",
   "execution_count": null,
   "id": "05ddcf1f",
   "metadata": {},
   "outputs": [],
   "source": [
    "# $ \t Ends with"
   ]
  },
  {
   "cell_type": "code",
   "execution_count": 10,
   "id": "c61d19c8",
   "metadata": {},
   "outputs": [
    {
     "name": "stdout",
     "output_type": "stream",
     "text": [
      "['h', 'e', 'a', 'i', 'i', 'a', 'i']\n"
     ]
    }
   ],
   "source": [
    "# []\t A set of characters\n",
    "import re\n",
    "txt = \"The rain in Spain\"\n",
    "x = re.findall(\"[a-m]\", txt)\n",
    "print(x)"
   ]
  },
  {
   "cell_type": "code",
   "execution_count": 11,
   "id": "8a84ac5a",
   "metadata": {},
   "outputs": [
    {
     "name": "stdout",
     "output_type": "stream",
     "text": [
      "['hello']\n"
     ]
    }
   ],
   "source": [
    "# . \t Any character (except newline character)\n",
    "import re\n",
    "txt = \"hello planet\"\n",
    "x = re.findall(\"he..o\", txt)\n",
    "print(x)"
   ]
  },
  {
   "cell_type": "code",
   "execution_count": null,
   "id": "62706193",
   "metadata": {},
   "outputs": [],
   "source": [
    "# * \t Zero or more occurrences"
   ]
  },
  {
   "cell_type": "code",
   "execution_count": null,
   "id": "0ea8618c",
   "metadata": {},
   "outputs": [],
   "source": [
    "# + \t One or more occurrences"
   ]
  },
  {
   "cell_type": "code",
   "execution_count": null,
   "id": "749ce7bc",
   "metadata": {},
   "outputs": [],
   "source": [
    "# ? \t Zero or one occurrences"
   ]
  },
  {
   "cell_type": "code",
   "execution_count": null,
   "id": "25cd209b",
   "metadata": {},
   "outputs": [],
   "source": [
    "# {}\tExactly the specified number of occurrences"
   ]
  },
  {
   "cell_type": "code",
   "execution_count": null,
   "id": "a86dac81",
   "metadata": {},
   "outputs": [],
   "source": [
    "# | \t Either or"
   ]
  },
  {
   "cell_type": "code",
   "execution_count": null,
   "id": "da7708eb",
   "metadata": {},
   "outputs": [],
   "source": [
    "# \\ \t Signals a special sequence (can also be used to escape special characters)"
   ]
  },
  {
   "cell_type": "markdown",
   "id": "04024727",
   "metadata": {},
   "source": [
    "## Special Sequences\n",
    "A special sequence is a **\\** followed by one of the characters in the list below, and has a special meaning:"
   ]
  },
  {
   "cell_type": "code",
   "execution_count": 13,
   "id": "98277c86",
   "metadata": {},
   "outputs": [
    {
     "name": "stdout",
     "output_type": "stream",
     "text": [
      "['The']\n"
     ]
    }
   ],
   "source": [
    "# \\A\tReturns a match if the specified characters are at the beginning of the string\n",
    "import re\n",
    "\n",
    "txt = \"The rain in Spain\"\n",
    "x = re.findall(\"\\AThe\", txt)\n",
    "print(x)"
   ]
  },
  {
   "cell_type": "code",
   "execution_count": null,
   "id": "f7512d63",
   "metadata": {},
   "outputs": [],
   "source": [
    "# \\b\tReturns a match where the specified characters are at the beginning or at the end of a word\n",
    "# (the \"r\" in the beginning is making sure that the string is being treated as a \"raw string\")"
   ]
  },
  {
   "cell_type": "code",
   "execution_count": null,
   "id": "5f315136",
   "metadata": {},
   "outputs": [],
   "source": [
    "# \\B\tReturns a match where the specified characters are present, but NOT at the beginning (or at the end) of a word\n",
    "# (the \"r\" in the beginning is making sure that the string is being treated as a \"raw string\")"
   ]
  },
  {
   "cell_type": "code",
   "execution_count": null,
   "id": "179e8fd6",
   "metadata": {},
   "outputs": [],
   "source": [
    "# \\d\tReturns a match where the string contains digits (numbers from 0-9)"
   ]
  },
  {
   "cell_type": "code",
   "execution_count": null,
   "id": "02fc84a0",
   "metadata": {},
   "outputs": [],
   "source": [
    "# \\D\tReturns a match where the string DOES NOT contain digits"
   ]
  },
  {
   "cell_type": "code",
   "execution_count": null,
   "id": "b67190ee",
   "metadata": {},
   "outputs": [],
   "source": [
    "# \\s\tReturns a match where the string contains a white space character"
   ]
  },
  {
   "cell_type": "code",
   "execution_count": null,
   "id": "b63062ae",
   "metadata": {},
   "outputs": [],
   "source": [
    "# \\S\tReturns a match where the string DOES NOT contain a white space character"
   ]
  },
  {
   "cell_type": "code",
   "execution_count": null,
   "id": "8a10475e",
   "metadata": {},
   "outputs": [],
   "source": [
    "# \\w\tReturns a match where the string contains any word characters (characters from a to Z, digits from 0-9, and the underscore _ character)"
   ]
  },
  {
   "cell_type": "code",
   "execution_count": null,
   "id": "e2b582b3",
   "metadata": {},
   "outputs": [],
   "source": [
    "# \\W\tReturns a match where the string DOES NOT contain any word characters"
   ]
  },
  {
   "cell_type": "code",
   "execution_count": null,
   "id": "5bacc8d1",
   "metadata": {},
   "outputs": [],
   "source": [
    "# \\Z\tReturns a match if the specified characters are at the end of the string"
   ]
  }
 ],
 "metadata": {
  "kernelspec": {
   "display_name": "Python 3 (ipykernel)",
   "language": "python",
   "name": "python3"
  },
  "language_info": {
   "codemirror_mode": {
    "name": "ipython",
    "version": 3
   },
   "file_extension": ".py",
   "mimetype": "text/x-python",
   "name": "python",
   "nbconvert_exporter": "python",
   "pygments_lexer": "ipython3",
   "version": "3.9.12"
  }
 },
 "nbformat": 4,
 "nbformat_minor": 5
}
