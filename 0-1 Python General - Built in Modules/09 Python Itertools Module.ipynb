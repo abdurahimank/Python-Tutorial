{
 "cells": [
  {
   "cell_type": "markdown",
   "id": "7aa6c1d8",
   "metadata": {},
   "source": [
    "# Itertools Module"
   ]
  },
  {
   "cell_type": "code",
   "execution_count": 1,
   "id": "18baa361",
   "metadata": {},
   "outputs": [
    {
     "name": "stdout",
     "output_type": "stream",
     "text": [
      "['__doc__', '__loader__', '__name__', '__package__', '__spec__', '_grouper', '_tee', '_tee_dataobject', 'accumulate', 'chain', 'combinations', 'combinations_with_replacement', 'compress', 'count', 'cycle', 'dropwhile', 'filterfalse', 'groupby', 'islice', 'permutations', 'product', 'repeat', 'starmap', 'takewhile', 'tee', 'zip_longest']\n"
     ]
    }
   ],
   "source": [
    "import itertools\n",
    "\n",
    "print(dir(itertools))"
   ]
  },
  {
   "cell_type": "code",
   "execution_count": 5,
   "id": "b33df669",
   "metadata": {},
   "outputs": [
    {
     "name": "stdout",
     "output_type": "stream",
     "text": [
      "10\n",
      "20\n",
      "[('H', 'O'), ('H', 'R'), ('H', 'S'), ('H', 'E'), ('O', 'R'), ('O', 'S'), ('O', 'E'), ('R', 'S'), ('R', 'E'), ('S', 'E')]\n",
      "[('H', 'O'), ('H', 'R'), ('H', 'S'), ('H', 'E'), ('O', 'H'), ('O', 'R'), ('O', 'S'), ('O', 'E'), ('R', 'H'), ('R', 'O'), ('R', 'S'), ('R', 'E'), ('S', 'H'), ('S', 'O'), ('S', 'R'), ('S', 'E'), ('E', 'H'), ('E', 'O'), ('E', 'R'), ('E', 'S')]\n"
     ]
    }
   ],
   "source": [
    "# Find the number of permutations and combinations that can be formed from the word HORSE taking two letters at a time.\n",
    "from itertools import combinations\n",
    "from itertools import permutations \n",
    "import numpy as np\n",
    "import math\n",
    "arr=np.array(['H','O','R','S','E'])\n",
    "print(len(list(combinations(arr, 2)) ))\n",
    "print(len(list(permutations(arr,2) ))) \n",
    "print(list(combinations(arr, 2))) \n",
    "print(list(permutations(arr,2) ))"
   ]
  },
  {
   "cell_type": "code",
   "execution_count": null,
   "id": "7a454918",
   "metadata": {},
   "outputs": [],
   "source": []
  }
 ],
 "metadata": {
  "kernelspec": {
   "display_name": "Python 3 (ipykernel)",
   "language": "python",
   "name": "python3"
  },
  "language_info": {
   "codemirror_mode": {
    "name": "ipython",
    "version": 3
   },
   "file_extension": ".py",
   "mimetype": "text/x-python",
   "name": "python",
   "nbconvert_exporter": "python",
   "pygments_lexer": "ipython3",
   "version": "3.9.12"
  }
 },
 "nbformat": 4,
 "nbformat_minor": 5
}
