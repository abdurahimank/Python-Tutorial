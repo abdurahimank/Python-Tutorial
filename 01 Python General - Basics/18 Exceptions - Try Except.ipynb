{
 "cells": [
  {
   "cell_type": "markdown",
   "id": "03a87d6a",
   "metadata": {},
   "source": [
    "# Exception in Python\n",
    "- There are many built-in exceptions in Python, which are directly or indirectly derived from Exception class.\n",
    "- Python also allows a programmer to create custom exceptions, derived from base Exception class."
   ]
  },
  {
   "cell_type": "code",
   "execution_count": 3,
   "id": "093bd273",
   "metadata": {},
   "outputs": [],
   "source": [
    "class CustomError(Exception):\n",
    "    def __init__(self, value):\n",
    "        self.value = value\n",
    "    def __str__(self):\n",
    "        return str(self.value)"
   ]
  },
  {
   "cell_type": "code",
   "execution_count": 6,
   "id": "1a5a72e6",
   "metadata": {},
   "outputs": [
    {
     "name": "stdout",
     "output_type": "stream",
     "text": [
      "Two inputs must be integers.\n"
     ]
    }
   ],
   "source": [
    "try:\n",
    "    a = 2; b = 'hello'\n",
    "    if not (isinstance(a, int)\n",
    "            and isinstance(b, int)):\n",
    "        raise CustomError('Two inputs must be integers.')\n",
    "    c = a**b\n",
    "except CustomError as e:  # CustomError is raised in above example, instead of TypeError.\n",
    "    print(e)"
   ]
  },
  {
   "cell_type": "code",
   "execution_count": null,
   "id": "e0af6386",
   "metadata": {},
   "outputs": [],
   "source": []
  },
  {
   "cell_type": "markdown",
   "id": "29417cb9",
   "metadata": {},
   "source": [
    "# Try - Except"
   ]
  },
  {
   "cell_type": "markdown",
   "id": "3c9c598b",
   "metadata": {},
   "source": [
    "- The **try** block lets you test a block of code for errors.\n",
    "- The **except** block lets you handle the error.\n",
    "- The **else** block lets you execute code when there is no error.\n",
    "- The **finally** block lets you execute code, regardless of the result of the try- and except blocks."
   ]
  },
  {
   "cell_type": "code",
   "execution_count": 1,
   "id": "4fddfbc1",
   "metadata": {},
   "outputs": [
    {
     "name": "stdout",
     "output_type": "stream",
     "text": [
      "Value of 'a' : 16\n",
      "oops!!!\n",
      "Out of try ... except.\n"
     ]
    }
   ],
   "source": [
    "# Example : try - except\n",
    "try:\n",
    "    a = pow(2, 4)\n",
    "    print(\"Value of 'a' :\", a)\n",
    "    b = pow(2, 'hello')   # results in exception\n",
    "    print(\"Value of 'b' :\", b)\n",
    "except TypeError as e:\n",
    "    print('oops!!!')\n",
    "print('Out of try ... except.')"
   ]
  },
  {
   "cell_type": "code",
   "execution_count": 7,
   "id": "cded5e34",
   "metadata": {},
   "outputs": [],
   "source": [
    "# Example : try - except - finally\n",
    "def divide(a,b):\n",
    "    try:\n",
    "        result = a / b\n",
    "        return result\n",
    "    except ZeroDivisionError:\n",
    "        print(\"Dividing by Zero.\")\n",
    "    finally:\n",
    "        print(\"In finally clause.\")"
   ]
  },
  {
   "cell_type": "code",
   "execution_count": 8,
   "id": "df57eb9f",
   "metadata": {},
   "outputs": [
    {
     "name": "stdout",
     "output_type": "stream",
     "text": [
      "First call\n",
      "In finally clause.\n",
      "2.0\n"
     ]
    }
   ],
   "source": [
    "print('First call')\n",
    "print(divide(14, 7))"
   ]
  },
  {
   "cell_type": "code",
   "execution_count": 9,
   "id": "c0656176",
   "metadata": {},
   "outputs": [
    {
     "name": "stdout",
     "output_type": "stream",
     "text": [
      "Second call\n",
      "Dividing by Zero.\n",
      "In finally clause.\n",
      "None\n"
     ]
    }
   ],
   "source": [
    "print('Second call')\n",
    "print(divide(14, 0))"
   ]
  },
  {
   "cell_type": "code",
   "execution_count": 10,
   "id": "fc23f47e",
   "metadata": {},
   "outputs": [
    {
     "name": "stdout",
     "output_type": "stream",
     "text": [
      "First ELSE\n",
      "oops!!!\n"
     ]
    }
   ],
   "source": [
    "# Example : try - except - else\n",
    "try:\n",
    "    a = 14 / 7\n",
    "except ZeroDivisionError:\n",
    "    print('oops!!!')\n",
    "else:\n",
    "    print('First ELSE')\n",
    "try:\n",
    "    a = 14 / 0\n",
    "except ZeroDivisionError:\n",
    "    print('oops!!!')\n",
    "else:\n",
    "    print('Second ELSE')"
   ]
  },
  {
   "cell_type": "code",
   "execution_count": null,
   "id": "c1429687",
   "metadata": {},
   "outputs": [],
   "source": []
  },
  {
   "cell_type": "code",
   "execution_count": null,
   "id": "cea60313",
   "metadata": {},
   "outputs": [],
   "source": []
  },
  {
   "cell_type": "markdown",
   "id": "088954fd",
   "metadata": {},
   "source": [
    "## Raise an exception\n",
    "To throw (or raise) an exception, use the **raise** keyword."
   ]
  },
  {
   "cell_type": "code",
   "execution_count": 1,
   "id": "253a4264",
   "metadata": {},
   "outputs": [
    {
     "ename": "Exception",
     "evalue": "Sorry, no numbers below zero",
     "output_type": "error",
     "traceback": [
      "\u001b[1;31m---------------------------------------------------------------------------\u001b[0m",
      "\u001b[1;31mException\u001b[0m                                 Traceback (most recent call last)",
      "Input \u001b[1;32mIn [1]\u001b[0m, in \u001b[0;36m<cell line: 3>\u001b[1;34m()\u001b[0m\n\u001b[0;32m      1\u001b[0m x \u001b[38;5;241m=\u001b[39m \u001b[38;5;241m-\u001b[39m\u001b[38;5;241m1\u001b[39m\n\u001b[0;32m      3\u001b[0m \u001b[38;5;28;01mif\u001b[39;00m x \u001b[38;5;241m<\u001b[39m \u001b[38;5;241m0\u001b[39m:\n\u001b[1;32m----> 4\u001b[0m   \u001b[38;5;28;01mraise\u001b[39;00m \u001b[38;5;167;01mException\u001b[39;00m(\u001b[38;5;124m\"\u001b[39m\u001b[38;5;124mSorry, no numbers below zero\u001b[39m\u001b[38;5;124m\"\u001b[39m)\n",
      "\u001b[1;31mException\u001b[0m: Sorry, no numbers below zero"
     ]
    }
   ],
   "source": [
    "x = -1\n",
    "\n",
    "if x < 0:\n",
    "  raise Exception(\"Sorry, no numbers below zero\")"
   ]
  },
  {
   "cell_type": "code",
   "execution_count": 2,
   "id": "e9a82d89",
   "metadata": {},
   "outputs": [
    {
     "ename": "TypeError",
     "evalue": "Only integers are allowed",
     "output_type": "error",
     "traceback": [
      "\u001b[1;31m---------------------------------------------------------------------------\u001b[0m",
      "\u001b[1;31mTypeError\u001b[0m                                 Traceback (most recent call last)",
      "Input \u001b[1;32mIn [2]\u001b[0m, in \u001b[0;36m<cell line: 3>\u001b[1;34m()\u001b[0m\n\u001b[0;32m      1\u001b[0m x \u001b[38;5;241m=\u001b[39m \u001b[38;5;124m\"\u001b[39m\u001b[38;5;124mhello\u001b[39m\u001b[38;5;124m\"\u001b[39m\n\u001b[0;32m      3\u001b[0m \u001b[38;5;28;01mif\u001b[39;00m \u001b[38;5;129;01mnot\u001b[39;00m \u001b[38;5;28mtype\u001b[39m(x) \u001b[38;5;129;01mis\u001b[39;00m \u001b[38;5;28mint\u001b[39m:\n\u001b[1;32m----> 4\u001b[0m   \u001b[38;5;28;01mraise\u001b[39;00m \u001b[38;5;167;01mTypeError\u001b[39;00m(\u001b[38;5;124m\"\u001b[39m\u001b[38;5;124mOnly integers are allowed\u001b[39m\u001b[38;5;124m\"\u001b[39m)\n",
      "\u001b[1;31mTypeError\u001b[0m: Only integers are allowed"
     ]
    }
   ],
   "source": [
    "x = \"hello\"\n",
    "\n",
    "if not type(x) is int:\n",
    "  raise TypeError(\"Only integers are allowed\")"
   ]
  },
  {
   "cell_type": "code",
   "execution_count": 2,
   "id": "3a01b733",
   "metadata": {},
   "outputs": [
    {
     "name": "stdout",
     "output_type": "stream",
     "text": [
      "Two inputs must be integers.\n"
     ]
    }
   ],
   "source": [
    "try:\n",
    "    a = 2; b = 'hello'\n",
    "    if not (isinstance(a, int)\n",
    "            and isinstance(b, int)):\n",
    "        raise TypeError('Two inputs must be integers.')\n",
    "    c = a**b\n",
    "except TypeError as e:\n",
    "    print(e)"
   ]
  },
  {
   "cell_type": "markdown",
   "id": "2f644d5e-67c6-4bf6-aed6-1281095ee058",
   "metadata": {},
   "source": [
    "# Common Exceptions in Python"
   ]
  },
  {
   "cell_type": "markdown",
   "id": "4aecea75-9a87-4495-9fa1-4f5fc5b7c953",
   "metadata": {},
   "source": [
    "#### ZeroDivisionError\n",
    "This error arises when an attempt is made to divide a number by zero. Division by zero is undefined in mathematics, causing an arithmetic error."
   ]
  },
  {
   "cell_type": "code",
   "execution_count": 1,
   "id": "6ed5b415-19cc-44b8-9023-8b41987f3ae6",
   "metadata": {},
   "outputs": [
    {
     "ename": "ZeroDivisionError",
     "evalue": "division by zero",
     "output_type": "error",
     "traceback": [
      "\u001b[1;31m---------------------------------------------------------------------------\u001b[0m",
      "\u001b[1;31mZeroDivisionError\u001b[0m                         Traceback (most recent call last)",
      "Input \u001b[1;32mIn [1]\u001b[0m, in \u001b[0;36m<cell line: 1>\u001b[1;34m()\u001b[0m\n\u001b[1;32m----> 1\u001b[0m result \u001b[38;5;241m=\u001b[39m \u001b[38;5;241;43m10\u001b[39;49m\u001b[43m \u001b[49m\u001b[38;5;241;43m/\u001b[39;49m\u001b[43m \u001b[49m\u001b[38;5;241;43m0\u001b[39;49m \n\u001b[0;32m      2\u001b[0m \u001b[38;5;28mprint\u001b[39m(result)\n",
      "\u001b[1;31mZeroDivisionError\u001b[0m: division by zero"
     ]
    }
   ],
   "source": [
    "result = 10 / 0 \n",
    "print(result)"
   ]
  },
  {
   "cell_type": "markdown",
   "id": "8bf1d4f4-96ec-4538-8970-4892002c9370",
   "metadata": {},
   "source": [
    "#### ValueError\n",
    "This error occurs when an inappropriate value is used within the code. An example of this is when trying to convert a non-numeric string to an integer."
   ]
  },
  {
   "cell_type": "code",
   "execution_count": 2,
   "id": "f4d6f32a-f5da-4b6c-bbc0-e1974f1bfcce",
   "metadata": {},
   "outputs": [
    {
     "ename": "ValueError",
     "evalue": "invalid literal for int() with base 10: 'abc'",
     "output_type": "error",
     "traceback": [
      "\u001b[1;31m---------------------------------------------------------------------------\u001b[0m",
      "\u001b[1;31mValueError\u001b[0m                                Traceback (most recent call last)",
      "Input \u001b[1;32mIn [2]\u001b[0m, in \u001b[0;36m<cell line: 1>\u001b[1;34m()\u001b[0m\n\u001b[1;32m----> 1\u001b[0m num \u001b[38;5;241m=\u001b[39m \u001b[38;5;28;43mint\u001b[39;49m\u001b[43m(\u001b[49m\u001b[38;5;124;43m\"\u001b[39;49m\u001b[38;5;124;43mabc\u001b[39;49m\u001b[38;5;124;43m\"\u001b[39;49m\u001b[43m)\u001b[49m\n",
      "\u001b[1;31mValueError\u001b[0m: invalid literal for int() with base 10: 'abc'"
     ]
    }
   ],
   "source": [
    "num = int(\"abc\")"
   ]
  },
  {
   "cell_type": "markdown",
   "id": "7cee43e6-f7ff-4126-85b1-5c6601da4842",
   "metadata": {},
   "source": [
    "#### FileNotFoundError\n",
    "This exception is encountered when an attempt is made to access a file that does not exist."
   ]
  },
  {
   "cell_type": "code",
   "execution_count": 3,
   "id": "0f1b6860-fec6-4c23-ad63-742a22505740",
   "metadata": {},
   "outputs": [
    {
     "ename": "FileNotFoundError",
     "evalue": "[Errno 2] No such file or directory: 'nonexistent_file.txt'",
     "output_type": "error",
     "traceback": [
      "\u001b[1;31m---------------------------------------------------------------------------\u001b[0m",
      "\u001b[1;31mFileNotFoundError\u001b[0m                         Traceback (most recent call last)",
      "Input \u001b[1;32mIn [3]\u001b[0m, in \u001b[0;36m<cell line: 1>\u001b[1;34m()\u001b[0m\n\u001b[1;32m----> 1\u001b[0m \u001b[38;5;28;01mwith\u001b[39;00m \u001b[38;5;28;43mopen\u001b[39;49m\u001b[43m(\u001b[49m\u001b[38;5;124;43m\"\u001b[39;49m\u001b[38;5;124;43mnonexistent_file.txt\u001b[39;49m\u001b[38;5;124;43m\"\u001b[39;49m\u001b[43m,\u001b[49m\u001b[43m \u001b[49m\u001b[38;5;124;43m\"\u001b[39;49m\u001b[38;5;124;43mr\u001b[39;49m\u001b[38;5;124;43m\"\u001b[39;49m\u001b[43m)\u001b[49m \u001b[38;5;28;01mas\u001b[39;00m file:\n\u001b[0;32m      2\u001b[0m         content \u001b[38;5;241m=\u001b[39m file\u001b[38;5;241m.\u001b[39mread()\n",
      "\u001b[1;31mFileNotFoundError\u001b[0m: [Errno 2] No such file or directory: 'nonexistent_file.txt'"
     ]
    }
   ],
   "source": [
    "with open(\"nonexistent_file.txt\", \"r\") as file:\n",
    "        content = file.read()"
   ]
  },
  {
   "cell_type": "markdown",
   "id": "016e5a2c-8ae7-43eb-8a64-e4d9aa9edf1b",
   "metadata": {},
   "source": [
    "#### IndexError\n",
    "An IndexError occurs when an index is used to access an element in a list that is outside the valid index range."
   ]
  },
  {
   "cell_type": "code",
   "execution_count": 4,
   "id": "9469f44a-514c-4b10-a1b0-0a93dd572349",
   "metadata": {},
   "outputs": [
    {
     "ename": "IndexError",
     "evalue": "list index out of range",
     "output_type": "error",
     "traceback": [
      "\u001b[1;31m---------------------------------------------------------------------------\u001b[0m",
      "\u001b[1;31mIndexError\u001b[0m                                Traceback (most recent call last)",
      "Input \u001b[1;32mIn [4]\u001b[0m, in \u001b[0;36m<cell line: 3>\u001b[1;34m()\u001b[0m\n\u001b[0;32m      1\u001b[0m my_list \u001b[38;5;241m=\u001b[39m [\u001b[38;5;241m1\u001b[39m, \u001b[38;5;241m2\u001b[39m, \u001b[38;5;241m3\u001b[39m]\n\u001b[0;32m      2\u001b[0m value \u001b[38;5;241m=\u001b[39m my_list[\u001b[38;5;241m1\u001b[39m]  \u001b[38;5;66;03m# No IndexError, within range\u001b[39;00m\n\u001b[1;32m----> 3\u001b[0m missing \u001b[38;5;241m=\u001b[39m \u001b[43mmy_list\u001b[49m\u001b[43m[\u001b[49m\u001b[38;5;241;43m5\u001b[39;49m\u001b[43m]\u001b[49m\n",
      "\u001b[1;31mIndexError\u001b[0m: list index out of range"
     ]
    }
   ],
   "source": [
    "my_list = [1, 2, 3]\n",
    "value = my_list[1]  # No IndexError, within range\n",
    "missing = my_list[5]  # Raises IndexError"
   ]
  },
  {
   "cell_type": "markdown",
   "id": "374d76cf-755b-4d62-8c97-dd93ac78800a",
   "metadata": {},
   "source": [
    "#### KeyError\n",
    "The KeyError arises when an attempt is made to access a non-existent key in a dictionary."
   ]
  },
  {
   "cell_type": "code",
   "execution_count": 5,
   "id": "6286199c-0478-4e25-9b89-61f57400ef00",
   "metadata": {},
   "outputs": [
    {
     "ename": "KeyError",
     "evalue": "'city'",
     "output_type": "error",
     "traceback": [
      "\u001b[1;31m---------------------------------------------------------------------------\u001b[0m",
      "\u001b[1;31mKeyError\u001b[0m                                  Traceback (most recent call last)",
      "Input \u001b[1;32mIn [5]\u001b[0m, in \u001b[0;36m<cell line: 3>\u001b[1;34m()\u001b[0m\n\u001b[0;32m      1\u001b[0m my_dict \u001b[38;5;241m=\u001b[39m {\u001b[38;5;124m\"\u001b[39m\u001b[38;5;124mname\u001b[39m\u001b[38;5;124m\"\u001b[39m: \u001b[38;5;124m\"\u001b[39m\u001b[38;5;124mAlice\u001b[39m\u001b[38;5;124m\"\u001b[39m, \u001b[38;5;124m\"\u001b[39m\u001b[38;5;124mage\u001b[39m\u001b[38;5;124m\"\u001b[39m: \u001b[38;5;241m30\u001b[39m}\n\u001b[0;32m      2\u001b[0m value \u001b[38;5;241m=\u001b[39m my_dict\u001b[38;5;241m.\u001b[39mget(\u001b[38;5;124m\"\u001b[39m\u001b[38;5;124mcity\u001b[39m\u001b[38;5;124m\"\u001b[39m)  \u001b[38;5;66;03m# No KeyError, using .get() method\u001b[39;00m\n\u001b[1;32m----> 3\u001b[0m missing \u001b[38;5;241m=\u001b[39m \u001b[43mmy_dict\u001b[49m\u001b[43m[\u001b[49m\u001b[38;5;124;43m\"\u001b[39;49m\u001b[38;5;124;43mcity\u001b[39;49m\u001b[38;5;124;43m\"\u001b[39;49m\u001b[43m]\u001b[49m\n",
      "\u001b[1;31mKeyError\u001b[0m: 'city'"
     ]
    }
   ],
   "source": [
    "my_dict = {\"name\": \"Alice\", \"age\": 30}\n",
    "value = my_dict.get(\"city\")  # No KeyError, using .get() method\n",
    "missing = my_dict[\"city\"]  # Raises KeyError"
   ]
  },
  {
   "cell_type": "markdown",
   "id": "25560580-c844-458f-be88-5673b64f7cdb",
   "metadata": {},
   "source": [
    "#### TypeError\n",
    "The TypeError occurs when an object is used in an incompatible manner. An example includes trying to concatenate a string and an integer."
   ]
  },
  {
   "cell_type": "code",
   "execution_count": 6,
   "id": "104e3eec-aef0-4bc8-9a23-5c4b5d42386c",
   "metadata": {},
   "outputs": [
    {
     "ename": "TypeError",
     "evalue": "can only concatenate str (not \"int\") to str",
     "output_type": "error",
     "traceback": [
      "\u001b[1;31m---------------------------------------------------------------------------\u001b[0m",
      "\u001b[1;31mTypeError\u001b[0m                                 Traceback (most recent call last)",
      "Input \u001b[1;32mIn [6]\u001b[0m, in \u001b[0;36m<cell line: 1>\u001b[1;34m()\u001b[0m\n\u001b[1;32m----> 1\u001b[0m result \u001b[38;5;241m=\u001b[39m \u001b[38;5;124;43m\"\u001b[39;49m\u001b[38;5;124;43mhello\u001b[39;49m\u001b[38;5;124;43m\"\u001b[39;49m\u001b[43m \u001b[49m\u001b[38;5;241;43m+\u001b[39;49m\u001b[43m \u001b[49m\u001b[38;5;241;43m5\u001b[39;49m\n",
      "\u001b[1;31mTypeError\u001b[0m: can only concatenate str (not \"int\") to str"
     ]
    }
   ],
   "source": [
    "result = \"hello\" + 5  "
   ]
  },
  {
   "cell_type": "markdown",
   "id": "223d927c-0928-4881-a73a-87c12ffe7bd8",
   "metadata": {},
   "source": [
    "#### AttributeError\n",
    "An AttributeError occurs when an attribute or method is accessed on an object that doesn't possess that specific attribute or method."
   ]
  },
  {
   "cell_type": "code",
   "execution_count": 7,
   "id": "a66c4b73-e57c-49d3-93d3-b6e49bdf516a",
   "metadata": {},
   "outputs": [
    {
     "ename": "AttributeError",
     "evalue": "'str' object has no attribute 'some_method'",
     "output_type": "error",
     "traceback": [
      "\u001b[1;31m---------------------------------------------------------------------------\u001b[0m",
      "\u001b[1;31mAttributeError\u001b[0m                            Traceback (most recent call last)",
      "Input \u001b[1;32mIn [7]\u001b[0m, in \u001b[0;36m<cell line: 3>\u001b[1;34m()\u001b[0m\n\u001b[0;32m      1\u001b[0m text \u001b[38;5;241m=\u001b[39m \u001b[38;5;124m\"\u001b[39m\u001b[38;5;124mexample\u001b[39m\u001b[38;5;124m\"\u001b[39m\n\u001b[0;32m      2\u001b[0m length \u001b[38;5;241m=\u001b[39m \u001b[38;5;28mlen\u001b[39m(text)  \u001b[38;5;66;03m# No AttributeError, correct method usage\u001b[39;00m\n\u001b[1;32m----> 3\u001b[0m missing \u001b[38;5;241m=\u001b[39m \u001b[43mtext\u001b[49m\u001b[38;5;241;43m.\u001b[39;49m\u001b[43msome_method\u001b[49m()\n",
      "\u001b[1;31mAttributeError\u001b[0m: 'str' object has no attribute 'some_method'"
     ]
    }
   ],
   "source": [
    "text = \"example\"\n",
    "length = len(text)  # No AttributeError, correct method usage\n",
    "missing = text.some_method()  # Raises AttributeError"
   ]
  },
  {
   "cell_type": "markdown",
   "id": "f563d981-a3be-4eb2-9e0d-b4b90f1fd9b5",
   "metadata": {},
   "source": [
    "#### ImportError\n",
    "This error is encountered when an attempt is made to import a module that is unavailable."
   ]
  },
  {
   "cell_type": "code",
   "execution_count": 8,
   "id": "72de9adb-5277-468b-8615-f23342390472",
   "metadata": {},
   "outputs": [
    {
     "ename": "ModuleNotFoundError",
     "evalue": "No module named 'non_existent_module'",
     "output_type": "error",
     "traceback": [
      "\u001b[1;31m---------------------------------------------------------------------------\u001b[0m",
      "\u001b[1;31mModuleNotFoundError\u001b[0m                       Traceback (most recent call last)",
      "Input \u001b[1;32mIn [8]\u001b[0m, in \u001b[0;36m<cell line: 1>\u001b[1;34m()\u001b[0m\n\u001b[1;32m----> 1\u001b[0m \u001b[38;5;28;01mimport\u001b[39;00m \u001b[38;5;21;01mnon_existent_module\u001b[39;00m\n",
      "\u001b[1;31mModuleNotFoundError\u001b[0m: No module named 'non_existent_module'"
     ]
    }
   ],
   "source": [
    "import non_existent_module"
   ]
  },
  {
   "cell_type": "code",
   "execution_count": null,
   "id": "e2d772a6-3b92-42e2-934c-688d279f5cda",
   "metadata": {},
   "outputs": [],
   "source": []
  }
 ],
 "metadata": {
  "kernelspec": {
   "display_name": "Python 3 (ipykernel)",
   "language": "python",
   "name": "python3"
  },
  "language_info": {
   "codemirror_mode": {
    "name": "ipython",
    "version": 3
   },
   "file_extension": ".py",
   "mimetype": "text/x-python",
   "name": "python",
   "nbconvert_exporter": "python",
   "pygments_lexer": "ipython3",
   "version": "3.9.12"
  }
 },
 "nbformat": 4,
 "nbformat_minor": 5
}
