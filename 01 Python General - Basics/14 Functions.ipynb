{
 "cells": [
  {
   "cell_type": "markdown",
   "id": "bad27546",
   "metadata": {},
   "source": [
    "# Functions in Python"
   ]
  },
  {
   "cell_type": "code",
   "execution_count": null,
   "id": "b47c8b4c",
   "metadata": {},
   "outputs": [],
   "source": [
    "# syntax\n",
    "def <function_name>(<parameter1>, <parameter2>, ...):\n",
    "     'Function documentation'\n",
    "     function_body\n",
    "     return <value>    "
   ]
  },
  {
   "cell_type": "code",
   "execution_count": 1,
   "id": "8abfc294",
   "metadata": {},
   "outputs": [
    {
     "name": "stdout",
     "output_type": "stream",
     "text": [
      "Abdu\n"
     ]
    }
   ],
   "source": [
    "def MJ():\n",
    "    return \"Abdu\"\n",
    "print(MJ())"
   ]
  },
  {
   "cell_type": "code",
   "execution_count": 2,
   "id": "1f68b444",
   "metadata": {},
   "outputs": [
    {
     "name": "stdout",
     "output_type": "stream",
     "text": [
      "None\n"
     ]
    }
   ],
   "source": [
    "def nothing():\n",
    "    pass\n",
    "print(nothing())"
   ]
  },
  {
   "cell_type": "code",
   "execution_count": null,
   "id": "9d746fde",
   "metadata": {},
   "outputs": [],
   "source": []
  },
  {
   "cell_type": "code",
   "execution_count": null,
   "id": "90217669",
   "metadata": {},
   "outputs": [],
   "source": []
  }
 ],
 "metadata": {
  "kernelspec": {
   "display_name": "Python 3 (ipykernel)",
   "language": "python",
   "name": "python3"
  },
  "language_info": {
   "codemirror_mode": {
    "name": "ipython",
    "version": 3
   },
   "file_extension": ".py",
   "mimetype": "text/x-python",
   "name": "python",
   "nbconvert_exporter": "python",
   "pygments_lexer": "ipython3",
   "version": "3.9.12"
  }
 },
 "nbformat": 4,
 "nbformat_minor": 5
}
