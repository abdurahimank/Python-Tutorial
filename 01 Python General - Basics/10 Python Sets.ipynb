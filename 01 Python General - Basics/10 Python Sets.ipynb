{
 "cells": [
  {
   "cell_type": "markdown",
   "id": "eaa9a4b9",
   "metadata": {},
   "source": [
    "# Python Sets\n",
    "#### Properties\n",
    "- Unique elements\n",
    "- unordered"
   ]
  },
  {
   "cell_type": "code",
   "execution_count": 4,
   "id": "db72facc",
   "metadata": {},
   "outputs": [
    {
     "data": {
      "text/plain": [
       "['__and__',\n",
       " '__class__',\n",
       " '__class_getitem__',\n",
       " '__contains__',\n",
       " '__delattr__',\n",
       " '__dir__',\n",
       " '__doc__',\n",
       " '__eq__',\n",
       " '__format__',\n",
       " '__ge__',\n",
       " '__getattribute__',\n",
       " '__gt__',\n",
       " '__hash__',\n",
       " '__iand__',\n",
       " '__init__',\n",
       " '__init_subclass__',\n",
       " '__ior__',\n",
       " '__isub__',\n",
       " '__iter__',\n",
       " '__ixor__',\n",
       " '__le__',\n",
       " '__len__',\n",
       " '__lt__',\n",
       " '__ne__',\n",
       " '__new__',\n",
       " '__or__',\n",
       " '__rand__',\n",
       " '__reduce__',\n",
       " '__reduce_ex__',\n",
       " '__repr__',\n",
       " '__ror__',\n",
       " '__rsub__',\n",
       " '__rxor__',\n",
       " '__setattr__',\n",
       " '__sizeof__',\n",
       " '__str__',\n",
       " '__sub__',\n",
       " '__subclasshook__',\n",
       " '__xor__',\n",
       " 'add',\n",
       " 'clear',\n",
       " 'copy',\n",
       " 'difference',\n",
       " 'difference_update',\n",
       " 'discard',\n",
       " 'intersection',\n",
       " 'intersection_update',\n",
       " 'isdisjoint',\n",
       " 'issubset',\n",
       " 'issuperset',\n",
       " 'pop',\n",
       " 'remove',\n",
       " 'symmetric_difference',\n",
       " 'symmetric_difference_update',\n",
       " 'union',\n",
       " 'update']"
      ]
     },
     "execution_count": 4,
     "metadata": {},
     "output_type": "execute_result"
    }
   ],
   "source": [
    "dir(set())"
   ]
  },
  {
   "cell_type": "markdown",
   "id": "7ad8a013",
   "metadata": {},
   "source": [
    "### Creating Sets\n",
    "- {}\n",
    "- set()"
   ]
  },
  {
   "cell_type": "code",
   "execution_count": 1,
   "id": "84c74440",
   "metadata": {},
   "outputs": [
    {
     "data": {
      "text/plain": [
       "{1, 2, 3, 4, 5}"
      ]
     },
     "execution_count": 1,
     "metadata": {},
     "output_type": "execute_result"
    }
   ],
   "source": [
    "x = {1, 2, 3, 4, 3, 2, 5}\n",
    "x"
   ]
  },
  {
   "cell_type": "code",
   "execution_count": 3,
   "id": "ed0b1fcb",
   "metadata": {},
   "outputs": [
    {
     "data": {
      "text/plain": [
       "{1, 2, 'abx'}"
      ]
     },
     "execution_count": 3,
     "metadata": {},
     "output_type": "execute_result"
    }
   ],
   "source": [
    "x = set((1, 2, \"abx\", 2, True))  # both 1 and True have same value\n",
    "x"
   ]
  },
  {
   "cell_type": "code",
   "execution_count": 5,
   "id": "c5fb2e4d",
   "metadata": {},
   "outputs": [
    {
     "data": {
      "text/plain": [
       "3"
      ]
     },
     "execution_count": 5,
     "metadata": {},
     "output_type": "execute_result"
    }
   ],
   "source": [
    "# finding length\n",
    "len(x)"
   ]
  },
  {
   "cell_type": "markdown",
   "id": "3aec9062",
   "metadata": {},
   "source": [
    "### Accessing elements from sets"
   ]
  },
  {
   "cell_type": "code",
   "execution_count": 7,
   "id": "fa2e8353",
   "metadata": {},
   "outputs": [
    {
     "name": "stdout",
     "output_type": "stream",
     "text": [
      "1\n",
      "2\n",
      "3\n",
      "5\n"
     ]
    }
   ],
   "source": [
    "x = set((1, 2, 5, 3, 2))\n",
    "for i in x:\n",
    "    print(i)"
   ]
  },
  {
   "cell_type": "markdown",
   "id": "c385a297",
   "metadata": {},
   "source": [
    "### Adding elements"
   ]
  },
  {
   "cell_type": "markdown",
   "id": "e7f034e4",
   "metadata": {},
   "source": [
    "#### set.add()"
   ]
  },
  {
   "cell_type": "code",
   "execution_count": null,
   "id": "979e3a2a",
   "metadata": {},
   "outputs": [],
   "source": []
  },
  {
   "cell_type": "markdown",
   "id": "36929810",
   "metadata": {},
   "source": [
    "#### set.update()"
   ]
  },
  {
   "cell_type": "code",
   "execution_count": null,
   "id": "e255e048",
   "metadata": {},
   "outputs": [],
   "source": []
  },
  {
   "cell_type": "code",
   "execution_count": null,
   "id": "11a27e6b",
   "metadata": {},
   "outputs": [],
   "source": []
  },
  {
   "cell_type": "markdown",
   "id": "28919d14",
   "metadata": {},
   "source": [
    "### Removing elements from sets"
   ]
  },
  {
   "cell_type": "markdown",
   "id": "1804623f",
   "metadata": {},
   "source": [
    "#### set.remove()\n",
    "will raise error if the element is not present."
   ]
  },
  {
   "cell_type": "code",
   "execution_count": null,
   "id": "957cf5f8",
   "metadata": {},
   "outputs": [],
   "source": []
  },
  {
   "cell_type": "markdown",
   "id": "c004b548",
   "metadata": {},
   "source": [
    "#### set.discard()\n",
    "will not raise error if the element is not present."
   ]
  },
  {
   "cell_type": "code",
   "execution_count": null,
   "id": "18b20b4d",
   "metadata": {},
   "outputs": [],
   "source": []
  },
  {
   "cell_type": "markdown",
   "id": "36ea3985",
   "metadata": {},
   "source": [
    "#### set.pop()"
   ]
  },
  {
   "cell_type": "code",
   "execution_count": null,
   "id": "740aec3a",
   "metadata": {},
   "outputs": [],
   "source": []
  },
  {
   "cell_type": "markdown",
   "id": "bab9dba0",
   "metadata": {},
   "source": [
    "### Set Operations"
   ]
  },
  {
   "cell_type": "markdown",
   "id": "3d7d3fad",
   "metadata": {},
   "source": [
    "#### Union of two sets\n",
    "- |\n",
    "- set.union()"
   ]
  },
  {
   "cell_type": "code",
   "execution_count": 8,
   "id": "c69b3110",
   "metadata": {},
   "outputs": [
    {
     "data": {
      "text/plain": [
       "{1, 2, 3, 4, 5, 'ab', 'ds'}"
      ]
     },
     "execution_count": 8,
     "metadata": {},
     "output_type": "execute_result"
    }
   ],
   "source": [
    "a = set((1, 2, 3))\n",
    "b = set([3, 4, 5])\n",
    "c = {\"ab\", \"ds\"}\n",
    "a.union(b, c)"
   ]
  },
  {
   "cell_type": "markdown",
   "id": "7358bd05",
   "metadata": {},
   "source": [
    "\n",
    "#### Intersection of two sets\n",
    "- &\n",
    "- set.intersection()"
   ]
  },
  {
   "cell_type": "code",
   "execution_count": null,
   "id": "18ec1861",
   "metadata": {},
   "outputs": [],
   "source": []
  },
  {
   "cell_type": "markdown",
   "id": "b4ff3259",
   "metadata": {},
   "source": [
    "#### Difference of two sets\n",
    "- -\n",
    "- set.difference()"
   ]
  },
  {
   "cell_type": "code",
   "execution_count": null,
   "id": "387e88ea",
   "metadata": {},
   "outputs": [],
   "source": []
  },
  {
   "cell_type": "code",
   "execution_count": null,
   "id": "74e68583",
   "metadata": {},
   "outputs": [],
   "source": [
    "# isdisjoint()\n",
    "# issubset()\n",
    "# issuperset()"
   ]
  },
  {
   "cell_type": "markdown",
   "id": "e99d452b",
   "metadata": {},
   "source": [
    "## Frozenset\n",
    "- frozensets are immutable\n",
    "- frozenset can be used as key in dictionary, whereas set cannot be used"
   ]
  },
  {
   "cell_type": "code",
   "execution_count": 9,
   "id": "edea9b29",
   "metadata": {},
   "outputs": [
    {
     "name": "stdout",
     "output_type": "stream",
     "text": [
      "frozenset({1, 2, 3})\n",
      "<class 'frozenset'>\n"
     ]
    }
   ],
   "source": [
    "x = frozenset([1, 2, 3])\n",
    "print(x)\n",
    "print(type(x))"
   ]
  },
  {
   "cell_type": "code",
   "execution_count": null,
   "id": "e344b21c",
   "metadata": {},
   "outputs": [],
   "source": []
  },
  {
   "cell_type": "code",
   "execution_count": null,
   "id": "9e879f13",
   "metadata": {},
   "outputs": [],
   "source": []
  },
  {
   "cell_type": "code",
   "execution_count": null,
   "id": "a013747e",
   "metadata": {},
   "outputs": [],
   "source": []
  },
  {
   "cell_type": "code",
   "execution_count": null,
   "id": "c5c760d7",
   "metadata": {},
   "outputs": [],
   "source": []
  }
 ],
 "metadata": {
  "kernelspec": {
   "display_name": "Python 3 (ipykernel)",
   "language": "python",
   "name": "python3"
  },
  "language_info": {
   "codemirror_mode": {
    "name": "ipython",
    "version": 3
   },
   "file_extension": ".py",
   "mimetype": "text/x-python",
   "name": "python",
   "nbconvert_exporter": "python",
   "pygments_lexer": "ipython3",
   "version": "3.9.12"
  }
 },
 "nbformat": 4,
 "nbformat_minor": 5
}
