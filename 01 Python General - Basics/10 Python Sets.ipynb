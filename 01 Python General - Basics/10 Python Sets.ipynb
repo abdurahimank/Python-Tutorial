{
 "cells": [
  {
   "cell_type": "markdown",
   "id": "eaa9a4b9",
   "metadata": {},
   "source": [
    "# Python Sets\n",
    "#### Table of Contents\n",
    "1. Charecteristcs of Sets\n",
    "2. Creating Sets\n",
    "3. Accessing elements from the sets\n",
    "4. Modifying sets"
   ]
  },
  {
   "cell_type": "markdown",
   "id": "e4268350-a73a-4f5a-87a9-ef6d7f030dc6",
   "metadata": {},
   "source": [
    "# Charecteristcs of Sets\n",
    "- Unique elements\n",
    "- unordered"
   ]
  },
  {
   "cell_type": "code",
   "execution_count": 4,
   "id": "db72facc",
   "metadata": {},
   "outputs": [
    {
     "data": {
      "text/plain": [
       "['__and__',\n",
       " '__class__',\n",
       " '__class_getitem__',\n",
       " '__contains__',\n",
       " '__delattr__',\n",
       " '__dir__',\n",
       " '__doc__',\n",
       " '__eq__',\n",
       " '__format__',\n",
       " '__ge__',\n",
       " '__getattribute__',\n",
       " '__gt__',\n",
       " '__hash__',\n",
       " '__iand__',\n",
       " '__init__',\n",
       " '__init_subclass__',\n",
       " '__ior__',\n",
       " '__isub__',\n",
       " '__iter__',\n",
       " '__ixor__',\n",
       " '__le__',\n",
       " '__len__',\n",
       " '__lt__',\n",
       " '__ne__',\n",
       " '__new__',\n",
       " '__or__',\n",
       " '__rand__',\n",
       " '__reduce__',\n",
       " '__reduce_ex__',\n",
       " '__repr__',\n",
       " '__ror__',\n",
       " '__rsub__',\n",
       " '__rxor__',\n",
       " '__setattr__',\n",
       " '__sizeof__',\n",
       " '__str__',\n",
       " '__sub__',\n",
       " '__subclasshook__',\n",
       " '__xor__',\n",
       " 'add',\n",
       " 'clear',\n",
       " 'copy',\n",
       " 'difference',\n",
       " 'difference_update',\n",
       " 'discard',\n",
       " 'intersection',\n",
       " 'intersection_update',\n",
       " 'isdisjoint',\n",
       " 'issubset',\n",
       " 'issuperset',\n",
       " 'pop',\n",
       " 'remove',\n",
       " 'symmetric_difference',\n",
       " 'symmetric_difference_update',\n",
       " 'union',\n",
       " 'update']"
      ]
     },
     "execution_count": 4,
     "metadata": {},
     "output_type": "execute_result"
    }
   ],
   "source": [
    "dir(set())"
   ]
  },
  {
   "cell_type": "markdown",
   "id": "7ad8a013",
   "metadata": {},
   "source": [
    "# Creating Sets\n",
    "- {}\n",
    "- set()"
   ]
  },
  {
   "cell_type": "code",
   "execution_count": 1,
   "id": "84c74440",
   "metadata": {},
   "outputs": [
    {
     "data": {
      "text/plain": [
       "{1, 2, 3, 4, 5}"
      ]
     },
     "execution_count": 1,
     "metadata": {},
     "output_type": "execute_result"
    }
   ],
   "source": [
    "x = {1, 2, 3, 4, 3, 2, 5}\n",
    "x"
   ]
  },
  {
   "cell_type": "code",
   "execution_count": 3,
   "id": "ed0b1fcb",
   "metadata": {},
   "outputs": [
    {
     "data": {
      "text/plain": [
       "{1, 2, 'abx'}"
      ]
     },
     "execution_count": 3,
     "metadata": {},
     "output_type": "execute_result"
    }
   ],
   "source": [
    "x = set((1, 2, \"abx\", 2, True))  # both 1 and True have same value\n",
    "x"
   ]
  },
  {
   "cell_type": "code",
   "execution_count": 5,
   "id": "c5fb2e4d",
   "metadata": {},
   "outputs": [
    {
     "data": {
      "text/plain": [
       "3"
      ]
     },
     "execution_count": 5,
     "metadata": {},
     "output_type": "execute_result"
    }
   ],
   "source": [
    "# finding length\n",
    "len(x)"
   ]
  },
  {
   "cell_type": "markdown",
   "id": "3aec9062",
   "metadata": {},
   "source": [
    "# Accessing elements from the sets"
   ]
  },
  {
   "cell_type": "code",
   "execution_count": 7,
   "id": "fa2e8353",
   "metadata": {},
   "outputs": [
    {
     "name": "stdout",
     "output_type": "stream",
     "text": [
      "1\n",
      "2\n",
      "3\n",
      "5\n"
     ]
    }
   ],
   "source": [
    "x = set((1, 2, 5, 3, 2))\n",
    "for i in x:\n",
    "    print(i)"
   ]
  },
  {
   "cell_type": "markdown",
   "id": "c385a297",
   "metadata": {},
   "source": [
    "# Modifying sets\n",
    "### Adding elements"
   ]
  },
  {
   "cell_type": "markdown",
   "id": "e7f034e4",
   "metadata": {},
   "source": [
    "#### set.add()"
   ]
  },
  {
   "cell_type": "code",
   "execution_count": null,
   "id": "979e3a2a",
   "metadata": {},
   "outputs": [],
   "source": []
  },
  {
   "cell_type": "markdown",
   "id": "36929810",
   "metadata": {},
   "source": [
    "#### set.update()"
   ]
  },
  {
   "cell_type": "code",
   "execution_count": null,
   "id": "e255e048",
   "metadata": {},
   "outputs": [],
   "source": []
  },
  {
   "cell_type": "code",
   "execution_count": null,
   "id": "11a27e6b",
   "metadata": {},
   "outputs": [],
   "source": []
  },
  {
   "cell_type": "markdown",
   "id": "28919d14",
   "metadata": {},
   "source": [
    "### Removing elements from sets"
   ]
  },
  {
   "cell_type": "markdown",
   "id": "1804623f",
   "metadata": {},
   "source": [
    "#### set.remove()\n",
    "will raise error if the element is not present."
   ]
  },
  {
   "cell_type": "code",
   "execution_count": null,
   "id": "957cf5f8",
   "metadata": {},
   "outputs": [],
   "source": []
  },
  {
   "cell_type": "markdown",
   "id": "c004b548",
   "metadata": {},
   "source": [
    "#### set.discard()\n",
    "will not raise error if the element is not present."
   ]
  },
  {
   "cell_type": "code",
   "execution_count": null,
   "id": "18b20b4d",
   "metadata": {},
   "outputs": [],
   "source": []
  },
  {
   "cell_type": "markdown",
   "id": "36ea3985",
   "metadata": {},
   "source": [
    "#### set.pop()"
   ]
  },
  {
   "cell_type": "code",
   "execution_count": null,
   "id": "740aec3a",
   "metadata": {},
   "outputs": [],
   "source": []
  },
  {
   "cell_type": "markdown",
   "id": "bab9dba0",
   "metadata": {},
   "source": [
    "# Set Operations"
   ]
  },
  {
   "cell_type": "markdown",
   "id": "3d7d3fad",
   "metadata": {},
   "source": [
    "### Union of two sets\n",
    "- |\n",
    "- set.union()"
   ]
  },
  {
   "cell_type": "code",
   "execution_count": 8,
   "id": "c69b3110",
   "metadata": {},
   "outputs": [
    {
     "data": {
      "text/plain": [
       "{1, 2, 3, 4, 5, 'ab', 'ds'}"
      ]
     },
     "execution_count": 8,
     "metadata": {},
     "output_type": "execute_result"
    }
   ],
   "source": [
    "a = set((1, 2, 3))\n",
    "b = set([3, 4, 5])\n",
    "c = {\"ab\", \"ds\"}\n",
    "a.union(b, c)"
   ]
  },
  {
   "cell_type": "code",
   "execution_count": 5,
   "id": "2f5586f9-13c8-404d-ae5f-411a5b3144c4",
   "metadata": {},
   "outputs": [
    {
     "data": {
      "text/plain": [
       "{'AC/DC', 'Back in Black', 'The Dark Side of the Moon', 'Thriller'}"
      ]
     },
     "execution_count": 5,
     "metadata": {},
     "output_type": "execute_result"
    }
   ],
   "source": [
    "album_set1 = set([\"Thriller\", 'AC/DC', 'Back in Black'])\n",
    "album_set2 = set([ \"AC/DC\", \"Back in Black\", \"The Dark Side of the Moon\"])\n",
    "intersection = album_set1 | album_set2\n",
    "intersection"
   ]
  },
  {
   "cell_type": "code",
   "execution_count": 9,
   "id": "76d276d6-2f43-4c75-af30-9e155c68cbc1",
   "metadata": {},
   "outputs": [
    {
     "data": {
      "text/plain": [
       "{'AC/DC', 'Back in Black', 'The Dark Side of the Moon', 'Thriller'}"
      ]
     },
     "execution_count": 9,
     "metadata": {},
     "output_type": "execute_result"
    }
   ],
   "source": [
    "album_set1.union(album_set2)"
   ]
  },
  {
   "cell_type": "markdown",
   "id": "7358bd05",
   "metadata": {},
   "source": [
    "### Intersection of two sets\n",
    "- &\n",
    "- set.intersection()"
   ]
  },
  {
   "cell_type": "code",
   "execution_count": 4,
   "id": "18ec1861",
   "metadata": {},
   "outputs": [
    {
     "data": {
      "text/plain": [
       "{'AC/DC', 'Back in Black'}"
      ]
     },
     "execution_count": 4,
     "metadata": {},
     "output_type": "execute_result"
    }
   ],
   "source": [
    "album_set1 = set([\"Thriller\", 'AC/DC', 'Back in Black'])\n",
    "album_set2 = set([ \"AC/DC\", \"Back in Black\", \"The Dark Side of the Moon\"])\n",
    "intersection = album_set1 & album_set2\n",
    "intersection"
   ]
  },
  {
   "cell_type": "code",
   "execution_count": 8,
   "id": "ccc8eaae-160c-429b-8278-2579d0dae445",
   "metadata": {},
   "outputs": [
    {
     "data": {
      "text/plain": [
       "{'AC/DC', 'Back in Black'}"
      ]
     },
     "execution_count": 8,
     "metadata": {},
     "output_type": "execute_result"
    }
   ],
   "source": [
    "album_set1.intersection(album_set2)  "
   ]
  },
  {
   "cell_type": "markdown",
   "id": "b4ff3259",
   "metadata": {},
   "source": [
    "### Difference of two sets\n",
    "- -\n",
    "- set.difference()"
   ]
  },
  {
   "cell_type": "code",
   "execution_count": 6,
   "id": "387e88ea",
   "metadata": {},
   "outputs": [
    {
     "data": {
      "text/plain": [
       "{'Thriller'}"
      ]
     },
     "execution_count": 6,
     "metadata": {},
     "output_type": "execute_result"
    }
   ],
   "source": [
    "album_set1 = set([\"Thriller\", 'AC/DC', 'Back in Black'])\n",
    "album_set2 = set([ \"AC/DC\", \"Back in Black\", \"The Dark Side of the Moon\"])\n",
    "album_set1.difference(album_set2) "
   ]
  },
  {
   "cell_type": "code",
   "execution_count": 7,
   "id": "b8295872-5077-441c-a1c1-5448df6a91bb",
   "metadata": {},
   "outputs": [
    {
     "data": {
      "text/plain": [
       "{'The Dark Side of the Moon'}"
      ]
     },
     "execution_count": 7,
     "metadata": {},
     "output_type": "execute_result"
    }
   ],
   "source": [
    "album_set1 = set([\"Thriller\", 'AC/DC', 'Back in Black'])\n",
    "album_set2 = set([ \"AC/DC\", \"Back in Black\", \"The Dark Side of the Moon\"])\n",
    "album_set2.difference(album_set1)  "
   ]
  },
  {
   "cell_type": "code",
   "execution_count": null,
   "id": "74e68583",
   "metadata": {},
   "outputs": [],
   "source": [
    "# isdisjoint()\n",
    "# issubset()\n",
    "# issuperset()"
   ]
  },
  {
   "cell_type": "code",
   "execution_count": 10,
   "id": "af8e852a-3db1-40d0-834d-bc76425b4e38",
   "metadata": {},
   "outputs": [
    {
     "data": {
      "text/plain": [
       "False"
      ]
     },
     "execution_count": 10,
     "metadata": {},
     "output_type": "execute_result"
    }
   ],
   "source": [
    "album_set1 = set([\"Thriller\", 'AC/DC', 'Back in Black'])\n",
    "album_set2 = set([ \"AC/DC\", \"Back in Black\", \"The Dark Side of the Moon\"])\n",
    "set(album_set1).issuperset(album_set2)"
   ]
  },
  {
   "cell_type": "code",
   "execution_count": 11,
   "id": "b07539a8-319c-430b-a622-ec3e968ad2a8",
   "metadata": {},
   "outputs": [
    {
     "data": {
      "text/plain": [
       "False"
      ]
     },
     "execution_count": 11,
     "metadata": {},
     "output_type": "execute_result"
    }
   ],
   "source": [
    "set(album_set2).issubset(album_set1)   "
   ]
  },
  {
   "cell_type": "code",
   "execution_count": 12,
   "id": "d183feff-394e-4ae6-911f-6300ac8d0edf",
   "metadata": {},
   "outputs": [
    {
     "data": {
      "text/plain": [
       "True"
      ]
     },
     "execution_count": 12,
     "metadata": {},
     "output_type": "execute_result"
    }
   ],
   "source": [
    "set({\"Back in Black\", \"AC/DC\"}).issubset(album_set1) "
   ]
  },
  {
   "cell_type": "code",
   "execution_count": 13,
   "id": "e28a6a4f-b849-48c1-bc02-e4b442734bec",
   "metadata": {},
   "outputs": [
    {
     "data": {
      "text/plain": [
       "True"
      ]
     },
     "execution_count": 13,
     "metadata": {},
     "output_type": "execute_result"
    }
   ],
   "source": [
    "album_set1.issuperset({\"Back in Black\", \"AC/DC\"})  "
   ]
  },
  {
   "cell_type": "markdown",
   "id": "e99d452b",
   "metadata": {},
   "source": [
    "## Frozenset\n",
    "- frozensets are immutable\n",
    "- frozenset can be used as key in dictionary, whereas set cannot be used"
   ]
  },
  {
   "cell_type": "code",
   "execution_count": 9,
   "id": "edea9b29",
   "metadata": {},
   "outputs": [
    {
     "name": "stdout",
     "output_type": "stream",
     "text": [
      "frozenset({1, 2, 3})\n",
      "<class 'frozenset'>\n"
     ]
    }
   ],
   "source": [
    "x = frozenset([1, 2, 3])\n",
    "print(x)\n",
    "print(type(x))"
   ]
  },
  {
   "cell_type": "code",
   "execution_count": null,
   "id": "e344b21c",
   "metadata": {},
   "outputs": [],
   "source": []
  },
  {
   "cell_type": "code",
   "execution_count": 1,
   "id": "9e879f13",
   "metadata": {},
   "outputs": [
    {
     "data": {
      "text/plain": [
       "True"
      ]
     },
     "execution_count": 1,
     "metadata": {},
     "output_type": "execute_result"
    }
   ],
   "source": [
    " '1' in {'1','2'} "
   ]
  },
  {
   "cell_type": "code",
   "execution_count": null,
   "id": "a013747e",
   "metadata": {},
   "outputs": [],
   "source": [
    "issubset()"
   ]
  },
  {
   "cell_type": "code",
   "execution_count": null,
   "id": "c5c760d7",
   "metadata": {},
   "outputs": [],
   "source": [
    "issuperset()"
   ]
  }
 ],
 "metadata": {
  "kernelspec": {
   "display_name": "Python 3 (ipykernel)",
   "language": "python",
   "name": "python3"
  },
  "language_info": {
   "codemirror_mode": {
    "name": "ipython",
    "version": 3
   },
   "file_extension": ".py",
   "mimetype": "text/x-python",
   "name": "python",
   "nbconvert_exporter": "python",
   "pygments_lexer": "ipython3",
   "version": "3.9.12"
  }
 },
 "nbformat": 4,
 "nbformat_minor": 5
}
