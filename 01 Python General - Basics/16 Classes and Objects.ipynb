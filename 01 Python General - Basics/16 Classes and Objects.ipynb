{
 "cells": [
  {
   "cell_type": "markdown",
   "id": "391acf35",
   "metadata": {},
   "source": [
    "# Classes and Objects\n",
    "- Class is the blueprint, Objects are the instance of the classes\n",
    "- A Class is a template which contains\n",
    "  1.instructions to build an object.\n",
    "  2.methods that can be used by the object to exhibit a specific behaviour.\n",
    "\n",
    "- class keyword is used to define a class in Python.\n",
    "\n",
    "### The Four Pillars of Object Oriented Programming/ Class\n",
    "1. Abstraction.\n",
    "   - means working with something you know how to use without knowing how it works internally.\n",
    "2. Encapsulation.\n",
    "   - allows binding data and associated methods together in a unit i.e class.\n",
    "3. Inheritance.\n",
    "4. Polymorphism.\n",
    "   - Polymorphism allows a subclass to override or change a specific behavior, exhibited by the parent class \n",
    "- These principles together allows a programmer to define an interface for applications, i.e. to define all tasks the program is capable to execute and their respective input and output data.\n",
    "- A good example is a television set. We don’t need to know the inner workings of a TV, in order to use it. All we need to know is how to use the remote control (i.e the interface for the user to interact with the TV)."
   ]
  },
  {
   "cell_type": "code",
   "execution_count": null,
   "id": "eb2670f0",
   "metadata": {},
   "outputs": [],
   "source": [
    "# Syntax\n",
    "class <ClassName>(<parent1>, ... ):  # If there are parents\n",
    "    class_body\n",
    "\n",
    "class <ClassName>:  # If there are no parents\n",
    "    class_body"
   ]
  },
  {
   "cell_type": "markdown",
   "id": "fa09cd4b",
   "metadata": {},
   "source": [
    "### Creating Class"
   ]
  },
  {
   "cell_type": "code",
   "execution_count": 2,
   "id": "493ed6f5",
   "metadata": {},
   "outputs": [
    {
     "name": "stdout",
     "output_type": "stream",
     "text": [
      "5\n"
     ]
    }
   ],
   "source": [
    "# Create a Class\n",
    "class MyClass:\n",
    "    x = 5\n",
    "    \n",
    "\n",
    "# Create Object\n",
    "obj = MyClass()\n",
    "print(obj.x)"
   ]
  },
  {
   "cell_type": "markdown",
   "id": "2cbcf3f4",
   "metadata": {},
   "source": [
    "#### Attributes\n",
    "- You can set attributes, one a time, to an instantiated object and access it using the dot notation.\n",
    "- The value which is set to an attribute can be anything: a Python primitive, a built-in data type, another object. It can even be a function or a class.\n",
    "\n",
    "**Class Attribute and Object Attribute**\n"
   ]
  },
  {
   "cell_type": "code",
   "execution_count": 1,
   "id": "eeabfcaf",
   "metadata": {},
   "outputs": [
    {
     "name": "stdout",
     "output_type": "stream",
     "text": [
      "Jack - Simmons\n"
     ]
    }
   ],
   "source": [
    "# Object attribute can be added after creating objects and it is specific to that object only\n",
    "class Person:\n",
    "    pass\n",
    "p1 = Person()\n",
    "p1.fname = 'Jack'\n",
    "p1.lname = 'Simmons'\n",
    "print(p1.fname, '-', p1.lname)  # -> 'Jack - Simmons'"
   ]
  },
  {
   "cell_type": "markdown",
   "id": "f9360c14",
   "metadata": {},
   "source": [
    "#### Class Methods"
   ]
  },
  {
   "cell_type": "code",
   "execution_count": null,
   "id": "aa5f11c4",
   "metadata": {},
   "outputs": [],
   "source": []
  },
  {
   "cell_type": "code",
   "execution_count": null,
   "id": "1cc5577a",
   "metadata": {},
   "outputs": [],
   "source": []
  },
  {
   "cell_type": "markdown",
   "id": "6b97dbed",
   "metadata": {},
   "source": [
    "#### The __init__() Function\n",
    "- __init__() function is used to give parameters when object is created\n",
    "- This method is called by default, during an object creation.\n",
    "- It takes values passed inside the parenthesis, during an object creation, as it's arguments.\n",
    "- It also takes self as the first argument, which refers to the current object."
   ]
  },
  {
   "cell_type": "code",
   "execution_count": 1,
   "id": "76bbbe8c",
   "metadata": {},
   "outputs": [],
   "source": [
    "class Person:\n",
    "    def __init__(self, name, age):\n",
    "        self.name = name\n",
    "        self.age = age\n",
    "        \n",
    "\n",
    "p1 = Person(\"Abdu\", 26)"
   ]
  },
  {
   "cell_type": "code",
   "execution_count": 2,
   "id": "ce605cfd",
   "metadata": {},
   "outputs": [
    {
     "name": "stdout",
     "output_type": "stream",
     "text": [
      "Abdu\n",
      "26\n"
     ]
    }
   ],
   "source": [
    "print(p1.name)\n",
    "print(p1.age)"
   ]
  },
  {
   "cell_type": "markdown",
   "id": "d2742955",
   "metadata": {},
   "source": [
    "### Inheritance\n",
    "- Inheritance describes is a kind of relationship between two or more classes, abstracting common details into super class and storing specific ones in the subclass.\n",
    "- To create a child class, specify the parent class name inside the pair of parenthesis, followed by it's name."
   ]
  },
  {
   "cell_type": "code",
   "execution_count": null,
   "id": "ce08166d",
   "metadata": {},
   "outputs": [],
   "source": [
    "# Syntax\n",
    "class Child(Parent):  \n",
    "   pass"
   ]
  },
  {
   "cell_type": "markdown",
   "id": "cdda44da",
   "metadata": {},
   "source": [
    "- In Python, every class uses inheritance and is inherited from **object** by default.\n",
    "- Hence, the below two definitions of MySubClass are same."
   ]
  },
  {
   "cell_type": "code",
   "execution_count": null,
   "id": "264cc401",
   "metadata": {},
   "outputs": [],
   "source": [
    "class MySubClass:   \n",
    "   pass\n",
    "\n",
    "class MySubClass(object):   \n",
    "    pass    "
   ]
  },
  {
   "cell_type": "code",
   "execution_count": 3,
   "id": "e2fab953",
   "metadata": {},
   "outputs": [],
   "source": [
    "class Person:\n",
    "    def __init__(self, fname, lname):\n",
    "        self.fname = fname\n",
    "        self.lname = lname\n",
    "class Employee(Person):\n",
    "    all_employees = []\n",
    "    def __init__(self, fname, lname, empid):\n",
    "        Person.__init__(self, fname, lname)\n",
    "        self.empid = empid\n",
    "        Employee.all_employees.append(self)"
   ]
  },
  {
   "cell_type": "code",
   "execution_count": 4,
   "id": "b234653d",
   "metadata": {},
   "outputs": [
    {
     "name": "stdout",
     "output_type": "stream",
     "text": [
      "George - smith\n",
      "Jack - 456342\n",
      "John - 123656\n"
     ]
    }
   ],
   "source": [
    "p1 = Person('George', 'smith')\n",
    "print(p1.fname, '-', p1.lname)\n",
    "e1 = Employee('Jack', 'simmons', 456342)\n",
    "e2 = Employee('John', 'williams', 123656)\n",
    "print(e1.fname, '-', e1.empid)\n",
    "print(e2.fname, '-', e2.empid)"
   ]
  },
  {
   "cell_type": "code",
   "execution_count": 1,
   "id": "9fc42611",
   "metadata": {},
   "outputs": [
    {
     "name": "stdout",
     "output_type": "stream",
     "text": [
      "True\n"
     ]
    }
   ],
   "source": [
    "x = 200\n",
    "print(isinstance(x, int))"
   ]
  },
  {
   "cell_type": "markdown",
   "id": "39d97963",
   "metadata": {},
   "source": [
    "#### isinstance(object, type)\n",
    "The **isinstance()** function returns **True** if the specified object is of the specified type, otherwise **False**."
   ]
  },
  {
   "cell_type": "code",
   "execution_count": 1,
   "id": "4cf9900e",
   "metadata": {},
   "outputs": [
    {
     "name": "stdout",
     "output_type": "stream",
     "text": [
      "True\n"
     ]
    }
   ],
   "source": [
    "print(isinstance(1, int))"
   ]
  },
  {
   "cell_type": "markdown",
   "id": "e0dce44f",
   "metadata": {},
   "source": [
    "#### issubclass(object, subclass)\n",
    "The **issubclass()** function returns **True** if the specified object is a subclass of the specified object, otherwise **False**.\n",
    "- object - Required. An object.\n",
    "- subclass - A class object, or a tuple of class objects"
   ]
  },
  {
   "cell_type": "code",
   "execution_count": 3,
   "id": "e8beb39e",
   "metadata": {},
   "outputs": [
    {
     "name": "stdout",
     "output_type": "stream",
     "text": [
      "True\n"
     ]
    }
   ],
   "source": [
    "class myAge:\n",
    "  age = 36\n",
    "\n",
    "class myObj(myAge):\n",
    "  name = \"John\"\n",
    "  age = myAge\n",
    "\n",
    "x = issubclass(myObj, myAge)\n",
    "print(x)"
   ]
  },
  {
   "cell_type": "markdown",
   "id": "afcaea41",
   "metadata": {},
   "source": [
    "### Polymorphism"
   ]
  },
  {
   "cell_type": "code",
   "execution_count": 7,
   "id": "c2752739",
   "metadata": {},
   "outputs": [],
   "source": [
    "# Definition of ContractEmployee class derived from Employee. \n",
    "# It overrides functionality of getSalary and getBonus methods found in it's parent class Employee.\n",
    "class Employee(Person):\n",
    "    all_employees = []\n",
    "    def __init__(self, fname, lname, empid):\n",
    "        Person.__init__(self, fname, lname)\n",
    "        self.empid = empid\n",
    "        Employee.all_employees.append(self)\n",
    "    def getSalary(self):\n",
    "        return 'You get Monthly salary.'\n",
    "    def getBonus(self):\n",
    "        return 'You are eligible for Bonus.'"
   ]
  },
  {
   "cell_type": "code",
   "execution_count": 10,
   "id": "ec9fbe9e",
   "metadata": {},
   "outputs": [
    {
     "name": "stdout",
     "output_type": "stream",
     "text": [
      "You are eligible for Bonus.\n",
      "You are not eligible for Bonus.\n"
     ]
    }
   ],
   "source": [
    "class ContractEmployee(Employee):\n",
    "    def getSalary(self):\n",
    "        return 'You will not get Salary from Organization.'\n",
    "    def getBonus(self):\n",
    "        return 'You are not eligible for Bonus.'\n",
    "e1 = Employee('Jack', 'simmons', 456342)\n",
    "e2 = ContractEmployee('John', 'williams', 123656)\n",
    "print(e1.getBonus())\n",
    "print(e2.getBonus())"
   ]
  },
  {
   "cell_type": "markdown",
   "id": "0c3fd03e",
   "metadata": {},
   "source": [
    "### Abstraction\n",
    "- It is also used to block users interfering in the internal codes of a object"
   ]
  },
  {
   "cell_type": "markdown",
   "id": "96798357",
   "metadata": {},
   "source": [
    "- Direct access to data can be restricted by making required attributes or methods private, just by prefixing it's name with one or two underscores.\n",
    "- An attribute or a method starting with:\n",
    "  - no underscores is a public one.\n",
    "  - a single underscore is private, however, still accessible from outside.\n",
    "  - double underscores is strongly private and not accessible from outside."
   ]
  },
  {
   "cell_type": "code",
   "execution_count": 13,
   "id": "5e474b56",
   "metadata": {},
   "outputs": [],
   "source": [
    "# empid attribute of Employee class is made private and is accessible outside the class only using the method getEmpid.\n",
    "class Employee(Person):\n",
    "    all_employees = []\n",
    "    def __init__(self, fname, lname, empid):\n",
    "        Person.__init__(self, fname, lname)\n",
    "        self.__empid = empid\n",
    "        Employee.all_employees.append(self)\n",
    "    def getEmpid(self):\n",
    "        return self.__empid"
   ]
  },
  {
   "cell_type": "code",
   "execution_count": 14,
   "id": "912b49bc",
   "metadata": {},
   "outputs": [
    {
     "name": "stdout",
     "output_type": "stream",
     "text": [
      "Jack simmons\n",
      "456342\n"
     ]
    }
   ],
   "source": [
    "e1 = Employee('Jack', 'simmons', 456342)\n",
    "print(e1.fname, e1.lname)\n",
    "print(e1.getEmpid())"
   ]
  },
  {
   "cell_type": "code",
   "execution_count": 15,
   "id": "1d7f6faa",
   "metadata": {},
   "outputs": [
    {
     "ename": "AttributeError",
     "evalue": "'Employee' object has no attribute '__empid'",
     "output_type": "error",
     "traceback": [
      "\u001b[1;31m---------------------------------------------------------------------------\u001b[0m",
      "\u001b[1;31mAttributeError\u001b[0m                            Traceback (most recent call last)",
      "Input \u001b[1;32mIn [15]\u001b[0m, in \u001b[0;36m<cell line: 1>\u001b[1;34m()\u001b[0m\n\u001b[1;32m----> 1\u001b[0m \u001b[38;5;28mprint\u001b[39m(\u001b[43me1\u001b[49m\u001b[38;5;241;43m.\u001b[39;49m\u001b[43m__empid\u001b[49m)\n",
      "\u001b[1;31mAttributeError\u001b[0m: 'Employee' object has no attribute '__empid'"
     ]
    }
   ],
   "source": [
    "print(e1.__empid)"
   ]
  },
  {
   "cell_type": "markdown",
   "id": "b279dcf8",
   "metadata": {},
   "source": [
    "### Documenting a Class"
   ]
  },
  {
   "cell_type": "code",
   "execution_count": null,
   "id": "b777a7e0",
   "metadata": {},
   "outputs": [],
   "source": []
  }
 ],
 "metadata": {
  "kernelspec": {
   "display_name": "Python 3 (ipykernel)",
   "language": "python",
   "name": "python3"
  },
  "language_info": {
   "codemirror_mode": {
    "name": "ipython",
    "version": 3
   },
   "file_extension": ".py",
   "mimetype": "text/x-python",
   "name": "python",
   "nbconvert_exporter": "python",
   "pygments_lexer": "ipython3",
   "version": "3.9.12"
  }
 },
 "nbformat": 4,
 "nbformat_minor": 5
}
