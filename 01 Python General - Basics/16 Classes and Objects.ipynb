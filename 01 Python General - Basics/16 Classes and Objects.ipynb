{
 "cells": [
  {
   "cell_type": "markdown",
   "id": "391acf35",
   "metadata": {},
   "source": [
    "# Classes and Objects"
   ]
  },
  {
   "cell_type": "code",
   "execution_count": 2,
   "id": "493ed6f5",
   "metadata": {},
   "outputs": [
    {
     "name": "stdout",
     "output_type": "stream",
     "text": [
      "5\n"
     ]
    }
   ],
   "source": [
    "# Create a Class\n",
    "class MyClass:\n",
    "    x = 5\n",
    "    \n",
    "\n",
    "# Create Object\n",
    "obj = MyClass()\n",
    "print(obj.x)"
   ]
  },
  {
   "cell_type": "code",
   "execution_count": null,
   "id": "1cc5577a",
   "metadata": {},
   "outputs": [],
   "source": [
    "# Class attributes and Methods"
   ]
  },
  {
   "cell_type": "markdown",
   "id": "6b97dbed",
   "metadata": {},
   "source": [
    "#### The __init__() Function"
   ]
  },
  {
   "cell_type": "code",
   "execution_count": 1,
   "id": "76bbbe8c",
   "metadata": {},
   "outputs": [],
   "source": [
    "class Person:\n",
    "    def __init__(self, name, age):\n",
    "        self.name = name\n",
    "        self.age = age\n",
    "        \n",
    "\n",
    "p1 = Person(\"Abdu\", 26)"
   ]
  },
  {
   "cell_type": "code",
   "execution_count": 2,
   "id": "ce605cfd",
   "metadata": {},
   "outputs": [
    {
     "name": "stdout",
     "output_type": "stream",
     "text": [
      "Abdu\n",
      "26\n"
     ]
    }
   ],
   "source": [
    "print(p1.name)\n",
    "print(p1.age)"
   ]
  },
  {
   "cell_type": "markdown",
   "id": "d2742955",
   "metadata": {},
   "source": [
    "## Inheritance"
   ]
  },
  {
   "cell_type": "code",
   "execution_count": null,
   "id": "ce08166d",
   "metadata": {},
   "outputs": [],
   "source": []
  },
  {
   "cell_type": "code",
   "execution_count": null,
   "id": "f999e438",
   "metadata": {},
   "outputs": [],
   "source": []
  },
  {
   "cell_type": "code",
   "execution_count": 1,
   "id": "9fc42611",
   "metadata": {},
   "outputs": [
    {
     "name": "stdout",
     "output_type": "stream",
     "text": [
      "True\n"
     ]
    }
   ],
   "source": [
    "x = 200\n",
    "print(isinstance(x, int))"
   ]
  },
  {
   "cell_type": "markdown",
   "id": "39d97963",
   "metadata": {},
   "source": [
    "### isinstance(object, type)\n",
    "The **isinstance()** function returns **True** if the specified object is of the specified type, otherwise **False**."
   ]
  },
  {
   "cell_type": "code",
   "execution_count": 1,
   "id": "4cf9900e",
   "metadata": {},
   "outputs": [
    {
     "name": "stdout",
     "output_type": "stream",
     "text": [
      "True\n"
     ]
    }
   ],
   "source": [
    "print(isinstance(1, int))"
   ]
  },
  {
   "cell_type": "markdown",
   "id": "e0dce44f",
   "metadata": {},
   "source": [
    "### issubclass(object, subclass)\n",
    "The **issubclass()** function returns **True** if the specified object is a subclass of the specified object, otherwise **False**.\n",
    "- object - Required. An object.\n",
    "- subclass - A class object, or a tuple of class objects"
   ]
  },
  {
   "cell_type": "code",
   "execution_count": 3,
   "id": "e8beb39e",
   "metadata": {},
   "outputs": [
    {
     "name": "stdout",
     "output_type": "stream",
     "text": [
      "True\n"
     ]
    }
   ],
   "source": [
    "class myAge:\n",
    "  age = 36\n",
    "\n",
    "class myObj(myAge):\n",
    "  name = \"John\"\n",
    "  age = myAge\n",
    "\n",
    "x = issubclass(myObj, myAge)\n",
    "print(x)"
   ]
  },
  {
   "cell_type": "code",
   "execution_count": null,
   "id": "6eb3de83",
   "metadata": {},
   "outputs": [],
   "source": []
  }
 ],
 "metadata": {
  "kernelspec": {
   "display_name": "Python 3 (ipykernel)",
   "language": "python",
   "name": "python3"
  },
  "language_info": {
   "codemirror_mode": {
    "name": "ipython",
    "version": 3
   },
   "file_extension": ".py",
   "mimetype": "text/x-python",
   "name": "python",
   "nbconvert_exporter": "python",
   "pygments_lexer": "ipython3",
   "version": "3.9.12"
  }
 },
 "nbformat": 4,
 "nbformat_minor": 5
}
