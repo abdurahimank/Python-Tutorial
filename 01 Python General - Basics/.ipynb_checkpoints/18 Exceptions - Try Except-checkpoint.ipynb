{
 "cells": [
  {
   "cell_type": "markdown",
   "id": "03a87d6a",
   "metadata": {},
   "source": [
    "# Exception in Python\n",
    "- There are many built-in exceptions in Python, which are directly or indirectly derived from Exception class.\n",
    "- Python also allows a programmer to create custom exceptions, derived from base Exception class."
   ]
  },
  {
   "cell_type": "code",
   "execution_count": 3,
   "id": "093bd273",
   "metadata": {},
   "outputs": [],
   "source": [
    "class CustomError(Exception):\n",
    "    def __init__(self, value):\n",
    "        self.value = value\n",
    "    def __str__(self):\n",
    "        return str(self.value)"
   ]
  },
  {
   "cell_type": "code",
   "execution_count": 6,
   "id": "1a5a72e6",
   "metadata": {},
   "outputs": [
    {
     "name": "stdout",
     "output_type": "stream",
     "text": [
      "Two inputs must be integers.\n"
     ]
    }
   ],
   "source": [
    "try:\n",
    "    a = 2; b = 'hello'\n",
    "    if not (isinstance(a, int)\n",
    "            and isinstance(b, int)):\n",
    "        raise CustomError('Two inputs must be integers.')\n",
    "    c = a**b\n",
    "except CustomError as e:  # CustomError is raised in above example, instead of TypeError.\n",
    "    print(e)"
   ]
  },
  {
   "cell_type": "code",
   "execution_count": null,
   "id": "e0af6386",
   "metadata": {},
   "outputs": [],
   "source": []
  },
  {
   "cell_type": "markdown",
   "id": "29417cb9",
   "metadata": {},
   "source": [
    "# Try - Except"
   ]
  },
  {
   "cell_type": "markdown",
   "id": "3c9c598b",
   "metadata": {},
   "source": [
    "- The **try** block lets you test a block of code for errors.\n",
    "- The **except** block lets you handle the error.\n",
    "- The **else** block lets you execute code when there is no error.\n",
    "- The **finally** block lets you execute code, regardless of the result of the try- and except blocks."
   ]
  },
  {
   "cell_type": "code",
   "execution_count": 1,
   "id": "4fddfbc1",
   "metadata": {},
   "outputs": [
    {
     "name": "stdout",
     "output_type": "stream",
     "text": [
      "Value of 'a' : 16\n",
      "oops!!!\n",
      "Out of try ... except.\n"
     ]
    }
   ],
   "source": [
    "# Example : try - except\n",
    "try:\n",
    "    a = pow(2, 4)\n",
    "    print(\"Value of 'a' :\", a)\n",
    "    b = pow(2, 'hello')   # results in exception\n",
    "    print(\"Value of 'b' :\", b)\n",
    "except TypeError as e:\n",
    "    print('oops!!!')\n",
    "print('Out of try ... except.')"
   ]
  },
  {
   "cell_type": "code",
   "execution_count": 7,
   "id": "cded5e34",
   "metadata": {},
   "outputs": [],
   "source": [
    "# Example : try - except - finally\n",
    "def divide(a,b):\n",
    "    try:\n",
    "        result = a / b\n",
    "        return result\n",
    "    except ZeroDivisionError:\n",
    "        print(\"Dividing by Zero.\")\n",
    "    finally:\n",
    "        print(\"In finally clause.\")"
   ]
  },
  {
   "cell_type": "code",
   "execution_count": 8,
   "id": "df57eb9f",
   "metadata": {},
   "outputs": [
    {
     "name": "stdout",
     "output_type": "stream",
     "text": [
      "First call\n",
      "In finally clause.\n",
      "2.0\n"
     ]
    }
   ],
   "source": [
    "print('First call')\n",
    "print(divide(14, 7))"
   ]
  },
  {
   "cell_type": "code",
   "execution_count": 9,
   "id": "c0656176",
   "metadata": {},
   "outputs": [
    {
     "name": "stdout",
     "output_type": "stream",
     "text": [
      "Second call\n",
      "Dividing by Zero.\n",
      "In finally clause.\n",
      "None\n"
     ]
    }
   ],
   "source": [
    "print('Second call')\n",
    "print(divide(14, 0))"
   ]
  },
  {
   "cell_type": "code",
   "execution_count": 10,
   "id": "fc23f47e",
   "metadata": {},
   "outputs": [
    {
     "name": "stdout",
     "output_type": "stream",
     "text": [
      "First ELSE\n",
      "oops!!!\n"
     ]
    }
   ],
   "source": [
    "# Example : try - except - else\n",
    "try:\n",
    "    a = 14 / 7\n",
    "except ZeroDivisionError:\n",
    "    print('oops!!!')\n",
    "else:\n",
    "    print('First ELSE')\n",
    "try:\n",
    "    a = 14 / 0\n",
    "except ZeroDivisionError:\n",
    "    print('oops!!!')\n",
    "else:\n",
    "    print('Second ELSE')"
   ]
  },
  {
   "cell_type": "code",
   "execution_count": null,
   "id": "c1429687",
   "metadata": {},
   "outputs": [],
   "source": []
  },
  {
   "cell_type": "code",
   "execution_count": null,
   "id": "cea60313",
   "metadata": {},
   "outputs": [],
   "source": []
  },
  {
   "cell_type": "markdown",
   "id": "088954fd",
   "metadata": {},
   "source": [
    "## Raise an exception\n",
    "To throw (or raise) an exception, use the **raise** keyword."
   ]
  },
  {
   "cell_type": "code",
   "execution_count": 1,
   "id": "253a4264",
   "metadata": {},
   "outputs": [
    {
     "ename": "Exception",
     "evalue": "Sorry, no numbers below zero",
     "output_type": "error",
     "traceback": [
      "\u001b[1;31m---------------------------------------------------------------------------\u001b[0m",
      "\u001b[1;31mException\u001b[0m                                 Traceback (most recent call last)",
      "Input \u001b[1;32mIn [1]\u001b[0m, in \u001b[0;36m<cell line: 3>\u001b[1;34m()\u001b[0m\n\u001b[0;32m      1\u001b[0m x \u001b[38;5;241m=\u001b[39m \u001b[38;5;241m-\u001b[39m\u001b[38;5;241m1\u001b[39m\n\u001b[0;32m      3\u001b[0m \u001b[38;5;28;01mif\u001b[39;00m x \u001b[38;5;241m<\u001b[39m \u001b[38;5;241m0\u001b[39m:\n\u001b[1;32m----> 4\u001b[0m   \u001b[38;5;28;01mraise\u001b[39;00m \u001b[38;5;167;01mException\u001b[39;00m(\u001b[38;5;124m\"\u001b[39m\u001b[38;5;124mSorry, no numbers below zero\u001b[39m\u001b[38;5;124m\"\u001b[39m)\n",
      "\u001b[1;31mException\u001b[0m: Sorry, no numbers below zero"
     ]
    }
   ],
   "source": [
    "x = -1\n",
    "\n",
    "if x < 0:\n",
    "  raise Exception(\"Sorry, no numbers below zero\")"
   ]
  },
  {
   "cell_type": "code",
   "execution_count": 2,
   "id": "e9a82d89",
   "metadata": {},
   "outputs": [
    {
     "ename": "TypeError",
     "evalue": "Only integers are allowed",
     "output_type": "error",
     "traceback": [
      "\u001b[1;31m---------------------------------------------------------------------------\u001b[0m",
      "\u001b[1;31mTypeError\u001b[0m                                 Traceback (most recent call last)",
      "Input \u001b[1;32mIn [2]\u001b[0m, in \u001b[0;36m<cell line: 3>\u001b[1;34m()\u001b[0m\n\u001b[0;32m      1\u001b[0m x \u001b[38;5;241m=\u001b[39m \u001b[38;5;124m\"\u001b[39m\u001b[38;5;124mhello\u001b[39m\u001b[38;5;124m\"\u001b[39m\n\u001b[0;32m      3\u001b[0m \u001b[38;5;28;01mif\u001b[39;00m \u001b[38;5;129;01mnot\u001b[39;00m \u001b[38;5;28mtype\u001b[39m(x) \u001b[38;5;129;01mis\u001b[39;00m \u001b[38;5;28mint\u001b[39m:\n\u001b[1;32m----> 4\u001b[0m   \u001b[38;5;28;01mraise\u001b[39;00m \u001b[38;5;167;01mTypeError\u001b[39;00m(\u001b[38;5;124m\"\u001b[39m\u001b[38;5;124mOnly integers are allowed\u001b[39m\u001b[38;5;124m\"\u001b[39m)\n",
      "\u001b[1;31mTypeError\u001b[0m: Only integers are allowed"
     ]
    }
   ],
   "source": [
    "x = \"hello\"\n",
    "\n",
    "if not type(x) is int:\n",
    "  raise TypeError(\"Only integers are allowed\")"
   ]
  },
  {
   "cell_type": "code",
   "execution_count": 2,
   "id": "3a01b733",
   "metadata": {},
   "outputs": [
    {
     "name": "stdout",
     "output_type": "stream",
     "text": [
      "Two inputs must be integers.\n"
     ]
    }
   ],
   "source": [
    "try:\n",
    "    a = 2; b = 'hello'\n",
    "    if not (isinstance(a, int)\n",
    "            and isinstance(b, int)):\n",
    "        raise TypeError('Two inputs must be integers.')\n",
    "    c = a**b\n",
    "except TypeError as e:\n",
    "    print(e)"
   ]
  },
  {
   "cell_type": "code",
   "execution_count": null,
   "id": "686c4e0d",
   "metadata": {},
   "outputs": [],
   "source": []
  }
 ],
 "metadata": {
  "kernelspec": {
   "display_name": "Python 3 (ipykernel)",
   "language": "python",
   "name": "python3"
  },
  "language_info": {
   "codemirror_mode": {
    "name": "ipython",
    "version": 3
   },
   "file_extension": ".py",
   "mimetype": "text/x-python",
   "name": "python",
   "nbconvert_exporter": "python",
   "pygments_lexer": "ipython3",
   "version": "3.9.12"
  }
 },
 "nbformat": 4,
 "nbformat_minor": 5
}
