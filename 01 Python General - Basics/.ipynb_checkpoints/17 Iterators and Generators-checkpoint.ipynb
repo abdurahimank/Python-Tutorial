{
 "cells": [
  {
   "cell_type": "markdown",
   "id": "55bc0a7a",
   "metadata": {},
   "source": [
    "# Iterators\n",
    "- An Iterator is an object, which allows a programmer to traverse through all the elements of a collection, regardless of its specific implementation.\n",
    "- Values of an Iterator can be accessed only once and in sequential order."
   ]
  },
  {
   "cell_type": "code",
   "execution_count": 1,
   "id": "01621270",
   "metadata": {},
   "outputs": [
    {
     "name": "stdout",
     "output_type": "stream",
     "text": [
      "6\n"
     ]
    }
   ],
   "source": [
    "x = [6, 3, 1]\n",
    "s = iter(x)            \n",
    "print(next(s))      # -> 6"
   ]
  },
  {
   "cell_type": "code",
   "execution_count": 2,
   "id": "daba1291",
   "metadata": {},
   "outputs": [
    {
     "name": "stdout",
     "output_type": "stream",
     "text": [
      "3\n"
     ]
    }
   ],
   "source": [
    "print(next(s))      # -> 3"
   ]
  },
  {
   "cell_type": "code",
   "execution_count": 3,
   "id": "60b356e9",
   "metadata": {},
   "outputs": [
    {
     "name": "stdout",
     "output_type": "stream",
     "text": [
      "1\n"
     ]
    }
   ],
   "source": [
    "print(next(s))      # -> 1"
   ]
  },
  {
   "cell_type": "code",
   "execution_count": 4,
   "id": "bfa44717",
   "metadata": {},
   "outputs": [
    {
     "ename": "StopIteration",
     "evalue": "",
     "output_type": "error",
     "traceback": [
      "\u001b[1;31m---------------------------------------------------------------------------\u001b[0m",
      "\u001b[1;31mStopIteration\u001b[0m                             Traceback (most recent call last)",
      "Input \u001b[1;32mIn [4]\u001b[0m, in \u001b[0;36m<cell line: 1>\u001b[1;34m()\u001b[0m\n\u001b[1;32m----> 1\u001b[0m \u001b[38;5;28mprint\u001b[39m(\u001b[38;5;28;43mnext\u001b[39;49m\u001b[43m(\u001b[49m\u001b[43ms\u001b[49m\u001b[43m)\u001b[49m)\n",
      "\u001b[1;31mStopIteration\u001b[0m: "
     ]
    }
   ],
   "source": [
    "print(next(s))      # -> StopIteration Error"
   ]
  },
  {
   "cell_type": "code",
   "execution_count": null,
   "id": "5bfe0ea6",
   "metadata": {},
   "outputs": [],
   "source": []
  },
  {
   "cell_type": "markdown",
   "id": "b51b8d49",
   "metadata": {},
   "source": [
    "# Generators\n",
    "- A Generator object is an iterator, whose values are created at the time of accessing them.\n",
    "- A generator can be obtained either from a generator expression or a generator function."
   ]
  },
  {
   "cell_type": "code",
   "execution_count": null,
   "id": "242ba9be",
   "metadata": {},
   "outputs": [],
   "source": []
  },
  {
   "cell_type": "code",
   "execution_count": null,
   "id": "66dd1fff",
   "metadata": {},
   "outputs": [],
   "source": []
  },
  {
   "cell_type": "code",
   "execution_count": null,
   "id": "0ee8dd04",
   "metadata": {},
   "outputs": [],
   "source": []
  },
  {
   "cell_type": "code",
   "execution_count": null,
   "id": "92222f52",
   "metadata": {},
   "outputs": [],
   "source": []
  }
 ],
 "metadata": {
  "kernelspec": {
   "display_name": "Python 3 (ipykernel)",
   "language": "python",
   "name": "python3"
  },
  "language_info": {
   "codemirror_mode": {
    "name": "ipython",
    "version": 3
   },
   "file_extension": ".py",
   "mimetype": "text/x-python",
   "name": "python",
   "nbconvert_exporter": "python",
   "pygments_lexer": "ipython3",
   "version": "3.9.12"
  }
 },
 "nbformat": 4,
 "nbformat_minor": 5
}
