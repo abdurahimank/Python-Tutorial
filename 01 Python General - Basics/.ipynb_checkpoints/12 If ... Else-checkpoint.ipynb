{
 "cells": [
  {
   "cell_type": "markdown",
   "id": "fb03f7d9",
   "metadata": {},
   "source": [
    "# If - Else Conditional Statement"
   ]
  },
  {
   "cell_type": "markdown",
   "id": "1bb13f48",
   "metadata": {},
   "source": [
    "### if"
   ]
  },
  {
   "cell_type": "code",
   "execution_count": 1,
   "id": "1ba4736c",
   "metadata": {},
   "outputs": [
    {
     "name": "stdout",
     "output_type": "stream",
     "text": [
      "True\n"
     ]
    }
   ],
   "source": [
    "x = 4\n",
    "if x < 5:\n",
    "    print(True)"
   ]
  },
  {
   "cell_type": "code",
   "execution_count": null,
   "id": "c41a9571",
   "metadata": {},
   "outputs": [],
   "source": []
  },
  {
   "cell_type": "markdown",
   "id": "a51f9069",
   "metadata": {},
   "source": [
    "### if - else"
   ]
  },
  {
   "cell_type": "code",
   "execution_count": null,
   "id": "f524d29d",
   "metadata": {},
   "outputs": [],
   "source": []
  },
  {
   "cell_type": "code",
   "execution_count": null,
   "id": "87066fbc",
   "metadata": {},
   "outputs": [],
   "source": []
  },
  {
   "cell_type": "markdown",
   "id": "03a02c4f",
   "metadata": {},
   "source": [
    "### if - elseif"
   ]
  },
  {
   "cell_type": "code",
   "execution_count": null,
   "id": "cb9a33b4",
   "metadata": {},
   "outputs": [],
   "source": []
  },
  {
   "cell_type": "code",
   "execution_count": null,
   "id": "46e336e0",
   "metadata": {},
   "outputs": [],
   "source": []
  },
  {
   "cell_type": "markdown",
   "id": "5d335ced",
   "metadata": {},
   "source": [
    "### if - elseif - else"
   ]
  },
  {
   "cell_type": "code",
   "execution_count": null,
   "id": "5e78b6d0",
   "metadata": {},
   "outputs": [],
   "source": []
  },
  {
   "cell_type": "code",
   "execution_count": null,
   "id": "2612931e",
   "metadata": {},
   "outputs": [],
   "source": []
  },
  {
   "cell_type": "markdown",
   "id": "0470d906",
   "metadata": {},
   "source": [
    "### nested if - else statements"
   ]
  },
  {
   "cell_type": "code",
   "execution_count": null,
   "id": "00c239ff",
   "metadata": {},
   "outputs": [],
   "source": []
  }
 ],
 "metadata": {
  "kernelspec": {
   "display_name": "Python 3 (ipykernel)",
   "language": "python",
   "name": "python3"
  },
  "language_info": {
   "codemirror_mode": {
    "name": "ipython",
    "version": 3
   },
   "file_extension": ".py",
   "mimetype": "text/x-python",
   "name": "python",
   "nbconvert_exporter": "python",
   "pygments_lexer": "ipython3",
   "version": "3.9.12"
  }
 },
 "nbformat": 4,
 "nbformat_minor": 5
}
