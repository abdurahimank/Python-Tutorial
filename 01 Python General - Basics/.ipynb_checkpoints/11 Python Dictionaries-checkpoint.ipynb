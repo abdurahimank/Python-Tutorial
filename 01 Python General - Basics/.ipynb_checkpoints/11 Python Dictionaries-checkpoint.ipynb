{
 "cells": [
  {
   "cell_type": "markdown",
   "id": "6e0d161c",
   "metadata": {},
   "source": [
    "# Python Dictionary"
   ]
  },
  {
   "cell_type": "markdown",
   "id": "73bb9f2e",
   "metadata": {},
   "source": [
    "### Creating Dictionary\n",
    "- {}\n",
    "- dict()\n",
    "\n",
    "#### Acceptable types as key\n",
    "- string\n",
    "- tuples"
   ]
  },
  {
   "cell_type": "code",
   "execution_count": 2,
   "id": "40722090",
   "metadata": {},
   "outputs": [
    {
     "data": {
      "text/plain": [
       "{'john': 19, 'abdu': 26}"
      ]
     },
     "execution_count": 2,
     "metadata": {},
     "output_type": "execute_result"
    }
   ],
   "source": [
    "a = {'john': 19,\n",
    "     'abdu': 26}\n",
    "a"
   ]
  },
  {
   "cell_type": "code",
   "execution_count": 4,
   "id": "adcb998d",
   "metadata": {},
   "outputs": [
    {
     "data": {
      "text/plain": [
       "{'john': 19, 'abdu': 26}"
      ]
     },
     "execution_count": 4,
     "metadata": {},
     "output_type": "execute_result"
    }
   ],
   "source": [
    "b = dict(john=19, abdu=26)\n",
    "b"
   ]
  },
  {
   "cell_type": "code",
   "execution_count": null,
   "id": "939410d5",
   "metadata": {},
   "outputs": [],
   "source": []
  },
  {
   "cell_type": "markdown",
   "id": "124deb26",
   "metadata": {},
   "source": [
    "### Accessing elements from dictionary"
   ]
  },
  {
   "cell_type": "code",
   "execution_count": null,
   "id": "48a3ef0f",
   "metadata": {},
   "outputs": [],
   "source": []
  },
  {
   "cell_type": "code",
   "execution_count": null,
   "id": "6fa82283",
   "metadata": {},
   "outputs": [],
   "source": []
  },
  {
   "cell_type": "markdown",
   "id": "bf364aeb",
   "metadata": {},
   "source": [
    "### Adding elements to the dictionary"
   ]
  },
  {
   "cell_type": "code",
   "execution_count": null,
   "id": "d319ebe7",
   "metadata": {},
   "outputs": [],
   "source": []
  },
  {
   "cell_type": "code",
   "execution_count": null,
   "id": "539edf52",
   "metadata": {},
   "outputs": [],
   "source": []
  },
  {
   "cell_type": "markdown",
   "id": "bfc2963b",
   "metadata": {},
   "source": [
    "### Removing elements from the dictionary"
   ]
  },
  {
   "cell_type": "code",
   "execution_count": null,
   "id": "0bbcbbfc",
   "metadata": {},
   "outputs": [],
   "source": []
  },
  {
   "cell_type": "code",
   "execution_count": null,
   "id": "447fccaa",
   "metadata": {},
   "outputs": [],
   "source": []
  },
  {
   "cell_type": "markdown",
   "id": "a4f0ab91",
   "metadata": {},
   "source": [
    "### Dictionary Sorting"
   ]
  },
  {
   "cell_type": "code",
   "execution_count": null,
   "id": "d0fbac67",
   "metadata": {},
   "outputs": [],
   "source": []
  },
  {
   "cell_type": "code",
   "execution_count": null,
   "id": "c360768d",
   "metadata": {},
   "outputs": [],
   "source": []
  }
 ],
 "metadata": {
  "kernelspec": {
   "display_name": "Python 3 (ipykernel)",
   "language": "python",
   "name": "python3"
  },
  "language_info": {
   "codemirror_mode": {
    "name": "ipython",
    "version": 3
   },
   "file_extension": ".py",
   "mimetype": "text/x-python",
   "name": "python",
   "nbconvert_exporter": "python",
   "pygments_lexer": "ipython3",
   "version": "3.9.12"
  }
 },
 "nbformat": 4,
 "nbformat_minor": 5
}
