{
 "cells": [
  {
   "cell_type": "markdown",
   "id": "6e0d161c",
   "metadata": {},
   "source": [
    "# Python Dictionary\n",
    "#### Table of Contents\n",
    "1. Dictionary Characteristics\n",
    "2. Creating Dictionary\n",
    "3. Accessing Elements\n",
    "4. Modifying Dictionaries"
   ]
  },
  {
   "cell_type": "markdown",
   "id": "239bd945-08bb-4edf-9eae-deea4ef82231",
   "metadata": {},
   "source": [
    "# Dictionary Characteristics\n",
    "A dictionary consists of keys and values. It is helpful to compare a dictionary to a list. Instead of being indexed numerically like a list, dictionaries have keys. These keys are the keys that are used to access values within a dictionary.\n",
    "- Dictionary has keys for each elements, which is analogous to indices.\n",
    "- Dictionary keys should be immutable and unique."
   ]
  },
  {
   "cell_type": "markdown",
   "id": "73bb9f2e",
   "metadata": {},
   "source": [
    "# Creating Dictionary\n",
    "Each key is separated from its value by a colon \"<code>:</code>\".  Commas separate the items, and the whole dictionary is enclosed in curly braces. An empty dictionary without any items is written with just two curly braces, like this  \"<code>{}</code>\".\n",
    "- {}\n",
    "- dict()\n",
    "\n",
    "#### Acceptable types as key\n",
    "- string\n",
    "- tuples"
   ]
  },
  {
   "cell_type": "code",
   "execution_count": 2,
   "id": "40722090",
   "metadata": {},
   "outputs": [
    {
     "data": {
      "text/plain": [
       "{'john': 19, 'abdu': 26}"
      ]
     },
     "execution_count": 2,
     "metadata": {},
     "output_type": "execute_result"
    }
   ],
   "source": [
    "a = {'john': 19,\n",
    "     'abdu': 26}\n",
    "a"
   ]
  },
  {
   "cell_type": "code",
   "execution_count": 4,
   "id": "adcb998d",
   "metadata": {},
   "outputs": [
    {
     "data": {
      "text/plain": [
       "{'john': 19, 'abdu': 26}"
      ]
     },
     "execution_count": 4,
     "metadata": {},
     "output_type": "execute_result"
    }
   ],
   "source": [
    "b = dict(john=19, abdu=26)\n",
    "b"
   ]
  },
  {
   "cell_type": "code",
   "execution_count": null,
   "id": "939410d5",
   "metadata": {},
   "outputs": [],
   "source": []
  },
  {
   "cell_type": "markdown",
   "id": "124deb26",
   "metadata": {},
   "source": [
    "# Accessing elements from dictionary"
   ]
  },
  {
   "cell_type": "code",
   "execution_count": 1,
   "id": "5185086b-d7ec-4e83-8df4-ede25e5a1a8b",
   "metadata": {},
   "outputs": [
    {
     "data": {
      "text/plain": [
       "{'Thriller': '1982',\n",
       " 'Back in Black': '1980',\n",
       " 'The Dark Side of the Moon': '1973',\n",
       " 'The Bodyguard': '1992',\n",
       " 'Bat Out of Hell': '1977',\n",
       " 'Their Greatest Hits (1971-1975)': '1976',\n",
       " 'Saturday Night Fever': '1977',\n",
       " 'Rumours': '1977'}"
      ]
     },
     "execution_count": 1,
     "metadata": {},
     "output_type": "execute_result"
    }
   ],
   "source": [
    "release_year_dict = {\"Thriller\": \"1982\", \"Back in Black\": \"1980\", \\\n",
    "                    \"The Dark Side of the Moon\": \"1973\", \"The Bodyguard\": \"1992\", \\\n",
    "                    \"Bat Out of Hell\": \"1977\", \"Their Greatest Hits (1971-1975)\": \"1976\", \\\n",
    "                    \"Saturday Night Fever\": \"1977\", \"Rumours\": \"1977\"}\n",
    "release_year_dict"
   ]
  },
  {
   "cell_type": "markdown",
   "id": "91346df2-39c1-4b44-8cb3-265537426f2c",
   "metadata": {},
   "source": [
    "#### keys()\n",
    "- retrieve the keys of the dictionary"
   ]
  },
  {
   "cell_type": "code",
   "execution_count": 2,
   "id": "6fa82283",
   "metadata": {},
   "outputs": [
    {
     "data": {
      "text/plain": [
       "dict_keys(['Thriller', 'Back in Black', 'The Dark Side of the Moon', 'The Bodyguard', 'Bat Out of Hell', 'Their Greatest Hits (1971-1975)', 'Saturday Night Fever', 'Rumours'])"
      ]
     },
     "execution_count": 2,
     "metadata": {},
     "output_type": "execute_result"
    }
   ],
   "source": [
    "# Get all the keys in dictionary\n",
    "\n",
    "release_year_dict.keys() "
   ]
  },
  {
   "cell_type": "markdown",
   "id": "b3eab96c-167b-4251-97be-ca6860c19397",
   "metadata": {},
   "source": [
    "#### values()\n",
    "retrieve the values"
   ]
  },
  {
   "cell_type": "code",
   "execution_count": 3,
   "id": "b3ffcf62-a28f-488f-ac42-71c9f7ab7fc3",
   "metadata": {},
   "outputs": [
    {
     "data": {
      "text/plain": [
       "dict_values(['1982', '1980', '1973', '1992', '1977', '1976', '1977', '1977'])"
      ]
     },
     "execution_count": 3,
     "metadata": {},
     "output_type": "execute_result"
    }
   ],
   "source": [
    "# Get all the values in dictionary\n",
    "\n",
    "release_year_dict.values() "
   ]
  },
  {
   "cell_type": "code",
   "execution_count": null,
   "id": "1103a31a-e4a1-40d7-9bed-c4fb2f2fc978",
   "metadata": {},
   "outputs": [],
   "source": []
  },
  {
   "cell_type": "code",
   "execution_count": null,
   "id": "1375aec1-e082-47b2-b544-2489a80b4de9",
   "metadata": {},
   "outputs": [],
   "source": []
  },
  {
   "cell_type": "code",
   "execution_count": null,
   "id": "8430ac0f-74ad-4177-9ce9-85a03ab8fc9b",
   "metadata": {},
   "outputs": [],
   "source": []
  },
  {
   "cell_type": "code",
   "execution_count": null,
   "id": "86347a5e-1c1c-4532-be77-88a525704dc3",
   "metadata": {},
   "outputs": [],
   "source": []
  },
  {
   "cell_type": "code",
   "execution_count": null,
   "id": "fe954b27-66c7-457b-8da0-5c3310484468",
   "metadata": {},
   "outputs": [],
   "source": []
  },
  {
   "cell_type": "markdown",
   "id": "bf364aeb",
   "metadata": {},
   "source": [
    "# Modifying Dictionary\n",
    "### Adding elements to the dictionary"
   ]
  },
  {
   "cell_type": "code",
   "execution_count": null,
   "id": "d319ebe7",
   "metadata": {},
   "outputs": [],
   "source": []
  },
  {
   "cell_type": "code",
   "execution_count": null,
   "id": "539edf52",
   "metadata": {},
   "outputs": [],
   "source": []
  },
  {
   "cell_type": "markdown",
   "id": "bfc2963b",
   "metadata": {},
   "source": [
    "### Removing elements from the dictionary"
   ]
  },
  {
   "cell_type": "code",
   "execution_count": null,
   "id": "0bbcbbfc",
   "metadata": {},
   "outputs": [],
   "source": []
  },
  {
   "cell_type": "code",
   "execution_count": null,
   "id": "447fccaa",
   "metadata": {},
   "outputs": [],
   "source": []
  },
  {
   "cell_type": "markdown",
   "id": "a4f0ab91",
   "metadata": {},
   "source": [
    "### Dictionary Sorting"
   ]
  },
  {
   "cell_type": "code",
   "execution_count": null,
   "id": "d0fbac67",
   "metadata": {},
   "outputs": [],
   "source": []
  },
  {
   "cell_type": "code",
   "execution_count": null,
   "id": "c360768d",
   "metadata": {},
   "outputs": [],
   "source": []
  }
 ],
 "metadata": {
  "kernelspec": {
   "display_name": "Python 3 (ipykernel)",
   "language": "python",
   "name": "python3"
  },
  "language_info": {
   "codemirror_mode": {
    "name": "ipython",
    "version": 3
   },
   "file_extension": ".py",
   "mimetype": "text/x-python",
   "name": "python",
   "nbconvert_exporter": "python",
   "pygments_lexer": "ipython3",
   "version": "3.9.12"
  }
 },
 "nbformat": 4,
 "nbformat_minor": 5
}
