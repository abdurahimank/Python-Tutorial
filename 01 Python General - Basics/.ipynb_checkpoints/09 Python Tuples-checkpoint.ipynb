{
 "cells": [
  {
   "cell_type": "markdown",
   "id": "ea161b8e",
   "metadata": {},
   "source": [
    "# Python Tuple\n",
    "- immutable\n",
    "- Tuples are like Lists, the only difference is it is not mutable."
   ]
  },
  {
   "cell_type": "markdown",
   "id": "f1816e62",
   "metadata": {},
   "source": [
    "## Creating tuple"
   ]
  },
  {
   "cell_type": "code",
   "execution_count": 1,
   "id": "d60b2b05",
   "metadata": {},
   "outputs": [
    {
     "name": "stdout",
     "output_type": "stream",
     "text": [
      "(2, 3, 4)\n",
      "<class 'tuple'>\n"
     ]
    }
   ],
   "source": [
    "tup = (2, 3, 4)\n",
    "print(tup)\n",
    "print(type(tup))"
   ]
  },
  {
   "cell_type": "code",
   "execution_count": 6,
   "id": "d2720066",
   "metadata": {},
   "outputs": [
    {
     "name": "stdout",
     "output_type": "stream",
     "text": [
      "<class 'int'>\n",
      "<class 'tuple'>\n",
      "<class 'tuple'>\n"
     ]
    }
   ],
   "source": [
    "x = (3)\n",
    "print(type(x))\n",
    "y = (3,) # comma is important, not the brackets\n",
    "print(type(y))\n",
    "z = 3,\n",
    "print(type(z))"
   ]
  },
  {
   "cell_type": "code",
   "execution_count": 7,
   "id": "7dc8aefe",
   "metadata": {},
   "outputs": [
    {
     "name": "stdout",
     "output_type": "stream",
     "text": [
      "('lis', 'abc')\n",
      "<class 'tuple'>\n"
     ]
    }
   ],
   "source": [
    "# using \"tuple\" function\n",
    "tup = tuple([\"lis\", \"abc\"])\n",
    "print(tup)\n",
    "print(type(tup))"
   ]
  },
  {
   "cell_type": "code",
   "execution_count": 2,
   "id": "235da01f",
   "metadata": {},
   "outputs": [
    {
     "name": "stdout",
     "output_type": "stream",
     "text": [
      "('a', 'b', 1, 2, 3)\n"
     ]
    }
   ],
   "source": [
    "# adding elements and tuple\n",
    "tup1 = (1, 2, 3)\n",
    "tup2 = (\"a\", \"b\") + tup1\n",
    "print(tup2)"
   ]
  },
  {
   "cell_type": "code",
   "execution_count": null,
   "id": "f40a432e",
   "metadata": {},
   "outputs": [],
   "source": []
  },
  {
   "cell_type": "code",
   "execution_count": 7,
   "id": "7994327e",
   "metadata": {},
   "outputs": [
    {
     "data": {
      "text/plain": [
       "('a', 1, 2, 3)"
      ]
     },
     "execution_count": 7,
     "metadata": {},
     "output_type": "execute_result"
    }
   ],
   "source": [
    "tup1 = (1, 2, 3)\n",
    "tup1 = (\"a\",) + tup1\n",
    "tup1"
   ]
  },
  {
   "cell_type": "markdown",
   "id": "aaa937a2",
   "metadata": {},
   "source": [
    "### Nested Tuples"
   ]
  },
  {
   "cell_type": "code",
   "execution_count": null,
   "id": "12ad618f",
   "metadata": {},
   "outputs": [],
   "source": []
  },
  {
   "cell_type": "markdown",
   "id": "4b1f34d6",
   "metadata": {},
   "source": [
    "## Accessing elements"
   ]
  },
  {
   "cell_type": "code",
   "execution_count": 8,
   "id": "ae993673",
   "metadata": {},
   "outputs": [],
   "source": [
    "tup1 = (1, 2, 3, 4, 5)"
   ]
  },
  {
   "cell_type": "code",
   "execution_count": 10,
   "id": "5eb3da32",
   "metadata": {},
   "outputs": [
    {
     "data": {
      "text/plain": [
       "1"
      ]
     },
     "execution_count": 10,
     "metadata": {},
     "output_type": "execute_result"
    }
   ],
   "source": [
    "# accessing in normal way\n",
    "tup1[0]"
   ]
  },
  {
   "cell_type": "code",
   "execution_count": 11,
   "id": "9fe8e711",
   "metadata": {},
   "outputs": [
    {
     "data": {
      "text/plain": [
       "3"
      ]
     },
     "execution_count": 11,
     "metadata": {},
     "output_type": "execute_result"
    }
   ],
   "source": [
    "tup1[2]"
   ]
  },
  {
   "cell_type": "code",
   "execution_count": 12,
   "id": "b098ca17",
   "metadata": {},
   "outputs": [
    {
     "data": {
      "text/plain": [
       "5"
      ]
     },
     "execution_count": 12,
     "metadata": {},
     "output_type": "execute_result"
    }
   ],
   "source": [
    "# accessing by negative indexing\n",
    "tup1[-1]"
   ]
  },
  {
   "cell_type": "code",
   "execution_count": null,
   "id": "7ff0f846",
   "metadata": {},
   "outputs": [],
   "source": [
    "# Accessing nested elements"
   ]
  },
  {
   "cell_type": "code",
   "execution_count": null,
   "id": "9891dca2",
   "metadata": {},
   "outputs": [],
   "source": []
  },
  {
   "cell_type": "markdown",
   "id": "e8b116af",
   "metadata": {},
   "source": [
    "### Slicing"
   ]
  },
  {
   "cell_type": "code",
   "execution_count": 13,
   "id": "c55b0bcd",
   "metadata": {},
   "outputs": [
    {
     "data": {
      "text/plain": [
       "(2, 3, 4)"
      ]
     },
     "execution_count": 13,
     "metadata": {},
     "output_type": "execute_result"
    }
   ],
   "source": [
    "tup1 = (1, 2, 3, 4, 5)\n",
    "tup1[1:4]"
   ]
  },
  {
   "cell_type": "code",
   "execution_count": null,
   "id": "7c0b65d8",
   "metadata": {},
   "outputs": [],
   "source": []
  },
  {
   "cell_type": "code",
   "execution_count": null,
   "id": "dccab6e5",
   "metadata": {},
   "outputs": [],
   "source": []
  },
  {
   "cell_type": "markdown",
   "id": "5b5539ae",
   "metadata": {},
   "source": [
    "## General Function on Tuple"
   ]
  },
  {
   "cell_type": "code",
   "execution_count": 14,
   "id": "a8f32de8",
   "metadata": {},
   "outputs": [
    {
     "data": {
      "text/plain": [
       "5"
      ]
     },
     "execution_count": 14,
     "metadata": {},
     "output_type": "execute_result"
    }
   ],
   "source": [
    "# len\n",
    "tup1 = (1, 2, 3, 4, 5)\n",
    "len(tup1)"
   ]
  },
  {
   "cell_type": "markdown",
   "id": "0c882390",
   "metadata": {},
   "source": [
    "### Sorting"
   ]
  },
  {
   "cell_type": "code",
   "execution_count": 16,
   "id": "b453647d",
   "metadata": {},
   "outputs": [
    {
     "name": "stdout",
     "output_type": "stream",
     "text": [
      "(3, 1, 6, 3, 9, 10, 5)\n",
      "[1, 3, 3, 5, 6, 9, 10]\n"
     ]
    }
   ],
   "source": [
    "tup = (3, 1, 6, 3, 9, 10, 5)\n",
    "print(tup)\n",
    "tup2 = sorted(tup)\n",
    "print(tup2)"
   ]
  },
  {
   "cell_type": "code",
   "execution_count": null,
   "id": "65ece30e",
   "metadata": {},
   "outputs": [],
   "source": []
  }
 ],
 "metadata": {
  "kernelspec": {
   "display_name": "Python 3 (ipykernel)",
   "language": "python",
   "name": "python3"
  },
  "language_info": {
   "codemirror_mode": {
    "name": "ipython",
    "version": 3
   },
   "file_extension": ".py",
   "mimetype": "text/x-python",
   "name": "python",
   "nbconvert_exporter": "python",
   "pygments_lexer": "ipython3",
   "version": "3.9.12"
  }
 },
 "nbformat": 4,
 "nbformat_minor": 5
}
