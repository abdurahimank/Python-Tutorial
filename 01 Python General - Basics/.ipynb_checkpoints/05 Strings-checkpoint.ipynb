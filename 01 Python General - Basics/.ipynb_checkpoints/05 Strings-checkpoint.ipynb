{
 "cells": [
  {
   "cell_type": "markdown",
   "id": "6bf8c8e8",
   "metadata": {},
   "source": [
    "# Strings\n",
    "#### Table of Contents\n",
    "1. String Characteristics\n",
    "2. String creation\n",
    "    - Multiline Strings\n",
    "    - String Concatenation\n",
    "    - Dynamic Strings\n",
    "        * string.format() method\n",
    "        * F Strings method\n",
    "        * Formated Strings (Use \"%\" charachter)\n",
    "3. Accessing Strings\n",
    "    - String Indexing and Accessing Single Elements\n",
    "    - Slicing\n",
    "    - Looping Through a String\n",
    "4. Python - Escape Characters\n",
    "5. Methods to Modify Strings\n",
    "    - Changing Cases"
   ]
  },
  {
   "cell_type": "markdown",
   "id": "48a95087",
   "metadata": {},
   "source": [
    "# String Characteristics\n",
    "Strings in python are surrounded by either single quotation marks, or double quotation marks.<br>\n",
    "**'hello'** is the same as **\"hello\"**.\n",
    "#### Immutable\n",
    "- String is immutable\n",
    "- We can modify a string by assigning it to a new string"
   ]
  },
  {
   "cell_type": "markdown",
   "id": "8aada5be",
   "metadata": {},
   "source": [
    "# String Creation"
   ]
  },
  {
   "cell_type": "code",
   "execution_count": 6,
   "id": "77dc5ce8",
   "metadata": {},
   "outputs": [
    {
     "name": "stdout",
     "output_type": "stream",
     "text": [
      "Python is awesome\n"
     ]
    }
   ],
   "source": [
    "# with double quotes\n",
    "x = \"Python is awesome\"\n",
    "print(x)"
   ]
  },
  {
   "cell_type": "code",
   "execution_count": 1,
   "id": "75f0a17c",
   "metadata": {},
   "outputs": [
    {
     "name": "stdout",
     "output_type": "stream",
     "text": [
      "Python is awesome\n"
     ]
    }
   ],
   "source": [
    "# with single quotes\n",
    "x = 'Python is awesome'\n",
    "print(x)"
   ]
  },
  {
   "cell_type": "markdown",
   "id": "89b3d076",
   "metadata": {},
   "source": [
    "### Multiline Strings\n",
    "- with each line as new code lines\n",
    "- with new line characters\n",
    "- with triple quotes"
   ]
  },
  {
   "cell_type": "code",
   "execution_count": 4,
   "id": "cf041e01",
   "metadata": {},
   "outputs": [
    {
     "name": "stdout",
     "output_type": "stream",
     "text": [
      "Python\n",
      "is\n",
      "Awesome\n"
     ]
    }
   ],
   "source": [
    "# with each line as new code lines\n",
    "print(\"Python\")\n",
    "print(\"is\")\n",
    "print(\"Awesome\")"
   ]
  },
  {
   "cell_type": "code",
   "execution_count": 3,
   "id": "9c454206",
   "metadata": {},
   "outputs": [
    {
     "name": "stdout",
     "output_type": "stream",
     "text": [
      "Python \n",
      "is \n",
      "Awesome\n"
     ]
    }
   ],
   "source": [
    "# with new line characters\n",
    "x = \"Python \\nis \\nAwesome\"\n",
    "print(x)"
   ]
  },
  {
   "cell_type": "code",
   "execution_count": 5,
   "id": "6dd0931c",
   "metadata": {},
   "outputs": [
    {
     "name": "stdout",
     "output_type": "stream",
     "text": [
      "Python \n",
      "is \n",
      "Awesome\n"
     ]
    }
   ],
   "source": [
    "# with triple quotes\n",
    "a = \"\"\"Python \n",
    "is \n",
    "Awesome\"\"\"\n",
    "print(a)"
   ]
  },
  {
   "cell_type": "markdown",
   "id": "26f205b0",
   "metadata": {},
   "source": [
    "### String concatenation\n",
    "String can be concatenated with only another strings."
   ]
  },
  {
   "cell_type": "code",
   "execution_count": 8,
   "id": "ec033095",
   "metadata": {},
   "outputs": [
    {
     "name": "stdout",
     "output_type": "stream",
     "text": [
      "Python is awesome\n"
     ]
    }
   ],
   "source": [
    "# String Concatenation\n",
    "x = \"Python\"\n",
    "y = \"is\"\n",
    "z = \"awesome\"\n",
    "a = x + \" \" + y + \" \" + z\n",
    "print(a)"
   ]
  },
  {
   "cell_type": "code",
   "execution_count": 1,
   "id": "e6f83206",
   "metadata": {},
   "outputs": [
    {
     "data": {
      "text/plain": [
       "'HelloHelloHello'"
      ]
     },
     "execution_count": 1,
     "metadata": {},
     "output_type": "execute_result"
    }
   ],
   "source": [
    "3 * \"Hello\""
   ]
  },
  {
   "cell_type": "markdown",
   "id": "c6c73e10",
   "metadata": {},
   "source": [
    "### Dynamic Strings"
   ]
  },
  {
   "cell_type": "markdown",
   "id": "c0a74459",
   "metadata": {},
   "source": [
    "#### string.format() method"
   ]
  },
  {
   "cell_type": "code",
   "execution_count": 7,
   "id": "894ef1cc",
   "metadata": {},
   "outputs": [
    {
     "name": "stdout",
     "output_type": "stream",
     "text": [
      "My name is John, and I am 36\n"
     ]
    }
   ],
   "source": [
    "age = 36\n",
    "txt = \"My name is John, and I am {}\"\n",
    "print(txt.format(age))"
   ]
  },
  {
   "cell_type": "code",
   "execution_count": 8,
   "id": "ca0fa0b0",
   "metadata": {},
   "outputs": [
    {
     "name": "stdout",
     "output_type": "stream",
     "text": [
      "I want 3 pieces of item 567 for 49.95 dollars.\n"
     ]
    }
   ],
   "source": [
    "quantity = 3\n",
    "itemno = 567\n",
    "price = 49.95\n",
    "myorder = \"I want {} pieces of item {} for {} dollars.\"\n",
    "print(myorder.format(quantity, itemno, price))"
   ]
  },
  {
   "cell_type": "code",
   "execution_count": 9,
   "id": "fda3cc4c",
   "metadata": {},
   "outputs": [
    {
     "name": "stdout",
     "output_type": "stream",
     "text": [
      "I want to pay 49.95 dollars for 3 pieces of item 567.\n"
     ]
    }
   ],
   "source": [
    "quantity = 3\n",
    "itemno = 567\n",
    "price = 49.95\n",
    "myorder = \"I want to pay {2} dollars for {0} pieces of item {1}.\"\n",
    "print(myorder.format(quantity, itemno, price))"
   ]
  },
  {
   "cell_type": "markdown",
   "id": "c5316861",
   "metadata": {},
   "source": [
    "#### F Strings method"
   ]
  },
  {
   "cell_type": "code",
   "execution_count": 10,
   "id": "7b1e5a66",
   "metadata": {},
   "outputs": [
    {
     "name": "stdout",
     "output_type": "stream",
     "text": [
      "I want 3 pieces of item 567 for 49.95 dollars.\n"
     ]
    }
   ],
   "source": [
    "quantity = 3\n",
    "itemno = 567\n",
    "price = 49.95\n",
    "myorder = f\"I want {quantity} pieces of item {itemno} for {price} dollars.\"\n",
    "print(myorder)"
   ]
  },
  {
   "cell_type": "code",
   "execution_count": 11,
   "id": "7d4b0dcd",
   "metadata": {},
   "outputs": [
    {
     "name": "stdout",
     "output_type": "stream",
     "text": [
      "I want 3 pieces of item number 567 for 49.0000 dollars.\n"
     ]
    }
   ],
   "source": [
    "quantity = 3\n",
    "itemno = 567\n",
    "price = 49\n",
    "myorder = \"I want {0} pieces of item number {1} for {2:.4f} dollars.\"\n",
    "print(myorder.format(quantity, itemno, price))"
   ]
  },
  {
   "cell_type": "markdown",
   "id": "66df56dc",
   "metadata": {},
   "source": [
    "#### Formated Strings\n",
    "Use \"**%**\" charachter"
   ]
  },
  {
   "cell_type": "code",
   "execution_count": null,
   "id": "9068a0d7",
   "metadata": {},
   "outputs": [],
   "source": []
  },
  {
   "cell_type": "markdown",
   "id": "91f442cc",
   "metadata": {},
   "source": [
    "# Accessing Strings"
   ]
  },
  {
   "cell_type": "code",
   "execution_count": 6,
   "id": "bcc72794",
   "metadata": {},
   "outputs": [
    {
     "name": "stdout",
     "output_type": "stream",
     "text": [
      "13\n"
     ]
    }
   ],
   "source": [
    "# Length of a string\n",
    "a = \"Hello, World!\"\n",
    "print(len(a))"
   ]
  },
  {
   "cell_type": "markdown",
   "id": "739c9d8e",
   "metadata": {},
   "source": [
    "### String Indexing and Accessing Single Elements"
   ]
  },
  {
   "cell_type": "code",
   "execution_count": 7,
   "id": "3008316d",
   "metadata": {},
   "outputs": [
    {
     "name": "stdout",
     "output_type": "stream",
     "text": [
      "H\n",
      "e\n",
      "o\n"
     ]
    }
   ],
   "source": [
    "x = \"Hello\"\n",
    "print(x[0])\n",
    "print(x[1])\n",
    "print(x[-1])"
   ]
  },
  {
   "cell_type": "markdown",
   "id": "678e8884",
   "metadata": {},
   "source": [
    "### Slicing"
   ]
  },
  {
   "cell_type": "code",
   "execution_count": 10,
   "id": "0d709513",
   "metadata": {},
   "outputs": [
    {
     "name": "stdout",
     "output_type": "stream",
     "text": [
      "llo\n"
     ]
    }
   ],
   "source": [
    "b = \"Hello, World!\"\n",
    "print(b[2:5])"
   ]
  },
  {
   "cell_type": "code",
   "execution_count": 11,
   "id": "2c39f720",
   "metadata": {},
   "outputs": [
    {
     "name": "stdout",
     "output_type": "stream",
     "text": [
      "Hello\n"
     ]
    }
   ],
   "source": [
    "b = \"Hello, World!\"\n",
    "print(b[:5])  # from starting"
   ]
  },
  {
   "cell_type": "code",
   "execution_count": 12,
   "id": "1cf5db18",
   "metadata": {},
   "outputs": [
    {
     "name": "stdout",
     "output_type": "stream",
     "text": [
      "World!\n"
     ]
    }
   ],
   "source": [
    "b = \"Hello, World!\"\n",
    "print(b[7:])  # till end"
   ]
  },
  {
   "cell_type": "code",
   "execution_count": 13,
   "id": "08aa9480",
   "metadata": {},
   "outputs": [
    {
     "name": "stdout",
     "output_type": "stream",
     "text": [
      " Worl\n"
     ]
    }
   ],
   "source": [
    "b = \"Hello, World!\"\n",
    "print(b[-7:-2])  # negative indexing"
   ]
  },
  {
   "cell_type": "code",
   "execution_count": 14,
   "id": "febac8d7",
   "metadata": {},
   "outputs": [
    {
     "name": "stdout",
     "output_type": "stream",
     "text": [
      "Hlo ol!\n"
     ]
    }
   ],
   "source": [
    "b = \"Hello, World!\"\n",
    "print(b[::2])  # using steps"
   ]
  },
  {
   "cell_type": "markdown",
   "id": "cfb625be",
   "metadata": {},
   "source": [
    "### Looping Through a String"
   ]
  },
  {
   "cell_type": "code",
   "execution_count": 17,
   "id": "28373191",
   "metadata": {},
   "outputs": [
    {
     "name": "stdout",
     "output_type": "stream",
     "text": [
      "b\n",
      "a\n",
      "n\n",
      "a\n",
      "n\n",
      "a\n"
     ]
    }
   ],
   "source": [
    "for x in \"banana\":\n",
    "    print(x)"
   ]
  },
  {
   "cell_type": "code",
   "execution_count": null,
   "id": "32deddd7",
   "metadata": {},
   "outputs": [],
   "source": []
  },
  {
   "cell_type": "markdown",
   "id": "124fe0d9",
   "metadata": {},
   "source": [
    "# Python - Escape Characters\n",
    "#### Escape Character\n",
    "- To insert characters that are illegal in a string, use an escape character.\n",
    "- An escape character is a backslash \"**\\**\" followed by the character you want to insert."
   ]
  },
  {
   "cell_type": "code",
   "execution_count": 28,
   "id": "29dd19cd",
   "metadata": {},
   "outputs": [
    {
     "name": "stdout",
     "output_type": "stream",
     "text": [
      "We are the so-called \"Vikings\" from the north.\n"
     ]
    }
   ],
   "source": [
    "txt = \"We are the so-called \\\"Vikings\\\" from the north.\"\n",
    "print(txt)"
   ]
  },
  {
   "cell_type": "code",
   "execution_count": 29,
   "id": "e359ce38",
   "metadata": {},
   "outputs": [
    {
     "name": "stdout",
     "output_type": "stream",
     "text": [
      "It's alright.\n"
     ]
    }
   ],
   "source": [
    "txt = 'It\\'s alright.'\n",
    "print(txt) "
   ]
  },
  {
   "cell_type": "code",
   "execution_count": 30,
   "id": "e6d20849",
   "metadata": {},
   "outputs": [
    {
     "name": "stdout",
     "output_type": "stream",
     "text": [
      "This will insert one \\ (backslash).\n"
     ]
    }
   ],
   "source": [
    "txt = \"This will insert one \\\\ (backslash).\"\n",
    "print(txt) "
   ]
  },
  {
   "cell_type": "markdown",
   "id": "198af7e1",
   "metadata": {},
   "source": [
    "#### New Line (\\n)"
   ]
  },
  {
   "cell_type": "code",
   "execution_count": 31,
   "id": "4f76ce85",
   "metadata": {},
   "outputs": [
    {
     "name": "stdout",
     "output_type": "stream",
     "text": [
      "Hello\n",
      "World!\n"
     ]
    }
   ],
   "source": [
    "txt = \"Hello\\nWorld!\"\n",
    "print(txt) "
   ]
  },
  {
   "cell_type": "markdown",
   "id": "2fc1fd92",
   "metadata": {},
   "source": [
    "#### Carriage Return (\\r)"
   ]
  },
  {
   "cell_type": "code",
   "execution_count": 32,
   "id": "b6aa62c1",
   "metadata": {},
   "outputs": [
    {
     "name": "stdout",
     "output_type": "stream",
     "text": [
      "Hello\r",
      "World!\n"
     ]
    }
   ],
   "source": [
    "txt = \"Hello\\rWorld!\"\n",
    "print(txt) "
   ]
  },
  {
   "cell_type": "markdown",
   "id": "2269e880",
   "metadata": {},
   "source": [
    "#### Tab (\\t)"
   ]
  },
  {
   "cell_type": "code",
   "execution_count": 33,
   "id": "ca535d5d",
   "metadata": {},
   "outputs": [
    {
     "name": "stdout",
     "output_type": "stream",
     "text": [
      "Hello\tWorld!\n"
     ]
    }
   ],
   "source": [
    "txt = \"Hello\\tWorld!\"\n",
    "print(txt) "
   ]
  },
  {
   "cell_type": "markdown",
   "id": "c30c3272",
   "metadata": {},
   "source": [
    "#### Backspace (\\b)"
   ]
  },
  {
   "cell_type": "code",
   "execution_count": 34,
   "id": "e0d70ab7",
   "metadata": {},
   "outputs": [
    {
     "name": "stdout",
     "output_type": "stream",
     "text": [
      "Hello \bWorld!\n"
     ]
    }
   ],
   "source": [
    "#This example erases one character (backspace):\n",
    "txt = \"Hello \\bWorld!\"\n",
    "print(txt)"
   ]
  },
  {
   "cell_type": "markdown",
   "id": "33d066f7",
   "metadata": {},
   "source": [
    "#### Octal value (\\ooo)"
   ]
  },
  {
   "cell_type": "code",
   "execution_count": 35,
   "id": "9bca7156",
   "metadata": {},
   "outputs": [
    {
     "name": "stdout",
     "output_type": "stream",
     "text": [
      "Hello\n"
     ]
    }
   ],
   "source": [
    "txt = \"\\110\\145\\154\\154\\157\"\n",
    "print(txt)"
   ]
  },
  {
   "cell_type": "markdown",
   "id": "a5907550",
   "metadata": {},
   "source": [
    "#### Hex value (\\xhh)"
   ]
  },
  {
   "cell_type": "code",
   "execution_count": 36,
   "id": "e93fc15b",
   "metadata": {},
   "outputs": [
    {
     "name": "stdout",
     "output_type": "stream",
     "text": [
      "Hello\n"
     ]
    }
   ],
   "source": [
    "#A backslash followed by an 'x' and a hex number represents a hex value:\n",
    "txt = \"\\x48\\x65\\x6c\\x6c\\x6f\"\n",
    "print(txt)"
   ]
  },
  {
   "cell_type": "code",
   "execution_count": null,
   "id": "bbdcd45f",
   "metadata": {},
   "outputs": [],
   "source": []
  },
  {
   "cell_type": "markdown",
   "id": "140dc0a4",
   "metadata": {},
   "source": [
    "# Methods to Modify Strings\n",
    "- casefold()\tConverts string into lower case\n",
    "- center()\tReturns a centered string\n",
    "- encode()\tReturns an encoded version of the string\n",
    "- expandtabs()\tSets the tab size of the string\n",
    "- format()\tFormats specified values in a string\n",
    "- format_map()\tFormats specified values in a string\n",
    "- isalnum()\tReturns True if all characters in the string are alphanumeric\n",
    "- isalpha()\tReturns True if all characters in the string are in the alphabet\n",
    "- isdecimal()\tReturns True if all characters in the string are decimals\n",
    "- isdigit()\tReturns True if all characters in the string are digits\n",
    "- isidentifier()\tReturns True if the string is an identifier\n",
    "- islower()\tReturns True if all characters in the string are lower case\n",
    "- isnumeric()\tReturns True if all characters in the string are numeric\n",
    "- isprintable()\tReturns True if all characters in the string are printable\n",
    "- isspace()\tReturns True if all characters in the string are whitespaces\n",
    "- istitle()\tReturns True if the string follows the rules of a title\n",
    "- isupper()\tReturns True if all characters in the string are upper case\n",
    "- ljust()\tReturns a left justified version of the string\n",
    "- maketrans()\tReturns a translation table to be used in translations\n",
    "- partition()\tReturns a tuple where the string is parted into three parts\n",
    "- rjust()\tReturns a right justified version of the string\n",
    "- rpartition()\tReturns a tuple where the string is parted into three parts\n",
    "- rsplit()\tSplits the string at the specified separator, and returns a list\n",
    "- translate()\tReturns a translated string\n",
    "- zfill()\tFills the string with a specified number of 0 values at the beginning"
   ]
  },
  {
   "cell_type": "markdown",
   "id": "de68a944",
   "metadata": {},
   "source": [
    "### Changing Cases\n",
    "#### Upper Case\n",
    "- upper() - converts a string into upper case"
   ]
  },
  {
   "cell_type": "code",
   "execution_count": 18,
   "id": "bbc4cb38",
   "metadata": {},
   "outputs": [
    {
     "name": "stdout",
     "output_type": "stream",
     "text": [
      "HELLO, WORLD!\n"
     ]
    }
   ],
   "source": [
    "a = \"Hello, World!\"\n",
    "print(a.upper())"
   ]
  },
  {
   "cell_type": "markdown",
   "id": "a072365c",
   "metadata": {},
   "source": [
    "#### Lower Case\n",
    "- lower() - converts a string into lower case"
   ]
  },
  {
   "cell_type": "code",
   "execution_count": 19,
   "id": "6cfd384a",
   "metadata": {},
   "outputs": [
    {
     "name": "stdout",
     "output_type": "stream",
     "text": [
      "hello, world!\n"
     ]
    }
   ],
   "source": [
    "a = \"Hello, World!\"\n",
    "print(a.lower())"
   ]
  },
  {
   "cell_type": "markdown",
   "id": "a4ff2c3c",
   "metadata": {},
   "source": [
    "#### Capitalize\n",
    "- capitalize() - Converts the first character to upper case"
   ]
  },
  {
   "cell_type": "code",
   "execution_count": 7,
   "id": "82615493",
   "metadata": {},
   "outputs": [
    {
     "name": "stdout",
     "output_type": "stream",
     "text": [
      "Hello, and welcome to my world.\n"
     ]
    }
   ],
   "source": [
    "txt = \"hello, and welcome to my world.\"\n",
    "x = txt.capitalize()\n",
    "print (x)"
   ]
  },
  {
   "cell_type": "markdown",
   "id": "f0b8db40",
   "metadata": {},
   "source": [
    "#### Title Case\n",
    "- title() - Converts the first character of each word to upper case"
   ]
  },
  {
   "cell_type": "code",
   "execution_count": 8,
   "id": "4875b1f3",
   "metadata": {},
   "outputs": [
    {
     "name": "stdout",
     "output_type": "stream",
     "text": [
      "Welcome To My World\n"
     ]
    }
   ],
   "source": [
    "txt = \"Welcome to my world\"\n",
    "x = txt.title()\n",
    "print(x)"
   ]
  },
  {
   "cell_type": "markdown",
   "id": "19111d05",
   "metadata": {},
   "source": [
    "#### Swaping Case\n",
    "- swapcase() - Swaps cases, lower case becomes upper case and vice versa"
   ]
  },
  {
   "cell_type": "code",
   "execution_count": 9,
   "id": "43dfaab7",
   "metadata": {},
   "outputs": [
    {
     "name": "stdout",
     "output_type": "stream",
     "text": [
      "hELLO mY nAME iS peter\n"
     ]
    }
   ],
   "source": [
    "txt = \"Hello My Name Is PETER\"\n",
    "x = txt.swapcase()\n",
    "print(x)"
   ]
  },
  {
   "cell_type": "markdown",
   "id": "7b3c0bd0",
   "metadata": {},
   "source": [
    "#### Replace String\n",
    "- replace() - Returns a string where a specified value is replaced with a specified value"
   ]
  },
  {
   "cell_type": "code",
   "execution_count": 22,
   "id": "d39e12ca",
   "metadata": {},
   "outputs": [
    {
     "name": "stdout",
     "output_type": "stream",
     "text": [
      "Jello, World!\n"
     ]
    }
   ],
   "source": [
    "a = \"Hello, World!\"\n",
    "print(a.replace(\"H\", \"J\"))"
   ]
  },
  {
   "cell_type": "markdown",
   "id": "9815f806",
   "metadata": {},
   "source": [
    "#### Remove Whitespace/ Specified Characters\n",
    "- lstrip() - Returns a left trim version of the string\n",
    "- rstrip() - Returns a right trim version of the string\n",
    "- strip() - Returns a trimmed version of the string"
   ]
  },
  {
   "cell_type": "code",
   "execution_count": 1,
   "id": "0c0b3cc7",
   "metadata": {},
   "outputs": [
    {
     "name": "stdout",
     "output_type": "stream",
     "text": [
      "Hello, World! \n",
      " Hello, World!\n",
      "Hello, World!\n"
     ]
    }
   ],
   "source": [
    "a = \" Hello, World! \"\n",
    "print(a.lstrip())  # From left side only\n",
    "print(a.rstrip())  # From right side only\n",
    "print(a.strip())  # From both side"
   ]
  },
  {
   "cell_type": "code",
   "execution_count": 21,
   "id": "a4aa895c",
   "metadata": {},
   "outputs": [
    {
     "name": "stdout",
     "output_type": "stream",
     "text": [
      "ssissippi\n",
      "mississ\n",
      "ssiss\n"
     ]
    }
   ],
   "source": [
    "a = \"mississippi\"\n",
    "print(a.lstrip('mip'))\n",
    "print(a.rstrip('mip'))\n",
    "print(a.strip('mip'))"
   ]
  },
  {
   "cell_type": "markdown",
   "id": "6aeaf4af",
   "metadata": {},
   "source": [
    "#### Split String\n",
    "- split() - Splits the string at the specified separator, and returns a list"
   ]
  },
  {
   "cell_type": "code",
   "execution_count": 23,
   "id": "c569fd69",
   "metadata": {},
   "outputs": [
    {
     "name": "stdout",
     "output_type": "stream",
     "text": [
      "['Hello', ' World!']\n"
     ]
    }
   ],
   "source": [
    "a = \"Hello, World!\"\n",
    "print(a.split(','))"
   ]
  },
  {
   "cell_type": "markdown",
   "id": "9f8dd71e",
   "metadata": {},
   "source": [
    "- splitlines() - Splits the string at line breaks and returns a list"
   ]
  },
  {
   "cell_type": "code",
   "execution_count": 5,
   "id": "7d04f27b",
   "metadata": {},
   "outputs": [
    {
     "name": "stdout",
     "output_type": "stream",
     "text": [
      "['Thank you ', 'for the music', 'Welcome to ', 'the jungle']\n"
     ]
    }
   ],
   "source": [
    "txt = \"Thank you \\rfor the music\\nWelcome to \\r\\nthe jungle\"\n",
    "x = txt.splitlines()\n",
    "print(x)"
   ]
  },
  {
   "cell_type": "markdown",
   "id": "f36969b1",
   "metadata": {},
   "source": [
    "#### join()\n",
    "- Joins the elements of an iterable to the end of the string"
   ]
  },
  {
   "cell_type": "code",
   "execution_count": 15,
   "id": "a7d161a3",
   "metadata": {},
   "outputs": [
    {
     "name": "stdout",
     "output_type": "stream",
     "text": [
      "John#Peter#Vicky\n"
     ]
    }
   ],
   "source": [
    "myTuple = (\"John\", \"Peter\", \"Vicky\")\n",
    "joined = \"#\".join(myTuple)\n",
    "print(joined)"
   ]
  },
  {
   "cell_type": "markdown",
   "id": "16001791",
   "metadata": {},
   "source": [
    "#### count()\n",
    "- Returns the number of times a specified value occurs in a string"
   ]
  },
  {
   "cell_type": "code",
   "execution_count": 2,
   "id": "2b972489",
   "metadata": {},
   "outputs": [
    {
     "name": "stdout",
     "output_type": "stream",
     "text": [
      "2\n"
     ]
    }
   ],
   "source": [
    "txt = \"I love apples, apple are my favorite fruit\"\n",
    "print(txt.count('apple'))"
   ]
  },
  {
   "cell_type": "markdown",
   "id": "9ab7b433",
   "metadata": {},
   "source": [
    "#### find()\n",
    "- Searches the string for a specified value and returns the position of where it was found"
   ]
  },
  {
   "cell_type": "code",
   "execution_count": 6,
   "id": "1c5baf25",
   "metadata": {},
   "outputs": [
    {
     "name": "stdout",
     "output_type": "stream",
     "text": [
      "7\n"
     ]
    }
   ],
   "source": [
    "txt = \"I love apples, apple are my favorite fruit\"\n",
    "print(txt.find('apple'))"
   ]
  },
  {
   "cell_type": "code",
   "execution_count": 4,
   "id": "08cada33",
   "metadata": {},
   "outputs": [
    {
     "name": "stdout",
     "output_type": "stream",
     "text": [
      "-1\n"
     ]
    }
   ],
   "source": [
    "txt = \"Hello, welcome to my world.\"\n",
    "print(txt.find('welcomes'))  # return -1 if specified string or characters not in the string."
   ]
  },
  {
   "cell_type": "markdown",
   "id": "c4d81c8a",
   "metadata": {},
   "source": [
    "#### rfind()\n",
    "- Searches the string for a specified value and returns the last position of where it was found"
   ]
  },
  {
   "cell_type": "code",
   "execution_count": 7,
   "id": "3694518d",
   "metadata": {},
   "outputs": [
    {
     "name": "stdout",
     "output_type": "stream",
     "text": [
      "15\n"
     ]
    }
   ],
   "source": [
    "txt = \"I love apples, apple are my favorite fruit\"\n",
    "print(txt.rfind('apple'))"
   ]
  },
  {
   "cell_type": "markdown",
   "id": "658d6900",
   "metadata": {},
   "source": [
    "#### index()\n",
    "- Searches the string for a specified value and returns the position of where it was found"
   ]
  },
  {
   "cell_type": "code",
   "execution_count": 8,
   "id": "927b4687",
   "metadata": {},
   "outputs": [
    {
     "name": "stdout",
     "output_type": "stream",
     "text": [
      "7\n"
     ]
    }
   ],
   "source": [
    "txt = \"I love apples, apple are my favorite fruit\"\n",
    "print(txt.index('apple'))"
   ]
  },
  {
   "cell_type": "code",
   "execution_count": 9,
   "id": "7ea12cb8",
   "metadata": {},
   "outputs": [
    {
     "ename": "ValueError",
     "evalue": "substring not found",
     "output_type": "error",
     "traceback": [
      "\u001b[1;31m---------------------------------------------------------------------------\u001b[0m",
      "\u001b[1;31mValueError\u001b[0m                                Traceback (most recent call last)",
      "Input \u001b[1;32mIn [9]\u001b[0m, in \u001b[0;36m<cell line: 2>\u001b[1;34m()\u001b[0m\n\u001b[0;32m      1\u001b[0m txt \u001b[38;5;241m=\u001b[39m \u001b[38;5;124m\"\u001b[39m\u001b[38;5;124mI love apples, apple are my favorite fruit\u001b[39m\u001b[38;5;124m\"\u001b[39m\n\u001b[1;32m----> 2\u001b[0m \u001b[38;5;28mprint\u001b[39m(\u001b[43mtxt\u001b[49m\u001b[38;5;241;43m.\u001b[39;49m\u001b[43mindex\u001b[49m\u001b[43m(\u001b[49m\u001b[38;5;124;43m'\u001b[39;49m\u001b[38;5;124;43morange\u001b[39;49m\u001b[38;5;124;43m'\u001b[39;49m\u001b[43m)\u001b[49m)\n",
      "\u001b[1;31mValueError\u001b[0m: substring not found"
     ]
    }
   ],
   "source": [
    "txt = \"I love apples, apple are my favorite fruit\"\n",
    "print(txt.index('orange'))  # Return \"ValueError\" if not found"
   ]
  },
  {
   "cell_type": "markdown",
   "id": "c761715b",
   "metadata": {},
   "source": [
    "#### rindex()\n",
    "- Searches the string for a specified value and returns the last position of where it was found"
   ]
  },
  {
   "cell_type": "code",
   "execution_count": 11,
   "id": "886250aa",
   "metadata": {},
   "outputs": [
    {
     "name": "stdout",
     "output_type": "stream",
     "text": [
      "15\n"
     ]
    }
   ],
   "source": [
    "txt = \"I love apples, apple are my favorite fruit\"\n",
    "print(txt.rindex('apple'))"
   ]
  },
  {
   "cell_type": "markdown",
   "id": "5e96b6ed",
   "metadata": {},
   "source": [
    "#### startswith()\n",
    "- Returns true if the string starts with the specified value"
   ]
  },
  {
   "cell_type": "code",
   "execution_count": 13,
   "id": "f7f68a14",
   "metadata": {},
   "outputs": [
    {
     "name": "stdout",
     "output_type": "stream",
     "text": [
      "True\n",
      "False\n"
     ]
    }
   ],
   "source": [
    "txt = \"I love apples, apple are my favorite fruit\"\n",
    "print(txt.startswith('I love'))\n",
    "print(txt.startswith('i love'))"
   ]
  },
  {
   "cell_type": "markdown",
   "id": "60171bf8",
   "metadata": {},
   "source": [
    "#### endswith()\n",
    "- Returns true if the string ends with the specified value"
   ]
  },
  {
   "cell_type": "code",
   "execution_count": 14,
   "id": "ffffde29",
   "metadata": {},
   "outputs": [
    {
     "name": "stdout",
     "output_type": "stream",
     "text": [
      "True\n",
      "False\n"
     ]
    }
   ],
   "source": [
    "txt = \"I love apples, apple are my favorite fruit\"\n",
    "print(txt.endswith(\"fruit\"))\n",
    "print(txt.endswith(\"Fruit\"))"
   ]
  },
  {
   "cell_type": "code",
   "execution_count": null,
   "id": "36186935",
   "metadata": {},
   "outputs": [],
   "source": []
  },
  {
   "cell_type": "code",
   "execution_count": null,
   "id": "77c061fa",
   "metadata": {},
   "outputs": [],
   "source": []
  },
  {
   "cell_type": "markdown",
   "id": "59c05bf8",
   "metadata": {},
   "source": [
    "## Reverse a String in Python"
   ]
  },
  {
   "cell_type": "code",
   "execution_count": 1,
   "id": "ceb99b49",
   "metadata": {},
   "outputs": [
    {
     "name": "stdout",
     "output_type": "stream",
     "text": [
      "dlroW olleH\n"
     ]
    }
   ],
   "source": [
    "txt = \"Hello World\"[::-1]\n",
    "print(txt)"
   ]
  },
  {
   "cell_type": "code",
   "execution_count": 2,
   "id": "8d8b0122",
   "metadata": {},
   "outputs": [
    {
     "name": "stdout",
     "output_type": "stream",
     "text": [
      "sdrawkcab ekil skool txet siht woh rednow I\n"
     ]
    }
   ],
   "source": [
    "def my_function(x):\n",
    "  return x[::-1]\n",
    "\n",
    "mytxt = my_function(\"I wonder how this text looks like backwards\")\n",
    "\n",
    "print(mytxt)"
   ]
  },
  {
   "cell_type": "code",
   "execution_count": null,
   "id": "8ef45abf",
   "metadata": {},
   "outputs": [],
   "source": []
  }
 ],
 "metadata": {
  "kernelspec": {
   "display_name": "Python 3 (ipykernel)",
   "language": "python",
   "name": "python3"
  },
  "language_info": {
   "codemirror_mode": {
    "name": "ipython",
    "version": 3
   },
   "file_extension": ".py",
   "mimetype": "text/x-python",
   "name": "python",
   "nbconvert_exporter": "python",
   "pygments_lexer": "ipython3",
   "version": "3.9.12"
  }
 },
 "nbformat": 4,
 "nbformat_minor": 5
}
