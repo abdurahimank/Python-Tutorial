{
 "cells": [
  {
   "cell_type": "markdown",
   "id": "ca9d0aac",
   "metadata": {},
   "source": [
    "# File Handling"
   ]
  },
  {
   "cell_type": "code",
   "execution_count": null,
   "id": "53aadb94",
   "metadata": {},
   "outputs": [],
   "source": [
    "f = open(\"filename\", \"mode\")\n",
    "# mode = 'r', 'a', 'w', 'x' and 't', 'b'\n",
    "# read functions :- read(), readline(), readlines()\n",
    "# write functions :- write(), writeline(), writelines()"
   ]
  }
 ],
 "metadata": {
  "kernelspec": {
   "display_name": "Python 3 (ipykernel)",
   "language": "python",
   "name": "python3"
  },
  "language_info": {
   "codemirror_mode": {
    "name": "ipython",
    "version": 3
   },
   "file_extension": ".py",
   "mimetype": "text/x-python",
   "name": "python",
   "nbconvert_exporter": "python",
   "pygments_lexer": "ipython3",
   "version": "3.9.12"
  }
 },
 "nbformat": 4,
 "nbformat_minor": 5
}
