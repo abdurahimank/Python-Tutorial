{
 "cells": [
  {
   "cell_type": "markdown",
   "id": "ca9d0aac",
   "metadata": {},
   "source": [
    "# File Handling\n",
    "#### Table of Contents\n",
    "1. General\n",
    "2. Reading\n",
    "3. Writing\n",
    "4. File Objech Attributes and Methods"
   ]
  },
  {
   "cell_type": "markdown",
   "id": "cc8fa7e6-e119-4f12-8560-c2f804c6f173",
   "metadata": {},
   "source": [
    "# General\n",
    "```f = open(\"filename\", \"mode\")```\n",
    "\n",
    "![file_handling_img01](https://github.com/abdurahimank/Python-Tutorial/blob/main/images/file_handling_img01.png?raw=true)\n",
    "\n",
    "### Modes\n",
    "The mode argument is optional and the default value is r and t.\n",
    "- ```r```: Read mode. Opens an existing file for reading. Raises an error if the file doesn't exist.\n",
    "- ```w```: Write mode. Creates a new file for writing. Overwrites the file if it already exists.\n",
    "- ```a```: Append mode. Opens a file for appending data. Creates the file if it doesn't exist.\n",
    "- ```x```: Exclusive creation mode. Creates a new file for writing but raises an error if the file already exists.\n",
    "\n",
    "- ```t```: \n",
    "- ```b```:\n",
    "\n",
    "- ```rb```: Read binary mode. Opens an existing binary file for reading.\n",
    "- ```wb```: Write binary mode. Creates a new binary file for writing.\n",
    "- ```ab```: Append binary mode. Opens a binary file for appending data.\n",
    "- ```xb```: Exclusive binary creation mode. Creates a new binary file for writing but raises an error if it already exists.\n",
    "\n",
    "- ```rt```: Read text mode. Opens an existing text file for reading. (Default for text files)\n",
    "- ```wt```: Write text mode. Creates a new text file for writing. (Default for text files)\n",
    "- ```at```: Append text mode. Opens a text file for appending data. (Default for text files)\n",
    "- ```xt```: Exclusive text creation mode. Creates a new text file for writing but raises an error if it already exists.\n",
    "\n",
    "- ```r+```: Read and write mode. Opens an existing file for both reading and writing.\n",
    "- ```w+```: Write and read mode. Creates a new file for reading and writing. Overwrites the file if it already exists.\n",
    "- ```a+```: Append and read mode. Opens a file for both appending and reading. Creates the file if it doesn't exist.\n",
    "- ```x+```: Exclusive creation and read/write mode. Creates a new file for reading and writing but raises an error if it already exists."
   ]
  },
  {
   "cell_type": "code",
   "execution_count": null,
   "id": "53aadb94",
   "metadata": {},
   "outputs": [],
   "source": [
    "f = open(\"filename\", \"mode\")"
   ]
  },
  {
   "cell_type": "markdown",
   "id": "6db5f0fb-4359-4046-9852-b3f3ac7accf8",
   "metadata": {},
   "source": [
    "# Reading\n",
    "- read functions :- ```read()```, ```readline()```, ```readlines()```"
   ]
  },
  {
   "cell_type": "code",
   "execution_count": 9,
   "id": "aac14900-6f30-447f-82fe-cac1f0619909",
   "metadata": {},
   "outputs": [
    {
     "data": {
      "text/plain": [
       "'this is line 1\\nthis is line 2\\nthis is line 3'"
      ]
     },
     "execution_count": 9,
     "metadata": {},
     "output_type": "execute_result"
    }
   ],
   "source": [
    "file1 = open(\"Example.txt\", \"r\")\n",
    "\n",
    "# Read the file\n",
    "FileContent = file1.read()\n",
    "FileContent"
   ]
  },
  {
   "cell_type": "code",
   "execution_count": 10,
   "id": "ca05649e-5729-4367-b420-b011d3729a27",
   "metadata": {},
   "outputs": [
    {
     "name": "stdout",
     "output_type": "stream",
     "text": [
      "this is line 1\n",
      "this is line 2\n",
      "this is line 3\n"
     ]
    }
   ],
   "source": [
    "# Print the file with '\\n' as a new line\n",
    "print(FileContent)"
   ]
  },
  {
   "cell_type": "code",
   "execution_count": 11,
   "id": "1c3dd49f-f9e2-4185-aa1e-35a441aa6408",
   "metadata": {},
   "outputs": [
    {
     "data": {
      "text/plain": [
       "str"
      ]
     },
     "execution_count": 11,
     "metadata": {},
     "output_type": "execute_result"
    }
   ],
   "source": [
    "# Type of file content\n",
    "type(FileContent)"
   ]
  },
  {
   "cell_type": "markdown",
   "id": "379731b2-a387-45b7-a397-be719024b241",
   "metadata": {},
   "source": [
    "It is very important that the **file is closed** in the end. This frees up resources and ensures consistency across different python versions."
   ]
  },
  {
   "cell_type": "code",
   "execution_count": 12,
   "id": "18e80dbb-14b1-4a6c-a761-09974235cea9",
   "metadata": {},
   "outputs": [],
   "source": [
    "# Close file after finish\n",
    "file1.close()"
   ]
  },
  {
   "cell_type": "markdown",
   "id": "a82b6639-f74a-4ba7-ba56-c083d5cc44c8",
   "metadata": {},
   "source": [
    "### A Better Way to Open a File\n",
    "Using the ```with``` statement is better practice, it automatically closes the file even if the code encounters an exception. The code will run everything in the indent block then close the file object.\n",
    "\n",
    "The syntax is a little confusing as the file object is after the ```as``` statement. We also don’t explicitly close the file. Therefore we summarize the steps in a figure:\n",
    "\n",
    "![file_handling_img02](https://github.com/abdurahimank/Python-Tutorial/blob/main/images/file_handling_img02.png?raw=true)\n"
   ]
  },
  {
   "cell_type": "code",
   "execution_count": 14,
   "id": "bf38bc1f-0838-4a40-a083-59bfa8882b00",
   "metadata": {},
   "outputs": [
    {
     "name": "stdout",
     "output_type": "stream",
     "text": [
      "this is line 1\n",
      "this is line 2\n",
      "this is line 3\n"
     ]
    }
   ],
   "source": [
    "# Open file using with\n",
    "\n",
    "with open(\"Example.txt\", \"r\") as file1:\n",
    "    FileContent = file1.read()\n",
    "    print(FileContent)"
   ]
  },
  {
   "cell_type": "code",
   "execution_count": 15,
   "id": "6ad92ffe-f95a-4112-afe9-277c2d4afbde",
   "metadata": {},
   "outputs": [
    {
     "data": {
      "text/plain": [
       "True"
      ]
     },
     "execution_count": 15,
     "metadata": {},
     "output_type": "execute_result"
    }
   ],
   "source": [
    "# Verify if the file is closed\n",
    "\n",
    "file1.closed"
   ]
  },
  {
   "cell_type": "code",
   "execution_count": 17,
   "id": "063bfe2f-5da5-454d-b9f8-313c74f31de9",
   "metadata": {},
   "outputs": [
    {
     "name": "stdout",
     "output_type": "stream",
     "text": [
      "this is line 1\n",
      "this is line 2\n",
      "this is line 3\n"
     ]
    }
   ],
   "source": [
    "# See the content of file\n",
    "\n",
    "print(FileContent)"
   ]
  },
  {
   "cell_type": "markdown",
   "id": "f7271a18-6787-4204-98f5-56ef1eac44da",
   "metadata": {},
   "source": [
    "### Specifying number of elements in read method\n",
    "![file_handling_img03](https://github.com/abdurahimank/Python-Tutorial/blob/main/images/file_handling_img03.png?raw=true)"
   ]
  },
  {
   "cell_type": "code",
   "execution_count": 23,
   "id": "a81eaf95-8a6c-485d-8a8e-d5c9c454bc64",
   "metadata": {},
   "outputs": [
    {
     "name": "stdout",
     "output_type": "stream",
     "text": [
      "this\n",
      " is \n",
      "line 1\n",
      "\n",
      "this is line 2\n",
      "\n"
     ]
    }
   ],
   "source": [
    "with open(\"Example.txt\", \"r\") as file1:\n",
    "    print(file1.read(4))\n",
    "    print(file1.read(4))\n",
    "    print(file1.read(7))\n",
    "    print(file1.read(15))"
   ]
  },
  {
   "cell_type": "markdown",
   "id": "d51a23bc-9b2f-4c52-8528-1843032aa21d",
   "metadata": {},
   "source": [
    "### readline()\n",
    "We can also read one line of the file at a time using the method ```readline()```.\n"
   ]
  },
  {
   "cell_type": "code",
   "execution_count": 20,
   "id": "deebde95-3c27-4121-b292-52d2884ba23e",
   "metadata": {},
   "outputs": [
    {
     "name": "stdout",
     "output_type": "stream",
     "text": [
      "this is line 1\n",
      "\n",
      "this is line 2\n",
      "\n"
     ]
    }
   ],
   "source": [
    "with open(\"Example.txt\", \"r\") as file1:\n",
    "    line = file1.readline()\n",
    "    print(line)\n",
    "    line = file1.readline()\n",
    "    print(line)"
   ]
  },
  {
   "cell_type": "markdown",
   "id": "c2c30959-0b1b-40c8-ac01-63f4a7929da0",
   "metadata": {},
   "source": [
    "We can also pass an argument to  ```readline()```  to specify the number of charecters we want to read. However, unlike  ```read()```,  ```readline()``` can only read one line at most."
   ]
  },
  {
   "cell_type": "code",
   "execution_count": 21,
   "id": "deedd748-b9e7-43e7-bf0a-5a1b5e86023a",
   "metadata": {},
   "outputs": [
    {
     "name": "stdout",
     "output_type": "stream",
     "text": [
      "this is line 1\n",
      "\n",
      "this is line 2\n",
      "this \n"
     ]
    }
   ],
   "source": [
    "with open(\"Example.txt\", \"r\") as file1:\n",
    "    print(file1.readline(20)) # does not read past the end of line\n",
    "    print(file1.read(20))"
   ]
  },
  {
   "cell_type": "markdown",
   "id": "5016d13d-bd69-422d-b5fc-99f9c70d4b9d",
   "metadata": {},
   "source": [
    "### readlines()\n",
    "We can use the method ```readlines()``` to save the text file to a list."
   ]
  },
  {
   "cell_type": "code",
   "execution_count": 19,
   "id": "bc8d8ada-b19b-4782-b4ca-ee2425d9515f",
   "metadata": {},
   "outputs": [
    {
     "name": "stdout",
     "output_type": "stream",
     "text": [
      "['this is line 1\\n', 'this is line 2\\n', 'this is line 3']\n"
     ]
    }
   ],
   "source": [
    "# Read all lines and save as a list\n",
    "\n",
    "with open(\"Example.txt\", \"r\") as file1:\n",
    "    FileasList = file1.readlines()\n",
    "print(FileasList)"
   ]
  },
  {
   "cell_type": "markdown",
   "id": "c1c29917-0c46-47be-a4cd-c5feced61bac",
   "metadata": {},
   "source": [
    "### Using Loop"
   ]
  },
  {
   "cell_type": "code",
   "execution_count": 22,
   "id": "83f7df4e-7323-488f-842f-665060161bac",
   "metadata": {},
   "outputs": [
    {
     "name": "stdout",
     "output_type": "stream",
     "text": [
      "this is line 1\n",
      "\n",
      "this is line 2\n",
      "\n",
      "this is line 3\n"
     ]
    }
   ],
   "source": [
    "with open(\"Example.txt\", \"r\") as file1:\n",
    "    print(file1.readline(20)) # does not read past the end of line\n",
    "    for line in file1:\n",
    "        print(line)"
   ]
  },
  {
   "cell_type": "code",
   "execution_count": null,
   "id": "f3d216e8-9b91-433e-8dc6-91e6b52ee6a7",
   "metadata": {},
   "outputs": [],
   "source": []
  },
  {
   "cell_type": "markdown",
   "id": "67876dfd-b487-4784-bb1e-f76f62b0214e",
   "metadata": {},
   "source": [
    "# Writing\n",
    "- write functions :- ```write()```, ```writeline()```, ```writelines()```"
   ]
  },
  {
   "cell_type": "code",
   "execution_count": 24,
   "id": "741a6850-8493-4205-8c4c-2d26702a0958",
   "metadata": {},
   "outputs": [],
   "source": [
    "with open(\"Example2.txt\", 'w') as writefile:\n",
    "    writefile.write(\"This is line A\")"
   ]
  },
  {
   "cell_type": "code",
   "execution_count": 25,
   "id": "2806ceca-e491-44ac-af5b-ce075b79cf75",
   "metadata": {},
   "outputs": [
    {
     "name": "stdout",
     "output_type": "stream",
     "text": [
      "This is line A\n"
     ]
    }
   ],
   "source": [
    "# Read file\n",
    "\n",
    "with open(\"Example2.txt\", 'r') as testwritefile:\n",
    "    print(testwritefile.read())"
   ]
  },
  {
   "cell_type": "markdown",
   "id": "4f2b2bae-675a-45fe-afdd-7ad7fa22cb5d",
   "metadata": {},
   "source": [
    "We can write multiple lines:"
   ]
  },
  {
   "cell_type": "code",
   "execution_count": 26,
   "id": "4c808591-2ff5-4555-b79e-bd5a1eae42a4",
   "metadata": {},
   "outputs": [],
   "source": [
    "# Write lines to file\n",
    "\n",
    "with open(\"Example2.txt\", 'w') as writefile:\n",
    "    writefile.write(\"This is line A\\n\")\n",
    "    writefile.write(\"This is line B\\n\")"
   ]
  },
  {
   "cell_type": "code",
   "execution_count": 27,
   "id": "d28bdcfb-214c-41db-b397-c9af4da76ef3",
   "metadata": {},
   "outputs": [
    {
     "name": "stdout",
     "output_type": "stream",
     "text": [
      "This is line A\n",
      "This is line B\n",
      "\n"
     ]
    }
   ],
   "source": [
    "with open(\"Example2.txt\", 'r') as testwritefile:\n",
    "    print(testwritefile.read())"
   ]
  },
  {
   "cell_type": "markdown",
   "id": "d57061a9-84e9-4776-b9ed-d5f0a77bdc2b",
   "metadata": {},
   "source": [
    "We write a list to a .txt file as follows:"
   ]
  },
  {
   "cell_type": "code",
   "execution_count": 28,
   "id": "228936cc-9ca3-4923-8bb6-60b560013f2c",
   "metadata": {},
   "outputs": [
    {
     "data": {
      "text/plain": [
       "['This is line A\\n', 'This is line B\\n', 'This is line C\\n']"
      ]
     },
     "execution_count": 28,
     "metadata": {},
     "output_type": "execute_result"
    }
   ],
   "source": [
    "Lines = [\"This is line A\\n\", \"This is line B\\n\", \"This is line C\\n\"]\n",
    "Lines"
   ]
  },
  {
   "cell_type": "code",
   "execution_count": 29,
   "id": "d5f39089-5919-40e0-bdd6-13b7ce9510bd",
   "metadata": {},
   "outputs": [
    {
     "name": "stdout",
     "output_type": "stream",
     "text": [
      "This is line A\n",
      "\n",
      "This is line B\n",
      "\n",
      "This is line C\n",
      "\n"
     ]
    }
   ],
   "source": [
    "with open(\"Example2.txt\", 'w') as writefile:\n",
    "    for line in Lines:\n",
    "        print(line)\n",
    "        writefile.write(line)"
   ]
  },
  {
   "cell_type": "code",
   "execution_count": 30,
   "id": "b01bc822-0639-4ccd-9ee7-2f32ef32cffe",
   "metadata": {},
   "outputs": [
    {
     "name": "stdout",
     "output_type": "stream",
     "text": [
      "This is line A\n",
      "This is line B\n",
      "This is line C\n",
      "\n"
     ]
    }
   ],
   "source": [
    "with open(\"Example2.txt\", 'r') as testwritefile:\n",
    "    print(testwritefile.read())"
   ]
  },
  {
   "cell_type": "markdown",
   "id": "7494c8ea-f28a-44ac-9957-8d509fd37ee7",
   "metadata": {},
   "source": [
    "However, note that setting the mode to w overwrites all the existing data in the file."
   ]
  },
  {
   "cell_type": "code",
   "execution_count": 31,
   "id": "af8ee284-5bb3-4c39-9460-8e3066c75990",
   "metadata": {},
   "outputs": [
    {
     "name": "stdout",
     "output_type": "stream",
     "text": [
      "Overwrite\n",
      "\n"
     ]
    }
   ],
   "source": [
    "with open(\"Example2.txt\", 'w') as writefile:\n",
    "    writefile.write(\"Overwrite\\n\")\n",
    "with open(\"Example2.txt\", 'r') as testwritefile:\n",
    "    print(testwritefile.read())"
   ]
  },
  {
   "cell_type": "markdown",
   "id": "2f541b0f-7c1c-4e3d-8c15-277f21f8eed8",
   "metadata": {},
   "source": [
    "### Appending Files\n",
    "We can write to files without losing any of the existing data as follows by setting the mode argument to append: ```a```. You can append a new line as follows:"
   ]
  },
  {
   "cell_type": "code",
   "execution_count": 33,
   "id": "f4618847-c8e8-429b-944c-13ef0a82c1e8",
   "metadata": {},
   "outputs": [],
   "source": [
    "with open(\"Example2.txt\", \"w\") as writefile:\n",
    "    writefile.write(\"This is line A\\n\")\n",
    "    writefile.write(\"This is line B\\n\")"
   ]
  },
  {
   "cell_type": "code",
   "execution_count": 34,
   "id": "8cafc8e8-1cb0-477a-b1a6-40bcad6e7ce1",
   "metadata": {},
   "outputs": [],
   "source": [
    "# Write a new line to text file\n",
    "\n",
    "with open(\"Example2.txt\", \"a\") as testwritefile:\n",
    "    testwritefile.write(\"This is line C\\n\")\n",
    "    testwritefile.write(\"This is line D\\n\")\n",
    "    testwritefile.write(\"This is line E\\n\")"
   ]
  },
  {
   "cell_type": "code",
   "execution_count": 35,
   "id": "c48da0f8-1ab4-4c54-880c-846642b2897c",
   "metadata": {},
   "outputs": [
    {
     "name": "stdout",
     "output_type": "stream",
     "text": [
      "This is line A\n",
      "This is line B\n",
      "This is line C\n",
      "This is line D\n",
      "This is line E\n",
      "\n"
     ]
    }
   ],
   "source": [
    "# Verify if the new line is in the text file\n",
    "\n",
    "with open(\"Example2.txt\", \"r\") as testwritefile:\n",
    "    print(testwritefile.read())"
   ]
  },
  {
   "cell_type": "markdown",
   "id": "0ec3582b-dc12-4013-b7c0-1c52e385a6ae",
   "metadata": {},
   "source": [
    "### Additional modes\n",
    "It's fairly inefficient to open the file in a or w and then reopen it in r to read any lines. Luckily we can access the file in the following modes:\n",
    "\n",
    "r+ : Reading and writing. Cannot truncate the file.\n",
    "w+ : Writing and reading. Truncates the file.\n",
    "a+ : Appending and Reading. Creates a new file, if none exists. You dont have to dwell on the specifics of each mode for this lab."
   ]
  },
  {
   "cell_type": "code",
   "execution_count": null,
   "id": "b04a033a-2542-4804-b9e7-bb48cf98424a",
   "metadata": {},
   "outputs": [],
   "source": [
    "# refer - 14 Write and Save Files in Python - Python-for-Data-Science-AI-Development---Coursera"
   ]
  },
  {
   "cell_type": "code",
   "execution_count": null,
   "id": "ba596a05-f5d2-4652-8f8e-295a8499f887",
   "metadata": {},
   "outputs": [],
   "source": []
  },
  {
   "cell_type": "code",
   "execution_count": null,
   "id": "2acace62-d259-4438-9b0f-75fa15d652c7",
   "metadata": {},
   "outputs": [],
   "source": []
  },
  {
   "cell_type": "markdown",
   "id": "97d12cdc-58d3-424c-82f5-2bd4890fcb34",
   "metadata": {},
   "source": [
    "### Copy a File\n",
    "After reading files, we can also write data into files and save them in different file formats like **.txt, .csv, .xls (for excel files) etc**. You will come across these in further examples"
   ]
  },
  {
   "cell_type": "code",
   "execution_count": 36,
   "id": "811c25ec-c02d-46e1-b817-77e058682af7",
   "metadata": {},
   "outputs": [],
   "source": [
    "# Copy file to another\n",
    "\n",
    "with open(\"Example2.txt\", \"r\") as readfile:\n",
    "    with open(\"Example3.txt\", \"w\") as writefile:\n",
    "          for line in readfile:\n",
    "                writefile.write(line)"
   ]
  },
  {
   "cell_type": "code",
   "execution_count": 37,
   "id": "3d9086de-15c7-444f-aa8b-64a24efc0b95",
   "metadata": {},
   "outputs": [
    {
     "name": "stdout",
     "output_type": "stream",
     "text": [
      "This is line A\n",
      "This is line B\n",
      "This is line C\n",
      "This is line D\n",
      "This is line E\n",
      "\n"
     ]
    }
   ],
   "source": [
    "# Verify if the copy is successfully executed\n",
    "\n",
    "with open(\"Example3.txt\", \"r\") as testwritefile:\n",
    "    print(testwritefile.read())"
   ]
  },
  {
   "cell_type": "code",
   "execution_count": null,
   "id": "cd726a5c-4d23-4205-9372-a7708cd7a221",
   "metadata": {},
   "outputs": [],
   "source": []
  },
  {
   "cell_type": "code",
   "execution_count": null,
   "id": "07cd3c52-810c-4e37-8b18-a029312ba775",
   "metadata": {},
   "outputs": [],
   "source": []
  },
  {
   "cell_type": "markdown",
   "id": "bc8303db-fadd-44f7-a762-564c3c3a023b",
   "metadata": {},
   "source": [
    "# File Objech Attributes and Methods"
   ]
  },
  {
   "cell_type": "markdown",
   "id": "646a3f54-3e6d-457f-b5aa-f3bf72936219",
   "metadata": {},
   "source": [
    "### Attributes\n",
    "##### name"
   ]
  },
  {
   "cell_type": "code",
   "execution_count": 2,
   "id": "75582243-9282-4258-a86f-b7b21da18ab9",
   "metadata": {},
   "outputs": [
    {
     "data": {
      "text/plain": [
       "'Example.txt'"
      ]
     },
     "execution_count": 2,
     "metadata": {},
     "output_type": "execute_result"
    }
   ],
   "source": [
    "file = open(\"Example.txt\")\n",
    "file.name"
   ]
  },
  {
   "cell_type": "markdown",
   "id": "2482a387-63c0-4b8d-a585-c5c268037eb1",
   "metadata": {},
   "source": [
    "##### mode"
   ]
  },
  {
   "cell_type": "code",
   "execution_count": 3,
   "id": "c722d90a-2e01-4d97-8e9d-0ac4771b89d2",
   "metadata": {},
   "outputs": [
    {
     "data": {
      "text/plain": [
       "'r'"
      ]
     },
     "execution_count": 3,
     "metadata": {},
     "output_type": "execute_result"
    }
   ],
   "source": [
    "file.mode"
   ]
  },
  {
   "cell_type": "markdown",
   "id": "43434f53-3406-44f0-8c89-7380092e4646",
   "metadata": {},
   "source": [
    "##### closed"
   ]
  },
  {
   "cell_type": "code",
   "execution_count": 16,
   "id": "c14c6c8a-fd74-41b3-ad27-2898173debea",
   "metadata": {},
   "outputs": [
    {
     "data": {
      "text/plain": [
       "True"
      ]
     },
     "execution_count": 16,
     "metadata": {},
     "output_type": "execute_result"
    }
   ],
   "source": [
    "file.close()\n",
    "file1.closed"
   ]
  },
  {
   "cell_type": "code",
   "execution_count": null,
   "id": "6f4c7822-9af4-4650-9dd2-f9e74ad21f86",
   "metadata": {},
   "outputs": [],
   "source": []
  },
  {
   "cell_type": "code",
   "execution_count": null,
   "id": "455252b8-17b4-4214-b608-6fd38ec0b555",
   "metadata": {},
   "outputs": [],
   "source": []
  },
  {
   "cell_type": "code",
   "execution_count": null,
   "id": "8b24ef3f-c2d1-4c89-bd48-60b2369fe578",
   "metadata": {},
   "outputs": [],
   "source": []
  },
  {
   "cell_type": "markdown",
   "id": "345fee50-5152-4f1c-ba4a-65e6d3fe9e54",
   "metadata": {},
   "source": [
    "### Methods"
   ]
  },
  {
   "cell_type": "code",
   "execution_count": null,
   "id": "9ed2d6ec-d4bb-48e5-898b-1567801db759",
   "metadata": {},
   "outputs": [],
   "source": [
    "# tell() - Returns the current file position"
   ]
  },
  {
   "cell_type": "code",
   "execution_count": null,
   "id": "9f3879d4-6457-4d00-bc2d-ac1212d4fec8",
   "metadata": {},
   "outputs": [],
   "source": [
    "# seek() - Change the file position"
   ]
  }
 ],
 "metadata": {
  "kernelspec": {
   "display_name": "Python 3 (ipykernel)",
   "language": "python",
   "name": "python3"
  },
  "language_info": {
   "codemirror_mode": {
    "name": "ipython",
    "version": 3
   },
   "file_extension": ".py",
   "mimetype": "text/x-python",
   "name": "python",
   "nbconvert_exporter": "python",
   "pygments_lexer": "ipython3",
   "version": "3.9.12"
  }
 },
 "nbformat": 4,
 "nbformat_minor": 5
}
