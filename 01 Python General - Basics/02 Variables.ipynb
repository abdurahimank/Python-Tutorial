{
 "cells": [
  {
   "cell_type": "markdown",
   "id": "6c4e9b8e",
   "metadata": {},
   "source": [
    "# Variables\n",
    "#### Index\n",
    "1. Naming a Variable\n",
    "2. Creating a variable\n",
    "3. Scope of a variable\n",
    "4. Casting"
   ]
  },
  {
   "cell_type": "markdown",
   "id": "4e2da6de",
   "metadata": {},
   "source": [
    "## Variables\n",
    "Python has no command for declaring a variable. A variable is created the moment you first assign a value to it.\n",
    "#### Naming of a variable\n",
    "Rules for variable names:\n",
    "- A variable name must start with a letter or the underscore character\n",
    "- A variable name cannot start with a number\n",
    "- A variable name can only contain alpha-numeric characters and underscores (A-z, 0-9, and _ )\n",
    "- Variable names are case-sensitive (age, Age and AGE are three different variables)\n",
    "<br><br>\n",
    "- PEP 8: Use a meaningful word rather than random letters\n",
    "- PEP 8: Don't use keywords, instead add a underscore in the end of keyword if necessary"
   ]
  },
  {
   "cell_type": "code",
   "execution_count": 2,
   "id": "e7ff54c2",
   "metadata": {},
   "outputs": [],
   "source": [
    "myvar = \"John\"\n",
    "my_var = \"John\"\n",
    "_my_var = \"John\"\n",
    "myVar = \"John\"\n",
    "MYVAR = \"John\"\n",
    "myvar2 = \"John\""
   ]
  },
  {
   "cell_type": "markdown",
   "id": "46ecdca5",
   "metadata": {},
   "source": [
    "#### Multi Words Variable Names\n",
    "- PEP 8: It is good to use 1 to 3 words in a variable name"
   ]
  },
  {
   "cell_type": "code",
   "execution_count": 10,
   "id": "9c46ad32",
   "metadata": {},
   "outputs": [],
   "source": [
    "myVariableName = \"John\"  # Camel Case - Each word, except the first, starts with a capital letter.\n",
    "MyVariableName = \"John\"  # Pascal Case - Each word starts with a capital letter.\n",
    "my_variable_name = \"John\"  # Snake Case - Each word is separated by an underscore character. ## Prefered"
   ]
  },
  {
   "cell_type": "markdown",
   "id": "b3382475",
   "metadata": {},
   "source": [
    "#### Assigning value to a variable\n",
    "A value can be assigned to a variable name by assignment operator \"=\"."
   ]
  },
  {
   "cell_type": "code",
   "execution_count": 2,
   "id": "3583745d",
   "metadata": {},
   "outputs": [
    {
     "name": "stdout",
     "output_type": "stream",
     "text": [
      "John\n"
     ]
    }
   ],
   "source": [
    "# Assigning a single value to single variable\n",
    "myvar = \"John\"\n",
    "print(myvar)"
   ]
  },
  {
   "cell_type": "code",
   "execution_count": 3,
   "id": "d58dc28e",
   "metadata": {},
   "outputs": [
    {
     "name": "stdout",
     "output_type": "stream",
     "text": [
      "Orange\n",
      "Banana\n",
      "Cherry\n"
     ]
    }
   ],
   "source": [
    "# Many Values to Multiple Variables\n",
    "x, y, z = \"Orange\", \"Banana\", \"Cherry\"\n",
    "print(x)\n",
    "print(y)\n",
    "print(z)"
   ]
  },
  {
   "cell_type": "code",
   "execution_count": 4,
   "id": "77742754",
   "metadata": {},
   "outputs": [
    {
     "name": "stdout",
     "output_type": "stream",
     "text": [
      "Orange\n",
      "Orange\n",
      "Orange\n"
     ]
    }
   ],
   "source": [
    "# One Value to Multiple Variables\n",
    "x = y = z = \"Orange\"\n",
    "print(x)\n",
    "print(y)\n",
    "print(z)"
   ]
  },
  {
   "cell_type": "code",
   "execution_count": 5,
   "id": "a9e641b7",
   "metadata": {},
   "outputs": [
    {
     "name": "stdout",
     "output_type": "stream",
     "text": [
      "apple\n",
      "banana\n",
      "cherry\n"
     ]
    }
   ],
   "source": [
    "# Unpack a Collection\n",
    "fruits = [\"apple\", \"banana\", \"cherry\"]  # any collection can be used like this.\n",
    "x, y, z = fruits\n",
    "print(x)\n",
    "print(y)\n",
    "print(z)"
   ]
  },
  {
   "cell_type": "markdown",
   "id": "4787edf2",
   "metadata": {},
   "source": [
    "## Scope of a variable\n",
    "- LEGB Rule: Local > Enclosed > Global > Built in"
   ]
  },
  {
   "cell_type": "markdown",
   "id": "a8c42687",
   "metadata": {},
   "source": [
    "### Global Variable\n",
    "A global variable (variable declared outside of any function in a script) can be accessed anywhere in the script, but it's value can be changed only in the global scope, ie it's value cannot be changed inside a function."
   ]
  },
  {
   "cell_type": "code",
   "execution_count": 12,
   "id": "8a725945",
   "metadata": {},
   "outputs": [
    {
     "name": "stdout",
     "output_type": "stream",
     "text": [
      "Python is fantastic\n",
      "Python is awesome\n"
     ]
    }
   ],
   "source": [
    "x = \"awesome\"\n",
    "\n",
    "def myfunc():\n",
    "  x = \"fantastic\"\n",
    "  print(\"Python is \" + x)\n",
    "\n",
    "myfunc()\n",
    "\n",
    "print(\"Python is \" + x)"
   ]
  },
  {
   "cell_type": "markdown",
   "id": "ccbd008b",
   "metadata": {},
   "source": [
    "To change value of a global variable inside a function use **global** keyword"
   ]
  },
  {
   "cell_type": "code",
   "execution_count": 14,
   "id": "267caa64",
   "metadata": {},
   "outputs": [
    {
     "name": "stdout",
     "output_type": "stream",
     "text": [
      "Python is fantastic\n",
      "Python is fantastic\n"
     ]
    }
   ],
   "source": [
    "x = \"awesome\"\n",
    "\n",
    "def myfunc():\n",
    "  global x\n",
    "  x = \"fantastic\"\n",
    "  print(\"Python is \" + x)\n",
    "\n",
    "myfunc()\n",
    "\n",
    "print(\"Python is \" + x)"
   ]
  },
  {
   "cell_type": "markdown",
   "id": "593e65ca",
   "metadata": {},
   "source": [
    "A global keyword can be also declared inside a function using **global** keyword."
   ]
  },
  {
   "cell_type": "code",
   "execution_count": 15,
   "id": "ae6e267b",
   "metadata": {},
   "outputs": [
    {
     "name": "stdout",
     "output_type": "stream",
     "text": [
      "Python is fantastic\n"
     ]
    }
   ],
   "source": [
    "def myfunc():\n",
    "  global x\n",
    "  x = \"fantastic\"\n",
    "\n",
    "myfunc()\n",
    "\n",
    "print(\"Python is \" + x)"
   ]
  },
  {
   "cell_type": "markdown",
   "id": "bfcaeaa0",
   "metadata": {},
   "source": [
    "#### nonlocal\n",
    "- The nonlocal keyword is used to work with variables inside nested functions, where the variable should not belong to the inner function.\n",
    "- Use the keyword nonlocal to declare that the variable is not local."
   ]
  },
  {
   "cell_type": "code",
   "execution_count": 2,
   "id": "a25dd668",
   "metadata": {},
   "outputs": [
    {
     "name": "stdout",
     "output_type": "stream",
     "text": [
      "hello\n"
     ]
    }
   ],
   "source": [
    "# with nonlocal\n",
    "def myfunc1():\n",
    "  x = \"John\"\n",
    "  def myfunc2():\n",
    "    nonlocal x\n",
    "    x = \"hello\"\n",
    "  myfunc2()\n",
    "  return x\n",
    "\n",
    "print(myfunc1())"
   ]
  },
  {
   "cell_type": "code",
   "execution_count": 1,
   "id": "8d5cc457",
   "metadata": {},
   "outputs": [
    {
     "name": "stdout",
     "output_type": "stream",
     "text": [
      "John\n"
     ]
    }
   ],
   "source": [
    "# without nonlocal\n",
    "def myfunc1():\n",
    "  x = \"John\"\n",
    "  def myfunc2():\n",
    "    x = \"hello\"\n",
    "  myfunc2()\n",
    "  return x\n",
    "\n",
    "print(myfunc1())"
   ]
  },
  {
   "cell_type": "code",
   "execution_count": null,
   "id": "ecd0e92a",
   "metadata": {},
   "outputs": [],
   "source": []
  },
  {
   "cell_type": "markdown",
   "id": "345ef5d5",
   "metadata": {},
   "source": [
    "## Casting\n",
    "Python is **dynamically** and **strongly** typed language.\n",
    "- Dynamic Typing - \n",
    "- Static Typing - \n",
    "- Strong Typing - \n",
    "- Weak Typing - <br>\n",
    "Type casting of variables can be done by using special keywords for each type."
   ]
  },
  {
   "cell_type": "code",
   "execution_count": 11,
   "id": "74b46ce8",
   "metadata": {},
   "outputs": [],
   "source": [
    "x = str(3)    # x will be '3'\n",
    "y = int(3)    # y will be 3\n",
    "z = float(3)  # z will be 3.0"
   ]
  }
 ],
 "metadata": {
  "kernelspec": {
   "display_name": "Python 3 (ipykernel)",
   "language": "python",
   "name": "python3"
  },
  "language_info": {
   "codemirror_mode": {
    "name": "ipython",
    "version": 3
   },
   "file_extension": ".py",
   "mimetype": "text/x-python",
   "name": "python",
   "nbconvert_exporter": "python",
   "pygments_lexer": "ipython3",
   "version": "3.9.12"
  }
 },
 "nbformat": 4,
 "nbformat_minor": 5
}
