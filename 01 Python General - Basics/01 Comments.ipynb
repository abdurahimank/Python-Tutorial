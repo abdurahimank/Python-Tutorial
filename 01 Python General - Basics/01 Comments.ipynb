{
 "cells": [
  {
   "cell_type": "markdown",
   "id": "7c8b804d",
   "metadata": {},
   "source": [
    "# Comments in Python\n",
    "Comments starts with a **#**, and Python will ignore them:\n",
    "- PEP 8 = Should have one space between hash and next character\n",
    "- PEP 8 = In inline comment there should be 2 spaces between end of the code and hash\n",
    "- PEP 8 = In multiline comment, break down comment to several line and use hash rather than triple quote, since that reserved    for docstrings. \n",
    "- PEP 8 = A comment line should not exceed 72 characters"
   ]
  },
  {
   "cell_type": "code",
   "execution_count": 4,
   "id": "1e1a7ea8",
   "metadata": {},
   "outputs": [
    {
     "name": "stdout",
     "output_type": "stream",
     "text": [
      "1: Hello, World!\n",
      "2: Hello, World!\n"
     ]
    }
   ],
   "source": [
    "# This is a block line comment\n",
    "print(\"1: Hello, World!\")\n",
    "\n",
    "print(\"2: Hello, World!\")  # This is an inline comment"
   ]
  },
  {
   "cell_type": "markdown",
   "id": "881851d9",
   "metadata": {},
   "source": [
    "### Multi Line Comments"
   ]
  },
  {
   "cell_type": "code",
   "execution_count": 5,
   "id": "a1bd3ce3",
   "metadata": {},
   "outputs": [
    {
     "name": "stdout",
     "output_type": "stream",
     "text": [
      "3: Hello, World!\n",
      "4: Hello, World!\n"
     ]
    }
   ],
   "source": [
    "# This is a comment\n",
    "# written in\n",
    "# more than just one line\n",
    "print(\"3: Hello, World!\")\n",
    "\n",
    "\"\"\"\n",
    "This is a multiline \n",
    "comment, but it is\n",
    "not recommended\n",
    "\"\"\"\n",
    "print(\"4: Hello, World!\")"
   ]
  },
  {
   "cell_type": "markdown",
   "id": "2eee614f",
   "metadata": {},
   "source": [
    "A comment does not have to be text that explains the code, it can also be used to prevent Python from executing code."
   ]
  },
  {
   "cell_type": "code",
   "execution_count": 6,
   "id": "d7caa2d5",
   "metadata": {},
   "outputs": [
    {
     "name": "stdout",
     "output_type": "stream",
     "text": [
      "6: Cheers, Mate!\n"
     ]
    }
   ],
   "source": [
    "# print(\"5: Hello, World!\")\n",
    "print(\"6: Cheers, Mate!\")"
   ]
  },
  {
   "cell_type": "code",
   "execution_count": null,
   "id": "1d9acbed",
   "metadata": {},
   "outputs": [],
   "source": []
  }
 ],
 "metadata": {
  "kernelspec": {
   "display_name": "Python 3 (ipykernel)",
   "language": "python",
   "name": "python3"
  },
  "language_info": {
   "codemirror_mode": {
    "name": "ipython",
    "version": 3
   },
   "file_extension": ".py",
   "mimetype": "text/x-python",
   "name": "python",
   "nbconvert_exporter": "python",
   "pygments_lexer": "ipython3",
   "version": "3.9.12"
  }
 },
 "nbformat": 4,
 "nbformat_minor": 5
}
