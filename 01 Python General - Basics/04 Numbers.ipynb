{
 "cells": [
  {
   "cell_type": "markdown",
   "id": "5862296a",
   "metadata": {},
   "source": [
    "# Python Numbers\n",
    "There are three numeric types in Python:\n",
    "- int\n",
    "- float\n",
    "- complex\n",
    "\n",
    "Variables of numeric types are created when you assign a value to them.\n",
    "#### Python 2\n",
    "Python 2 treats numbers without any digits. (Output of expression 3 / 2 is 1, not 1.5). To get the result 1.5, you would have to write 3.0 / 2.0."
   ]
  },
  {
   "cell_type": "code",
   "execution_count": 19,
   "id": "270e699b",
   "metadata": {},
   "outputs": [
    {
     "name": "stdout",
     "output_type": "stream",
     "text": [
      "<class 'int'>\n",
      "<class 'float'>\n",
      "<class 'complex'>\n"
     ]
    }
   ],
   "source": [
    "x = 1    # int\n",
    "y = 2.8  # float\n",
    "z = 1j   # complex\n",
    "print(type(x))\n",
    "print(type(y))\n",
    "print(type(z))"
   ]
  },
  {
   "cell_type": "markdown",
   "id": "7c987aae",
   "metadata": {},
   "source": [
    "#### Int\n",
    "Int, or integer, is a whole number, positive or negative, without decimals, of unlimited length."
   ]
  },
  {
   "cell_type": "code",
   "execution_count": 20,
   "id": "7556e6b9",
   "metadata": {},
   "outputs": [
    {
     "name": "stdout",
     "output_type": "stream",
     "text": [
      "<class 'int'>\n",
      "<class 'int'>\n",
      "<class 'int'>\n"
     ]
    }
   ],
   "source": [
    "x = 1\n",
    "y = 35656222554887711\n",
    "z = -3255522\n",
    "\n",
    "print(type(x))\n",
    "print(type(y))\n",
    "print(type(z))"
   ]
  },
  {
   "cell_type": "markdown",
   "id": "fbdf459c",
   "metadata": {},
   "source": [
    "#### Float\n",
    "Float, or \"floating point number\" is a number, positive or negative, containing one or more decimals."
   ]
  },
  {
   "cell_type": "code",
   "execution_count": 21,
   "id": "be83335c",
   "metadata": {},
   "outputs": [
    {
     "name": "stdout",
     "output_type": "stream",
     "text": [
      "<class 'float'>\n",
      "<class 'float'>\n",
      "<class 'float'>\n"
     ]
    }
   ],
   "source": [
    "x = 1.10\n",
    "y = 1.0\n",
    "z = -35.59\n",
    "\n",
    "print(type(x))\n",
    "print(type(y))\n",
    "print(type(z))"
   ]
  },
  {
   "cell_type": "markdown",
   "id": "ca615e5f",
   "metadata": {},
   "source": [
    "Float can also be scientific numbers with an \"**e**\" to indicate the power of 10."
   ]
  },
  {
   "cell_type": "code",
   "execution_count": 22,
   "id": "af29ebe4",
   "metadata": {},
   "outputs": [
    {
     "name": "stdout",
     "output_type": "stream",
     "text": [
      "<class 'float'>\n",
      "<class 'float'>\n",
      "<class 'float'>\n"
     ]
    }
   ],
   "source": [
    "x = 35e3\n",
    "y = 12E4\n",
    "z = -87.7e100\n",
    "\n",
    "print(type(x))\n",
    "print(type(y))\n",
    "print(type(z))"
   ]
  },
  {
   "cell_type": "markdown",
   "id": "32a2faa5",
   "metadata": {},
   "source": [
    "#### Complex\n",
    "Complex numbers are written with a \"j\" as the imaginary part:"
   ]
  },
  {
   "cell_type": "code",
   "execution_count": 23,
   "id": "f2c40c6f",
   "metadata": {},
   "outputs": [
    {
     "name": "stdout",
     "output_type": "stream",
     "text": [
      "<class 'complex'>\n",
      "<class 'complex'>\n",
      "<class 'complex'>\n"
     ]
    }
   ],
   "source": [
    "x = 3+5j\n",
    "y = 5j\n",
    "z = -5j\n",
    "\n",
    "print(type(x))\n",
    "print(type(y))\n",
    "print(type(z))"
   ]
  },
  {
   "cell_type": "markdown",
   "id": "1e890ff2",
   "metadata": {},
   "source": [
    "### Type casting in numbers"
   ]
  },
  {
   "cell_type": "code",
   "execution_count": 1,
   "id": "7485acb1",
   "metadata": {},
   "outputs": [
    {
     "name": "stdout",
     "output_type": "stream",
     "text": [
      "1\n",
      "2\n",
      "3\n"
     ]
    }
   ],
   "source": [
    "x = int(1)   # x will be 1\n",
    "y = int(2.8) # y will be 2\n",
    "z = int(\"3\") # z will be 3\n",
    "print(x, y, z, sep='\\n')"
   ]
  },
  {
   "cell_type": "code",
   "execution_count": 2,
   "id": "e7c0eaab",
   "metadata": {},
   "outputs": [
    {
     "ename": "ValueError",
     "evalue": "invalid literal for int() with base 10: '3.6'",
     "output_type": "error",
     "traceback": [
      "\u001b[1;31m---------------------------------------------------------------------------\u001b[0m",
      "\u001b[1;31mValueError\u001b[0m                                Traceback (most recent call last)",
      "Input \u001b[1;32mIn [2]\u001b[0m, in \u001b[0;36m<cell line: 1>\u001b[1;34m()\u001b[0m\n\u001b[1;32m----> 1\u001b[0m x \u001b[38;5;241m=\u001b[39m \u001b[38;5;28;43mint\u001b[39;49m\u001b[43m(\u001b[49m\u001b[38;5;124;43m\"\u001b[39;49m\u001b[38;5;124;43m3.6\u001b[39;49m\u001b[38;5;124;43m\"\u001b[39;49m\u001b[43m)\u001b[49m\n\u001b[0;32m      2\u001b[0m \u001b[38;5;28mprint\u001b[39m(x)\n",
      "\u001b[1;31mValueError\u001b[0m: invalid literal for int() with base 10: '3.6'"
     ]
    }
   ],
   "source": [
    "x = int(\"3.6\")  # it will cause error since string literal have decimal value\n",
    "print(x)"
   ]
  },
  {
   "cell_type": "code",
   "execution_count": 3,
   "id": "a42b9980",
   "metadata": {},
   "outputs": [
    {
     "ename": "ValueError",
     "evalue": "invalid literal for int() with base 10: '3.0'",
     "output_type": "error",
     "traceback": [
      "\u001b[1;31m---------------------------------------------------------------------------\u001b[0m",
      "\u001b[1;31mValueError\u001b[0m                                Traceback (most recent call last)",
      "Input \u001b[1;32mIn [3]\u001b[0m, in \u001b[0;36m<cell line: 1>\u001b[1;34m()\u001b[0m\n\u001b[1;32m----> 1\u001b[0m x \u001b[38;5;241m=\u001b[39m \u001b[38;5;28;43mint\u001b[39;49m\u001b[43m(\u001b[49m\u001b[38;5;124;43m\"\u001b[39;49m\u001b[38;5;124;43m3.0\u001b[39;49m\u001b[38;5;124;43m\"\u001b[39;49m\u001b[43m)\u001b[49m  \u001b[38;5;66;03m# it will cause error since string literal have decimal value\u001b[39;00m\n\u001b[0;32m      2\u001b[0m \u001b[38;5;28mprint\u001b[39m(x)\n",
      "\u001b[1;31mValueError\u001b[0m: invalid literal for int() with base 10: '3.0'"
     ]
    }
   ],
   "source": [
    "x = int(\"3.0\")  # it will cause error since string literal have decimal value\n",
    "print(x)"
   ]
  },
  {
   "cell_type": "code",
   "execution_count": 4,
   "id": "2f7489c0",
   "metadata": {},
   "outputs": [
    {
     "name": "stdout",
     "output_type": "stream",
     "text": [
      "1.0\n",
      "2.8\n",
      "3.0\n",
      "4.2\n"
     ]
    }
   ],
   "source": [
    "x = float(1)     # x will be 1.0\n",
    "y = float(2.8)   # y will be 2.8\n",
    "z = float(\"3\")   # z will be 3.0\n",
    "w = float(\"4.2\") # w will be 4.2\n",
    "print(x, y, z, w, sep='\\n')"
   ]
  },
  {
   "cell_type": "code",
   "execution_count": 1,
   "id": "20f894f6",
   "metadata": {},
   "outputs": [
    {
     "ename": "TypeError",
     "evalue": "can't convert complex to float",
     "output_type": "error",
     "traceback": [
      "\u001b[1;31m---------------------------------------------------------------------------\u001b[0m",
      "\u001b[1;31mTypeError\u001b[0m                                 Traceback (most recent call last)",
      "Input \u001b[1;32mIn [1]\u001b[0m, in \u001b[0;36m<cell line: 1>\u001b[1;34m()\u001b[0m\n\u001b[1;32m----> 1\u001b[0m a \u001b[38;5;241m=\u001b[39m \u001b[38;5;28;43mfloat\u001b[39;49m\u001b[43m(\u001b[49m\u001b[38;5;241;43m1\u001b[39;49m\u001b[43mj\u001b[49m\u001b[43m)\u001b[49m\n",
      "\u001b[1;31mTypeError\u001b[0m: can't convert complex to float"
     ]
    }
   ],
   "source": [
    "a = float(1j)  # it will cause an error since complex numbers cannot be converted to float"
   ]
  },
  {
   "cell_type": "code",
   "execution_count": 5,
   "id": "29b60239",
   "metadata": {},
   "outputs": [
    {
     "name": "stdout",
     "output_type": "stream",
     "text": [
      "s1\n",
      "2\n",
      "3.0\n"
     ]
    }
   ],
   "source": [
    "x = str(\"s1\") # x will be 's1'\n",
    "y = str(2)    # y will be '2'\n",
    "z = str(3.0)  # z will be '3.0'\n",
    "print(x, y, z, sep='\\n')"
   ]
  },
  {
   "cell_type": "markdown",
   "id": "c077712e",
   "metadata": {},
   "source": [
    "### Builtin Functions"
   ]
  },
  {
   "cell_type": "markdown",
   "id": "301642c6",
   "metadata": {},
   "source": [
    "#### round()"
   ]
  },
  {
   "cell_type": "code",
   "execution_count": 2,
   "id": "26d114b4",
   "metadata": {},
   "outputs": [
    {
     "name": "stdout",
     "output_type": "stream",
     "text": [
      "7\n"
     ]
    }
   ],
   "source": [
    "print(round(6.777))"
   ]
  },
  {
   "cell_type": "code",
   "execution_count": 3,
   "id": "1edc0bb3",
   "metadata": {},
   "outputs": [
    {
     "name": "stdout",
     "output_type": "stream",
     "text": [
      "3.142\n"
     ]
    }
   ],
   "source": [
    "# we can specify how many digits needed by specifynig second argument in round function\n",
    "print(round(3.142299138, 3))"
   ]
  },
  {
   "cell_type": "code",
   "execution_count": null,
   "id": "65107661",
   "metadata": {},
   "outputs": [],
   "source": []
  }
 ],
 "metadata": {
  "kernelspec": {
   "display_name": "Python 3 (ipykernel)",
   "language": "python",
   "name": "python3"
  },
  "language_info": {
   "codemirror_mode": {
    "name": "ipython",
    "version": 3
   },
   "file_extension": ".py",
   "mimetype": "text/x-python",
   "name": "python",
   "nbconvert_exporter": "python",
   "pygments_lexer": "ipython3",
   "version": "3.9.12"
  }
 },
 "nbformat": 4,
 "nbformat_minor": 5
}
