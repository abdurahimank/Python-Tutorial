{
 "cells": [
  {
   "cell_type": "markdown",
   "id": "6c4e9b8e",
   "metadata": {},
   "source": [
    "# Basics & General Built-in functions\n"
   ]
  },
  {
   "cell_type": "markdown",
   "id": "08b09464",
   "metadata": {},
   "source": [
    "- Object-oriented (supports both functional and structured programming)\n",
    "- Dynamically and strongly typed\n",
    "- Whitespace delimited (Indentation)\n",
    "- Scripting language which supports large applications.\n",
    "- High-level dynamic data types and supports dynamic type checking\n",
    "- Automatic garbage collection\n",
    "- Easy integration with C, C++, COM, ActiveX, CORBA and Java.\n",
    "- REPL Concept (Read, Evaluate, Print, Loop).\n",
    "#### Python Implementations\n",
    "- CPython - Python implementation on standard C language.\n",
    "- Jython - Python implementation with Java virtual machine to blend with Java.\n",
    "- Pypy - Python implemented in Python and its Just-in time compiler making it fastest.\n",
    "- Iron Python - for windows, which implements common runtime libraries to interface with .NET.\n",
    "#### Points to note :-\n",
    "According to \"PEP 8\", an official style guide of python programming\n",
    "- Each line of code should limit to a maximum of 79 characters.\n",
    "\n",
    "#### Python Indendation\n",
    "- Python uses indendation for seperating block of code. \n",
    "- According to PEP8 it should be of four spaces.\n",
    "- In one block of code, each line should have same number of spaces for indendation. (otherwise it will rise syntax error)."
   ]
  },
  {
   "cell_type": "markdown",
   "id": "21c38e25",
   "metadata": {},
   "source": [
    "### print()\n",
    "print(value, ..., sep=' ', end='\\n', file=sys.stdout, flush=False)\n",
    "- print() is a bultin function in python which prints the values to a stream, or to sys.stdout by default.\n",
    "- Optional keyword arguments:\n",
    "  1. file:  a file-like object (stream); defaults to the current sys.stdout.\n",
    "  2. sep:   string inserted between values, default a space.\n",
    "  3. end:   string appended after the last value, default a newline.\n",
    "  4. flush: whether to forcibly flush the stream.\n",
    "\n",
    "- Python 2.7 uses the **print''** method. eg, **print'hello world'**"
   ]
  },
  {
   "cell_type": "code",
   "execution_count": 1,
   "id": "7a15e4c2",
   "metadata": {},
   "outputs": [
    {
     "name": "stdout",
     "output_type": "stream",
     "text": [
      "Hello World\n"
     ]
    }
   ],
   "source": [
    "print(\"Hello World\")"
   ]
  },
  {
   "cell_type": "code",
   "execution_count": 7,
   "id": "6e3e9640",
   "metadata": {},
   "outputs": [
    {
     "name": "stdout",
     "output_type": "stream",
     "text": [
      "1:  ABC XYZ\n",
      "2: \n",
      "ABC\n",
      "XYZ\n",
      "3: &&ABC&&XYZ\n"
     ]
    }
   ],
   "source": [
    "print(\"1: \", \"ABC\", \"XYZ\")  # default value for sep is \" \"\n",
    "print(\"2: \", \"ABC\", \"XYZ\", sep='\\n')\n",
    "print(\"3: \", \"ABC\", \"XYZ\", sep='&&')"
   ]
  },
  {
   "cell_type": "code",
   "execution_count": 1,
   "id": "994b3b80",
   "metadata": {},
   "outputs": [
    {
     "name": "stdout",
     "output_type": "stream",
     "text": [
      "ABC\n",
      "PQRXYZ\n",
      "\n",
      "ABC\n"
     ]
    }
   ],
   "source": [
    "print(\"ABC\")  # default value of end is '\\n'\n",
    "print(\"PQR\", end='')\n",
    "print(\"XYZ\", end='\\n\\n')\n",
    "print(\"ABC\")"
   ]
  },
  {
   "cell_type": "markdown",
   "id": "a476a12b",
   "metadata": {},
   "source": [
    "### input()\n",
    "- Python 3.6 uses the input() method.\n",
    "- Python 2.7 uses the raw_input() method."
   ]
  },
  {
   "cell_type": "code",
   "execution_count": 6,
   "id": "87e0eeed",
   "metadata": {},
   "outputs": [
    {
     "name": "stdout",
     "output_type": "stream",
     "text": [
      "Enter username:Abdurahiman K\n",
      "Username is: Abdurahiman K\n"
     ]
    }
   ],
   "source": [
    "username = input(\"Enter username:\")\n",
    "print(\"Username is: \" + username)"
   ]
  },
  {
   "cell_type": "markdown",
   "id": "0104fefd-fd92-4562-8bc3-c686b41479c4",
   "metadata": {},
   "source": [
    "### len()\n",
    "used to find length of any iterator."
   ]
  },
  {
   "cell_type": "code",
   "execution_count": 1,
   "id": "0f53f1b7-2bbb-4b3a-be8c-24ca8b139788",
   "metadata": {},
   "outputs": [
    {
     "name": "stdout",
     "output_type": "stream",
     "text": [
      "4\n"
     ]
    }
   ],
   "source": [
    "a = [1, 2, 3, \"s\"]\n",
    "print(len(a))"
   ]
  },
  {
   "cell_type": "markdown",
   "id": "95d1ff38",
   "metadata": {},
   "source": [
    "### range()\n",
    "range(start, stop, step)"
   ]
  },
  {
   "cell_type": "code",
   "execution_count": 2,
   "id": "5042ff0d",
   "metadata": {},
   "outputs": [
    {
     "name": "stdout",
     "output_type": "stream",
     "text": [
      "2\n",
      "5\n",
      "8\n",
      "11\n",
      "14\n",
      "17\n",
      "20\n",
      "23\n",
      "26\n",
      "29\n",
      "32\n"
     ]
    }
   ],
   "source": [
    "x = range(2, 34, 3)\n",
    "for i in x:\n",
    "    print(i)"
   ]
  },
  {
   "cell_type": "code",
   "execution_count": 3,
   "id": "f405ce03",
   "metadata": {},
   "outputs": [
    {
     "data": {
      "text/plain": [
       "[2, 7, 12, 17, 22, 27, 32, 37, 42]"
      ]
     },
     "execution_count": 3,
     "metadata": {},
     "output_type": "execute_result"
    }
   ],
   "source": [
    "lis = list(range(2,45,5))\n",
    "lis"
   ]
  },
  {
   "cell_type": "code",
   "execution_count": 4,
   "id": "5323f636",
   "metadata": {},
   "outputs": [
    {
     "data": {
      "text/plain": [
       "(0,\n",
       " 1,\n",
       " 2,\n",
       " 3,\n",
       " 4,\n",
       " 5,\n",
       " 6,\n",
       " 7,\n",
       " 8,\n",
       " 9,\n",
       " 10,\n",
       " 11,\n",
       " 12,\n",
       " 13,\n",
       " 14,\n",
       " 15,\n",
       " 16,\n",
       " 17,\n",
       " 18,\n",
       " 19,\n",
       " 20,\n",
       " 21,\n",
       " 22,\n",
       " 23,\n",
       " 24,\n",
       " 25,\n",
       " 26,\n",
       " 27,\n",
       " 28,\n",
       " 29,\n",
       " 30,\n",
       " 31,\n",
       " 32,\n",
       " 33,\n",
       " 34,\n",
       " 35,\n",
       " 36,\n",
       " 37,\n",
       " 38,\n",
       " 39,\n",
       " 40,\n",
       " 41,\n",
       " 42,\n",
       " 43,\n",
       " 44,\n",
       " 45,\n",
       " 46,\n",
       " 47,\n",
       " 48,\n",
       " 49)"
      ]
     },
     "execution_count": 4,
     "metadata": {},
     "output_type": "execute_result"
    }
   ],
   "source": [
    "tup = tuple(range(50))\n",
    "tup"
   ]
  },
  {
   "cell_type": "markdown",
   "id": "8a995f6b",
   "metadata": {},
   "source": [
    "### eval()"
   ]
  },
  {
   "cell_type": "code",
   "execution_count": 1,
   "id": "894883e1",
   "metadata": {},
   "outputs": [
    {
     "name": "stdout",
     "output_type": "stream",
     "text": [
      "11\n"
     ]
    }
   ],
   "source": [
    "print(eval(\"5 + 6\"))"
   ]
  },
  {
   "cell_type": "markdown",
   "id": "bfef59f6",
   "metadata": {},
   "source": [
    "### enumerate(iterable, start)\n",
    "Have you ever needed to keep track of both the item and its position in a list? An enumerated for loop comes to your rescue. It's like having a personal assistant who not only hands you the item but also tells you where to find it."
   ]
  },
  {
   "cell_type": "code",
   "execution_count": 7,
   "id": "1bf152cf",
   "metadata": {},
   "outputs": [
    {
     "name": "stdout",
     "output_type": "stream",
     "text": [
      "<enumerate object at 0x0000026D98591E40>\n",
      "[(0, 'apple'), (1, 'banana'), (2, 'cherry')]\n"
     ]
    }
   ],
   "source": [
    "x = ('apple', 'banana', 'cherry')\n",
    "y = enumerate(x)\n",
    "print(y, list(y), sep='\\n')"
   ]
  },
  {
   "cell_type": "code",
   "execution_count": 8,
   "id": "13ad7a10",
   "metadata": {},
   "outputs": [
    {
     "name": "stdout",
     "output_type": "stream",
     "text": [
      "0 apple\n",
      "1 banana\n",
      "2 cherry\n"
     ]
    }
   ],
   "source": [
    "x = ('apple', 'banana', 'cherry')\n",
    "for i, j in enumerate(x):\n",
    "    print(i, j)"
   ]
  },
  {
   "cell_type": "code",
   "execution_count": null,
   "id": "083dccef",
   "metadata": {},
   "outputs": [],
   "source": []
  },
  {
   "cell_type": "code",
   "execution_count": null,
   "id": "7d9bbfae",
   "metadata": {},
   "outputs": [],
   "source": []
  },
  {
   "cell_type": "markdown",
   "id": "df709657",
   "metadata": {},
   "source": [
    "## Builtin Math Functions"
   ]
  },
  {
   "cell_type": "markdown",
   "id": "1b998099",
   "metadata": {},
   "source": [
    "### min() and max()\n",
    "The **min()** and **max()** functions can be used to find the lowest or highest value in an iterable:"
   ]
  },
  {
   "cell_type": "code",
   "execution_count": 1,
   "id": "16cb16ac",
   "metadata": {},
   "outputs": [
    {
     "name": "stdout",
     "output_type": "stream",
     "text": [
      "5\n",
      "25\n"
     ]
    }
   ],
   "source": [
    "x = min(5, 10, 25)\n",
    "y = max(5, 10, 25)\n",
    "\n",
    "print(x)\n",
    "print(y)"
   ]
  },
  {
   "cell_type": "code",
   "execution_count": 2,
   "id": "e3605001",
   "metadata": {},
   "outputs": [
    {
     "name": "stdout",
     "output_type": "stream",
     "text": [
      "5\n",
      "25\n"
     ]
    }
   ],
   "source": [
    "x = min([5, 10, 25])\n",
    "y = max([5, 10, 25])\n",
    "\n",
    "print(x)\n",
    "print(y)"
   ]
  },
  {
   "cell_type": "markdown",
   "id": "466e5b94",
   "metadata": {},
   "source": [
    "### abs()\n",
    "The **abs()** function returns the absolute (positive) value of the specified number:"
   ]
  },
  {
   "cell_type": "code",
   "execution_count": 3,
   "id": "8a9306ca",
   "metadata": {},
   "outputs": [
    {
     "name": "stdout",
     "output_type": "stream",
     "text": [
      "7.25\n"
     ]
    }
   ],
   "source": [
    "x = abs(-7.25)\n",
    "\n",
    "print(x)"
   ]
  },
  {
   "cell_type": "markdown",
   "id": "106b9d00",
   "metadata": {},
   "source": [
    "### pow(x, y)\n",
    "The **pow(x, y)** function returns the value of x to the power of y (xy)."
   ]
  },
  {
   "cell_type": "code",
   "execution_count": 5,
   "id": "6029bf46",
   "metadata": {},
   "outputs": [
    {
     "name": "stdout",
     "output_type": "stream",
     "text": [
      "81\n"
     ]
    }
   ],
   "source": [
    "x = pow(3, 4)\n",
    "print(x)"
   ]
  },
  {
   "cell_type": "markdown",
   "id": "90ebb136",
   "metadata": {},
   "source": [
    "### round()"
   ]
  },
  {
   "cell_type": "code",
   "execution_count": null,
   "id": "9a0885f6",
   "metadata": {},
   "outputs": [],
   "source": [
    "r"
   ]
  },
  {
   "cell_type": "markdown",
   "id": "fdef329e-c5be-4d70-8933-6f2a03e78c8b",
   "metadata": {},
   "source": [
    "### sum()"
   ]
  },
  {
   "cell_type": "markdown",
   "id": "4df4cfc8-d16d-461a-a832-9e402bddb70f",
   "metadata": {},
   "source": [
    "# Other Keywords"
   ]
  },
  {
   "cell_type": "markdown",
   "id": "0fcaf4ee-0063-447e-8dca-46850dc8947e",
   "metadata": {},
   "source": [
    "#### pass\n",
    "- **Placeholder**: ```\"pass\"``` acts as a temporary placeholder for future code that you intend to write within a function or a code block.\n",
    "- **Syntax Requirement**: In many programming languages like Python, using ```\"pass\"``` is necessary when you define a function or a conditional block. It ensures that the code remains syntactically correct, even if it doesn't do anything yet.\n",
    "- **No Operation**: ```\"pass\"``` itself doesn't perform any meaningful action. When the interpreter encounters “pass”, it simply moves on to the next statement without executing any code."
   ]
  },
  {
   "cell_type": "code",
   "execution_count": null,
   "id": "6e59df28-9fc1-4f9f-a78f-7fb65224d433",
   "metadata": {},
   "outputs": [],
   "source": []
  }
 ],
 "metadata": {
  "kernelspec": {
   "display_name": "Python 3 (ipykernel)",
   "language": "python",
   "name": "python3"
  },
  "language_info": {
   "codemirror_mode": {
    "name": "ipython",
    "version": 3
   },
   "file_extension": ".py",
   "mimetype": "text/x-python",
   "name": "python",
   "nbconvert_exporter": "python",
   "pygments_lexer": "ipython3",
   "version": "3.9.12"
  }
 },
 "nbformat": 4,
 "nbformat_minor": 5
}
